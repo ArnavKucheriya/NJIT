{
 "cells": [
  {
   "cell_type": "markdown",
   "id": "035fbce7",
   "metadata": {},
   "source": [
    "**Extract, Transform, Load**\n",
    "\n",
    "Extract, Transform, Load (ETL) is a process that extracts data from transactional databases, transforms the data, and loads the data into an analytic database. ETL transforms data in a staging area, such as a temporary database, prior to loading data to the analytic database. Extract, Load, Transform (ELT) is a variant of ETL that loads raw data directly to the analytic database and transforms the data in place.\n",
    "\n",
    "ETL is similar to data wrangling. Both processes structure, clean, enrich, and publish data. However, data wrangling is usually an informal process, executed manually by data scientists on a static dataset. ETL is an automated process that repeatedly extracts new data from transactional databases. ETL is usually applied to larger data volumes and more sources than data wrangling.\n",
    "\n",
    "ETL tools, also called data integration tools, extract and merge data from many different database systems. In principle, ETL tools can be used for data wrangling. However, because data wrangling is often manual and ad-hoc, data scientists usually prefer spreadsheets or programming languages such as Python, R, and SQL.\n",
    "\n"
   ]
  },
  {
   "cell_type": "code",
   "execution_count": 12,
   "id": "6daa33dd",
   "metadata": {},
   "outputs": [
    {
     "data": {
      "application/vnd.microsoft.datawrangler.viewer.v0+json": {
       "columns": [
        {
         "name": "index",
         "rawType": "int64",
         "type": "integer"
        },
        {
         "name": "Country",
         "rawType": "object",
         "type": "string"
        },
        {
         "name": "Continent",
         "rawType": "object",
         "type": "string"
        },
        {
         "name": "Population",
         "rawType": "int64",
         "type": "integer"
        }
       ],
       "conversionMethod": "pd.DataFrame",
       "ref": "79028820-9371-49ba-8a05-85a248c3561a",
       "rows": [
        [
         "0",
         "China",
         "Asia",
         "9572900"
        ],
        [
         "1",
         "Bangladesh",
         "Asia",
         "143998"
        ],
        [
         "2",
         "Brazil",
         "South America",
         "8547403"
        ],
        [
         "3",
         "Norway",
         "Europe",
         "358207"
        ]
       ],
       "shape": {
        "columns": 3,
        "rows": 4
       }
      },
      "text/html": [
       "<div>\n",
       "<style scoped>\n",
       "    .dataframe tbody tr th:only-of-type {\n",
       "        vertical-align: middle;\n",
       "    }\n",
       "\n",
       "    .dataframe tbody tr th {\n",
       "        vertical-align: top;\n",
       "    }\n",
       "\n",
       "    .dataframe thead th {\n",
       "        text-align: right;\n",
       "    }\n",
       "</style>\n",
       "<table border=\"1\" class=\"dataframe\">\n",
       "  <thead>\n",
       "    <tr style=\"text-align: right;\">\n",
       "      <th></th>\n",
       "      <th>Country</th>\n",
       "      <th>Continent</th>\n",
       "      <th>Population</th>\n",
       "    </tr>\n",
       "  </thead>\n",
       "  <tbody>\n",
       "    <tr>\n",
       "      <th>0</th>\n",
       "      <td>China</td>\n",
       "      <td>Asia</td>\n",
       "      <td>9572900</td>\n",
       "    </tr>\n",
       "    <tr>\n",
       "      <th>1</th>\n",
       "      <td>Bangladesh</td>\n",
       "      <td>Asia</td>\n",
       "      <td>143998</td>\n",
       "    </tr>\n",
       "    <tr>\n",
       "      <th>2</th>\n",
       "      <td>Brazil</td>\n",
       "      <td>South America</td>\n",
       "      <td>8547403</td>\n",
       "    </tr>\n",
       "    <tr>\n",
       "      <th>3</th>\n",
       "      <td>Norway</td>\n",
       "      <td>Europe</td>\n",
       "      <td>358207</td>\n",
       "    </tr>\n",
       "  </tbody>\n",
       "</table>\n",
       "</div>"
      ],
      "text/plain": [
       "      Country      Continent  Population\n",
       "0       China           Asia     9572900\n",
       "1  Bangladesh           Asia      143998\n",
       "2      Brazil  South America     8547403\n",
       "3      Norway         Europe      358207"
      ]
     },
     "execution_count": 12,
     "metadata": {},
     "output_type": "execute_result"
    }
   ],
   "source": [
    "# Import Pandas package\n",
    "import pandas as pd\n",
    "\n",
    "# Construct dataframe example\n",
    "example = pd.DataFrame(\n",
    "    data=[\n",
    "        ['China', 'Asia', 9572900],\n",
    "        ['Bangladesh', 'Asia', 143998],\n",
    "        ['Brazil', 'South America', 8547403],\n",
    "        ['Norway', 'Europe', 358207],\n",
    "    ],\n",
    "    columns=['Country', 'Continent', 'Population'],\n",
    ")\n",
    "\n",
    "# Display example\n",
    "example"
   ]
  },
  {
   "cell_type": "code",
   "execution_count": 13,
   "id": "cca2cd1e",
   "metadata": {},
   "outputs": [
    {
     "name": "stdout",
     "output_type": "stream",
     "text": [
      "<class 'pandas.core.frame.DataFrame'>\n",
      "RangeIndex: 4 entries, 0 to 3\n",
      "Columns: 3 entries, Country to Population\n",
      "dtypes: int64(1), object(2)\n",
      "memory usage: 228.0+ bytes\n"
     ]
    }
   ],
   "source": [
    "# Show information about example\n",
    "example.info(verbose=False)"
   ]
  },
  {
   "cell_type": "code",
   "execution_count": 14,
   "id": "d715cfad",
   "metadata": {},
   "outputs": [
    {
     "data": {
      "application/vnd.microsoft.datawrangler.viewer.v0+json": {
       "columns": [
        {
         "name": "index",
         "rawType": "int64",
         "type": "integer"
        },
        {
         "name": "Country",
         "rawType": "object",
         "type": "string"
        },
        {
         "name": "Continent",
         "rawType": "object",
         "type": "string"
        }
       ],
       "conversionMethod": "pd.DataFrame",
       "ref": "970aa609-f9a8-40f7-9bc0-34db71690897",
       "rows": [
        [
         "1",
         "Bangladesh",
         "Asia"
        ],
        [
         "2",
         "Brazil",
         "South America"
        ],
        [
         "3",
         "Norway",
         "Europe"
        ]
       ],
       "shape": {
        "columns": 2,
        "rows": 3
       }
      },
      "text/html": [
       "<div>\n",
       "<style scoped>\n",
       "    .dataframe tbody tr th:only-of-type {\n",
       "        vertical-align: middle;\n",
       "    }\n",
       "\n",
       "    .dataframe tbody tr th {\n",
       "        vertical-align: top;\n",
       "    }\n",
       "\n",
       "    .dataframe thead th {\n",
       "        text-align: right;\n",
       "    }\n",
       "</style>\n",
       "<table border=\"1\" class=\"dataframe\">\n",
       "  <thead>\n",
       "    <tr style=\"text-align: right;\">\n",
       "      <th></th>\n",
       "      <th>Country</th>\n",
       "      <th>Continent</th>\n",
       "    </tr>\n",
       "  </thead>\n",
       "  <tbody>\n",
       "    <tr>\n",
       "      <th>1</th>\n",
       "      <td>Bangladesh</td>\n",
       "      <td>Asia</td>\n",
       "    </tr>\n",
       "    <tr>\n",
       "      <th>2</th>\n",
       "      <td>Brazil</td>\n",
       "      <td>South America</td>\n",
       "    </tr>\n",
       "    <tr>\n",
       "      <th>3</th>\n",
       "      <td>Norway</td>\n",
       "      <td>Europe</td>\n",
       "    </tr>\n",
       "  </tbody>\n",
       "</table>\n",
       "</div>"
      ],
      "text/plain": [
       "      Country      Continent\n",
       "1  Bangladesh           Asia\n",
       "2      Brazil  South America\n",
       "3      Norway         Europe"
      ]
     },
     "execution_count": 14,
     "metadata": {},
     "output_type": "execute_result"
    }
   ],
   "source": [
    "# Display rows 1 through 3 and columns Country through Continent\n",
    "example.loc[1:3, 'Country':'Continent']"
   ]
  },
  {
   "cell_type": "code",
   "execution_count": 15,
   "id": "843dd574",
   "metadata": {},
   "outputs": [
    {
     "data": {
      "application/vnd.microsoft.datawrangler.viewer.v0+json": {
       "columns": [
        {
         "name": "index",
         "rawType": "int64",
         "type": "integer"
        },
        {
         "name": "Country",
         "rawType": "object",
         "type": "string"
        },
        {
         "name": "Continent",
         "rawType": "object",
         "type": "string"
        },
        {
         "name": "Population",
         "rawType": "int64",
         "type": "integer"
        }
       ],
       "conversionMethod": "pd.DataFrame",
       "ref": "7868c09b-b4bb-4144-9d83-3be860122008",
       "rows": [
        [
         "2",
         "Brazil",
         "South America",
         "8547403"
        ],
        [
         "3",
         "Norway",
         "Europe",
         "358207"
        ],
        [
         "0",
         "China",
         "Asia",
         "9572900"
        ],
        [
         "1",
         "Bangladesh",
         "Asia",
         "143998"
        ]
       ],
       "shape": {
        "columns": 3,
        "rows": 4
       }
      },
      "text/html": [
       "<div>\n",
       "<style scoped>\n",
       "    .dataframe tbody tr th:only-of-type {\n",
       "        vertical-align: middle;\n",
       "    }\n",
       "\n",
       "    .dataframe tbody tr th {\n",
       "        vertical-align: top;\n",
       "    }\n",
       "\n",
       "    .dataframe thead th {\n",
       "        text-align: right;\n",
       "    }\n",
       "</style>\n",
       "<table border=\"1\" class=\"dataframe\">\n",
       "  <thead>\n",
       "    <tr style=\"text-align: right;\">\n",
       "      <th></th>\n",
       "      <th>Country</th>\n",
       "      <th>Continent</th>\n",
       "      <th>Population</th>\n",
       "    </tr>\n",
       "  </thead>\n",
       "  <tbody>\n",
       "    <tr>\n",
       "      <th>2</th>\n",
       "      <td>Brazil</td>\n",
       "      <td>South America</td>\n",
       "      <td>8547403</td>\n",
       "    </tr>\n",
       "    <tr>\n",
       "      <th>3</th>\n",
       "      <td>Norway</td>\n",
       "      <td>Europe</td>\n",
       "      <td>358207</td>\n",
       "    </tr>\n",
       "    <tr>\n",
       "      <th>0</th>\n",
       "      <td>China</td>\n",
       "      <td>Asia</td>\n",
       "      <td>9572900</td>\n",
       "    </tr>\n",
       "    <tr>\n",
       "      <th>1</th>\n",
       "      <td>Bangladesh</td>\n",
       "      <td>Asia</td>\n",
       "      <td>143998</td>\n",
       "    </tr>\n",
       "  </tbody>\n",
       "</table>\n",
       "</div>"
      ],
      "text/plain": [
       "      Country      Continent  Population\n",
       "2      Brazil  South America     8547403\n",
       "3      Norway         Europe      358207\n",
       "0       China           Asia     9572900\n",
       "1  Bangladesh           Asia      143998"
      ]
     },
     "execution_count": 15,
     "metadata": {},
     "output_type": "execute_result"
    }
   ],
   "source": [
    "# Sort example on Continent\n",
    "example.sort_values('Continent', ascending=False, inplace=True)\n",
    "\n",
    "# Display sorted data\n",
    "example"
   ]
  },
  {
   "cell_type": "markdown",
   "id": "4c20f46d",
   "metadata": {},
   "source": [
    "**Data manipulation**\n",
    "\n",
    "The first step of the data wrangling process is data discovery, or exploring patterns and trends within a dataset. Data exploration can be done visually through plots or figures, or numerically by comparing descriptive statistics.\n",
    "\n",
    "**Data manipulation** is the process of organizing or subsetting a dataset to explore a research problem. Data manipulation is used to split datasets into multiple groups based on a categorical feature, or compare values of a dataset according to a specific condition. After data manipulation, descriptive statistics like the mean, median, or proportion can be calculated and compared across groups or conditions.\n",
    "\n"
   ]
  },
  {
   "cell_type": "code",
   "execution_count": 16,
   "id": "24c6c7b6",
   "metadata": {},
   "outputs": [
    {
     "data": {
      "application/vnd.microsoft.datawrangler.viewer.v0+json": {
       "columns": [
        {
         "name": "index",
         "rawType": "int64",
         "type": "integer"
        },
        {
         "name": "Country",
         "rawType": "object",
         "type": "string"
        },
        {
         "name": "Continent",
         "rawType": "object",
         "type": "string"
        },
        {
         "name": "Years",
         "rawType": "float64",
         "type": "float"
        },
        {
         "name": "Internet access",
         "rawType": "object",
         "type": "string"
        },
        {
         "name": "Emissions range",
         "rawType": "object",
         "type": "string"
        },
        {
         "name": "Fertility",
         "rawType": "float64",
         "type": "float"
        },
        {
         "name": "Emissions",
         "rawType": "float64",
         "type": "float"
        },
        {
         "name": "Internet",
         "rawType": "float64",
         "type": "float"
        }
       ],
       "conversionMethod": "pd.DataFrame",
       "ref": "9ecdb399-e6a2-4a28-98bc-a0376072b1dd",
       "rows": [
        [
         "0",
         "Afghanistan",
         "Asia",
         "3.8",
         "Low",
         "Low",
         "4.33",
         "0.254",
         "16.8"
        ],
        [
         "1",
         "Albania",
         "Europe",
         "10.0",
         "Moderate",
         "Low",
         "1.71",
         "1.59",
         "65.4"
        ],
        [
         "2",
         "Algeria",
         "Africa",
         "8.0",
         "Low",
         "Moderate",
         "2.64",
         "3.69",
         "49.0"
        ],
        [
         "3",
         "Angola",
         "Africa",
         "5.1",
         "Low",
         "Low",
         "5.55",
         "1.12",
         "29.0"
        ],
        [
         "4",
         "Argentina",
         "Americas",
         "9.9",
         "High",
         "Moderate",
         "2.26",
         "4.41",
         "77.7"
        ],
        [
         "5",
         "Armenia",
         "Asia",
         "11.7",
         "Moderate",
         "Low",
         "1.6",
         "1.89",
         "68.2"
        ],
        [
         "6",
         "Australia",
         "Oceania",
         "12.9",
         "High",
         "Very high",
         "1.83",
         "16.9",
         "87.6"
        ],
        [
         "7",
         "Austria",
         "Europe",
         "12.1",
         "High",
         "High",
         "1.52",
         "7.75",
         "87.5"
        ],
        [
         "8",
         "Azerbaijan",
         "Asia",
         "10.7",
         "High",
         "Moderate",
         "2.04",
         "3.7",
         "79.8"
        ],
        [
         "9",
         "Bahamas",
         "Americas",
         "11.1",
         "High",
         "Moderate",
         "1.75",
         "4.7",
         "83.0"
        ],
        [
         "10",
         "Bahrain",
         "Asia",
         "9.4",
         "Very high",
         "Very high",
         "1.99",
         "19.8",
         "98.6"
        ],
        [
         "11",
         "Bangladesh",
         "Asia",
         "4.7",
         "Low",
         "Low",
         "2.05",
         "0.531",
         "21.8"
        ],
        [
         "12",
         "Belarus",
         "Europe",
         "12.3",
         "High",
         "High",
         "1.72",
         "6.93",
         "79.1"
        ],
        [
         "13",
         "Belgium",
         "Europe",
         "11.8",
         "High",
         "High",
         "1.8",
         "8.69",
         "88.6"
        ],
        [
         "14",
         "Belize",
         "Americas",
         "10.5",
         "Low",
         "Low",
         "2.44",
         "1.5",
         "49.8"
        ],
        [
         "15",
         "Benin",
         "Africa",
         "3.6",
         "Low",
         "Low",
         "4.84",
         "0.623",
         "19.0"
        ],
        [
         "16",
         "Bhutan",
         "Asia",
         "3.1",
         "Low",
         "Low",
         "1.99",
         "1.61",
         "49.5"
        ],
        [
         "17",
         "Bolivia",
         "Americas",
         "8.9",
         "Low",
         "Low",
         "2.8",
         "1.96",
         "44.3"
        ],
        [
         "18",
         "Bosnia and Herzegovina",
         "Europe",
         "9.7",
         "High",
         "High",
         "1.39",
         "6.53",
         "70.1"
        ],
        [
         "19",
         "Botswana",
         "Africa",
         "9.3",
         "Moderate",
         "Moderate",
         "2.64",
         "2.96",
         "58.0"
        ],
        [
         "20",
         "Brazil",
         "Americas",
         "7.8",
         "High",
         "Moderate",
         "1.7",
         "2.18",
         "70.4"
        ],
        [
         "21",
         "Brunei",
         "Asia",
         "9.1",
         "Very high",
         "Very high",
         "1.85",
         "18.5",
         "95.0"
        ],
        [
         "22",
         "Bulgaria",
         "Europe",
         "11.8",
         "Moderate",
         "High",
         "1.59",
         "6.32",
         "64.8"
        ],
        [
         "23",
         "Burkina Faso",
         "Africa",
         "1.5",
         "Low",
         "Low",
         "5.19",
         "0.198",
         "17.4"
        ],
        [
         "24",
         "Burundi",
         "Africa",
         "3.0",
         "Low",
         "Low",
         "5.53",
         "0.0467",
         "4.1"
        ],
        [
         "25",
         "Cameroon",
         "Africa",
         "6.3",
         "Low",
         "Low",
         "4.57",
         "0.323",
         "29.7"
        ],
        [
         "26",
         "Canada",
         "Americas",
         "13.3",
         "Very high",
         "Very high",
         "1.56",
         "15.3",
         "94.6"
        ],
        [
         "27",
         "Cape Verde",
         "Africa",
         "6.1",
         "Moderate",
         "Low",
         "2.27",
         "1.16",
         "59.5"
        ],
        [
         "28",
         "Central African Republic",
         "Africa",
         "4.3",
         "Low",
         "Low",
         "4.72",
         "0.0651",
         "5.1"
        ],
        [
         "29",
         "Chad",
         "Africa",
         "2.3",
         "Low",
         "Low",
         "5.75",
         "0.0656",
         "8.0"
        ],
        [
         "30",
         "Chile",
         "Americas",
         "10.3",
         "High",
         "Moderate",
         "1.76",
         "4.59",
         "84.9"
        ],
        [
         "31",
         "China",
         "Asia",
         "8.5",
         "Moderate",
         "High",
         "1.64",
         "7.06",
         "59.2"
        ],
        [
         "32",
         "Colombia",
         "Americas",
         "8.3",
         "Moderate",
         "Low",
         "1.82",
         "1.96",
         "64.1"
        ],
        [
         "33",
         "Costa Rica",
         "Americas",
         "8.8",
         "High",
         "Low",
         "1.75",
         "1.61",
         "73.5"
        ],
        [
         "34",
         "Cote d'Ivoire",
         "Africa",
         "5.2",
         "Low",
         "Low",
         "4.78",
         "0.335",
         "37.5"
        ],
        [
         "35",
         "Croatia",
         "Europe",
         "11.3",
         "High",
         "Moderate",
         "1.45",
         "4.48",
         "75.3"
        ],
        [
         "36",
         "Cuba",
         "Americas",
         "11.8",
         "Moderate",
         "Moderate",
         "1.72",
         "2.53",
         "62.7"
        ],
        [
         "37",
         "Cyprus",
         "Asia",
         "12.1",
         "High",
         "High",
         "1.34",
         "6.3",
         "84.4"
        ],
        [
         "38",
         "Denmark",
         "Europe",
         "12.6",
         "Very high",
         "High",
         "1.76",
         "6.06",
         "97.3"
        ],
        [
         "39",
         "Djibouti",
         "Africa",
         "4.1",
         "Moderate",
         "Low",
         "2.73",
         "0.672",
         "58.0"
        ],
        [
         "40",
         "Dominican Republic",
         "Americas",
         "7.8",
         "High",
         "Moderate",
         "2.36",
         "2.34",
         "74.8"
        ],
        [
         "41",
         "Ecuador",
         "Americas",
         "8.7",
         "Moderate",
         "Moderate",
         "2.43",
         "2.46",
         "57.5"
        ],
        [
         "42",
         "Egypt",
         "Africa",
         "7.2",
         "Low",
         "Moderate",
         "3.15",
         "2.43",
         "46.9"
        ],
        [
         "43",
         "El Salvador",
         "Americas",
         "6.9",
         "Low",
         "Low",
         "2.04",
         "1.11",
         "43.8"
        ],
        [
         "44",
         "Estonia",
         "Europe",
         "12.7",
         "High",
         "Very high",
         "1.66",
         "14.8",
         "89.4"
        ],
        [
         "45",
         "Ethiopia",
         "Africa",
         "2.7",
         "Low",
         "Low",
         "3.97",
         "0.137",
         "20.0"
        ],
        [
         "46",
         "Fiji",
         "Oceania",
         "10.8",
         "Moderate",
         "Moderate",
         "2.47",
         "2.41",
         "68.9"
        ],
        [
         "47",
         "Finland",
         "Europe",
         "12.4",
         "High",
         "High",
         "1.78",
         "8.52",
         "88.9"
        ],
        [
         "48",
         "France",
         "Europe",
         "11.5",
         "High",
         "High",
         "1.97",
         "5.2",
         "82.0"
        ],
        [
         "49",
         "Gabon",
         "Africa",
         "8.2",
         "Moderate",
         "Moderate",
         "3.66",
         "2.53",
         "59.6"
        ]
       ],
       "shape": {
        "columns": 8,
        "rows": 151
       }
      },
      "text/html": [
       "<div>\n",
       "<style scoped>\n",
       "    .dataframe tbody tr th:only-of-type {\n",
       "        vertical-align: middle;\n",
       "    }\n",
       "\n",
       "    .dataframe tbody tr th {\n",
       "        vertical-align: top;\n",
       "    }\n",
       "\n",
       "    .dataframe thead th {\n",
       "        text-align: right;\n",
       "    }\n",
       "</style>\n",
       "<table border=\"1\" class=\"dataframe\">\n",
       "  <thead>\n",
       "    <tr style=\"text-align: right;\">\n",
       "      <th></th>\n",
       "      <th>Country</th>\n",
       "      <th>Continent</th>\n",
       "      <th>Years</th>\n",
       "      <th>Internet access</th>\n",
       "      <th>Emissions range</th>\n",
       "      <th>Fertility</th>\n",
       "      <th>Emissions</th>\n",
       "      <th>Internet</th>\n",
       "    </tr>\n",
       "  </thead>\n",
       "  <tbody>\n",
       "    <tr>\n",
       "      <th>0</th>\n",
       "      <td>Afghanistan</td>\n",
       "      <td>Asia</td>\n",
       "      <td>3.8</td>\n",
       "      <td>Low</td>\n",
       "      <td>Low</td>\n",
       "      <td>4.33</td>\n",
       "      <td>0.254</td>\n",
       "      <td>16.8</td>\n",
       "    </tr>\n",
       "    <tr>\n",
       "      <th>1</th>\n",
       "      <td>Albania</td>\n",
       "      <td>Europe</td>\n",
       "      <td>10.0</td>\n",
       "      <td>Moderate</td>\n",
       "      <td>Low</td>\n",
       "      <td>1.71</td>\n",
       "      <td>1.590</td>\n",
       "      <td>65.4</td>\n",
       "    </tr>\n",
       "    <tr>\n",
       "      <th>2</th>\n",
       "      <td>Algeria</td>\n",
       "      <td>Africa</td>\n",
       "      <td>8.0</td>\n",
       "      <td>Low</td>\n",
       "      <td>Moderate</td>\n",
       "      <td>2.64</td>\n",
       "      <td>3.690</td>\n",
       "      <td>49.0</td>\n",
       "    </tr>\n",
       "    <tr>\n",
       "      <th>3</th>\n",
       "      <td>Angola</td>\n",
       "      <td>Africa</td>\n",
       "      <td>5.1</td>\n",
       "      <td>Low</td>\n",
       "      <td>Low</td>\n",
       "      <td>5.55</td>\n",
       "      <td>1.120</td>\n",
       "      <td>29.0</td>\n",
       "    </tr>\n",
       "    <tr>\n",
       "      <th>4</th>\n",
       "      <td>Argentina</td>\n",
       "      <td>Americas</td>\n",
       "      <td>9.9</td>\n",
       "      <td>High</td>\n",
       "      <td>Moderate</td>\n",
       "      <td>2.26</td>\n",
       "      <td>4.410</td>\n",
       "      <td>77.7</td>\n",
       "    </tr>\n",
       "    <tr>\n",
       "      <th>...</th>\n",
       "      <td>...</td>\n",
       "      <td>...</td>\n",
       "      <td>...</td>\n",
       "      <td>...</td>\n",
       "      <td>...</td>\n",
       "      <td>...</td>\n",
       "      <td>...</td>\n",
       "      <td>...</td>\n",
       "    </tr>\n",
       "    <tr>\n",
       "      <th>146</th>\n",
       "      <td>Uruguay</td>\n",
       "      <td>Americas</td>\n",
       "      <td>8.7</td>\n",
       "      <td>High</td>\n",
       "      <td>Moderate</td>\n",
       "      <td>1.97</td>\n",
       "      <td>2.010</td>\n",
       "      <td>80.7</td>\n",
       "    </tr>\n",
       "    <tr>\n",
       "      <th>147</th>\n",
       "      <td>Uzbekistan</td>\n",
       "      <td>Asia</td>\n",
       "      <td>11.5</td>\n",
       "      <td>Moderate</td>\n",
       "      <td>Moderate</td>\n",
       "      <td>2.23</td>\n",
       "      <td>2.810</td>\n",
       "      <td>55.2</td>\n",
       "    </tr>\n",
       "    <tr>\n",
       "      <th>148</th>\n",
       "      <td>Vietnam</td>\n",
       "      <td>Asia</td>\n",
       "      <td>8.2</td>\n",
       "      <td>Moderate</td>\n",
       "      <td>Moderate</td>\n",
       "      <td>1.95</td>\n",
       "      <td>2.160</td>\n",
       "      <td>69.8</td>\n",
       "    </tr>\n",
       "    <tr>\n",
       "      <th>149</th>\n",
       "      <td>Zambia</td>\n",
       "      <td>Africa</td>\n",
       "      <td>7.0</td>\n",
       "      <td>Low</td>\n",
       "      <td>Low</td>\n",
       "      <td>4.87</td>\n",
       "      <td>0.302</td>\n",
       "      <td>14.3</td>\n",
       "    </tr>\n",
       "    <tr>\n",
       "      <th>150</th>\n",
       "      <td>Zimbabwe</td>\n",
       "      <td>Africa</td>\n",
       "      <td>8.2</td>\n",
       "      <td>Low</td>\n",
       "      <td>Low</td>\n",
       "      <td>3.61</td>\n",
       "      <td>0.850</td>\n",
       "      <td>25.0</td>\n",
       "    </tr>\n",
       "  </tbody>\n",
       "</table>\n",
       "<p>151 rows × 8 columns</p>\n",
       "</div>"
      ],
      "text/plain": [
       "         Country Continent  Years Internet access Emissions range  Fertility  \\\n",
       "0    Afghanistan      Asia    3.8             Low             Low       4.33   \n",
       "1        Albania    Europe   10.0        Moderate             Low       1.71   \n",
       "2        Algeria    Africa    8.0             Low        Moderate       2.64   \n",
       "3         Angola    Africa    5.1             Low             Low       5.55   \n",
       "4      Argentina  Americas    9.9            High        Moderate       2.26   \n",
       "..           ...       ...    ...             ...             ...        ...   \n",
       "146      Uruguay  Americas    8.7            High        Moderate       1.97   \n",
       "147   Uzbekistan      Asia   11.5        Moderate        Moderate       2.23   \n",
       "148      Vietnam      Asia    8.2        Moderate        Moderate       1.95   \n",
       "149       Zambia    Africa    7.0             Low             Low       4.87   \n",
       "150     Zimbabwe    Africa    8.2             Low             Low       3.61   \n",
       "\n",
       "     Emissions  Internet  \n",
       "0        0.254      16.8  \n",
       "1        1.590      65.4  \n",
       "2        3.690      49.0  \n",
       "3        1.120      29.0  \n",
       "4        4.410      77.7  \n",
       "..         ...       ...  \n",
       "146      2.010      80.7  \n",
       "147      2.810      55.2  \n",
       "148      2.160      69.8  \n",
       "149      0.302      14.3  \n",
       "150      0.850      25.0  \n",
       "\n",
       "[151 rows x 8 columns]"
      ]
     },
     "execution_count": 16,
     "metadata": {},
     "output_type": "execute_result"
    }
   ],
   "source": [
    "# Import packages\n",
    "import pandas as pd\n",
    "import numpy as np\n",
    "import matplotlib.pyplot as plt\n",
    "\n",
    "# Import data and display\n",
    "country = pd.read_csv('data/country_complete.csv')\n",
    "country"
   ]
  },
  {
   "cell_type": "code",
   "execution_count": 17,
   "id": "07d2df15",
   "metadata": {},
   "outputs": [
    {
     "name": "stderr",
     "output_type": "stream",
     "text": [
      "C:\\Users\\Arnav\\AppData\\Local\\Temp\\ipykernel_23908\\2544210485.py:4: FutureWarning: The default value of observed=False is deprecated and will change to observed=True in a future version of pandas. Specify observed=False to silence this warning and retain the current behavior\n",
      "  country.pivot_table(\n"
     ]
    },
    {
     "data": {
      "application/vnd.microsoft.datawrangler.viewer.v0+json": {
       "columns": [
        {
         "name": "Continent",
         "rawType": "object",
         "type": "string"
        },
        {
         "name": "High",
         "rawType": "float64",
         "type": "float"
        },
        {
         "name": "Low",
         "rawType": "float64",
         "type": "float"
        },
        {
         "name": "Moderate",
         "rawType": "float64",
         "type": "float"
        },
        {
         "name": "Very high",
         "rawType": "float64",
         "type": "float"
        }
       ],
       "conversionMethod": "pd.DataFrame",
       "ref": "29458509-ace0-4490-a0b8-9e43e6faecb1",
       "rows": [
        [
         "Africa",
         "1.0",
         "36.0",
         "8.0",
         null
        ],
        [
         "Americas",
         "8.0",
         "7.0",
         "10.0",
         "1.0"
        ],
        [
         "Asia",
         "10.0",
         "13.0",
         "9.0",
         "8.0"
        ],
        [
         "Europe",
         "26.0",
         null,
         "3.0",
         "7.0"
        ],
        [
         "Oceania",
         "2.0",
         "1.0",
         "1.0",
         null
        ]
       ],
       "shape": {
        "columns": 4,
        "rows": 5
       }
      },
      "text/html": [
       "<div>\n",
       "<style scoped>\n",
       "    .dataframe tbody tr th:only-of-type {\n",
       "        vertical-align: middle;\n",
       "    }\n",
       "\n",
       "    .dataframe tbody tr th {\n",
       "        vertical-align: top;\n",
       "    }\n",
       "\n",
       "    .dataframe thead th {\n",
       "        text-align: right;\n",
       "    }\n",
       "</style>\n",
       "<table border=\"1\" class=\"dataframe\">\n",
       "  <thead>\n",
       "    <tr style=\"text-align: right;\">\n",
       "      <th>Internet access</th>\n",
       "      <th>High</th>\n",
       "      <th>Low</th>\n",
       "      <th>Moderate</th>\n",
       "      <th>Very high</th>\n",
       "    </tr>\n",
       "    <tr>\n",
       "      <th>Continent</th>\n",
       "      <th></th>\n",
       "      <th></th>\n",
       "      <th></th>\n",
       "      <th></th>\n",
       "    </tr>\n",
       "  </thead>\n",
       "  <tbody>\n",
       "    <tr>\n",
       "      <th>Africa</th>\n",
       "      <td>1.0</td>\n",
       "      <td>36.0</td>\n",
       "      <td>8.0</td>\n",
       "      <td>NaN</td>\n",
       "    </tr>\n",
       "    <tr>\n",
       "      <th>Americas</th>\n",
       "      <td>8.0</td>\n",
       "      <td>7.0</td>\n",
       "      <td>10.0</td>\n",
       "      <td>1.0</td>\n",
       "    </tr>\n",
       "    <tr>\n",
       "      <th>Asia</th>\n",
       "      <td>10.0</td>\n",
       "      <td>13.0</td>\n",
       "      <td>9.0</td>\n",
       "      <td>8.0</td>\n",
       "    </tr>\n",
       "    <tr>\n",
       "      <th>Europe</th>\n",
       "      <td>26.0</td>\n",
       "      <td>NaN</td>\n",
       "      <td>3.0</td>\n",
       "      <td>7.0</td>\n",
       "    </tr>\n",
       "    <tr>\n",
       "      <th>Oceania</th>\n",
       "      <td>2.0</td>\n",
       "      <td>1.0</td>\n",
       "      <td>1.0</td>\n",
       "      <td>NaN</td>\n",
       "    </tr>\n",
       "  </tbody>\n",
       "</table>\n",
       "</div>"
      ],
      "text/plain": [
       "Internet access  High   Low  Moderate  Very high\n",
       "Continent                                       \n",
       "Africa            1.0  36.0       8.0        NaN\n",
       "Americas          8.0   7.0      10.0        1.0\n",
       "Asia             10.0  13.0       9.0        8.0\n",
       "Europe           26.0   NaN       3.0        7.0\n",
       "Oceania           2.0   1.0       1.0        NaN"
      ]
     },
     "execution_count": 17,
     "metadata": {},
     "output_type": "execute_result"
    }
   ],
   "source": [
    "# Categorical features are sorted in alphabetical order by default\n",
    "# np.size counts the number of entries\n",
    "country['Internet access'] = country['Internet access'].astype('category')\n",
    "country.pivot_table(\n",
    "    values='Years', index='Continent', columns='Internet access', aggfunc=np.size\n",
    ")"
   ]
  },
  {
   "cell_type": "code",
   "execution_count": 18,
   "id": "a5993bf9",
   "metadata": {},
   "outputs": [
    {
     "name": "stderr",
     "output_type": "stream",
     "text": [
      "C:\\Users\\Arnav\\AppData\\Local\\Temp\\ipykernel_23908\\885719708.py:8: FutureWarning: The default value of observed=False is deprecated and will change to observed=True in a future version of pandas. Specify observed=False to silence this warning and retain the current behavior\n",
      "  country.pivot_table(\n"
     ]
    },
    {
     "data": {
      "application/vnd.microsoft.datawrangler.viewer.v0+json": {
       "columns": [
        {
         "name": "Continent",
         "rawType": "object",
         "type": "string"
        },
        {
         "name": "Low",
         "rawType": "float64",
         "type": "float"
        },
        {
         "name": "Moderate",
         "rawType": "float64",
         "type": "float"
        },
        {
         "name": "High",
         "rawType": "float64",
         "type": "float"
        },
        {
         "name": "Very high",
         "rawType": "float64",
         "type": "float"
        }
       ],
       "conversionMethod": "pd.DataFrame",
       "ref": "bbd6177e-216c-4da8-9996-7cdcf4a5f7a7",
       "rows": [
        [
         "Africa",
         "36.0",
         "8.0",
         "1.0",
         null
        ],
        [
         "Americas",
         "7.0",
         "10.0",
         "8.0",
         "1.0"
        ],
        [
         "Asia",
         "13.0",
         "9.0",
         "10.0",
         "8.0"
        ],
        [
         "Europe",
         null,
         "3.0",
         "26.0",
         "7.0"
        ],
        [
         "Oceania",
         "1.0",
         "1.0",
         "2.0",
         null
        ]
       ],
       "shape": {
        "columns": 4,
        "rows": 5
       }
      },
      "text/html": [
       "<div>\n",
       "<style scoped>\n",
       "    .dataframe tbody tr th:only-of-type {\n",
       "        vertical-align: middle;\n",
       "    }\n",
       "\n",
       "    .dataframe tbody tr th {\n",
       "        vertical-align: top;\n",
       "    }\n",
       "\n",
       "    .dataframe thead th {\n",
       "        text-align: right;\n",
       "    }\n",
       "</style>\n",
       "<table border=\"1\" class=\"dataframe\">\n",
       "  <thead>\n",
       "    <tr style=\"text-align: right;\">\n",
       "      <th>Internet access</th>\n",
       "      <th>Low</th>\n",
       "      <th>Moderate</th>\n",
       "      <th>High</th>\n",
       "      <th>Very high</th>\n",
       "    </tr>\n",
       "    <tr>\n",
       "      <th>Continent</th>\n",
       "      <th></th>\n",
       "      <th></th>\n",
       "      <th></th>\n",
       "      <th></th>\n",
       "    </tr>\n",
       "  </thead>\n",
       "  <tbody>\n",
       "    <tr>\n",
       "      <th>Africa</th>\n",
       "      <td>36.0</td>\n",
       "      <td>8.0</td>\n",
       "      <td>1.0</td>\n",
       "      <td>NaN</td>\n",
       "    </tr>\n",
       "    <tr>\n",
       "      <th>Americas</th>\n",
       "      <td>7.0</td>\n",
       "      <td>10.0</td>\n",
       "      <td>8.0</td>\n",
       "      <td>1.0</td>\n",
       "    </tr>\n",
       "    <tr>\n",
       "      <th>Asia</th>\n",
       "      <td>13.0</td>\n",
       "      <td>9.0</td>\n",
       "      <td>10.0</td>\n",
       "      <td>8.0</td>\n",
       "    </tr>\n",
       "    <tr>\n",
       "      <th>Europe</th>\n",
       "      <td>NaN</td>\n",
       "      <td>3.0</td>\n",
       "      <td>26.0</td>\n",
       "      <td>7.0</td>\n",
       "    </tr>\n",
       "    <tr>\n",
       "      <th>Oceania</th>\n",
       "      <td>1.0</td>\n",
       "      <td>1.0</td>\n",
       "      <td>2.0</td>\n",
       "      <td>NaN</td>\n",
       "    </tr>\n",
       "  </tbody>\n",
       "</table>\n",
       "</div>"
      ],
      "text/plain": [
       "Internet access   Low  Moderate  High  Very high\n",
       "Continent                                       \n",
       "Africa           36.0       8.0   1.0        NaN\n",
       "Americas          7.0      10.0   8.0        1.0\n",
       "Asia             13.0       9.0  10.0        8.0\n",
       "Europe            NaN       3.0  26.0        7.0\n",
       "Oceania           1.0       1.0   2.0        NaN"
      ]
     },
     "execution_count": 18,
     "metadata": {},
     "output_type": "execute_result"
    }
   ],
   "source": [
    "# cat.reorder_categories is useful for rearranging the order\n",
    "# (ex: low to high)\n",
    "country['Internet access'] = country['Internet access'].cat.reorder_categories(\n",
    "    ['Low', 'Moderate', 'High', 'Very high']\n",
    ")\n",
    "# Display the number of countries in a pivot table of continent and\n",
    "# internet access\n",
    "country.pivot_table(\n",
    "    values='Years', index='Continent', columns='Internet access', aggfunc=np.size\n",
    ")"
   ]
  },
  {
   "cell_type": "code",
   "execution_count": 19,
   "id": "3f064e21",
   "metadata": {},
   "outputs": [
    {
     "data": {
      "application/vnd.microsoft.datawrangler.viewer.v0+json": {
       "columns": [
        {
         "name": "index",
         "rawType": "int64",
         "type": "integer"
        },
        {
         "name": "Country",
         "rawType": "object",
         "type": "string"
        },
        {
         "name": "Continent",
         "rawType": "object",
         "type": "string"
        },
        {
         "name": "Years",
         "rawType": "float64",
         "type": "float"
        },
        {
         "name": "Internet access",
         "rawType": "category",
         "type": "unknown"
        },
        {
         "name": "Emissions range",
         "rawType": "object",
         "type": "string"
        },
        {
         "name": "Fertility",
         "rawType": "float64",
         "type": "float"
        },
        {
         "name": "Emissions",
         "rawType": "float64",
         "type": "float"
        },
        {
         "name": "Internet",
         "rawType": "float64",
         "type": "float"
        }
       ],
       "conversionMethod": "pd.DataFrame",
       "ref": "6f217549-6e73-46b0-b9db-2991680a3fa5",
       "rows": [
        [
         "14",
         "Belize",
         "Americas",
         "10.5",
         "Low",
         "Low",
         "2.44",
         "1.5",
         "49.8"
        ],
        [
         "17",
         "Bolivia",
         "Americas",
         "8.9",
         "Low",
         "Low",
         "2.8",
         "1.96",
         "44.3"
        ],
        [
         "43",
         "El Salvador",
         "Americas",
         "6.9",
         "Low",
         "Low",
         "2.04",
         "1.11",
         "43.8"
        ],
        [
         "56",
         "Guatemala",
         "Americas",
         "6.5",
         "Low",
         "Low",
         "2.87",
         "1.07",
         "41.5"
        ],
        [
         "59",
         "Haiti",
         "Americas",
         "5.3",
         "Low",
         "Low",
         "2.82",
         "0.27",
         "32.5"
        ],
        [
         "60",
         "Honduras",
         "Americas",
         "6.5",
         "Low",
         "Low",
         "2.39",
         "1.04",
         "36.0"
        ],
        [
         "101",
         "Nicaragua",
         "Americas",
         "6.7",
         "Low",
         "Low",
         "2.14",
         "0.862",
         "37.6"
        ]
       ],
       "shape": {
        "columns": 8,
        "rows": 7
       }
      },
      "text/html": [
       "<div>\n",
       "<style scoped>\n",
       "    .dataframe tbody tr th:only-of-type {\n",
       "        vertical-align: middle;\n",
       "    }\n",
       "\n",
       "    .dataframe tbody tr th {\n",
       "        vertical-align: top;\n",
       "    }\n",
       "\n",
       "    .dataframe thead th {\n",
       "        text-align: right;\n",
       "    }\n",
       "</style>\n",
       "<table border=\"1\" class=\"dataframe\">\n",
       "  <thead>\n",
       "    <tr style=\"text-align: right;\">\n",
       "      <th></th>\n",
       "      <th>Country</th>\n",
       "      <th>Continent</th>\n",
       "      <th>Years</th>\n",
       "      <th>Internet access</th>\n",
       "      <th>Emissions range</th>\n",
       "      <th>Fertility</th>\n",
       "      <th>Emissions</th>\n",
       "      <th>Internet</th>\n",
       "    </tr>\n",
       "  </thead>\n",
       "  <tbody>\n",
       "    <tr>\n",
       "      <th>14</th>\n",
       "      <td>Belize</td>\n",
       "      <td>Americas</td>\n",
       "      <td>10.5</td>\n",
       "      <td>Low</td>\n",
       "      <td>Low</td>\n",
       "      <td>2.44</td>\n",
       "      <td>1.500</td>\n",
       "      <td>49.8</td>\n",
       "    </tr>\n",
       "    <tr>\n",
       "      <th>17</th>\n",
       "      <td>Bolivia</td>\n",
       "      <td>Americas</td>\n",
       "      <td>8.9</td>\n",
       "      <td>Low</td>\n",
       "      <td>Low</td>\n",
       "      <td>2.80</td>\n",
       "      <td>1.960</td>\n",
       "      <td>44.3</td>\n",
       "    </tr>\n",
       "    <tr>\n",
       "      <th>43</th>\n",
       "      <td>El Salvador</td>\n",
       "      <td>Americas</td>\n",
       "      <td>6.9</td>\n",
       "      <td>Low</td>\n",
       "      <td>Low</td>\n",
       "      <td>2.04</td>\n",
       "      <td>1.110</td>\n",
       "      <td>43.8</td>\n",
       "    </tr>\n",
       "    <tr>\n",
       "      <th>56</th>\n",
       "      <td>Guatemala</td>\n",
       "      <td>Americas</td>\n",
       "      <td>6.5</td>\n",
       "      <td>Low</td>\n",
       "      <td>Low</td>\n",
       "      <td>2.87</td>\n",
       "      <td>1.070</td>\n",
       "      <td>41.5</td>\n",
       "    </tr>\n",
       "    <tr>\n",
       "      <th>59</th>\n",
       "      <td>Haiti</td>\n",
       "      <td>Americas</td>\n",
       "      <td>5.3</td>\n",
       "      <td>Low</td>\n",
       "      <td>Low</td>\n",
       "      <td>2.82</td>\n",
       "      <td>0.270</td>\n",
       "      <td>32.5</td>\n",
       "    </tr>\n",
       "    <tr>\n",
       "      <th>60</th>\n",
       "      <td>Honduras</td>\n",
       "      <td>Americas</td>\n",
       "      <td>6.5</td>\n",
       "      <td>Low</td>\n",
       "      <td>Low</td>\n",
       "      <td>2.39</td>\n",
       "      <td>1.040</td>\n",
       "      <td>36.0</td>\n",
       "    </tr>\n",
       "    <tr>\n",
       "      <th>101</th>\n",
       "      <td>Nicaragua</td>\n",
       "      <td>Americas</td>\n",
       "      <td>6.7</td>\n",
       "      <td>Low</td>\n",
       "      <td>Low</td>\n",
       "      <td>2.14</td>\n",
       "      <td>0.862</td>\n",
       "      <td>37.6</td>\n",
       "    </tr>\n",
       "  </tbody>\n",
       "</table>\n",
       "</div>"
      ],
      "text/plain": [
       "         Country Continent  Years Internet access Emissions range  Fertility  \\\n",
       "14        Belize  Americas   10.5             Low             Low       2.44   \n",
       "17       Bolivia  Americas    8.9             Low             Low       2.80   \n",
       "43   El Salvador  Americas    6.9             Low             Low       2.04   \n",
       "56     Guatemala  Americas    6.5             Low             Low       2.87   \n",
       "59         Haiti  Americas    5.3             Low             Low       2.82   \n",
       "60      Honduras  Americas    6.5             Low             Low       2.39   \n",
       "101    Nicaragua  Americas    6.7             Low             Low       2.14   \n",
       "\n",
       "     Emissions  Internet  \n",
       "14       1.500      49.8  \n",
       "17       1.960      44.3  \n",
       "43       1.110      43.8  \n",
       "56       1.070      41.5  \n",
       "59       0.270      32.5  \n",
       "60       1.040      36.0  \n",
       "101      0.862      37.6  "
      ]
     },
     "execution_count": 19,
     "metadata": {},
     "output_type": "execute_result"
    }
   ],
   "source": [
    "# Which 7 countries in the Americas have low Internet access?\n",
    "country[(country['Continent'] == 'Americas') & (country['Internet access'] == 'Low')]"
   ]
  },
  {
   "cell_type": "code",
   "execution_count": 20,
   "id": "9f96e8ce",
   "metadata": {},
   "outputs": [
    {
     "data": {
      "application/vnd.microsoft.datawrangler.viewer.v0+json": {
       "columns": [
        {
         "name": "Continent",
         "rawType": "object",
         "type": "string"
        },
        {
         "name": "Low",
         "rawType": "float64",
         "type": "float"
        },
        {
         "name": "Moderate",
         "rawType": "float64",
         "type": "float"
        },
        {
         "name": "High",
         "rawType": "float64",
         "type": "float"
        },
        {
         "name": "Very high",
         "rawType": "float64",
         "type": "float"
        }
       ],
       "conversionMethod": "pd.DataFrame",
       "ref": "f18ffa88-4561-452c-a221-94eee8f3656b",
       "rows": [
        [
         "Africa",
         "4.836111111111111",
         "7.475",
         "9.5",
         null
        ],
        [
         "Americas",
         "7.328571428571428",
         "9.22",
         "9.7375",
         "13.3"
        ],
        [
         "Asia",
         "6.346153846153846",
         "9.566666666666666",
         "10.53",
         "10.1"
        ],
        [
         "Europe",
         null,
         "11.033333333333333",
         "11.588461538461539",
         "12.828571428571427"
        ],
        [
         "Oceania",
         "7.9",
         "10.8",
         "12.7",
         null
        ]
       ],
       "shape": {
        "columns": 4,
        "rows": 5
       }
      },
      "text/html": [
       "<div>\n",
       "<style scoped>\n",
       "    .dataframe tbody tr th:only-of-type {\n",
       "        vertical-align: middle;\n",
       "    }\n",
       "\n",
       "    .dataframe tbody tr th {\n",
       "        vertical-align: top;\n",
       "    }\n",
       "\n",
       "    .dataframe thead th {\n",
       "        text-align: right;\n",
       "    }\n",
       "</style>\n",
       "<table border=\"1\" class=\"dataframe\">\n",
       "  <thead>\n",
       "    <tr style=\"text-align: right;\">\n",
       "      <th>Internet access</th>\n",
       "      <th>Low</th>\n",
       "      <th>Moderate</th>\n",
       "      <th>High</th>\n",
       "      <th>Very high</th>\n",
       "    </tr>\n",
       "    <tr>\n",
       "      <th>Continent</th>\n",
       "      <th></th>\n",
       "      <th></th>\n",
       "      <th></th>\n",
       "      <th></th>\n",
       "    </tr>\n",
       "  </thead>\n",
       "  <tbody>\n",
       "    <tr>\n",
       "      <th>Africa</th>\n",
       "      <td>4.836111</td>\n",
       "      <td>7.475000</td>\n",
       "      <td>9.500000</td>\n",
       "      <td>NaN</td>\n",
       "    </tr>\n",
       "    <tr>\n",
       "      <th>Americas</th>\n",
       "      <td>7.328571</td>\n",
       "      <td>9.220000</td>\n",
       "      <td>9.737500</td>\n",
       "      <td>13.300000</td>\n",
       "    </tr>\n",
       "    <tr>\n",
       "      <th>Asia</th>\n",
       "      <td>6.346154</td>\n",
       "      <td>9.566667</td>\n",
       "      <td>10.530000</td>\n",
       "      <td>10.100000</td>\n",
       "    </tr>\n",
       "    <tr>\n",
       "      <th>Europe</th>\n",
       "      <td>NaN</td>\n",
       "      <td>11.033333</td>\n",
       "      <td>11.588462</td>\n",
       "      <td>12.828571</td>\n",
       "    </tr>\n",
       "    <tr>\n",
       "      <th>Oceania</th>\n",
       "      <td>7.900000</td>\n",
       "      <td>10.800000</td>\n",
       "      <td>12.700000</td>\n",
       "      <td>NaN</td>\n",
       "    </tr>\n",
       "  </tbody>\n",
       "</table>\n",
       "</div>"
      ],
      "text/plain": [
       "Internet access       Low   Moderate       High  Very high\n",
       "Continent                                                 \n",
       "Africa           4.836111   7.475000   9.500000        NaN\n",
       "Americas         7.328571   9.220000   9.737500  13.300000\n",
       "Asia             6.346154   9.566667  10.530000  10.100000\n",
       "Europe                NaN  11.033333  11.588462  12.828571\n",
       "Oceania          7.900000  10.800000  12.700000        NaN"
      ]
     },
     "execution_count": 20,
     "metadata": {},
     "output_type": "execute_result"
    }
   ],
   "source": [
    "# Display the average number of years of schooling\n",
    "country.pivot_table(\n",
    "    values='Years', index='Continent', columns='Internet access', aggfunc=\"mean\",observed=False\n",
    ")"
   ]
  },
  {
   "cell_type": "code",
   "execution_count": 21,
   "id": "e1824398",
   "metadata": {},
   "outputs": [
    {
     "data": {
      "application/vnd.microsoft.datawrangler.viewer.v0+json": {
       "columns": [
        {
         "name": "Continent",
         "rawType": "object",
         "type": "string"
        },
        {
         "name": "Years",
         "rawType": "float64",
         "type": "float"
        },
        {
         "name": "Fertility",
         "rawType": "float64",
         "type": "float"
        },
        {
         "name": "Emissions",
         "rawType": "float64",
         "type": "float"
        },
        {
         "name": "Internet",
         "rawType": "float64",
         "type": "float"
        }
       ],
       "conversionMethod": "pd.DataFrame",
       "ref": "0cf9c914-0aa8-4b53-ba29-4803c7bfd9cc",
       "rows": [
        [
         "Africa",
         "5.408888888888889",
         "4.090888888888889",
         "1.1279533333333334",
         "31.057777777777776"
        ],
        [
         "Americas",
         "9.026923076923076",
         "2.161153846153846",
         "3.3093076923076925",
         "62.41153846153846"
        ],
        [
         "Asia",
         "8.8675",
         "2.244",
         "7.43135",
         "63.88250000000001"
        ],
        [
         "Europe",
         "11.783333333333333",
         "1.6219444444444444",
         "6.716944444444445",
         "81.73888888888888"
        ],
        [
         "Oceania",
         "11.025",
         "2.46",
         "6.812749999999999",
         "68.725"
        ]
       ],
       "shape": {
        "columns": 4,
        "rows": 5
       }
      },
      "text/html": [
       "<div>\n",
       "<style scoped>\n",
       "    .dataframe tbody tr th:only-of-type {\n",
       "        vertical-align: middle;\n",
       "    }\n",
       "\n",
       "    .dataframe tbody tr th {\n",
       "        vertical-align: top;\n",
       "    }\n",
       "\n",
       "    .dataframe thead th {\n",
       "        text-align: right;\n",
       "    }\n",
       "</style>\n",
       "<table border=\"1\" class=\"dataframe\">\n",
       "  <thead>\n",
       "    <tr style=\"text-align: right;\">\n",
       "      <th></th>\n",
       "      <th>Years</th>\n",
       "      <th>Fertility</th>\n",
       "      <th>Emissions</th>\n",
       "      <th>Internet</th>\n",
       "    </tr>\n",
       "    <tr>\n",
       "      <th>Continent</th>\n",
       "      <th></th>\n",
       "      <th></th>\n",
       "      <th></th>\n",
       "      <th></th>\n",
       "    </tr>\n",
       "  </thead>\n",
       "  <tbody>\n",
       "    <tr>\n",
       "      <th>Africa</th>\n",
       "      <td>5.408889</td>\n",
       "      <td>4.090889</td>\n",
       "      <td>1.127953</td>\n",
       "      <td>31.057778</td>\n",
       "    </tr>\n",
       "    <tr>\n",
       "      <th>Americas</th>\n",
       "      <td>9.026923</td>\n",
       "      <td>2.161154</td>\n",
       "      <td>3.309308</td>\n",
       "      <td>62.411538</td>\n",
       "    </tr>\n",
       "    <tr>\n",
       "      <th>Asia</th>\n",
       "      <td>8.867500</td>\n",
       "      <td>2.244000</td>\n",
       "      <td>7.431350</td>\n",
       "      <td>63.882500</td>\n",
       "    </tr>\n",
       "    <tr>\n",
       "      <th>Europe</th>\n",
       "      <td>11.783333</td>\n",
       "      <td>1.621944</td>\n",
       "      <td>6.716944</td>\n",
       "      <td>81.738889</td>\n",
       "    </tr>\n",
       "    <tr>\n",
       "      <th>Oceania</th>\n",
       "      <td>11.025000</td>\n",
       "      <td>2.460000</td>\n",
       "      <td>6.812750</td>\n",
       "      <td>68.725000</td>\n",
       "    </tr>\n",
       "  </tbody>\n",
       "</table>\n",
       "</div>"
      ],
      "text/plain": [
       "               Years  Fertility  Emissions   Internet\n",
       "Continent                                            \n",
       "Africa      5.408889   4.090889   1.127953  31.057778\n",
       "Americas    9.026923   2.161154   3.309308  62.411538\n",
       "Asia        8.867500   2.244000   7.431350  63.882500\n",
       "Europe     11.783333   1.621944   6.716944  81.738889\n",
       "Oceania    11.025000   2.460000   6.812750  68.725000"
      ]
     },
     "execution_count": 21,
     "metadata": {},
     "output_type": "execute_result"
    }
   ],
   "source": [
    "# Display the average of each feature by continent\n",
    "\n",
    "country.groupby(by=[\"Continent\"]).mean(numeric_only=True)"
   ]
  },
  {
   "cell_type": "code",
   "execution_count": 22,
   "id": "4f243dc9",
   "metadata": {},
   "outputs": [
    {
     "data": {
      "application/vnd.microsoft.datawrangler.viewer.v0+json": {
       "columns": [
        {
         "name": "Continent",
         "rawType": "object",
         "type": "string"
        },
        {
         "name": "Years",
         "rawType": "float64",
         "type": "float"
        },
        {
         "name": "Fertility",
         "rawType": "float64",
         "type": "float"
        },
        {
         "name": "Emissions",
         "rawType": "float64",
         "type": "float"
        },
        {
         "name": "Internet",
         "rawType": "float64",
         "type": "float"
        }
       ],
       "conversionMethod": "pd.DataFrame",
       "ref": "aa935081-0240-4b8f-a2f1-06b898d6ea0a",
       "rows": [
        [
         "Africa",
         "5.2",
         "4.41",
         "0.434",
         "25.0"
        ],
        [
         "Americas",
         "8.7",
         "2.13",
         "2.26",
         "63.4"
        ],
        [
         "Asia",
         "9.350000000000001",
         "2.02",
         "3.9250000000000003",
         "67.15"
        ],
        [
         "Europe",
         "12.05",
         "1.605",
         "5.904999999999999",
         "81.30000000000001"
        ],
        [
         "Oceania",
         "11.65",
         "2.22",
         "4.875",
         "78.25"
        ]
       ],
       "shape": {
        "columns": 4,
        "rows": 5
       }
      },
      "text/html": [
       "<div>\n",
       "<style scoped>\n",
       "    .dataframe tbody tr th:only-of-type {\n",
       "        vertical-align: middle;\n",
       "    }\n",
       "\n",
       "    .dataframe tbody tr th {\n",
       "        vertical-align: top;\n",
       "    }\n",
       "\n",
       "    .dataframe thead th {\n",
       "        text-align: right;\n",
       "    }\n",
       "</style>\n",
       "<table border=\"1\" class=\"dataframe\">\n",
       "  <thead>\n",
       "    <tr style=\"text-align: right;\">\n",
       "      <th></th>\n",
       "      <th>Years</th>\n",
       "      <th>Fertility</th>\n",
       "      <th>Emissions</th>\n",
       "      <th>Internet</th>\n",
       "    </tr>\n",
       "    <tr>\n",
       "      <th>Continent</th>\n",
       "      <th></th>\n",
       "      <th></th>\n",
       "      <th></th>\n",
       "      <th></th>\n",
       "    </tr>\n",
       "  </thead>\n",
       "  <tbody>\n",
       "    <tr>\n",
       "      <th>Africa</th>\n",
       "      <td>5.20</td>\n",
       "      <td>4.410</td>\n",
       "      <td>0.434</td>\n",
       "      <td>25.00</td>\n",
       "    </tr>\n",
       "    <tr>\n",
       "      <th>Americas</th>\n",
       "      <td>8.70</td>\n",
       "      <td>2.130</td>\n",
       "      <td>2.260</td>\n",
       "      <td>63.40</td>\n",
       "    </tr>\n",
       "    <tr>\n",
       "      <th>Asia</th>\n",
       "      <td>9.35</td>\n",
       "      <td>2.020</td>\n",
       "      <td>3.925</td>\n",
       "      <td>67.15</td>\n",
       "    </tr>\n",
       "    <tr>\n",
       "      <th>Europe</th>\n",
       "      <td>12.05</td>\n",
       "      <td>1.605</td>\n",
       "      <td>5.905</td>\n",
       "      <td>81.30</td>\n",
       "    </tr>\n",
       "    <tr>\n",
       "      <th>Oceania</th>\n",
       "      <td>11.65</td>\n",
       "      <td>2.220</td>\n",
       "      <td>4.875</td>\n",
       "      <td>78.25</td>\n",
       "    </tr>\n",
       "  </tbody>\n",
       "</table>\n",
       "</div>"
      ],
      "text/plain": [
       "           Years  Fertility  Emissions  Internet\n",
       "Continent                                       \n",
       "Africa      5.20      4.410      0.434     25.00\n",
       "Americas    8.70      2.130      2.260     63.40\n",
       "Asia        9.35      2.020      3.925     67.15\n",
       "Europe     12.05      1.605      5.905     81.30\n",
       "Oceania    11.65      2.220      4.875     78.25"
      ]
     },
     "execution_count": 22,
     "metadata": {},
     "output_type": "execute_result"
    }
   ],
   "source": [
    "# Display the median of each feature by continent\n",
    "\n",
    "country.groupby(by=[\"Continent\"]).median(numeric_only=True)"
   ]
  },
  {
   "cell_type": "code",
   "execution_count": 23,
   "id": "a8fa344c",
   "metadata": {},
   "outputs": [
    {
     "data": {
      "text/plain": [
       "Continent\n",
       "Africa      45\n",
       "Americas    26\n",
       "Asia        40\n",
       "Europe      36\n",
       "Oceania      4\n",
       "dtype: int64"
      ]
     },
     "execution_count": 23,
     "metadata": {},
     "output_type": "execute_result"
    }
   ],
   "source": [
    "# Display the number of countries in the dataset\n",
    "# for each continent\n",
    "\n",
    "country.groupby(by=[\"Continent\"]).size()"
   ]
  },
  {
   "cell_type": "code",
   "execution_count": 24,
   "id": "6222c4d7",
   "metadata": {},
   "outputs": [
    {
     "data": {
      "application/vnd.microsoft.datawrangler.viewer.v0+json": {
       "columns": [
        {
         "name": "Continent",
         "rawType": "object",
         "type": "string"
        },
        {
         "name": "('Years', 'count')",
         "rawType": "float64",
         "type": "float"
        },
        {
         "name": "('Years', 'mean')",
         "rawType": "float64",
         "type": "float"
        },
        {
         "name": "('Years', 'std')",
         "rawType": "float64",
         "type": "float"
        },
        {
         "name": "('Years', 'min')",
         "rawType": "float64",
         "type": "float"
        },
        {
         "name": "('Years', '25%')",
         "rawType": "float64",
         "type": "float"
        },
        {
         "name": "('Years', '50%')",
         "rawType": "float64",
         "type": "float"
        },
        {
         "name": "('Years', '75%')",
         "rawType": "float64",
         "type": "float"
        },
        {
         "name": "('Years', 'max')",
         "rawType": "float64",
         "type": "float"
        },
        {
         "name": "('Fertility', 'count')",
         "rawType": "float64",
         "type": "float"
        },
        {
         "name": "('Fertility', 'mean')",
         "rawType": "float64",
         "type": "float"
        },
        {
         "name": "('Fertility', 'std')",
         "rawType": "float64",
         "type": "float"
        },
        {
         "name": "('Fertility', 'min')",
         "rawType": "float64",
         "type": "float"
        },
        {
         "name": "('Fertility', '25%')",
         "rawType": "float64",
         "type": "float"
        },
        {
         "name": "('Fertility', '50%')",
         "rawType": "float64",
         "type": "float"
        },
        {
         "name": "('Fertility', '75%')",
         "rawType": "float64",
         "type": "float"
        },
        {
         "name": "('Fertility', 'max')",
         "rawType": "float64",
         "type": "float"
        },
        {
         "name": "('Emissions', 'count')",
         "rawType": "float64",
         "type": "float"
        },
        {
         "name": "('Emissions', 'mean')",
         "rawType": "float64",
         "type": "float"
        },
        {
         "name": "('Emissions', 'std')",
         "rawType": "float64",
         "type": "float"
        },
        {
         "name": "('Emissions', 'min')",
         "rawType": "float64",
         "type": "float"
        },
        {
         "name": "('Emissions', '25%')",
         "rawType": "float64",
         "type": "float"
        },
        {
         "name": "('Emissions', '50%')",
         "rawType": "float64",
         "type": "float"
        },
        {
         "name": "('Emissions', '75%')",
         "rawType": "float64",
         "type": "float"
        },
        {
         "name": "('Emissions', 'max')",
         "rawType": "float64",
         "type": "float"
        },
        {
         "name": "('Internet', 'count')",
         "rawType": "float64",
         "type": "float"
        },
        {
         "name": "('Internet', 'mean')",
         "rawType": "float64",
         "type": "float"
        },
        {
         "name": "('Internet', 'std')",
         "rawType": "float64",
         "type": "float"
        },
        {
         "name": "('Internet', 'min')",
         "rawType": "float64",
         "type": "float"
        },
        {
         "name": "('Internet', '25%')",
         "rawType": "float64",
         "type": "float"
        },
        {
         "name": "('Internet', '50%')",
         "rawType": "float64",
         "type": "float"
        },
        {
         "name": "('Internet', '75%')",
         "rawType": "float64",
         "type": "float"
        },
        {
         "name": "('Internet', 'max')",
         "rawType": "float64",
         "type": "float"
        }
       ],
       "conversionMethod": "pd.DataFrame",
       "ref": "de0f7d86-795c-488f-8b51-847ad78aef6b",
       "rows": [
        [
         "Africa",
         "45.0",
         "5.408888888888888",
         "2.147495605056591",
         "1.5",
         "3.6",
         "5.2",
         "6.8",
         "10.1",
         "45.0",
         "4.090888888888889",
         "1.1156017989127547",
         "1.43",
         "3.3",
         "4.41",
         "4.84",
         "5.88",
         "45.0",
         "1.1279533333333331",
         "1.6954176536395769",
         "0.0467",
         "0.187",
         "0.434",
         "1.16",
         "8.1",
         "45.0",
         "31.057777777777776",
         "19.03589299776142",
         "4.1",
         "15.8",
         "25.0",
         "43.0",
         "70.1"
        ],
        [
         "Americas",
         "26.0",
         "9.026923076923076",
         "1.9818289920793255",
         "5.3",
         "7.925",
         "8.7",
         "10.125",
         "13.5",
         "26.0",
         "2.161153846153846",
         "0.3668168690022521",
         "1.56",
         "1.84",
         "2.13",
         "2.42",
         "2.87",
         "26.0",
         "3.3093076923076916",
         "3.8973693257809767",
         "0.27",
         "1.5275",
         "2.26",
         "3.0225",
         "16.6",
         "26.0",
         "62.411538461538456",
         "17.080522870757253",
         "32.5",
         "50.8",
         "63.4",
         "74.475",
         "94.6"
        ],
        [
         "Asia",
         "40.0",
         "8.867500000000001",
         "2.6884737353452097",
         "3.1",
         "7.175",
         "9.350000000000001",
         "10.825000000000001",
         "13.0",
         "40.0",
         "2.244",
         "0.7412318229707999",
         "1.26",
         "1.8175000000000001",
         "2.02",
         "2.5324999999999998",
         "4.33",
         "40.0",
         "7.43135",
         "8.253924839673205",
         "0.254",
         "1.835",
         "3.9250000000000003",
         "8.945",
         "38.0",
         "40.0",
         "63.88250000000001",
         "26.2080814263708",
         "15.3",
         "43.9",
         "67.15",
         "84.67500000000001",
         "99.7"
        ],
        [
         "Europe",
         "36.0",
         "11.783333333333331",
         "1.199404614202992",
         "9.2",
         "11.25",
         "12.05",
         "12.425",
         "14.2",
         "36.0",
         "1.6219444444444442",
         "0.19208360448281656",
         "1.24",
         "1.495",
         "1.605",
         "1.76",
         "1.98",
         "36.0",
         "6.7169444444444455",
         "3.1031337335432343",
         "1.59",
         "4.75",
         "5.904999999999999",
         "8.3625",
         "15.9",
         "36.0",
         "81.73888888888888",
         "9.654703599142834",
         "62.6",
         "74.625",
         "81.30000000000001",
         "88.97500000000001",
         "99.0"
        ],
        [
         "Oceania",
         "4.0",
         "11.025",
         "2.2735801430050064",
         "7.9",
         "10.075000000000001",
         "11.65",
         "12.6",
         "12.9",
         "4.0",
         "2.4600000000000004",
         "0.7893457206235216",
         "1.83",
         "1.935",
         "2.22",
         "2.745",
         "3.57",
         "4.0",
         "6.812749999999999",
         "7.302982284656043",
         "0.601",
         "1.95775",
         "4.875",
         "9.73",
         "16.9",
         "4.0",
         "68.725",
         "27.77185325708987",
         "29.4",
         "59.025000000000006",
         "78.25",
         "87.94999999999999",
         "89.0"
        ]
       ],
       "shape": {
        "columns": 32,
        "rows": 5
       }
      },
      "text/html": [
       "<div>\n",
       "<style scoped>\n",
       "    .dataframe tbody tr th:only-of-type {\n",
       "        vertical-align: middle;\n",
       "    }\n",
       "\n",
       "    .dataframe tbody tr th {\n",
       "        vertical-align: top;\n",
       "    }\n",
       "\n",
       "    .dataframe thead tr th {\n",
       "        text-align: left;\n",
       "    }\n",
       "\n",
       "    .dataframe thead tr:last-of-type th {\n",
       "        text-align: right;\n",
       "    }\n",
       "</style>\n",
       "<table border=\"1\" class=\"dataframe\">\n",
       "  <thead>\n",
       "    <tr>\n",
       "      <th></th>\n",
       "      <th colspan=\"8\" halign=\"left\">Years</th>\n",
       "      <th colspan=\"2\" halign=\"left\">Fertility</th>\n",
       "      <th>...</th>\n",
       "      <th colspan=\"2\" halign=\"left\">Emissions</th>\n",
       "      <th colspan=\"8\" halign=\"left\">Internet</th>\n",
       "    </tr>\n",
       "    <tr>\n",
       "      <th></th>\n",
       "      <th>count</th>\n",
       "      <th>mean</th>\n",
       "      <th>std</th>\n",
       "      <th>min</th>\n",
       "      <th>25%</th>\n",
       "      <th>50%</th>\n",
       "      <th>75%</th>\n",
       "      <th>max</th>\n",
       "      <th>count</th>\n",
       "      <th>mean</th>\n",
       "      <th>...</th>\n",
       "      <th>75%</th>\n",
       "      <th>max</th>\n",
       "      <th>count</th>\n",
       "      <th>mean</th>\n",
       "      <th>std</th>\n",
       "      <th>min</th>\n",
       "      <th>25%</th>\n",
       "      <th>50%</th>\n",
       "      <th>75%</th>\n",
       "      <th>max</th>\n",
       "    </tr>\n",
       "    <tr>\n",
       "      <th>Continent</th>\n",
       "      <th></th>\n",
       "      <th></th>\n",
       "      <th></th>\n",
       "      <th></th>\n",
       "      <th></th>\n",
       "      <th></th>\n",
       "      <th></th>\n",
       "      <th></th>\n",
       "      <th></th>\n",
       "      <th></th>\n",
       "      <th></th>\n",
       "      <th></th>\n",
       "      <th></th>\n",
       "      <th></th>\n",
       "      <th></th>\n",
       "      <th></th>\n",
       "      <th></th>\n",
       "      <th></th>\n",
       "      <th></th>\n",
       "      <th></th>\n",
       "      <th></th>\n",
       "    </tr>\n",
       "  </thead>\n",
       "  <tbody>\n",
       "    <tr>\n",
       "      <th>Africa</th>\n",
       "      <td>45.0</td>\n",
       "      <td>5.408889</td>\n",
       "      <td>2.147496</td>\n",
       "      <td>1.5</td>\n",
       "      <td>3.600</td>\n",
       "      <td>5.20</td>\n",
       "      <td>6.800</td>\n",
       "      <td>10.1</td>\n",
       "      <td>45.0</td>\n",
       "      <td>4.090889</td>\n",
       "      <td>...</td>\n",
       "      <td>1.1600</td>\n",
       "      <td>8.1</td>\n",
       "      <td>45.0</td>\n",
       "      <td>31.057778</td>\n",
       "      <td>19.035893</td>\n",
       "      <td>4.1</td>\n",
       "      <td>15.800</td>\n",
       "      <td>25.00</td>\n",
       "      <td>43.000</td>\n",
       "      <td>70.1</td>\n",
       "    </tr>\n",
       "    <tr>\n",
       "      <th>Americas</th>\n",
       "      <td>26.0</td>\n",
       "      <td>9.026923</td>\n",
       "      <td>1.981829</td>\n",
       "      <td>5.3</td>\n",
       "      <td>7.925</td>\n",
       "      <td>8.70</td>\n",
       "      <td>10.125</td>\n",
       "      <td>13.5</td>\n",
       "      <td>26.0</td>\n",
       "      <td>2.161154</td>\n",
       "      <td>...</td>\n",
       "      <td>3.0225</td>\n",
       "      <td>16.6</td>\n",
       "      <td>26.0</td>\n",
       "      <td>62.411538</td>\n",
       "      <td>17.080523</td>\n",
       "      <td>32.5</td>\n",
       "      <td>50.800</td>\n",
       "      <td>63.40</td>\n",
       "      <td>74.475</td>\n",
       "      <td>94.6</td>\n",
       "    </tr>\n",
       "    <tr>\n",
       "      <th>Asia</th>\n",
       "      <td>40.0</td>\n",
       "      <td>8.867500</td>\n",
       "      <td>2.688474</td>\n",
       "      <td>3.1</td>\n",
       "      <td>7.175</td>\n",
       "      <td>9.35</td>\n",
       "      <td>10.825</td>\n",
       "      <td>13.0</td>\n",
       "      <td>40.0</td>\n",
       "      <td>2.244000</td>\n",
       "      <td>...</td>\n",
       "      <td>8.9450</td>\n",
       "      <td>38.0</td>\n",
       "      <td>40.0</td>\n",
       "      <td>63.882500</td>\n",
       "      <td>26.208081</td>\n",
       "      <td>15.3</td>\n",
       "      <td>43.900</td>\n",
       "      <td>67.15</td>\n",
       "      <td>84.675</td>\n",
       "      <td>99.7</td>\n",
       "    </tr>\n",
       "    <tr>\n",
       "      <th>Europe</th>\n",
       "      <td>36.0</td>\n",
       "      <td>11.783333</td>\n",
       "      <td>1.199405</td>\n",
       "      <td>9.2</td>\n",
       "      <td>11.250</td>\n",
       "      <td>12.05</td>\n",
       "      <td>12.425</td>\n",
       "      <td>14.2</td>\n",
       "      <td>36.0</td>\n",
       "      <td>1.621944</td>\n",
       "      <td>...</td>\n",
       "      <td>8.3625</td>\n",
       "      <td>15.9</td>\n",
       "      <td>36.0</td>\n",
       "      <td>81.738889</td>\n",
       "      <td>9.654704</td>\n",
       "      <td>62.6</td>\n",
       "      <td>74.625</td>\n",
       "      <td>81.30</td>\n",
       "      <td>88.975</td>\n",
       "      <td>99.0</td>\n",
       "    </tr>\n",
       "    <tr>\n",
       "      <th>Oceania</th>\n",
       "      <td>4.0</td>\n",
       "      <td>11.025000</td>\n",
       "      <td>2.273580</td>\n",
       "      <td>7.9</td>\n",
       "      <td>10.075</td>\n",
       "      <td>11.65</td>\n",
       "      <td>12.600</td>\n",
       "      <td>12.9</td>\n",
       "      <td>4.0</td>\n",
       "      <td>2.460000</td>\n",
       "      <td>...</td>\n",
       "      <td>9.7300</td>\n",
       "      <td>16.9</td>\n",
       "      <td>4.0</td>\n",
       "      <td>68.725000</td>\n",
       "      <td>27.771853</td>\n",
       "      <td>29.4</td>\n",
       "      <td>59.025</td>\n",
       "      <td>78.25</td>\n",
       "      <td>87.950</td>\n",
       "      <td>89.0</td>\n",
       "    </tr>\n",
       "  </tbody>\n",
       "</table>\n",
       "<p>5 rows × 32 columns</p>\n",
       "</div>"
      ],
      "text/plain": [
       "          Years                                                         \\\n",
       "          count       mean       std  min     25%    50%     75%   max   \n",
       "Continent                                                                \n",
       "Africa     45.0   5.408889  2.147496  1.5   3.600   5.20   6.800  10.1   \n",
       "Americas   26.0   9.026923  1.981829  5.3   7.925   8.70  10.125  13.5   \n",
       "Asia       40.0   8.867500  2.688474  3.1   7.175   9.35  10.825  13.0   \n",
       "Europe     36.0  11.783333  1.199405  9.2  11.250  12.05  12.425  14.2   \n",
       "Oceania     4.0  11.025000  2.273580  7.9  10.075  11.65  12.600  12.9   \n",
       "\n",
       "          Fertility            ... Emissions       Internet             \\\n",
       "              count      mean  ...       75%   max    count       mean   \n",
       "Continent                      ...                                       \n",
       "Africa         45.0  4.090889  ...    1.1600   8.1     45.0  31.057778   \n",
       "Americas       26.0  2.161154  ...    3.0225  16.6     26.0  62.411538   \n",
       "Asia           40.0  2.244000  ...    8.9450  38.0     40.0  63.882500   \n",
       "Europe         36.0  1.621944  ...    8.3625  15.9     36.0  81.738889   \n",
       "Oceania         4.0  2.460000  ...    9.7300  16.9      4.0  68.725000   \n",
       "\n",
       "                                                         \n",
       "                 std   min     25%    50%     75%   max  \n",
       "Continent                                                \n",
       "Africa     19.035893   4.1  15.800  25.00  43.000  70.1  \n",
       "Americas   17.080523  32.5  50.800  63.40  74.475  94.6  \n",
       "Asia       26.208081  15.3  43.900  67.15  84.675  99.7  \n",
       "Europe      9.654704  62.6  74.625  81.30  88.975  99.0  \n",
       "Oceania    27.771853  29.4  59.025  78.25  87.950  89.0  \n",
       "\n",
       "[5 rows x 32 columns]"
      ]
     },
     "execution_count": 24,
     "metadata": {},
     "output_type": "execute_result"
    }
   ],
   "source": [
    "# Use describe on each feature for each continent\n",
    "\n",
    "country.groupby(by=[\"Continent\"]).describe()"
   ]
  },
  {
   "cell_type": "code",
   "execution_count": 25,
   "id": "37a43ed9",
   "metadata": {},
   "outputs": [
    {
     "name": "stderr",
     "output_type": "stream",
     "text": [
      "C:\\Users\\Arnav\\AppData\\Local\\Temp\\ipykernel_23908\\792008967.py:3: FutureWarning: The provided callable <function mean at 0x000001F7E5AD07C0> is currently using SeriesGroupBy.mean. In a future version of pandas, the provided callable will be used directly. To keep current behavior pass the string \"mean\" instead.\n",
      "  country.groupby(\"Continent\").agg(\n"
     ]
    },
    {
     "data": {
      "application/vnd.microsoft.datawrangler.viewer.v0+json": {
       "columns": [
        {
         "name": "Continent",
         "rawType": "object",
         "type": "string"
        },
        {
         "name": "min_Emissions",
         "rawType": "float64",
         "type": "float"
        },
        {
         "name": "max_Emissions",
         "rawType": "float64",
         "type": "float"
        },
        {
         "name": "mean_Emissions",
         "rawType": "float64",
         "type": "float"
        }
       ],
       "conversionMethod": "pd.DataFrame",
       "ref": "15350833-19a1-4da3-a30a-024d96eb75a7",
       "rows": [
        [
         "Africa",
         "0.0467",
         "8.1",
         "1.1279533333333334"
        ],
        [
         "Americas",
         "0.27",
         "16.6",
         "3.3093076923076925"
        ],
        [
         "Asia",
         "0.254",
         "38.0",
         "7.43135"
        ],
        [
         "Europe",
         "1.59",
         "15.9",
         "6.716944444444445"
        ],
        [
         "Oceania",
         "0.601",
         "16.9",
         "6.812749999999999"
        ]
       ],
       "shape": {
        "columns": 3,
        "rows": 5
       }
      },
      "text/html": [
       "<div>\n",
       "<style scoped>\n",
       "    .dataframe tbody tr th:only-of-type {\n",
       "        vertical-align: middle;\n",
       "    }\n",
       "\n",
       "    .dataframe tbody tr th {\n",
       "        vertical-align: top;\n",
       "    }\n",
       "\n",
       "    .dataframe thead th {\n",
       "        text-align: right;\n",
       "    }\n",
       "</style>\n",
       "<table border=\"1\" class=\"dataframe\">\n",
       "  <thead>\n",
       "    <tr style=\"text-align: right;\">\n",
       "      <th></th>\n",
       "      <th>min_Emissions</th>\n",
       "      <th>max_Emissions</th>\n",
       "      <th>mean_Emissions</th>\n",
       "    </tr>\n",
       "    <tr>\n",
       "      <th>Continent</th>\n",
       "      <th></th>\n",
       "      <th></th>\n",
       "      <th></th>\n",
       "    </tr>\n",
       "  </thead>\n",
       "  <tbody>\n",
       "    <tr>\n",
       "      <th>Africa</th>\n",
       "      <td>0.0467</td>\n",
       "      <td>8.1</td>\n",
       "      <td>1.127953</td>\n",
       "    </tr>\n",
       "    <tr>\n",
       "      <th>Americas</th>\n",
       "      <td>0.2700</td>\n",
       "      <td>16.6</td>\n",
       "      <td>3.309308</td>\n",
       "    </tr>\n",
       "    <tr>\n",
       "      <th>Asia</th>\n",
       "      <td>0.2540</td>\n",
       "      <td>38.0</td>\n",
       "      <td>7.431350</td>\n",
       "    </tr>\n",
       "    <tr>\n",
       "      <th>Europe</th>\n",
       "      <td>1.5900</td>\n",
       "      <td>15.9</td>\n",
       "      <td>6.716944</td>\n",
       "    </tr>\n",
       "    <tr>\n",
       "      <th>Oceania</th>\n",
       "      <td>0.6010</td>\n",
       "      <td>16.9</td>\n",
       "      <td>6.812750</td>\n",
       "    </tr>\n",
       "  </tbody>\n",
       "</table>\n",
       "</div>"
      ],
      "text/plain": [
       "           min_Emissions  max_Emissions  mean_Emissions\n",
       "Continent                                              \n",
       "Africa            0.0467            8.1        1.127953\n",
       "Americas          0.2700           16.6        3.309308\n",
       "Asia              0.2540           38.0        7.431350\n",
       "Europe            1.5900           15.9        6.716944\n",
       "Oceania           0.6010           16.9        6.812750"
      ]
     },
     "execution_count": 25,
     "metadata": {},
     "output_type": "execute_result"
    }
   ],
   "source": [
    "# Display a subset of the data above using .agg()\n",
    "\n",
    "country.groupby(\"Continent\").agg(\n",
    "    min_Emissions=pd.NamedAgg(column=\"Emissions\", aggfunc=\"min\"),\n",
    "    max_Emissions=pd.NamedAgg(column=\"Emissions\", aggfunc=\"max\"),\n",
    "    mean_Emissions=pd.NamedAgg(column=\"Emissions\", aggfunc=np.mean),\n",
    ")"
   ]
  },
  {
   "cell_type": "markdown",
   "id": "f9316852",
   "metadata": {},
   "source": [
    "**Formatting data**\n",
    "\n",
    "All data within a single column and similar data in multiple columns should be stored in a uniform format. Ex:\n",
    "\n",
    "All dates and times might be stored as the datetime data type, with a 24-hour clock in Coordinated Universal Time (UTC).\n",
    "All lengths might be stored as meters.\n",
    "All percentages might be stored as decimal values between 0 and 1, rather than integers between 0 and 100.\n",
    "All names of people might be stored as 'FirstName LastName' with no prefix, suffix, or middle initial.\n",
    "A uniform storage format facilitates aggregating and comparing data within and across columns. Standardizing the storage format also minimizes analysis errors.\n",
    "\n",
    "Although storage formats should be uniform, display formats may vary according to the audience. Ex: Gross Domestic Product (GDP) might be stored as integer dollars but displayed as billions of dollars."
   ]
  },
  {
   "cell_type": "markdown",
   "id": "c03d21c2",
   "metadata": {},
   "source": [
    "**Feature scaling**\n",
    "\n",
    "The numeric features in a dataset often have different scales. In some datasets, scales may differ by orders of magnitude. Many algorithms execute faster or generate better results when scales are similar or identical. Feature scaling converts numeric features to uniform ranges. Two common feature scaling methods are standardization and normalization.\n",
    "\n",
    "**Standardization** converts features to a range centered at 0, with 1 representing a standard deviation:\n",
    "\n",
    "$$ x_{standardized} = \\frac{x_{original} - \\mu_x}{\\sigma_x}  $$\n",
    "\n",
    " is the mean and  is the standard deviation of feature . The standardized value is called a z-score. Since each unit represents one standard deviation, most z-scores fall between -2 and 2.\n",
    "\n",
    "**Normalization** converts features to the range [0,1]:\n",
    "\n",
    "$$ x_{normalized} = \\frac{x_{original} - Min_x}{Max_x - Min_x} $$\n",
    "\n",
    "Standardization is usually preferred over normalization, since standardization positions values relative to the mean and standard deviation. Normalization is useful when algorithms require all features on identical scales.\n",
    "\n",
    "Standardization is best when outliers are present. Standardized values are not skewed by outliers, but most normalized values are compressed into a small range.\n",
    "\n",
    "> **Terminology**\n",
    "Feature scaling terminology varies. Standardization is sometimes called z-score normalization. Normalization is sometimes called min-max scaling."
   ]
  },
  {
   "cell_type": "markdown",
   "id": "c7b4a12a",
   "metadata": {},
   "source": [
    "**Structuring data with Python**\n",
    "\n",
    "The Python language, and the pandas and sklearn packages, have many data structuring methods. Selected methods and functions that format, scale, and unpack data are described in the tables below. The tables include all required parameters and important optional parameters, but exclude infrequently used optional parameters.\n",
    "\n",
    "string[start:end] is not a method but is useful for unpacking string columns and therefore included in the table.\n",
    "\n",
    "Methods that change data contain an optional copy parameter. If copy is True, changes are returned in a new dataframe or array. If copy is False, changes are made to the input dataframe or array."
   ]
  },
  {
   "cell_type": "markdown",
   "id": "c7126f74",
   "metadata": {},
   "source": [
    "***Python data structuring methods.***\n",
    "| Method\t| Parameters\t| Description |\n",
    "| :-------- | :------------ | :---------- |\n",
    "| string[start:end]\t| none\t| Returns the substring of string that begins at the index start and ends at the index end - 1. |\n",
    "|string.capitalize()<br>string.upper()<br>string.lower()<br>string.title()\t| none\t| Returns a copy of string with the initial character uppercase, all characters uppercase, all characters lowercase, or the initial character of all words uppercase. |\n",
    "| to_datetime()\t| arg\t| Converts arg to datetime data type and returns the converted object. Data type of arg may be int, float, str, datetime, list, tuple, one-dimensional array, Series, or DataFrame. |\n",
    "| to_numeric()\t| arg\t| Converts arg to numeric data type and returns the converted object. Data type of arg may be scalar, list, tuple, one-dimensional array, or Series.|\n",
    "\n"
   ]
  },
  {
   "cell_type": "markdown",
   "id": "346bd60a",
   "metadata": {},
   "source": [
    "**pandas data structuring methods.**\n",
    "| Method\t| Parameters\t| Description |\n",
    "| :-------- | :------------ | :---------- |\n",
    "| df.astype()\t| dtype<br>copy=True\t| Converts the data type of all dataframe df columns to dtype. To alter individual columns, specify dtype as {col: dtype, col:dtype, . . .}. |\n",
    "| df.insert()\t| loc<br>column<br>value\t| Inserts a new column with label column at location loc in dataframe df. value is a Scalar, Series, or Array of values for the new column. |"
   ]
  },
  {
   "cell_type": "markdown",
   "id": "5125262f",
   "metadata": {},
   "source": [
    "**sklearn data structuring methods.**\n",
    "| Method\t| Parameters\t| Description |\n",
    "| :-------- | :-----------  | :---------- |\n",
    "| preprocessing.scale()\t| X<br>axis=0<br>with_mean=True<br>with_std=True<br>copy=True\t| Standardizes data in input **X** of data type Array or DataFrame. **axis** indicates whether to standarize along columns (0) or rows (1). **with_mean=True** centers the data at the mean value. **with_std=True** scales the data so that one represents a standard deviation. |\n",
    "| preprocessing.MinMaxScaler().fit_transform() \t| feature_range=(0,1)<br>copy=True<br>X\t| Normalizes data in input **X**, a **fit_transform()** parameter of data type Array or DataFrame. **feature_range** specifies the range of scaled data. **feature_range** and **copy** are **MinMaxScaler()** parameters."
   ]
  },
  {
   "cell_type": "code",
   "execution_count": 26,
   "id": "a59ed1b1",
   "metadata": {},
   "outputs": [
    {
     "data": {
      "application/vnd.microsoft.datawrangler.viewer.v0+json": {
       "columns": [
        {
         "name": "index",
         "rawType": "int64",
         "type": "integer"
        },
        {
         "name": "Price",
         "rawType": "int64",
         "type": "integer"
        },
        {
         "name": "Age",
         "rawType": "int64",
         "type": "integer"
        }
       ],
       "conversionMethod": "pd.DataFrame",
       "ref": "f6c37056-9f12-47c5-bdc3-dd0c27394795",
       "rows": [
        [
         "0",
         "90300",
         "14"
        ],
        [
         "1",
         "150500",
         "27"
        ],
        [
         "2",
         "269500",
         "22"
        ],
        [
         "3",
         "98000",
         "15"
        ],
        [
         "4",
         "244650",
         "28"
        ]
       ],
       "shape": {
        "columns": 2,
        "rows": 5
       }
      },
      "text/html": [
       "<div>\n",
       "<style scoped>\n",
       "    .dataframe tbody tr th:only-of-type {\n",
       "        vertical-align: middle;\n",
       "    }\n",
       "\n",
       "    .dataframe tbody tr th {\n",
       "        vertical-align: top;\n",
       "    }\n",
       "\n",
       "    .dataframe thead th {\n",
       "        text-align: right;\n",
       "    }\n",
       "</style>\n",
       "<table border=\"1\" class=\"dataframe\">\n",
       "  <thead>\n",
       "    <tr style=\"text-align: right;\">\n",
       "      <th></th>\n",
       "      <th>Price</th>\n",
       "      <th>Age</th>\n",
       "    </tr>\n",
       "  </thead>\n",
       "  <tbody>\n",
       "    <tr>\n",
       "      <th>0</th>\n",
       "      <td>90300</td>\n",
       "      <td>14</td>\n",
       "    </tr>\n",
       "    <tr>\n",
       "      <th>1</th>\n",
       "      <td>150500</td>\n",
       "      <td>27</td>\n",
       "    </tr>\n",
       "    <tr>\n",
       "      <th>2</th>\n",
       "      <td>269500</td>\n",
       "      <td>22</td>\n",
       "    </tr>\n",
       "    <tr>\n",
       "      <th>3</th>\n",
       "      <td>98000</td>\n",
       "      <td>15</td>\n",
       "    </tr>\n",
       "    <tr>\n",
       "      <th>4</th>\n",
       "      <td>244650</td>\n",
       "      <td>28</td>\n",
       "    </tr>\n",
       "  </tbody>\n",
       "</table>\n",
       "</div>"
      ],
      "text/plain": [
       "    Price  Age\n",
       "0   90300   14\n",
       "1  150500   27\n",
       "2  269500   22\n",
       "3   98000   15\n",
       "4  244650   28"
      ]
     },
     "execution_count": 26,
     "metadata": {},
     "output_type": "execute_result"
    }
   ],
   "source": [
    "# Import packages\n",
    "import pandas as pd\n",
    "from sklearn import preprocessing\n",
    "\n",
    "# Import data into 'original'\n",
    "original = pd.read_csv('data/featurescaling.csv')\n",
    "\n",
    "original"
   ]
  },
  {
   "cell_type": "code",
   "execution_count": 27,
   "id": "5f927551",
   "metadata": {},
   "outputs": [],
   "source": [
    "# Standardize dataframe and return as an array\n",
    "standardizedArray = preprocessing.scale(original)\n",
    "\n",
    "# Convert standardized array to dataframe 'standardized'\n",
    "standardized = pd.DataFrame(standardizedArray, columns=[\"Price\", \"Age\"])"
   ]
  },
  {
   "cell_type": "code",
   "execution_count": 28,
   "id": "851a9863",
   "metadata": {},
   "outputs": [
    {
     "data": {
      "application/vnd.microsoft.datawrangler.viewer.v0+json": {
       "columns": [
        {
         "name": "index",
         "rawType": "int64",
         "type": "integer"
        },
        {
         "name": "Price",
         "rawType": "float64",
         "type": "float"
        },
        {
         "name": "Age",
         "rawType": "float64",
         "type": "float"
        }
       ],
       "conversionMethod": "pd.DataFrame",
       "ref": "9afa7948-4c99-4da8-bae9-bdc893363393",
       "rows": [
        [
         "0",
         "-1.0848519820844973",
         "-1.2318946394924788"
        ],
        [
         "1",
         "-0.27144944974564145",
         "0.9923595707022748"
        ],
        [
         "2",
         "1.3364392769707016",
         "0.1368771821658311"
        ],
        [
         "3",
         "-0.9808121232969692",
         "-1.06079816178519"
        ],
        [
         "4",
         "1.0006742781564064",
         "1.1634560484095635"
        ]
       ],
       "shape": {
        "columns": 2,
        "rows": 5
       }
      },
      "text/html": [
       "<div>\n",
       "<style scoped>\n",
       "    .dataframe tbody tr th:only-of-type {\n",
       "        vertical-align: middle;\n",
       "    }\n",
       "\n",
       "    .dataframe tbody tr th {\n",
       "        vertical-align: top;\n",
       "    }\n",
       "\n",
       "    .dataframe thead th {\n",
       "        text-align: right;\n",
       "    }\n",
       "</style>\n",
       "<table border=\"1\" class=\"dataframe\">\n",
       "  <thead>\n",
       "    <tr style=\"text-align: right;\">\n",
       "      <th></th>\n",
       "      <th>Price</th>\n",
       "      <th>Age</th>\n",
       "    </tr>\n",
       "  </thead>\n",
       "  <tbody>\n",
       "    <tr>\n",
       "      <th>0</th>\n",
       "      <td>-1.084852</td>\n",
       "      <td>-1.231895</td>\n",
       "    </tr>\n",
       "    <tr>\n",
       "      <th>1</th>\n",
       "      <td>-0.271449</td>\n",
       "      <td>0.992360</td>\n",
       "    </tr>\n",
       "    <tr>\n",
       "      <th>2</th>\n",
       "      <td>1.336439</td>\n",
       "      <td>0.136877</td>\n",
       "    </tr>\n",
       "    <tr>\n",
       "      <th>3</th>\n",
       "      <td>-0.980812</td>\n",
       "      <td>-1.060798</td>\n",
       "    </tr>\n",
       "    <tr>\n",
       "      <th>4</th>\n",
       "      <td>1.000674</td>\n",
       "      <td>1.163456</td>\n",
       "    </tr>\n",
       "  </tbody>\n",
       "</table>\n",
       "</div>"
      ],
      "text/plain": [
       "      Price       Age\n",
       "0 -1.084852 -1.231895\n",
       "1 -0.271449  0.992360\n",
       "2  1.336439  0.136877\n",
       "3 -0.980812 -1.060798\n",
       "4  1.000674  1.163456"
      ]
     },
     "execution_count": 28,
     "metadata": {},
     "output_type": "execute_result"
    }
   ],
   "source": [
    "# Verify that standardized contains the expected values\n",
    "standardized.head()"
   ]
  },
  {
   "cell_type": "code",
   "execution_count": 29,
   "id": "0f929568",
   "metadata": {},
   "outputs": [],
   "source": [
    "# Normalize dataframe and return as an array\n",
    "normalizedArray = preprocessing.MinMaxScaler().fit_transform(original)\n",
    "\n",
    "# Convert normalized array to dataframe 'normalized'\n",
    "normalized = pd.DataFrame(normalizedArray, columns=[\"Price\", \"Age\"])"
   ]
  },
  {
   "cell_type": "code",
   "execution_count": 30,
   "id": "56408638",
   "metadata": {},
   "outputs": [
    {
     "data": {
      "application/vnd.microsoft.datawrangler.viewer.v0+json": {
       "columns": [
        {
         "name": "index",
         "rawType": "int64",
         "type": "integer"
        },
        {
         "name": "Price",
         "rawType": "float64",
         "type": "float"
        },
        {
         "name": "Age",
         "rawType": "float64",
         "type": "float"
        }
       ],
       "conversionMethod": "pd.DataFrame",
       "ref": "17cd653c-d417-44a2-896d-c08cfba8d2aa",
       "rows": [
        [
         "0",
         "0.0",
         "0.0"
        ],
        [
         "1",
         "0.3359375",
         "0.9285714285714284"
        ],
        [
         "2",
         "1.0",
         "0.5714285714285714"
        ],
        [
         "3",
         "0.04296875",
         "0.0714285714285714"
        ],
        [
         "4",
         "0.861328125",
         "1.0"
        ]
       ],
       "shape": {
        "columns": 2,
        "rows": 5
       }
      },
      "text/html": [
       "<div>\n",
       "<style scoped>\n",
       "    .dataframe tbody tr th:only-of-type {\n",
       "        vertical-align: middle;\n",
       "    }\n",
       "\n",
       "    .dataframe tbody tr th {\n",
       "        vertical-align: top;\n",
       "    }\n",
       "\n",
       "    .dataframe thead th {\n",
       "        text-align: right;\n",
       "    }\n",
       "</style>\n",
       "<table border=\"1\" class=\"dataframe\">\n",
       "  <thead>\n",
       "    <tr style=\"text-align: right;\">\n",
       "      <th></th>\n",
       "      <th>Price</th>\n",
       "      <th>Age</th>\n",
       "    </tr>\n",
       "  </thead>\n",
       "  <tbody>\n",
       "    <tr>\n",
       "      <th>0</th>\n",
       "      <td>0.000000</td>\n",
       "      <td>0.000000</td>\n",
       "    </tr>\n",
       "    <tr>\n",
       "      <th>1</th>\n",
       "      <td>0.335938</td>\n",
       "      <td>0.928571</td>\n",
       "    </tr>\n",
       "    <tr>\n",
       "      <th>2</th>\n",
       "      <td>1.000000</td>\n",
       "      <td>0.571429</td>\n",
       "    </tr>\n",
       "    <tr>\n",
       "      <th>3</th>\n",
       "      <td>0.042969</td>\n",
       "      <td>0.071429</td>\n",
       "    </tr>\n",
       "    <tr>\n",
       "      <th>4</th>\n",
       "      <td>0.861328</td>\n",
       "      <td>1.000000</td>\n",
       "    </tr>\n",
       "  </tbody>\n",
       "</table>\n",
       "</div>"
      ],
      "text/plain": [
       "      Price       Age\n",
       "0  0.000000  0.000000\n",
       "1  0.335938  0.928571\n",
       "2  1.000000  0.571429\n",
       "3  0.042969  0.071429\n",
       "4  0.861328  1.000000"
      ]
     },
     "execution_count": 30,
     "metadata": {},
     "output_type": "execute_result"
    }
   ],
   "source": [
    "# Verify that normalized contains the expected values\n",
    "normalized.head()"
   ]
  },
  {
   "cell_type": "markdown",
   "id": "a0c6b9a2",
   "metadata": {},
   "source": [
    "**Cleaning Data**"
   ]
  },
  {
   "cell_type": "markdown",
   "id": "7d544fe7",
   "metadata": {},
   "source": [
    "**Dirty data**\n",
    "\n",
    "Raw datasets often contain missing, outlier, and duplicate data.\n",
    "\n",
    "**Missing data** is an unknown or inapplicable value. In a database, missing data is represented as **NULL**. In Python, missing data is represented as **NaN** (not a number), **NaT** (not a time), **None** (an unspecified object), or a blank value.\n",
    "\n",
    "**Outlier data** is a numeric value that is much larger or smaller than other values in the same feature. Outlier data is usually defined as two or three standard deviations from the feature mean.\n",
    "\n",
    "**Duplicate data** are two or more identical instances in a dataset. Duplicate instances are usually erroneous and should be removed.\n",
    "\n",
    "Missing, outlier, and duplicate data are collectively called **dirty data**. A **dirty instance** and a **dirty feature** contain dirty data.\n",
    "\n",
    "Dirty data creates bias and inefficiencies in data analysis. Data scientists may struggle to interpret missing data. Values in erroneous duplicates appear too often and are weighted too heavily. Outliers skew results due to one potentially erroneous value. Consequently, missing, outlier, and duplicate data should be corrected or deleted.\n",
    "\n"
   ]
  },
  {
   "cell_type": "markdown",
   "id": "f98ce7e6",
   "metadata": {},
   "source": [
    "**Discarding data**\n",
    "\n",
    "Dirty data may be removed from a dataset by discarding instances, discarding features, or pairwise discarding.\n",
    "\n",
    "**Discarding instances**, also called **listwise deletion** or **complete case removal**, removes dirty instances from the dataset. Dirty instances are usually discarded when:\n",
    "- The dirty instances comprise a small percentage of the dataset.\n",
    "- The dirty instances are random. When missing or outlier values are correlated with values in another feature, discarding dirty instances introduces bias.\n",
    "- Instances are duplicates. Usually, duplicate instances are erroneous, and one instance should be discarded.\n",
    "\n",
    "**Discarding features** removes dirty features that contain a high percentage of missing values, such as 60% or more. Discarding features does not usually apply to outlier data since, by definition, a small percentage of values can be outliers. Discarding features never applies to duplicate data.\n",
    "\n",
    "**Pairwise discarding** retains dirty instances for some analyses and discards dirty instances for others. Instances are discarded only when an analysis uses a dirty feature. With pairwise discarding, the total number of instances varies for different analyses, which complicates comparisons and correlations. For this reason, pairwise discarding is not commonly used."
   ]
  },
  {
   "cell_type": "markdown",
   "id": "2797bc70",
   "metadata": {},
   "source": [
    "**Imputing data**\n",
    "\n",
    "**Imputing data** replaces missing and outlier data with new values. Imputing is more complex than discarding but retains all instances and features. Data may be imputed in several ways:\n",
    "- **Hot-deck** and **cold-deck** imputation replace missing and outlier data with a value from a randomly selected instance. In hot-deck imputation, the value is selected from other instances in the same dataset. In cold-deck imputation, the value is selected from a different dataset.\n",
    "\n",
    "- **Mean imputation** replaces missing and outlier data with the mean value of the feature. Missing and outlier data are excluded from the computation of the mean.\n",
    "\n",
    "- **Regression imputation** replaces missing and outlier data with a value computed from a regression model. In the regression model, the dependent variable is the dirty feature and the independent variables are other features. **Stochastic regression imputation** introduces uncertainty by adding or subtracting the regression variance to the new value. Regression models are discussed elsewhere in this material.\n",
    "\n",
    "Regression imputation is valuable if the dirty feature is highly correlated with other features. If not, mean imputation is commonly used. Hot- and cold-deck imputation were common when less computer power was available to compute mean and regression but are not widely used today.\n",
    "\n"
   ]
  },
  {
   "cell_type": "markdown",
   "id": "dd7c7aa5",
   "metadata": {},
   "source": [
    "**pandas data cleaning methods.**\n",
    "| Method\t| Parameters\t| Description |\n",
    "| :-------- | :------------ | :---------- |\n",
    "| df.drop()\t| labels=None<br>axis=0<br>inplace=False\t| Removes rows (axis=0) or columns (axis=1) from dataframe df. labels specifies the labels of rows or columns to drop. |\n",
    "| df.drop_duplicates()\t| subset=None<br>inplace=False\t| Removes duplicate rows from df. subset specifies the labels of columns used to identify duplicates. If subset=None, all columns are used. |\n",
    "| df.dropna()\t| axis=0<br>how='any'<br>subset=None<br>inplace=False\t| Removes rows (axis=0) or columns (axis=1) containing missing values from df.  subset specifies labels on the opposite axis to consider for missing values. how indicates whether to drop the row or column if any or if all values are missing. |\n",
    "|df.duplicated()\t| subset=None\t| Returns a Boolean series that identifies duplicate rows in df. true indicates a duplicate row. subset specifies the labels of columns used to identify duplicates. If subset=None, all columns are used. |\n",
    "| df.fillna()\t| value=None<br>inplace=False\t| Replaces NA and NaN values in df with value, which may be a scalar, dict, Series, or DataFrame. |\n",
    "| df.isnull()<br>df.isna()\t| none\t| Returns a dataframe of Boolean values. True in the returned dataframe indicates the corresponding value of the input df is None, NaT or NaN. |\n",
    "|df.mean()\t| axis=0<br>skip_na=True<br>numeric_only=None\t| Returns the mean values of rows (axis=0) or columns (axis=1) of  df.  skipna indicates whether to exclude unknown values in the calculation. numeric_only indicates whether to exclude non-numeric rows or columns. |\n",
    "| df.replace()\t|to_replace=None<br>value=NoDefault.no_default<br>inplace=False\t| Replaces to_replace values in df with value. to_replace and value may be str, dict, list, regex, or other data types. |\n",
    "\n"
   ]
  },
  {
   "cell_type": "code",
   "execution_count": 31,
   "id": "c0e8e5d3",
   "metadata": {},
   "outputs": [
    {
     "data": {
      "application/vnd.microsoft.datawrangler.viewer.v0+json": {
       "columns": [
        {
         "name": "index",
         "rawType": "int64",
         "type": "integer"
        },
        {
         "name": "Manufacturer",
         "rawType": "object",
         "type": "string"
        },
        {
         "name": "Model",
         "rawType": "object",
         "type": "string"
        },
        {
         "name": "Drive",
         "rawType": "object",
         "type": "string"
        },
        {
         "name": "EngineType",
         "rawType": "object",
         "type": "string"
        },
        {
         "name": "Cylinders",
         "rawType": "float64",
         "type": "float"
        },
        {
         "name": "Liters",
         "rawType": "float64",
         "type": "float"
        },
        {
         "name": "MPG",
         "rawType": "float64",
         "type": "float"
        }
       ],
       "conversionMethod": "pd.DataFrame",
       "ref": "734c86e3-b774-4cb2-aef2-84310208bcc8",
       "rows": [
        [
         "0",
         "Audi",
         "A4",
         "All",
         "Gas",
         "4.0",
         "2.0",
         "24.0"
        ],
        [
         "1",
         "BMW",
         "328 Ci",
         "Rear",
         "Gas",
         "6.0",
         "3.6",
         "20.0"
        ],
        [
         "2",
         "Bentley",
         "Continental",
         "Rear",
         "Gas",
         null,
         null,
         "210.0"
        ],
        [
         "3",
         "Chevrolet",
         "Malibu",
         "Front",
         "Gas",
         "6.0",
         "3.6",
         "18.0"
        ],
        [
         "4",
         "Ford",
         "Mustang",
         "Rear",
         "Gas",
         "6.0",
         "3.7",
         null
        ],
        [
         "5",
         "Rolls-Royce",
         "Ghost",
         "Rear",
         "Gas",
         "12.0",
         "6.6",
         "12.0"
        ],
        [
         "6",
         "Chevrolet",
         "Malibu",
         "Front",
         "Gas",
         "6.0",
         "3.6",
         "18.0"
        ]
       ],
       "shape": {
        "columns": 7,
        "rows": 7
       }
      },
      "text/html": [
       "<div>\n",
       "<style scoped>\n",
       "    .dataframe tbody tr th:only-of-type {\n",
       "        vertical-align: middle;\n",
       "    }\n",
       "\n",
       "    .dataframe tbody tr th {\n",
       "        vertical-align: top;\n",
       "    }\n",
       "\n",
       "    .dataframe thead th {\n",
       "        text-align: right;\n",
       "    }\n",
       "</style>\n",
       "<table border=\"1\" class=\"dataframe\">\n",
       "  <thead>\n",
       "    <tr style=\"text-align: right;\">\n",
       "      <th></th>\n",
       "      <th>Manufacturer</th>\n",
       "      <th>Model</th>\n",
       "      <th>Drive</th>\n",
       "      <th>EngineType</th>\n",
       "      <th>Cylinders</th>\n",
       "      <th>Liters</th>\n",
       "      <th>MPG</th>\n",
       "    </tr>\n",
       "  </thead>\n",
       "  <tbody>\n",
       "    <tr>\n",
       "      <th>0</th>\n",
       "      <td>Audi</td>\n",
       "      <td>A4</td>\n",
       "      <td>All</td>\n",
       "      <td>Gas</td>\n",
       "      <td>4.0</td>\n",
       "      <td>2.0</td>\n",
       "      <td>24.0</td>\n",
       "    </tr>\n",
       "    <tr>\n",
       "      <th>1</th>\n",
       "      <td>BMW</td>\n",
       "      <td>328 Ci</td>\n",
       "      <td>Rear</td>\n",
       "      <td>Gas</td>\n",
       "      <td>6.0</td>\n",
       "      <td>3.6</td>\n",
       "      <td>20.0</td>\n",
       "    </tr>\n",
       "    <tr>\n",
       "      <th>2</th>\n",
       "      <td>Bentley</td>\n",
       "      <td>Continental</td>\n",
       "      <td>Rear</td>\n",
       "      <td>Gas</td>\n",
       "      <td>NaN</td>\n",
       "      <td>NaN</td>\n",
       "      <td>210.0</td>\n",
       "    </tr>\n",
       "    <tr>\n",
       "      <th>3</th>\n",
       "      <td>Chevrolet</td>\n",
       "      <td>Malibu</td>\n",
       "      <td>Front</td>\n",
       "      <td>Gas</td>\n",
       "      <td>6.0</td>\n",
       "      <td>3.6</td>\n",
       "      <td>18.0</td>\n",
       "    </tr>\n",
       "    <tr>\n",
       "      <th>4</th>\n",
       "      <td>Ford</td>\n",
       "      <td>Mustang</td>\n",
       "      <td>Rear</td>\n",
       "      <td>Gas</td>\n",
       "      <td>6.0</td>\n",
       "      <td>3.7</td>\n",
       "      <td>NaN</td>\n",
       "    </tr>\n",
       "    <tr>\n",
       "      <th>5</th>\n",
       "      <td>Rolls-Royce</td>\n",
       "      <td>Ghost</td>\n",
       "      <td>Rear</td>\n",
       "      <td>Gas</td>\n",
       "      <td>12.0</td>\n",
       "      <td>6.6</td>\n",
       "      <td>12.0</td>\n",
       "    </tr>\n",
       "    <tr>\n",
       "      <th>6</th>\n",
       "      <td>Chevrolet</td>\n",
       "      <td>Malibu</td>\n",
       "      <td>Front</td>\n",
       "      <td>Gas</td>\n",
       "      <td>6.0</td>\n",
       "      <td>3.6</td>\n",
       "      <td>18.0</td>\n",
       "    </tr>\n",
       "  </tbody>\n",
       "</table>\n",
       "</div>"
      ],
      "text/plain": [
       "  Manufacturer        Model  Drive EngineType  Cylinders  Liters    MPG\n",
       "0         Audi           A4    All        Gas        4.0     2.0   24.0\n",
       "1          BMW       328 Ci   Rear        Gas        6.0     3.6   20.0\n",
       "2      Bentley  Continental   Rear        Gas        NaN     NaN  210.0\n",
       "3    Chevrolet       Malibu  Front        Gas        6.0     3.6   18.0\n",
       "4         Ford      Mustang   Rear        Gas        6.0     3.7    NaN\n",
       "5  Rolls-Royce        Ghost   Rear        Gas       12.0     6.6   12.0\n",
       "6    Chevrolet       Malibu  Front        Gas        6.0     3.6   18.0"
      ]
     },
     "execution_count": 31,
     "metadata": {},
     "output_type": "execute_result"
    }
   ],
   "source": [
    "# Import packages\n",
    "import pandas as pd\n",
    "\n",
    "# Import dataset\n",
    "auto = pd.read_csv(\"data/autodata.csv\")\n",
    "# Display auto\n",
    "auto"
   ]
  },
  {
   "cell_type": "code",
   "execution_count": 32,
   "id": "82c0e759",
   "metadata": {},
   "outputs": [
    {
     "data": {
      "application/vnd.microsoft.datawrangler.viewer.v0+json": {
       "columns": [
        {
         "name": "index",
         "rawType": "int64",
         "type": "integer"
        },
        {
         "name": "Manufacturer",
         "rawType": "object",
         "type": "string"
        },
        {
         "name": "Model",
         "rawType": "object",
         "type": "string"
        },
        {
         "name": "Drive",
         "rawType": "object",
         "type": "string"
        },
        {
         "name": "EngineType",
         "rawType": "object",
         "type": "string"
        },
        {
         "name": "Cylinders",
         "rawType": "float64",
         "type": "float"
        },
        {
         "name": "Liters",
         "rawType": "float64",
         "type": "float"
        },
        {
         "name": "MPG",
         "rawType": "float64",
         "type": "float"
        }
       ],
       "conversionMethod": "pd.DataFrame",
       "ref": "5777a23a-4a36-4744-8113-d951f51f19b6",
       "rows": [
        [
         "0",
         "Audi",
         "A4",
         "All",
         "Gas",
         "4.0",
         "2.0",
         "24.0"
        ],
        [
         "1",
         "BMW",
         "328 Ci",
         "Rear",
         "Gas",
         "6.0",
         "3.6",
         "20.0"
        ],
        [
         "2",
         "Bentley",
         "Continental",
         "Rear",
         "Gas",
         null,
         null,
         "210.0"
        ],
        [
         "3",
         "Chevrolet",
         "Malibu",
         "Front",
         "Gas",
         "6.0",
         "3.6",
         "18.0"
        ],
        [
         "4",
         "Ford",
         "Mustang",
         "Rear",
         "Gas",
         "6.0",
         "3.7",
         null
        ],
        [
         "5",
         "Rolls-Royce",
         "Ghost",
         "Rear",
         "Gas",
         "12.0",
         "6.6",
         "12.0"
        ]
       ],
       "shape": {
        "columns": 7,
        "rows": 6
       }
      },
      "text/html": [
       "<div>\n",
       "<style scoped>\n",
       "    .dataframe tbody tr th:only-of-type {\n",
       "        vertical-align: middle;\n",
       "    }\n",
       "\n",
       "    .dataframe tbody tr th {\n",
       "        vertical-align: top;\n",
       "    }\n",
       "\n",
       "    .dataframe thead th {\n",
       "        text-align: right;\n",
       "    }\n",
       "</style>\n",
       "<table border=\"1\" class=\"dataframe\">\n",
       "  <thead>\n",
       "    <tr style=\"text-align: right;\">\n",
       "      <th></th>\n",
       "      <th>Manufacturer</th>\n",
       "      <th>Model</th>\n",
       "      <th>Drive</th>\n",
       "      <th>EngineType</th>\n",
       "      <th>Cylinders</th>\n",
       "      <th>Liters</th>\n",
       "      <th>MPG</th>\n",
       "    </tr>\n",
       "  </thead>\n",
       "  <tbody>\n",
       "    <tr>\n",
       "      <th>0</th>\n",
       "      <td>Audi</td>\n",
       "      <td>A4</td>\n",
       "      <td>All</td>\n",
       "      <td>Gas</td>\n",
       "      <td>4.0</td>\n",
       "      <td>2.0</td>\n",
       "      <td>24.0</td>\n",
       "    </tr>\n",
       "    <tr>\n",
       "      <th>1</th>\n",
       "      <td>BMW</td>\n",
       "      <td>328 Ci</td>\n",
       "      <td>Rear</td>\n",
       "      <td>Gas</td>\n",
       "      <td>6.0</td>\n",
       "      <td>3.6</td>\n",
       "      <td>20.0</td>\n",
       "    </tr>\n",
       "    <tr>\n",
       "      <th>2</th>\n",
       "      <td>Bentley</td>\n",
       "      <td>Continental</td>\n",
       "      <td>Rear</td>\n",
       "      <td>Gas</td>\n",
       "      <td>NaN</td>\n",
       "      <td>NaN</td>\n",
       "      <td>210.0</td>\n",
       "    </tr>\n",
       "    <tr>\n",
       "      <th>3</th>\n",
       "      <td>Chevrolet</td>\n",
       "      <td>Malibu</td>\n",
       "      <td>Front</td>\n",
       "      <td>Gas</td>\n",
       "      <td>6.0</td>\n",
       "      <td>3.6</td>\n",
       "      <td>18.0</td>\n",
       "    </tr>\n",
       "    <tr>\n",
       "      <th>4</th>\n",
       "      <td>Ford</td>\n",
       "      <td>Mustang</td>\n",
       "      <td>Rear</td>\n",
       "      <td>Gas</td>\n",
       "      <td>6.0</td>\n",
       "      <td>3.7</td>\n",
       "      <td>NaN</td>\n",
       "    </tr>\n",
       "    <tr>\n",
       "      <th>5</th>\n",
       "      <td>Rolls-Royce</td>\n",
       "      <td>Ghost</td>\n",
       "      <td>Rear</td>\n",
       "      <td>Gas</td>\n",
       "      <td>12.0</td>\n",
       "      <td>6.6</td>\n",
       "      <td>12.0</td>\n",
       "    </tr>\n",
       "  </tbody>\n",
       "</table>\n",
       "</div>"
      ],
      "text/plain": [
       "  Manufacturer        Model  Drive EngineType  Cylinders  Liters    MPG\n",
       "0         Audi           A4    All        Gas        4.0     2.0   24.0\n",
       "1          BMW       328 Ci   Rear        Gas        6.0     3.6   20.0\n",
       "2      Bentley  Continental   Rear        Gas        NaN     NaN  210.0\n",
       "3    Chevrolet       Malibu  Front        Gas        6.0     3.6   18.0\n",
       "4         Ford      Mustang   Rear        Gas        6.0     3.7    NaN\n",
       "5  Rolls-Royce        Ghost   Rear        Gas       12.0     6.6   12.0"
      ]
     },
     "execution_count": 32,
     "metadata": {},
     "output_type": "execute_result"
    }
   ],
   "source": [
    "# Remove duplicates from dataset\n",
    "auto.drop_duplicates(inplace=True)\n",
    "# Display auto\n",
    "auto"
   ]
  },
  {
   "cell_type": "code",
   "execution_count": 33,
   "id": "c0a9ebb5",
   "metadata": {},
   "outputs": [
    {
     "data": {
      "application/vnd.microsoft.datawrangler.viewer.v0+json": {
       "columns": [
        {
         "name": "index",
         "rawType": "int64",
         "type": "integer"
        },
        {
         "name": "Manufacturer",
         "rawType": "object",
         "type": "string"
        },
        {
         "name": "Model",
         "rawType": "object",
         "type": "string"
        },
        {
         "name": "Drive",
         "rawType": "object",
         "type": "string"
        },
        {
         "name": "EngineType",
         "rawType": "object",
         "type": "string"
        },
        {
         "name": "Cylinders",
         "rawType": "float64",
         "type": "float"
        },
        {
         "name": "Liters",
         "rawType": "float64",
         "type": "float"
        },
        {
         "name": "MPG",
         "rawType": "float64",
         "type": "float"
        }
       ],
       "conversionMethod": "pd.DataFrame",
       "ref": "6435af7b-8abc-4b4e-83b1-fe1e5ac7d319",
       "rows": [
        [
         "0",
         "Audi",
         "A4",
         "All",
         "Gas",
         "4.0",
         "2.0",
         "24.0"
        ],
        [
         "1",
         "BMW",
         "328 Ci",
         "Rear",
         "Gas",
         "6.0",
         "3.6",
         "20.0"
        ],
        [
         "3",
         "Chevrolet",
         "Malibu",
         "Front",
         "Gas",
         "6.0",
         "3.6",
         "18.0"
        ],
        [
         "4",
         "Ford",
         "Mustang",
         "Rear",
         "Gas",
         "6.0",
         "3.7",
         null
        ],
        [
         "5",
         "Rolls-Royce",
         "Ghost",
         "Rear",
         "Gas",
         "12.0",
         "6.6",
         "12.0"
        ]
       ],
       "shape": {
        "columns": 7,
        "rows": 5
       }
      },
      "text/html": [
       "<div>\n",
       "<style scoped>\n",
       "    .dataframe tbody tr th:only-of-type {\n",
       "        vertical-align: middle;\n",
       "    }\n",
       "\n",
       "    .dataframe tbody tr th {\n",
       "        vertical-align: top;\n",
       "    }\n",
       "\n",
       "    .dataframe thead th {\n",
       "        text-align: right;\n",
       "    }\n",
       "</style>\n",
       "<table border=\"1\" class=\"dataframe\">\n",
       "  <thead>\n",
       "    <tr style=\"text-align: right;\">\n",
       "      <th></th>\n",
       "      <th>Manufacturer</th>\n",
       "      <th>Model</th>\n",
       "      <th>Drive</th>\n",
       "      <th>EngineType</th>\n",
       "      <th>Cylinders</th>\n",
       "      <th>Liters</th>\n",
       "      <th>MPG</th>\n",
       "    </tr>\n",
       "  </thead>\n",
       "  <tbody>\n",
       "    <tr>\n",
       "      <th>0</th>\n",
       "      <td>Audi</td>\n",
       "      <td>A4</td>\n",
       "      <td>All</td>\n",
       "      <td>Gas</td>\n",
       "      <td>4.0</td>\n",
       "      <td>2.0</td>\n",
       "      <td>24.0</td>\n",
       "    </tr>\n",
       "    <tr>\n",
       "      <th>1</th>\n",
       "      <td>BMW</td>\n",
       "      <td>328 Ci</td>\n",
       "      <td>Rear</td>\n",
       "      <td>Gas</td>\n",
       "      <td>6.0</td>\n",
       "      <td>3.6</td>\n",
       "      <td>20.0</td>\n",
       "    </tr>\n",
       "    <tr>\n",
       "      <th>3</th>\n",
       "      <td>Chevrolet</td>\n",
       "      <td>Malibu</td>\n",
       "      <td>Front</td>\n",
       "      <td>Gas</td>\n",
       "      <td>6.0</td>\n",
       "      <td>3.6</td>\n",
       "      <td>18.0</td>\n",
       "    </tr>\n",
       "    <tr>\n",
       "      <th>4</th>\n",
       "      <td>Ford</td>\n",
       "      <td>Mustang</td>\n",
       "      <td>Rear</td>\n",
       "      <td>Gas</td>\n",
       "      <td>6.0</td>\n",
       "      <td>3.7</td>\n",
       "      <td>NaN</td>\n",
       "    </tr>\n",
       "    <tr>\n",
       "      <th>5</th>\n",
       "      <td>Rolls-Royce</td>\n",
       "      <td>Ghost</td>\n",
       "      <td>Rear</td>\n",
       "      <td>Gas</td>\n",
       "      <td>12.0</td>\n",
       "      <td>6.6</td>\n",
       "      <td>12.0</td>\n",
       "    </tr>\n",
       "  </tbody>\n",
       "</table>\n",
       "</div>"
      ],
      "text/plain": [
       "  Manufacturer    Model  Drive EngineType  Cylinders  Liters   MPG\n",
       "0         Audi       A4    All        Gas        4.0     2.0  24.0\n",
       "1          BMW   328 Ci   Rear        Gas        6.0     3.6  20.0\n",
       "3    Chevrolet   Malibu  Front        Gas        6.0     3.6  18.0\n",
       "4         Ford  Mustang   Rear        Gas        6.0     3.7   NaN\n",
       "5  Rolls-Royce    Ghost   Rear        Gas       12.0     6.6  12.0"
      ]
     },
     "execution_count": 33,
     "metadata": {},
     "output_type": "execute_result"
    }
   ],
   "source": [
    "# Remove rows with missing values for both Cylinders and Liters\n",
    "auto.dropna(subset=['Cylinders', 'Liters'], how='all', inplace=True)\n",
    "# Display auto\n",
    "auto"
   ]
  },
  {
   "cell_type": "code",
   "execution_count": 34,
   "id": "222b2faa",
   "metadata": {},
   "outputs": [
    {
     "data": {
      "application/vnd.microsoft.datawrangler.viewer.v0+json": {
       "columns": [
        {
         "name": "index",
         "rawType": "int64",
         "type": "integer"
        },
        {
         "name": "Manufacturer",
         "rawType": "object",
         "type": "string"
        },
        {
         "name": "Model",
         "rawType": "object",
         "type": "string"
        },
        {
         "name": "Drive",
         "rawType": "object",
         "type": "string"
        },
        {
         "name": "EngineType",
         "rawType": "object",
         "type": "string"
        },
        {
         "name": "Cylinders",
         "rawType": "float64",
         "type": "float"
        },
        {
         "name": "Liters",
         "rawType": "float64",
         "type": "float"
        },
        {
         "name": "MPG",
         "rawType": "float64",
         "type": "float"
        }
       ],
       "conversionMethod": "pd.DataFrame",
       "ref": "465bce0a-bdb2-469c-89b6-c3600e761dda",
       "rows": [
        [
         "0",
         "Audi",
         "A4",
         "All",
         "Gas",
         "4.0",
         "2.0",
         "24.0"
        ],
        [
         "1",
         "BMW",
         "328 Ci",
         "Rear",
         "Gas",
         "6.0",
         "3.6",
         "20.0"
        ],
        [
         "3",
         "Chevrolet",
         "Malibu",
         "Front",
         "Gas",
         "6.0",
         "3.6",
         "18.0"
        ],
        [
         "4",
         "Ford",
         "Mustang",
         "Rear",
         "Gas",
         "6.0",
         "3.7",
         "18.5"
        ],
        [
         "5",
         "Rolls-Royce",
         "Ghost",
         "Rear",
         "Gas",
         "12.0",
         "6.6",
         "12.0"
        ]
       ],
       "shape": {
        "columns": 7,
        "rows": 5
       }
      },
      "text/html": [
       "<div>\n",
       "<style scoped>\n",
       "    .dataframe tbody tr th:only-of-type {\n",
       "        vertical-align: middle;\n",
       "    }\n",
       "\n",
       "    .dataframe tbody tr th {\n",
       "        vertical-align: top;\n",
       "    }\n",
       "\n",
       "    .dataframe thead th {\n",
       "        text-align: right;\n",
       "    }\n",
       "</style>\n",
       "<table border=\"1\" class=\"dataframe\">\n",
       "  <thead>\n",
       "    <tr style=\"text-align: right;\">\n",
       "      <th></th>\n",
       "      <th>Manufacturer</th>\n",
       "      <th>Model</th>\n",
       "      <th>Drive</th>\n",
       "      <th>EngineType</th>\n",
       "      <th>Cylinders</th>\n",
       "      <th>Liters</th>\n",
       "      <th>MPG</th>\n",
       "    </tr>\n",
       "  </thead>\n",
       "  <tbody>\n",
       "    <tr>\n",
       "      <th>0</th>\n",
       "      <td>Audi</td>\n",
       "      <td>A4</td>\n",
       "      <td>All</td>\n",
       "      <td>Gas</td>\n",
       "      <td>4.0</td>\n",
       "      <td>2.0</td>\n",
       "      <td>24.0</td>\n",
       "    </tr>\n",
       "    <tr>\n",
       "      <th>1</th>\n",
       "      <td>BMW</td>\n",
       "      <td>328 Ci</td>\n",
       "      <td>Rear</td>\n",
       "      <td>Gas</td>\n",
       "      <td>6.0</td>\n",
       "      <td>3.6</td>\n",
       "      <td>20.0</td>\n",
       "    </tr>\n",
       "    <tr>\n",
       "      <th>3</th>\n",
       "      <td>Chevrolet</td>\n",
       "      <td>Malibu</td>\n",
       "      <td>Front</td>\n",
       "      <td>Gas</td>\n",
       "      <td>6.0</td>\n",
       "      <td>3.6</td>\n",
       "      <td>18.0</td>\n",
       "    </tr>\n",
       "    <tr>\n",
       "      <th>4</th>\n",
       "      <td>Ford</td>\n",
       "      <td>Mustang</td>\n",
       "      <td>Rear</td>\n",
       "      <td>Gas</td>\n",
       "      <td>6.0</td>\n",
       "      <td>3.7</td>\n",
       "      <td>18.5</td>\n",
       "    </tr>\n",
       "    <tr>\n",
       "      <th>5</th>\n",
       "      <td>Rolls-Royce</td>\n",
       "      <td>Ghost</td>\n",
       "      <td>Rear</td>\n",
       "      <td>Gas</td>\n",
       "      <td>12.0</td>\n",
       "      <td>6.6</td>\n",
       "      <td>12.0</td>\n",
       "    </tr>\n",
       "  </tbody>\n",
       "</table>\n",
       "</div>"
      ],
      "text/plain": [
       "  Manufacturer    Model  Drive EngineType  Cylinders  Liters   MPG\n",
       "0         Audi       A4    All        Gas        4.0     2.0  24.0\n",
       "1          BMW   328 Ci   Rear        Gas        6.0     3.6  20.0\n",
       "3    Chevrolet   Malibu  Front        Gas        6.0     3.6  18.0\n",
       "4         Ford  Mustang   Rear        Gas        6.0     3.7  18.5\n",
       "5  Rolls-Royce    Ghost   Rear        Gas       12.0     6.6  12.0"
      ]
     },
     "execution_count": 34,
     "metadata": {},
     "output_type": "execute_result"
    }
   ],
   "source": [
    "# Compute mean values of numeric features\n",
    "mean = auto.mean(numeric_only=True)\n",
    "auto.fillna(value=mean, inplace=True)\n",
    "# Display auto\n",
    "auto"
   ]
  },
  {
   "cell_type": "code",
   "execution_count": 35,
   "id": "705a24c3",
   "metadata": {},
   "outputs": [
    {
     "name": "stderr",
     "output_type": "stream",
     "text": [
      "C:\\Users\\Arnav\\AppData\\Local\\Temp\\ipykernel_23908\\2147668548.py:1: FutureWarning: Series.__getitem__ treating keys as positions is deprecated. In a future version, integer keys will always be treated as labels (consistent with DataFrame behavior). To access a value by position, use `ser.iloc[pos]`\n",
      "  row6 = pd.Series([\"Mean Values\", \"\", \"\", \"\", mean[0], mean[1], mean[2]])\n"
     ]
    },
    {
     "data": {
      "text/plain": [
       "Manufacturer    Mean Values\n",
       "Model                      \n",
       "Drive                      \n",
       "EngineType                 \n",
       "Cylinders               6.8\n",
       "Liters                  3.9\n",
       "MPG                    18.5\n",
       "dtype: object"
      ]
     },
     "execution_count": 35,
     "metadata": {},
     "output_type": "execute_result"
    }
   ],
   "source": [
    "row6 = pd.Series([\"Mean Values\", \"\", \"\", \"\", mean[0], mean[1], mean[2]])\n",
    "row6.index = auto.columns \n",
    "row6"
   ]
  },
  {
   "cell_type": "code",
   "execution_count": 36,
   "id": "e071d0bc",
   "metadata": {},
   "outputs": [
    {
     "data": {
      "application/vnd.microsoft.datawrangler.viewer.v0+json": {
       "columns": [
        {
         "name": "index",
         "rawType": "int64",
         "type": "integer"
        },
        {
         "name": "Manufacturer",
         "rawType": "object",
         "type": "string"
        },
        {
         "name": "Model",
         "rawType": "object",
         "type": "string"
        },
        {
         "name": "Drive",
         "rawType": "object",
         "type": "string"
        },
        {
         "name": "EngineType",
         "rawType": "object",
         "type": "string"
        },
        {
         "name": "Cylinders",
         "rawType": "object",
         "type": "unknown"
        },
        {
         "name": "Liters",
         "rawType": "object",
         "type": "unknown"
        },
        {
         "name": "MPG",
         "rawType": "object",
         "type": "unknown"
        }
       ],
       "conversionMethod": "pd.DataFrame",
       "ref": "b3dfe79c-a015-4596-a5c4-14bcc2431f6f",
       "rows": [
        [
         "0",
         "Mean Values",
         "",
         "",
         "",
         "6.8",
         "3.9",
         "18.5"
        ]
       ],
       "shape": {
        "columns": 7,
        "rows": 1
       }
      },
      "text/html": [
       "<div>\n",
       "<style scoped>\n",
       "    .dataframe tbody tr th:only-of-type {\n",
       "        vertical-align: middle;\n",
       "    }\n",
       "\n",
       "    .dataframe tbody tr th {\n",
       "        vertical-align: top;\n",
       "    }\n",
       "\n",
       "    .dataframe thead th {\n",
       "        text-align: right;\n",
       "    }\n",
       "</style>\n",
       "<table border=\"1\" class=\"dataframe\">\n",
       "  <thead>\n",
       "    <tr style=\"text-align: right;\">\n",
       "      <th></th>\n",
       "      <th>Manufacturer</th>\n",
       "      <th>Model</th>\n",
       "      <th>Drive</th>\n",
       "      <th>EngineType</th>\n",
       "      <th>Cylinders</th>\n",
       "      <th>Liters</th>\n",
       "      <th>MPG</th>\n",
       "    </tr>\n",
       "  </thead>\n",
       "  <tbody>\n",
       "    <tr>\n",
       "      <th>0</th>\n",
       "      <td>Mean Values</td>\n",
       "      <td></td>\n",
       "      <td></td>\n",
       "      <td></td>\n",
       "      <td>6.8</td>\n",
       "      <td>3.9</td>\n",
       "      <td>18.5</td>\n",
       "    </tr>\n",
       "  </tbody>\n",
       "</table>\n",
       "</div>"
      ],
      "text/plain": [
       "  Manufacturer Model Drive EngineType Cylinders Liters   MPG\n",
       "0  Mean Values                              6.8    3.9  18.5"
      ]
     },
     "execution_count": 36,
     "metadata": {},
     "output_type": "execute_result"
    }
   ],
   "source": [
    "row6 = pd.DataFrame(row6).T\n",
    "row6"
   ]
  },
  {
   "cell_type": "code",
   "execution_count": 37,
   "id": "94096eb9",
   "metadata": {},
   "outputs": [
    {
     "data": {
      "application/vnd.microsoft.datawrangler.viewer.v0+json": {
       "columns": [
        {
         "name": "index",
         "rawType": "int64",
         "type": "integer"
        },
        {
         "name": "Manufacturer",
         "rawType": "object",
         "type": "string"
        },
        {
         "name": "Model",
         "rawType": "object",
         "type": "string"
        },
        {
         "name": "Drive",
         "rawType": "object",
         "type": "string"
        },
        {
         "name": "EngineType",
         "rawType": "object",
         "type": "string"
        },
        {
         "name": "Cylinders",
         "rawType": "object",
         "type": "unknown"
        },
        {
         "name": "Liters",
         "rawType": "object",
         "type": "unknown"
        },
        {
         "name": "MPG",
         "rawType": "object",
         "type": "unknown"
        }
       ],
       "conversionMethod": "pd.DataFrame",
       "ref": "00149b26-86ad-4726-88e8-794cc7d873ad",
       "rows": [
        [
         "0",
         "Audi",
         "A4",
         "All",
         "Gas",
         "4.0",
         "2.0",
         "24.0"
        ],
        [
         "1",
         "BMW",
         "328 Ci",
         "Rear",
         "Gas",
         "6.0",
         "3.6",
         "20.0"
        ],
        [
         "2",
         "Chevrolet",
         "Malibu",
         "Front",
         "Gas",
         "6.0",
         "3.6",
         "18.0"
        ],
        [
         "3",
         "Ford",
         "Mustang",
         "Rear",
         "Gas",
         "6.0",
         "3.7",
         "18.5"
        ],
        [
         "4",
         "Rolls-Royce",
         "Ghost",
         "Rear",
         "Gas",
         "12.0",
         "6.6",
         "12.0"
        ],
        [
         "5",
         "Mean Values",
         "",
         "",
         "",
         "6.8",
         "3.9",
         "18.5"
        ]
       ],
       "shape": {
        "columns": 7,
        "rows": 6
       }
      },
      "text/html": [
       "<div>\n",
       "<style scoped>\n",
       "    .dataframe tbody tr th:only-of-type {\n",
       "        vertical-align: middle;\n",
       "    }\n",
       "\n",
       "    .dataframe tbody tr th {\n",
       "        vertical-align: top;\n",
       "    }\n",
       "\n",
       "    .dataframe thead th {\n",
       "        text-align: right;\n",
       "    }\n",
       "</style>\n",
       "<table border=\"1\" class=\"dataframe\">\n",
       "  <thead>\n",
       "    <tr style=\"text-align: right;\">\n",
       "      <th></th>\n",
       "      <th>Manufacturer</th>\n",
       "      <th>Model</th>\n",
       "      <th>Drive</th>\n",
       "      <th>EngineType</th>\n",
       "      <th>Cylinders</th>\n",
       "      <th>Liters</th>\n",
       "      <th>MPG</th>\n",
       "    </tr>\n",
       "  </thead>\n",
       "  <tbody>\n",
       "    <tr>\n",
       "      <th>0</th>\n",
       "      <td>Audi</td>\n",
       "      <td>A4</td>\n",
       "      <td>All</td>\n",
       "      <td>Gas</td>\n",
       "      <td>4.0</td>\n",
       "      <td>2.0</td>\n",
       "      <td>24.0</td>\n",
       "    </tr>\n",
       "    <tr>\n",
       "      <th>1</th>\n",
       "      <td>BMW</td>\n",
       "      <td>328 Ci</td>\n",
       "      <td>Rear</td>\n",
       "      <td>Gas</td>\n",
       "      <td>6.0</td>\n",
       "      <td>3.6</td>\n",
       "      <td>20.0</td>\n",
       "    </tr>\n",
       "    <tr>\n",
       "      <th>2</th>\n",
       "      <td>Chevrolet</td>\n",
       "      <td>Malibu</td>\n",
       "      <td>Front</td>\n",
       "      <td>Gas</td>\n",
       "      <td>6.0</td>\n",
       "      <td>3.6</td>\n",
       "      <td>18.0</td>\n",
       "    </tr>\n",
       "    <tr>\n",
       "      <th>3</th>\n",
       "      <td>Ford</td>\n",
       "      <td>Mustang</td>\n",
       "      <td>Rear</td>\n",
       "      <td>Gas</td>\n",
       "      <td>6.0</td>\n",
       "      <td>3.7</td>\n",
       "      <td>18.5</td>\n",
       "    </tr>\n",
       "    <tr>\n",
       "      <th>4</th>\n",
       "      <td>Rolls-Royce</td>\n",
       "      <td>Ghost</td>\n",
       "      <td>Rear</td>\n",
       "      <td>Gas</td>\n",
       "      <td>12.0</td>\n",
       "      <td>6.6</td>\n",
       "      <td>12.0</td>\n",
       "    </tr>\n",
       "    <tr>\n",
       "      <th>5</th>\n",
       "      <td>Mean Values</td>\n",
       "      <td></td>\n",
       "      <td></td>\n",
       "      <td></td>\n",
       "      <td>6.8</td>\n",
       "      <td>3.9</td>\n",
       "      <td>18.5</td>\n",
       "    </tr>\n",
       "  </tbody>\n",
       "</table>\n",
       "</div>"
      ],
      "text/plain": [
       "  Manufacturer    Model  Drive EngineType Cylinders Liters   MPG\n",
       "0         Audi       A4    All        Gas       4.0    2.0  24.0\n",
       "1          BMW   328 Ci   Rear        Gas       6.0    3.6  20.0\n",
       "2    Chevrolet   Malibu  Front        Gas       6.0    3.6  18.0\n",
       "3         Ford  Mustang   Rear        Gas       6.0    3.7  18.5\n",
       "4  Rolls-Royce    Ghost   Rear        Gas      12.0    6.6  12.0\n",
       "5  Mean Values                                  6.8    3.9  18.5"
      ]
     },
     "execution_count": 37,
     "metadata": {},
     "output_type": "execute_result"
    }
   ],
   "source": [
    "auto = pd.concat([auto,row6],ignore_index=True)\n",
    "auto"
   ]
  },
  {
   "cell_type": "code",
   "execution_count": null,
   "id": "64fb4d64-7c15-4db1-a51d-7213ce71b728",
   "metadata": {},
   "outputs": [],
   "source": []
  },
  {
   "cell_type": "code",
   "execution_count": null,
   "id": "8121d2ce-8fc9-40b5-9572-57be301cb354",
   "metadata": {},
   "outputs": [],
   "source": []
  },
  {
   "cell_type": "markdown",
   "id": "14dd0a1c",
   "metadata": {},
   "source": [
    "**Enriching Data**"
   ]
  },
  {
   "cell_type": "markdown",
   "id": "0af34bed",
   "metadata": {},
   "source": [
    "**Leading public datasets.**\n",
    "| Name\t| Link\t| Description |\n",
    "| :---- | :---- | :-----------|\n",
    "| Kaggle\t| kaggle.com\t| Over 50,000 datasets on a broad range of subjects. Also provides Jupyter notebooks that analyze the datasets. |\n",
    "| FiveThirtyEight\t| data.fivethirtyeight.com\t| Datasets on politics, sports, science, economics, health, and culture, initially developed to support FiveThirtyEight publications. |\n",
    "| University of California Irvine Machine Learning Repository |\tarchive.ics.uci.edu\t| 622 datasets, primarily in science, engineering, and business. |\n",
    "| Data.gov\t| data.gov\t| U.S. government datasets on agriculture, climate, energy, maritime, oceans, and health. |\n",
    "| World Bank Open Data\t| data.worldbank.org\t| Global datasets on subjects such as health, education, agriculture, and economics. |\n",
    "| Nasdaq Data Link\t| data.nasdaq.com\t| Financial and economic datasets. |\n",
    "\n"
   ]
  },
  {
   "cell_type": "markdown",
   "id": "7387644e",
   "metadata": {},
   "source": [
    "**Deriving data**\n",
    "\n",
    "A new feature can be derived from existing features in several ways:\n",
    "\n",
    "- Calculate a new feature from one or more existing features. Ex: Calculate a new feature as the logarithm of an existing feature. Ex: Calculate a new feature as the ratio of one existing feature to another.\n",
    "- Convert an existing categorical feature to a new numeric feature, or vice versa. Ex: Convert the numeric weight of participants in a wrestling competition to categories such as Heavyweight, Lightweight, and Flyweight.\n",
    "\n",
    "These techniques might be combined to derive a new feature. Ex: A categorical ranking of country by population might be calculated by rounding **log(population)** to the nearest integer.\n",
    "\n"
   ]
  },
  {
   "cell_type": "markdown",
   "id": "ab47c485",
   "metadata": {},
   "source": [
    "***Python data enriching methods.***\n",
    "| Method\t| Parameters\t| Description |\n",
    "| :-------- | :------------ | :---------- |\n",
    "| concat()\t|objs<br>axis=0<br>join='outer'<br>ignore_index=False\t| Appends dataframes specified in objs parameter. Appends rows if **axis=0** or columns if **axis=1**. join specifies whether to perform an 'outer' or 'inner' join. Resulting index values are unchanged if **ignore_index=False** or renumbered if **ignore_index=True**. |\n",
    "| df.apply()\t| func<br>axis=0<br>\t| Applies the function specified in func parameter to a dataframe df. Applies function to each column if **axis=0** or to each row if **axis=1**. Returns a Series or DataFrame. |\n",
    "| df.insert()\t| loc<br>column<br>value\t| Inserts a column to df. **loc** specifies the integer position of the new column. **column** specifies a string or numeric column label. **value** specifies column values as a Scalar or Series. |\n",
    "| df.merge()\t| right<br>how='inner'<br>on=None<br>sort=False\t|Joins df with the right dataframe. **how** specifies whether to perform a **'left'**, **'right'**, **'outer'**, or **'inner'** join.  **on** specifies join column labels, which must appear in both dataframes. If **on=None**, all matching labels become join columns. **sort=True** sorts rows on the join columns.|\n"
   ]
  },
  {
   "cell_type": "code",
   "execution_count": 38,
   "id": "73ea440e",
   "metadata": {},
   "outputs": [
    {
     "data": {
      "application/vnd.microsoft.datawrangler.viewer.v0+json": {
       "columns": [
        {
         "name": "index",
         "rawType": "int64",
         "type": "integer"
        },
        {
         "name": "Country",
         "rawType": "object",
         "type": "string"
        },
        {
         "name": "Continent",
         "rawType": "object",
         "type": "string"
        },
        {
         "name": "GDP",
         "rawType": "object",
         "type": "string"
        },
        {
         "name": "EducationYears",
         "rawType": "float64",
         "type": "float"
        }
       ],
       "conversionMethod": "pd.DataFrame",
       "ref": "1eb24c1c-7d58-46a2-833e-a360ce2eddba",
       "rows": [
        [
         "0",
         "Bangladesh",
         "Asia",
         "350,000,000,000",
         "4.7"
        ],
        [
         "1",
         "China",
         "Asia",
         "13,180,000,000,000",
         "8.5"
        ],
        [
         "2",
         "India",
         "Asia",
         "2,720,000,000,000",
         "5.7"
        ],
        [
         "3",
         "Norway",
         "Europe",
         "362,000,000,000",
         "14.2"
        ],
        [
         "4",
         "United States",
         "North America",
         "20,650,000,000,000",
         "13.5"
        ]
       ],
       "shape": {
        "columns": 4,
        "rows": 5
       }
      },
      "text/html": [
       "<div>\n",
       "<style scoped>\n",
       "    .dataframe tbody tr th:only-of-type {\n",
       "        vertical-align: middle;\n",
       "    }\n",
       "\n",
       "    .dataframe tbody tr th {\n",
       "        vertical-align: top;\n",
       "    }\n",
       "\n",
       "    .dataframe thead th {\n",
       "        text-align: right;\n",
       "    }\n",
       "</style>\n",
       "<table border=\"1\" class=\"dataframe\">\n",
       "  <thead>\n",
       "    <tr style=\"text-align: right;\">\n",
       "      <th></th>\n",
       "      <th>Country</th>\n",
       "      <th>Continent</th>\n",
       "      <th>GDP</th>\n",
       "      <th>EducationYears</th>\n",
       "    </tr>\n",
       "  </thead>\n",
       "  <tbody>\n",
       "    <tr>\n",
       "      <th>0</th>\n",
       "      <td>Bangladesh</td>\n",
       "      <td>Asia</td>\n",
       "      <td>350,000,000,000</td>\n",
       "      <td>4.7</td>\n",
       "    </tr>\n",
       "    <tr>\n",
       "      <th>1</th>\n",
       "      <td>China</td>\n",
       "      <td>Asia</td>\n",
       "      <td>13,180,000,000,000</td>\n",
       "      <td>8.5</td>\n",
       "    </tr>\n",
       "    <tr>\n",
       "      <th>2</th>\n",
       "      <td>India</td>\n",
       "      <td>Asia</td>\n",
       "      <td>2,720,000,000,000</td>\n",
       "      <td>5.7</td>\n",
       "    </tr>\n",
       "    <tr>\n",
       "      <th>3</th>\n",
       "      <td>Norway</td>\n",
       "      <td>Europe</td>\n",
       "      <td>362,000,000,000</td>\n",
       "      <td>14.2</td>\n",
       "    </tr>\n",
       "    <tr>\n",
       "      <th>4</th>\n",
       "      <td>United States</td>\n",
       "      <td>North America</td>\n",
       "      <td>20,650,000,000,000</td>\n",
       "      <td>13.5</td>\n",
       "    </tr>\n",
       "  </tbody>\n",
       "</table>\n",
       "</div>"
      ],
      "text/plain": [
       "         Country      Continent                 GDP  EducationYears\n",
       "0     Bangladesh           Asia     350,000,000,000             4.7\n",
       "1          China           Asia  13,180,000,000,000             8.5\n",
       "2          India           Asia   2,720,000,000,000             5.7\n",
       "3         Norway         Europe     362,000,000,000            14.2\n",
       "4  United States  North America  20,650,000,000,000            13.5"
      ]
     },
     "execution_count": 38,
     "metadata": {},
     "output_type": "execute_result"
    }
   ],
   "source": [
    "# Import packages\n",
    "import pandas as pd\n",
    "\n",
    "# Import and display the first dataset\n",
    "appendLeft = pd.read_csv(\"data/appending.data.left.csv\")\n",
    "appendLeft"
   ]
  },
  {
   "cell_type": "code",
   "execution_count": 39,
   "id": "5f47bdf6",
   "metadata": {},
   "outputs": [
    {
     "data": {
      "application/vnd.microsoft.datawrangler.viewer.v0+json": {
       "columns": [
        {
         "name": "index",
         "rawType": "int64",
         "type": "integer"
        },
        {
         "name": "Country",
         "rawType": "object",
         "type": "string"
        },
        {
         "name": "Continent",
         "rawType": "object",
         "type": "string"
        },
        {
         "name": " Population ",
         "rawType": "object",
         "type": "string"
        }
       ],
       "conversionMethod": "pd.DataFrame",
       "ref": "753c67ee-928d-44c6-aa4f-0f7417c1afd3",
       "rows": [
        [
         "0",
         "Bangladesh",
         "Asia",
         "129,155,000"
        ],
        [
         "1",
         "Brazil",
         "South America",
         "170,115,000"
        ],
        [
         "2",
         "China",
         "Asia",
         "1,277,558,000"
        ],
        [
         "3",
         "India",
         "Asia",
         "1,013,662,000"
        ],
        [
         "4",
         "United States",
         "North America",
         "278,357,000"
        ]
       ],
       "shape": {
        "columns": 3,
        "rows": 5
       }
      },
      "text/html": [
       "<div>\n",
       "<style scoped>\n",
       "    .dataframe tbody tr th:only-of-type {\n",
       "        vertical-align: middle;\n",
       "    }\n",
       "\n",
       "    .dataframe tbody tr th {\n",
       "        vertical-align: top;\n",
       "    }\n",
       "\n",
       "    .dataframe thead th {\n",
       "        text-align: right;\n",
       "    }\n",
       "</style>\n",
       "<table border=\"1\" class=\"dataframe\">\n",
       "  <thead>\n",
       "    <tr style=\"text-align: right;\">\n",
       "      <th></th>\n",
       "      <th>Country</th>\n",
       "      <th>Continent</th>\n",
       "      <th>Population</th>\n",
       "    </tr>\n",
       "  </thead>\n",
       "  <tbody>\n",
       "    <tr>\n",
       "      <th>0</th>\n",
       "      <td>Bangladesh</td>\n",
       "      <td>Asia</td>\n",
       "      <td>129,155,000</td>\n",
       "    </tr>\n",
       "    <tr>\n",
       "      <th>1</th>\n",
       "      <td>Brazil</td>\n",
       "      <td>South America</td>\n",
       "      <td>170,115,000</td>\n",
       "    </tr>\n",
       "    <tr>\n",
       "      <th>2</th>\n",
       "      <td>China</td>\n",
       "      <td>Asia</td>\n",
       "      <td>1,277,558,000</td>\n",
       "    </tr>\n",
       "    <tr>\n",
       "      <th>3</th>\n",
       "      <td>India</td>\n",
       "      <td>Asia</td>\n",
       "      <td>1,013,662,000</td>\n",
       "    </tr>\n",
       "    <tr>\n",
       "      <th>4</th>\n",
       "      <td>United States</td>\n",
       "      <td>North America</td>\n",
       "      <td>278,357,000</td>\n",
       "    </tr>\n",
       "  </tbody>\n",
       "</table>\n",
       "</div>"
      ],
      "text/plain": [
       "         Country      Continent    Population \n",
       "0     Bangladesh           Asia    129,155,000\n",
       "1         Brazil  South America    170,115,000\n",
       "2          China           Asia  1,277,558,000\n",
       "3          India           Asia  1,013,662,000\n",
       "4  United States  North America    278,357,000"
      ]
     },
     "execution_count": 39,
     "metadata": {},
     "output_type": "execute_result"
    }
   ],
   "source": [
    "# Import and display the second dataset\n",
    "appendRight = pd.read_csv(\"data/appending.data.right.csv\")\n",
    "appendRight"
   ]
  },
  {
   "cell_type": "code",
   "execution_count": 40,
   "id": "43057c70",
   "metadata": {},
   "outputs": [
    {
     "data": {
      "application/vnd.microsoft.datawrangler.viewer.v0+json": {
       "columns": [
        {
         "name": "index",
         "rawType": "int64",
         "type": "integer"
        },
        {
         "name": "Country",
         "rawType": "object",
         "type": "string"
        },
        {
         "name": "Continent",
         "rawType": "object",
         "type": "string"
        },
        {
         "name": "GDP",
         "rawType": "object",
         "type": "unknown"
        },
        {
         "name": "EducationYears",
         "rawType": "float64",
         "type": "float"
        },
        {
         "name": " Population ",
         "rawType": "object",
         "type": "unknown"
        }
       ],
       "conversionMethod": "pd.DataFrame",
       "ref": "8bd18ae6-5f65-4558-b255-2a3065dd4f1a",
       "rows": [
        [
         "0",
         "Bangladesh",
         "Asia",
         "350,000,000,000",
         "4.7",
         "129,155,000"
        ],
        [
         "1",
         "Brazil",
         "South America",
         null,
         null,
         "170,115,000"
        ],
        [
         "2",
         "China",
         "Asia",
         "13,180,000,000,000",
         "8.5",
         "1,277,558,000"
        ],
        [
         "3",
         "India",
         "Asia",
         "2,720,000,000,000",
         "5.7",
         "1,013,662,000"
        ],
        [
         "4",
         "Norway",
         "Europe",
         "362,000,000,000",
         "14.2",
         null
        ],
        [
         "5",
         "United States",
         "North America",
         "20,650,000,000,000",
         "13.5",
         "278,357,000"
        ]
       ],
       "shape": {
        "columns": 5,
        "rows": 6
       }
      },
      "text/html": [
       "<div>\n",
       "<style scoped>\n",
       "    .dataframe tbody tr th:only-of-type {\n",
       "        vertical-align: middle;\n",
       "    }\n",
       "\n",
       "    .dataframe tbody tr th {\n",
       "        vertical-align: top;\n",
       "    }\n",
       "\n",
       "    .dataframe thead th {\n",
       "        text-align: right;\n",
       "    }\n",
       "</style>\n",
       "<table border=\"1\" class=\"dataframe\">\n",
       "  <thead>\n",
       "    <tr style=\"text-align: right;\">\n",
       "      <th></th>\n",
       "      <th>Country</th>\n",
       "      <th>Continent</th>\n",
       "      <th>GDP</th>\n",
       "      <th>EducationYears</th>\n",
       "      <th>Population</th>\n",
       "    </tr>\n",
       "  </thead>\n",
       "  <tbody>\n",
       "    <tr>\n",
       "      <th>0</th>\n",
       "      <td>Bangladesh</td>\n",
       "      <td>Asia</td>\n",
       "      <td>350,000,000,000</td>\n",
       "      <td>4.7</td>\n",
       "      <td>129,155,000</td>\n",
       "    </tr>\n",
       "    <tr>\n",
       "      <th>1</th>\n",
       "      <td>Brazil</td>\n",
       "      <td>South America</td>\n",
       "      <td>NaN</td>\n",
       "      <td>NaN</td>\n",
       "      <td>170,115,000</td>\n",
       "    </tr>\n",
       "    <tr>\n",
       "      <th>2</th>\n",
       "      <td>China</td>\n",
       "      <td>Asia</td>\n",
       "      <td>13,180,000,000,000</td>\n",
       "      <td>8.5</td>\n",
       "      <td>1,277,558,000</td>\n",
       "    </tr>\n",
       "    <tr>\n",
       "      <th>3</th>\n",
       "      <td>India</td>\n",
       "      <td>Asia</td>\n",
       "      <td>2,720,000,000,000</td>\n",
       "      <td>5.7</td>\n",
       "      <td>1,013,662,000</td>\n",
       "    </tr>\n",
       "    <tr>\n",
       "      <th>4</th>\n",
       "      <td>Norway</td>\n",
       "      <td>Europe</td>\n",
       "      <td>362,000,000,000</td>\n",
       "      <td>14.2</td>\n",
       "      <td>NaN</td>\n",
       "    </tr>\n",
       "    <tr>\n",
       "      <th>5</th>\n",
       "      <td>United States</td>\n",
       "      <td>North America</td>\n",
       "      <td>20,650,000,000,000</td>\n",
       "      <td>13.5</td>\n",
       "      <td>278,357,000</td>\n",
       "    </tr>\n",
       "  </tbody>\n",
       "</table>\n",
       "</div>"
      ],
      "text/plain": [
       "         Country      Continent                 GDP  EducationYears  \\\n",
       "0     Bangladesh           Asia     350,000,000,000             4.7   \n",
       "1         Brazil  South America                 NaN             NaN   \n",
       "2          China           Asia  13,180,000,000,000             8.5   \n",
       "3          India           Asia   2,720,000,000,000             5.7   \n",
       "4         Norway         Europe     362,000,000,000            14.2   \n",
       "5  United States  North America  20,650,000,000,000            13.5   \n",
       "\n",
       "     Population   \n",
       "0    129,155,000  \n",
       "1    170,115,000  \n",
       "2  1,277,558,000  \n",
       "3  1,013,662,000  \n",
       "4            NaN  \n",
       "5    278,357,000  "
      ]
     },
     "execution_count": 40,
     "metadata": {},
     "output_type": "execute_result"
    }
   ],
   "source": [
    "# Join the first and second datasets.\n",
    "# Sort the result along join columns.\n",
    "appendLeft.merge(appendRight, how='outer', sort=True)"
   ]
  },
  {
   "cell_type": "markdown",
   "id": "d583eab6",
   "metadata": {},
   "source": [
    "**Diamond Prices**"
   ]
  },
  {
   "cell_type": "code",
   "execution_count": 41,
   "id": "d0811ff1",
   "metadata": {},
   "outputs": [
    {
     "data": {
      "application/vnd.microsoft.datawrangler.viewer.v0+json": {
       "columns": [
        {
         "name": "index",
         "rawType": "object",
         "type": "string"
        },
        {
         "name": "carat",
         "rawType": "float64",
         "type": "float"
        },
        {
         "name": "depth",
         "rawType": "float64",
         "type": "float"
        },
        {
         "name": "table",
         "rawType": "float64",
         "type": "float"
        },
        {
         "name": "price",
         "rawType": "float64",
         "type": "float"
        },
        {
         "name": "width",
         "rawType": "float64",
         "type": "float"
        },
        {
         "name": "length",
         "rawType": "float64",
         "type": "float"
        },
        {
         "name": "height",
         "rawType": "float64",
         "type": "float"
        }
       ],
       "conversionMethod": "pd.DataFrame",
       "ref": "890380d7-3df1-4e9a-9815-baa27e2e314b",
       "rows": [
        [
         "count",
         "53940.0",
         "53890.0",
         "53940.0",
         "53940.0",
         "53940.0",
         "53940.0",
         "53940.0"
        ],
        [
         "mean",
         "0.7979397478680014",
         "61.74889218778994",
         "57.45718390804598",
         "3932.799721913237",
         "5.731157211716722",
         "5.734525954764553",
         "3.5387337782721544"
        ],
        [
         "std",
         "0.47401124440538067",
         "1.432491577305914",
         "2.234490562820938",
         "3989.4397381463023",
         "1.1217607467924422",
         "1.1421346741235396",
         "0.7056988469499964"
        ],
        [
         "min",
         "0.2",
         "43.0",
         "43.0",
         "326.0",
         "0.0",
         "0.0",
         "0.0"
        ],
        [
         "25%",
         "0.4",
         "61.0",
         "56.0",
         "950.0",
         "4.71",
         "4.72",
         "2.91"
        ],
        [
         "50%",
         "0.7",
         "61.8",
         "57.0",
         "2401.0",
         "5.7",
         "5.71",
         "3.53"
        ],
        [
         "75%",
         "1.04",
         "62.5",
         "59.0",
         "5324.25",
         "6.54",
         "6.54",
         "4.04"
        ],
        [
         "max",
         "5.01",
         "79.0",
         "95.0",
         "18823.0",
         "10.74",
         "58.9",
         "31.8"
        ]
       ],
       "shape": {
        "columns": 7,
        "rows": 8
       }
      },
      "text/html": [
       "<div>\n",
       "<style scoped>\n",
       "    .dataframe tbody tr th:only-of-type {\n",
       "        vertical-align: middle;\n",
       "    }\n",
       "\n",
       "    .dataframe tbody tr th {\n",
       "        vertical-align: top;\n",
       "    }\n",
       "\n",
       "    .dataframe thead th {\n",
       "        text-align: right;\n",
       "    }\n",
       "</style>\n",
       "<table border=\"1\" class=\"dataframe\">\n",
       "  <thead>\n",
       "    <tr style=\"text-align: right;\">\n",
       "      <th></th>\n",
       "      <th>carat</th>\n",
       "      <th>depth</th>\n",
       "      <th>table</th>\n",
       "      <th>price</th>\n",
       "      <th>width</th>\n",
       "      <th>length</th>\n",
       "      <th>height</th>\n",
       "    </tr>\n",
       "  </thead>\n",
       "  <tbody>\n",
       "    <tr>\n",
       "      <th>count</th>\n",
       "      <td>53940.000000</td>\n",
       "      <td>53890.000000</td>\n",
       "      <td>53940.000000</td>\n",
       "      <td>53940.000000</td>\n",
       "      <td>53940.000000</td>\n",
       "      <td>53940.000000</td>\n",
       "      <td>53940.000000</td>\n",
       "    </tr>\n",
       "    <tr>\n",
       "      <th>mean</th>\n",
       "      <td>0.797940</td>\n",
       "      <td>61.748892</td>\n",
       "      <td>57.457184</td>\n",
       "      <td>3932.799722</td>\n",
       "      <td>5.731157</td>\n",
       "      <td>5.734526</td>\n",
       "      <td>3.538734</td>\n",
       "    </tr>\n",
       "    <tr>\n",
       "      <th>std</th>\n",
       "      <td>0.474011</td>\n",
       "      <td>1.432492</td>\n",
       "      <td>2.234491</td>\n",
       "      <td>3989.439738</td>\n",
       "      <td>1.121761</td>\n",
       "      <td>1.142135</td>\n",
       "      <td>0.705699</td>\n",
       "    </tr>\n",
       "    <tr>\n",
       "      <th>min</th>\n",
       "      <td>0.200000</td>\n",
       "      <td>43.000000</td>\n",
       "      <td>43.000000</td>\n",
       "      <td>326.000000</td>\n",
       "      <td>0.000000</td>\n",
       "      <td>0.000000</td>\n",
       "      <td>0.000000</td>\n",
       "    </tr>\n",
       "    <tr>\n",
       "      <th>25%</th>\n",
       "      <td>0.400000</td>\n",
       "      <td>61.000000</td>\n",
       "      <td>56.000000</td>\n",
       "      <td>950.000000</td>\n",
       "      <td>4.710000</td>\n",
       "      <td>4.720000</td>\n",
       "      <td>2.910000</td>\n",
       "    </tr>\n",
       "    <tr>\n",
       "      <th>50%</th>\n",
       "      <td>0.700000</td>\n",
       "      <td>61.800000</td>\n",
       "      <td>57.000000</td>\n",
       "      <td>2401.000000</td>\n",
       "      <td>5.700000</td>\n",
       "      <td>5.710000</td>\n",
       "      <td>3.530000</td>\n",
       "    </tr>\n",
       "    <tr>\n",
       "      <th>75%</th>\n",
       "      <td>1.040000</td>\n",
       "      <td>62.500000</td>\n",
       "      <td>59.000000</td>\n",
       "      <td>5324.250000</td>\n",
       "      <td>6.540000</td>\n",
       "      <td>6.540000</td>\n",
       "      <td>4.040000</td>\n",
       "    </tr>\n",
       "    <tr>\n",
       "      <th>max</th>\n",
       "      <td>5.010000</td>\n",
       "      <td>79.000000</td>\n",
       "      <td>95.000000</td>\n",
       "      <td>18823.000000</td>\n",
       "      <td>10.740000</td>\n",
       "      <td>58.900000</td>\n",
       "      <td>31.800000</td>\n",
       "    </tr>\n",
       "  </tbody>\n",
       "</table>\n",
       "</div>"
      ],
      "text/plain": [
       "              carat         depth         table         price         width  \\\n",
       "count  53940.000000  53890.000000  53940.000000  53940.000000  53940.000000   \n",
       "mean       0.797940     61.748892     57.457184   3932.799722      5.731157   \n",
       "std        0.474011      1.432492      2.234491   3989.439738      1.121761   \n",
       "min        0.200000     43.000000     43.000000    326.000000      0.000000   \n",
       "25%        0.400000     61.000000     56.000000    950.000000      4.710000   \n",
       "50%        0.700000     61.800000     57.000000   2401.000000      5.700000   \n",
       "75%        1.040000     62.500000     59.000000   5324.250000      6.540000   \n",
       "max        5.010000     79.000000     95.000000  18823.000000     10.740000   \n",
       "\n",
       "             length        height  \n",
       "count  53940.000000  53940.000000  \n",
       "mean       5.734526      3.538734  \n",
       "std        1.142135      0.705699  \n",
       "min        0.000000      0.000000  \n",
       "25%        4.720000      2.910000  \n",
       "50%        5.710000      3.530000  \n",
       "75%        6.540000      4.040000  \n",
       "max       58.900000     31.800000  "
      ]
     },
     "execution_count": 41,
     "metadata": {},
     "output_type": "execute_result"
    }
   ],
   "source": [
    "# Import packages\n",
    "import numpy as np\n",
    "import pandas as pd\n",
    "import seaborn as sns\n",
    "\n",
    "# Import data and describe\n",
    "diamonds = pd.read_csv('data/diamonds_casestudy.csv')\n",
    "diamonds.describe()"
   ]
  },
  {
   "cell_type": "code",
   "execution_count": 42,
   "id": "870d4065",
   "metadata": {},
   "outputs": [
    {
     "data": {
      "application/vnd.microsoft.datawrangler.viewer.v0+json": {
       "columns": [
        {
         "name": "index",
         "rawType": "int64",
         "type": "integer"
        },
        {
         "name": "carat",
         "rawType": "float64",
         "type": "float"
        },
        {
         "name": "cut",
         "rawType": "object",
         "type": "string"
        },
        {
         "name": "color",
         "rawType": "object",
         "type": "string"
        },
        {
         "name": "clarity",
         "rawType": "object",
         "type": "string"
        },
        {
         "name": "depth",
         "rawType": "float64",
         "type": "float"
        },
        {
         "name": "table",
         "rawType": "float64",
         "type": "float"
        },
        {
         "name": "price",
         "rawType": "int64",
         "type": "integer"
        },
        {
         "name": "width",
         "rawType": "float64",
         "type": "float"
        },
        {
         "name": "length",
         "rawType": "float64",
         "type": "float"
        },
        {
         "name": "height",
         "rawType": "float64",
         "type": "float"
        }
       ],
       "conversionMethod": "pd.DataFrame",
       "ref": "360e4f66-a3c8-4371-8a0b-c4ebe399038b",
       "rows": [
        [
         "9359",
         "1.0",
         "Good",
         "F",
         "SI1",
         "63.6",
         "62.0",
         "4586",
         "6.3",
         "6.24",
         "3.99"
        ],
        [
         "9490",
         "1.1",
         "Very Good",
         "E",
         "SI2",
         "60.1",
         "62.0",
         "4607",
         "6.65",
         "6.69",
         "4.01"
        ],
        [
         "27",
         "0.3",
         "Very Good",
         "J",
         "VS2",
         "62.2",
         "57.0",
         "357",
         "4.28",
         "4.3",
         "2.67"
        ],
        [
         "7743",
         "1.24",
         "Premium",
         "E",
         "SI2",
         "60.8",
         "57.0",
         "4278",
         "6.98",
         "6.94",
         "4.23"
        ],
        [
         "48686",
         "0.77",
         "Fair",
         "J",
         "VS1",
         "61.2",
         "66.0",
         "2005",
         "5.92",
         "5.83",
         "3.6"
        ]
       ],
       "shape": {
        "columns": 10,
        "rows": 5
       }
      },
      "text/html": [
       "<div>\n",
       "<style scoped>\n",
       "    .dataframe tbody tr th:only-of-type {\n",
       "        vertical-align: middle;\n",
       "    }\n",
       "\n",
       "    .dataframe tbody tr th {\n",
       "        vertical-align: top;\n",
       "    }\n",
       "\n",
       "    .dataframe thead th {\n",
       "        text-align: right;\n",
       "    }\n",
       "</style>\n",
       "<table border=\"1\" class=\"dataframe\">\n",
       "  <thead>\n",
       "    <tr style=\"text-align: right;\">\n",
       "      <th></th>\n",
       "      <th>carat</th>\n",
       "      <th>cut</th>\n",
       "      <th>color</th>\n",
       "      <th>clarity</th>\n",
       "      <th>depth</th>\n",
       "      <th>table</th>\n",
       "      <th>price</th>\n",
       "      <th>width</th>\n",
       "      <th>length</th>\n",
       "      <th>height</th>\n",
       "    </tr>\n",
       "  </thead>\n",
       "  <tbody>\n",
       "    <tr>\n",
       "      <th>9359</th>\n",
       "      <td>1.00</td>\n",
       "      <td>Good</td>\n",
       "      <td>F</td>\n",
       "      <td>SI1</td>\n",
       "      <td>63.6</td>\n",
       "      <td>62.0</td>\n",
       "      <td>4586</td>\n",
       "      <td>6.30</td>\n",
       "      <td>6.24</td>\n",
       "      <td>3.99</td>\n",
       "    </tr>\n",
       "    <tr>\n",
       "      <th>9490</th>\n",
       "      <td>1.10</td>\n",
       "      <td>Very Good</td>\n",
       "      <td>E</td>\n",
       "      <td>SI2</td>\n",
       "      <td>60.1</td>\n",
       "      <td>62.0</td>\n",
       "      <td>4607</td>\n",
       "      <td>6.65</td>\n",
       "      <td>6.69</td>\n",
       "      <td>4.01</td>\n",
       "    </tr>\n",
       "    <tr>\n",
       "      <th>27</th>\n",
       "      <td>0.30</td>\n",
       "      <td>Very Good</td>\n",
       "      <td>J</td>\n",
       "      <td>VS2</td>\n",
       "      <td>62.2</td>\n",
       "      <td>57.0</td>\n",
       "      <td>357</td>\n",
       "      <td>4.28</td>\n",
       "      <td>4.30</td>\n",
       "      <td>2.67</td>\n",
       "    </tr>\n",
       "    <tr>\n",
       "      <th>7743</th>\n",
       "      <td>1.24</td>\n",
       "      <td>Premium</td>\n",
       "      <td>E</td>\n",
       "      <td>SI2</td>\n",
       "      <td>60.8</td>\n",
       "      <td>57.0</td>\n",
       "      <td>4278</td>\n",
       "      <td>6.98</td>\n",
       "      <td>6.94</td>\n",
       "      <td>4.23</td>\n",
       "    </tr>\n",
       "    <tr>\n",
       "      <th>48686</th>\n",
       "      <td>0.77</td>\n",
       "      <td>Fair</td>\n",
       "      <td>J</td>\n",
       "      <td>VS1</td>\n",
       "      <td>61.2</td>\n",
       "      <td>66.0</td>\n",
       "      <td>2005</td>\n",
       "      <td>5.92</td>\n",
       "      <td>5.83</td>\n",
       "      <td>3.60</td>\n",
       "    </tr>\n",
       "  </tbody>\n",
       "</table>\n",
       "</div>"
      ],
      "text/plain": [
       "       carat        cut color clarity  depth  table  price  width  length  \\\n",
       "9359    1.00       Good     F     SI1   63.6   62.0   4586   6.30    6.24   \n",
       "9490    1.10  Very Good     E     SI2   60.1   62.0   4607   6.65    6.69   \n",
       "27      0.30  Very Good     J     VS2   62.2   57.0    357   4.28    4.30   \n",
       "7743    1.24    Premium     E     SI2   60.8   57.0   4278   6.98    6.94   \n",
       "48686   0.77       Fair     J     VS1   61.2   66.0   2005   5.92    5.83   \n",
       "\n",
       "       height  \n",
       "9359     3.99  \n",
       "9490     4.01  \n",
       "27       2.67  \n",
       "7743     4.23  \n",
       "48686    3.60  "
      ]
     },
     "execution_count": 42,
     "metadata": {},
     "output_type": "execute_result"
    }
   ],
   "source": [
    "# Display a sample of the data\n",
    "# Change random_state for a different sample\n",
    "diamonds.sample(5, random_state=6)"
   ]
  },
  {
   "cell_type": "code",
   "execution_count": 43,
   "id": "2d1bf5b7",
   "metadata": {},
   "outputs": [
    {
     "data": {
      "application/vnd.microsoft.datawrangler.viewer.v0+json": {
       "columns": [
        {
         "name": "cut",
         "rawType": "object",
         "type": "string"
        },
        {
         "name": "carat",
         "rawType": "float64",
         "type": "float"
        },
        {
         "name": "depth",
         "rawType": "float64",
         "type": "float"
        },
        {
         "name": "table",
         "rawType": "float64",
         "type": "float"
        },
        {
         "name": "price",
         "rawType": "float64",
         "type": "float"
        },
        {
         "name": "width",
         "rawType": "float64",
         "type": "float"
        },
        {
         "name": "length",
         "rawType": "float64",
         "type": "float"
        },
        {
         "name": "height",
         "rawType": "float64",
         "type": "float"
        }
       ],
       "conversionMethod": "pd.DataFrame",
       "ref": "5ca25160-8d57-4b02-9ce2-3a3da4b9de9a",
       "rows": [
        [
         "Fair",
         "1.0461366459627328",
         "64.03683883011823",
         "59.05378881987578",
         "4358.757763975155",
         "6.246894409937888",
         "6.182652173913043",
         "3.982770186335404"
        ],
        [
         "Good",
         "0.8491846718304118",
         "62.365436378466555",
         "58.69463921728496",
         "3928.864451691806",
         "5.838785161027314",
         "5.8507439869547495",
         "3.6395067264573986"
        ],
        [
         "Ideal",
         "0.7028369913229084",
         "61.70934423184099",
         "55.95166813604936",
         "3457.541970210199",
         "5.507450698343464",
         "5.520079810681639",
         "3.4014481926592732"
        ],
        [
         "Premium",
         "0.8919548981219636",
         "61.264177371362216",
         "58.74609527953013",
         "4584.2577042999055",
         "5.973887317815968",
         "5.944878543977957",
         "3.647124211442245"
        ],
        [
         "Very Good",
         "0.8063813938089721",
         "61.81768312893603",
         "57.95614964409866",
         "3981.7598907465654",
         "5.740696076808475",
         "5.770025658003641",
         "3.55980135739116"
        ]
       ],
       "shape": {
        "columns": 7,
        "rows": 5
       }
      },
      "text/html": [
       "<div>\n",
       "<style scoped>\n",
       "    .dataframe tbody tr th:only-of-type {\n",
       "        vertical-align: middle;\n",
       "    }\n",
       "\n",
       "    .dataframe tbody tr th {\n",
       "        vertical-align: top;\n",
       "    }\n",
       "\n",
       "    .dataframe thead th {\n",
       "        text-align: right;\n",
       "    }\n",
       "</style>\n",
       "<table border=\"1\" class=\"dataframe\">\n",
       "  <thead>\n",
       "    <tr style=\"text-align: right;\">\n",
       "      <th></th>\n",
       "      <th>carat</th>\n",
       "      <th>depth</th>\n",
       "      <th>table</th>\n",
       "      <th>price</th>\n",
       "      <th>width</th>\n",
       "      <th>length</th>\n",
       "      <th>height</th>\n",
       "    </tr>\n",
       "    <tr>\n",
       "      <th>cut</th>\n",
       "      <th></th>\n",
       "      <th></th>\n",
       "      <th></th>\n",
       "      <th></th>\n",
       "      <th></th>\n",
       "      <th></th>\n",
       "      <th></th>\n",
       "    </tr>\n",
       "  </thead>\n",
       "  <tbody>\n",
       "    <tr>\n",
       "      <th>Fair</th>\n",
       "      <td>1.046137</td>\n",
       "      <td>64.036839</td>\n",
       "      <td>59.053789</td>\n",
       "      <td>4358.757764</td>\n",
       "      <td>6.246894</td>\n",
       "      <td>6.182652</td>\n",
       "      <td>3.982770</td>\n",
       "    </tr>\n",
       "    <tr>\n",
       "      <th>Good</th>\n",
       "      <td>0.849185</td>\n",
       "      <td>62.365436</td>\n",
       "      <td>58.694639</td>\n",
       "      <td>3928.864452</td>\n",
       "      <td>5.838785</td>\n",
       "      <td>5.850744</td>\n",
       "      <td>3.639507</td>\n",
       "    </tr>\n",
       "    <tr>\n",
       "      <th>Ideal</th>\n",
       "      <td>0.702837</td>\n",
       "      <td>61.709344</td>\n",
       "      <td>55.951668</td>\n",
       "      <td>3457.541970</td>\n",
       "      <td>5.507451</td>\n",
       "      <td>5.520080</td>\n",
       "      <td>3.401448</td>\n",
       "    </tr>\n",
       "    <tr>\n",
       "      <th>Premium</th>\n",
       "      <td>0.891955</td>\n",
       "      <td>61.264177</td>\n",
       "      <td>58.746095</td>\n",
       "      <td>4584.257704</td>\n",
       "      <td>5.973887</td>\n",
       "      <td>5.944879</td>\n",
       "      <td>3.647124</td>\n",
       "    </tr>\n",
       "    <tr>\n",
       "      <th>Very Good</th>\n",
       "      <td>0.806381</td>\n",
       "      <td>61.817683</td>\n",
       "      <td>57.956150</td>\n",
       "      <td>3981.759891</td>\n",
       "      <td>5.740696</td>\n",
       "      <td>5.770026</td>\n",
       "      <td>3.559801</td>\n",
       "    </tr>\n",
       "  </tbody>\n",
       "</table>\n",
       "</div>"
      ],
      "text/plain": [
       "              carat      depth      table        price     width    length  \\\n",
       "cut                                                                          \n",
       "Fair       1.046137  64.036839  59.053789  4358.757764  6.246894  6.182652   \n",
       "Good       0.849185  62.365436  58.694639  3928.864452  5.838785  5.850744   \n",
       "Ideal      0.702837  61.709344  55.951668  3457.541970  5.507451  5.520080   \n",
       "Premium    0.891955  61.264177  58.746095  4584.257704  5.973887  5.944879   \n",
       "Very Good  0.806381  61.817683  57.956150  3981.759891  5.740696  5.770026   \n",
       "\n",
       "             height  \n",
       "cut                  \n",
       "Fair       3.982770  \n",
       "Good       3.639507  \n",
       "Ideal      3.401448  \n",
       "Premium    3.647124  \n",
       "Very Good  3.559801  "
      ]
     },
     "execution_count": 43,
     "metadata": {},
     "output_type": "execute_result"
    }
   ],
   "source": [
    "# Calculate group means based on cut\n",
    "diamonds.groupby(by=['cut']).mean(numeric_only=True)"
   ]
  },
  {
   "cell_type": "code",
   "execution_count": 44,
   "id": "fe35a924",
   "metadata": {},
   "outputs": [
    {
     "data": {
      "text/plain": [
       "cut\n",
       "Fair          1610\n",
       "Good          4906\n",
       "Ideal        21551\n",
       "Premium      13791\n",
       "Very Good    12082\n",
       "dtype: int64"
      ]
     },
     "execution_count": 44,
     "metadata": {},
     "output_type": "execute_result"
    }
   ],
   "source": [
    "# Calculate group sizes for cut\n",
    "diamonds.groupby(by=['cut']).size()"
   ]
  },
  {
   "cell_type": "code",
   "execution_count": 45,
   "id": "7374ce82",
   "metadata": {},
   "outputs": [
    {
     "data": {
      "application/vnd.microsoft.datawrangler.viewer.v0+json": {
       "columns": [
        {
         "name": "color",
         "rawType": "object",
         "type": "string"
        },
        {
         "name": "carat",
         "rawType": "float64",
         "type": "float"
        },
        {
         "name": "depth",
         "rawType": "float64",
         "type": "float"
        },
        {
         "name": "table",
         "rawType": "float64",
         "type": "float"
        },
        {
         "name": "price",
         "rawType": "float64",
         "type": "float"
        },
        {
         "name": "width",
         "rawType": "float64",
         "type": "float"
        },
        {
         "name": "length",
         "rawType": "float64",
         "type": "float"
        },
        {
         "name": "height",
         "rawType": "float64",
         "type": "float"
        }
       ],
       "conversionMethod": "pd.DataFrame",
       "ref": "4cb202dd-ac9b-414d-9d63-d9c1a79ba0e4",
       "rows": [
        [
         "D",
         "0.6577948339483396",
         "61.69720744680851",
         "57.40459040590405",
         "3169.9540959409596",
         "5.417050922509224",
         "5.421127675276753",
         "3.342826568265683"
        ],
        [
         "E",
         "0.6578666938858834",
         "61.66154474867184",
         "57.49120138818006",
         "3076.7524752475247",
         "5.411580075533326",
         "5.419029294682046",
         "3.3406889864244156"
        ],
        [
         "F",
         "0.7365384615384616",
         "61.69459119496855",
         "57.43353594634249",
         "3724.886396981765",
         "5.614961224062041",
         "5.619456088870257",
         "3.4644456088870257"
        ],
        [
         "G",
         "0.7711902231668438",
         "61.75643002747497",
         "57.288629117959616",
         "3999.135671271697",
         "5.677543393552958",
         "5.680192171448813",
         "3.505021253985122"
        ],
        [
         "H",
         "0.9117991329479769",
         "61.83619150988905",
         "57.51781069364162",
         "4486.669195568401",
         "5.983334537572254",
         "5.984814547206166",
         "3.6959645953757225"
        ],
        [
         "I",
         "1.0269273330874216",
         "61.845798707294556",
         "57.57727775728513",
         "5091.874953891553",
         "6.222825525636297",
         "6.222729620066396",
         "3.845411287347842"
        ],
        [
         "J",
         "1.1621367521367523",
         "61.8876604850214",
         "57.812393162393164",
         "5323.81801994302",
         "6.519337606837607",
         "6.518105413105413",
         "4.033251424501425"
        ]
       ],
       "shape": {
        "columns": 7,
        "rows": 7
       }
      },
      "text/html": [
       "<div>\n",
       "<style scoped>\n",
       "    .dataframe tbody tr th:only-of-type {\n",
       "        vertical-align: middle;\n",
       "    }\n",
       "\n",
       "    .dataframe tbody tr th {\n",
       "        vertical-align: top;\n",
       "    }\n",
       "\n",
       "    .dataframe thead th {\n",
       "        text-align: right;\n",
       "    }\n",
       "</style>\n",
       "<table border=\"1\" class=\"dataframe\">\n",
       "  <thead>\n",
       "    <tr style=\"text-align: right;\">\n",
       "      <th></th>\n",
       "      <th>carat</th>\n",
       "      <th>depth</th>\n",
       "      <th>table</th>\n",
       "      <th>price</th>\n",
       "      <th>width</th>\n",
       "      <th>length</th>\n",
       "      <th>height</th>\n",
       "    </tr>\n",
       "    <tr>\n",
       "      <th>color</th>\n",
       "      <th></th>\n",
       "      <th></th>\n",
       "      <th></th>\n",
       "      <th></th>\n",
       "      <th></th>\n",
       "      <th></th>\n",
       "      <th></th>\n",
       "    </tr>\n",
       "  </thead>\n",
       "  <tbody>\n",
       "    <tr>\n",
       "      <th>D</th>\n",
       "      <td>0.657795</td>\n",
       "      <td>61.697207</td>\n",
       "      <td>57.404590</td>\n",
       "      <td>3169.954096</td>\n",
       "      <td>5.417051</td>\n",
       "      <td>5.421128</td>\n",
       "      <td>3.342827</td>\n",
       "    </tr>\n",
       "    <tr>\n",
       "      <th>E</th>\n",
       "      <td>0.657867</td>\n",
       "      <td>61.661545</td>\n",
       "      <td>57.491201</td>\n",
       "      <td>3076.752475</td>\n",
       "      <td>5.411580</td>\n",
       "      <td>5.419029</td>\n",
       "      <td>3.340689</td>\n",
       "    </tr>\n",
       "    <tr>\n",
       "      <th>F</th>\n",
       "      <td>0.736538</td>\n",
       "      <td>61.694591</td>\n",
       "      <td>57.433536</td>\n",
       "      <td>3724.886397</td>\n",
       "      <td>5.614961</td>\n",
       "      <td>5.619456</td>\n",
       "      <td>3.464446</td>\n",
       "    </tr>\n",
       "    <tr>\n",
       "      <th>G</th>\n",
       "      <td>0.771190</td>\n",
       "      <td>61.756430</td>\n",
       "      <td>57.288629</td>\n",
       "      <td>3999.135671</td>\n",
       "      <td>5.677543</td>\n",
       "      <td>5.680192</td>\n",
       "      <td>3.505021</td>\n",
       "    </tr>\n",
       "    <tr>\n",
       "      <th>H</th>\n",
       "      <td>0.911799</td>\n",
       "      <td>61.836192</td>\n",
       "      <td>57.517811</td>\n",
       "      <td>4486.669196</td>\n",
       "      <td>5.983335</td>\n",
       "      <td>5.984815</td>\n",
       "      <td>3.695965</td>\n",
       "    </tr>\n",
       "    <tr>\n",
       "      <th>I</th>\n",
       "      <td>1.026927</td>\n",
       "      <td>61.845799</td>\n",
       "      <td>57.577278</td>\n",
       "      <td>5091.874954</td>\n",
       "      <td>6.222826</td>\n",
       "      <td>6.222730</td>\n",
       "      <td>3.845411</td>\n",
       "    </tr>\n",
       "    <tr>\n",
       "      <th>J</th>\n",
       "      <td>1.162137</td>\n",
       "      <td>61.887660</td>\n",
       "      <td>57.812393</td>\n",
       "      <td>5323.818020</td>\n",
       "      <td>6.519338</td>\n",
       "      <td>6.518105</td>\n",
       "      <td>4.033251</td>\n",
       "    </tr>\n",
       "  </tbody>\n",
       "</table>\n",
       "</div>"
      ],
      "text/plain": [
       "          carat      depth      table        price     width    length  \\\n",
       "color                                                                    \n",
       "D      0.657795  61.697207  57.404590  3169.954096  5.417051  5.421128   \n",
       "E      0.657867  61.661545  57.491201  3076.752475  5.411580  5.419029   \n",
       "F      0.736538  61.694591  57.433536  3724.886397  5.614961  5.619456   \n",
       "G      0.771190  61.756430  57.288629  3999.135671  5.677543  5.680192   \n",
       "H      0.911799  61.836192  57.517811  4486.669196  5.983335  5.984815   \n",
       "I      1.026927  61.845799  57.577278  5091.874954  6.222826  6.222730   \n",
       "J      1.162137  61.887660  57.812393  5323.818020  6.519338  6.518105   \n",
       "\n",
       "         height  \n",
       "color            \n",
       "D      3.342827  \n",
       "E      3.340689  \n",
       "F      3.464446  \n",
       "G      3.505021  \n",
       "H      3.695965  \n",
       "I      3.845411  \n",
       "J      4.033251  "
      ]
     },
     "execution_count": 45,
     "metadata": {},
     "output_type": "execute_result"
    }
   ],
   "source": [
    "# Calculate group means by color\n",
    "diamonds.groupby(by=['color']).mean(numeric_only=True)"
   ]
  },
  {
   "cell_type": "code",
   "execution_count": 46,
   "id": "09871c8f",
   "metadata": {},
   "outputs": [
    {
     "data": {
      "text/plain": [
       "color\n",
       "D     6775\n",
       "E     9797\n",
       "F     9542\n",
       "G    11292\n",
       "H     8304\n",
       "I     5422\n",
       "J     2808\n",
       "dtype: int64"
      ]
     },
     "execution_count": 46,
     "metadata": {},
     "output_type": "execute_result"
    }
   ],
   "source": [
    "# Calculate group sizes by color\n",
    "diamonds.groupby(by=['color']).size()"
   ]
  },
  {
   "cell_type": "code",
   "execution_count": 47,
   "id": "f7137bd2",
   "metadata": {},
   "outputs": [
    {
     "name": "stderr",
     "output_type": "stream",
     "text": [
      "C:\\Users\\Arnav\\AppData\\Local\\Temp\\ipykernel_23908\\2348943837.py:2: FutureWarning: The provided callable <function mean at 0x000001F7E5AD07C0> is currently using DataFrameGroupBy.mean. In a future version of pandas, the provided callable will be used directly. To keep current behavior pass the string \"mean\" instead.\n",
      "  diamonds.pivot_table(values='price', index='color', columns='cut', aggfunc=np.mean)\n"
     ]
    },
    {
     "data": {
      "application/vnd.microsoft.datawrangler.viewer.v0+json": {
       "columns": [
        {
         "name": "color",
         "rawType": "object",
         "type": "string"
        },
        {
         "name": "Fair",
         "rawType": "float64",
         "type": "float"
        },
        {
         "name": "Good",
         "rawType": "float64",
         "type": "float"
        },
        {
         "name": "Ideal",
         "rawType": "float64",
         "type": "float"
        },
        {
         "name": "Premium",
         "rawType": "float64",
         "type": "float"
        },
        {
         "name": "Very Good",
         "rawType": "float64",
         "type": "float"
        }
       ],
       "conversionMethod": "pd.DataFrame",
       "ref": "1cc2e8b6-58bc-4e79-8b20-ed33e5f2b602",
       "rows": [
        [
         "D",
         "4291.061349693252",
         "3405.3821752265862",
         "2629.0945659844742",
         "3631.292576419214",
         "3470.4672835426304"
        ],
        [
         "E",
         "3682.3125",
         "3423.6441586280816",
         "2597.5500896746094",
         "3538.9144201968334",
         "3214.6520833333334"
        ],
        [
         "F",
         "3827.003205128205",
         "3495.7502750275025",
         "3374.9393622582334",
         "4324.890175890176",
         "3778.8202402957486"
        ],
        [
         "G",
         "4239.254777070064",
         "4123.482204362801",
         "3720.706388206388",
         "4500.742134062927",
         "3872.75380600261"
        ],
        [
         "H",
         "5135.683168316832",
         "4276.254985754986",
         "3889.334831460674",
         "5216.706779661017",
         "4535.390350877193"
        ],
        [
         "I",
         "4685.4457142857145",
         "5078.532567049809",
         "4451.970377448638",
         "5946.180672268908",
         "5255.879568106312"
        ],
        [
         "J",
         "4975.655462184874",
         "4574.172638436482",
         "4918.186383928572",
         "6294.591584158416",
         "5103.513274336283"
        ]
       ],
       "shape": {
        "columns": 5,
        "rows": 7
       }
      },
      "text/html": [
       "<div>\n",
       "<style scoped>\n",
       "    .dataframe tbody tr th:only-of-type {\n",
       "        vertical-align: middle;\n",
       "    }\n",
       "\n",
       "    .dataframe tbody tr th {\n",
       "        vertical-align: top;\n",
       "    }\n",
       "\n",
       "    .dataframe thead th {\n",
       "        text-align: right;\n",
       "    }\n",
       "</style>\n",
       "<table border=\"1\" class=\"dataframe\">\n",
       "  <thead>\n",
       "    <tr style=\"text-align: right;\">\n",
       "      <th>cut</th>\n",
       "      <th>Fair</th>\n",
       "      <th>Good</th>\n",
       "      <th>Ideal</th>\n",
       "      <th>Premium</th>\n",
       "      <th>Very Good</th>\n",
       "    </tr>\n",
       "    <tr>\n",
       "      <th>color</th>\n",
       "      <th></th>\n",
       "      <th></th>\n",
       "      <th></th>\n",
       "      <th></th>\n",
       "      <th></th>\n",
       "    </tr>\n",
       "  </thead>\n",
       "  <tbody>\n",
       "    <tr>\n",
       "      <th>D</th>\n",
       "      <td>4291.061350</td>\n",
       "      <td>3405.382175</td>\n",
       "      <td>2629.094566</td>\n",
       "      <td>3631.292576</td>\n",
       "      <td>3470.467284</td>\n",
       "    </tr>\n",
       "    <tr>\n",
       "      <th>E</th>\n",
       "      <td>3682.312500</td>\n",
       "      <td>3423.644159</td>\n",
       "      <td>2597.550090</td>\n",
       "      <td>3538.914420</td>\n",
       "      <td>3214.652083</td>\n",
       "    </tr>\n",
       "    <tr>\n",
       "      <th>F</th>\n",
       "      <td>3827.003205</td>\n",
       "      <td>3495.750275</td>\n",
       "      <td>3374.939362</td>\n",
       "      <td>4324.890176</td>\n",
       "      <td>3778.820240</td>\n",
       "    </tr>\n",
       "    <tr>\n",
       "      <th>G</th>\n",
       "      <td>4239.254777</td>\n",
       "      <td>4123.482204</td>\n",
       "      <td>3720.706388</td>\n",
       "      <td>4500.742134</td>\n",
       "      <td>3872.753806</td>\n",
       "    </tr>\n",
       "    <tr>\n",
       "      <th>H</th>\n",
       "      <td>5135.683168</td>\n",
       "      <td>4276.254986</td>\n",
       "      <td>3889.334831</td>\n",
       "      <td>5216.706780</td>\n",
       "      <td>4535.390351</td>\n",
       "    </tr>\n",
       "    <tr>\n",
       "      <th>I</th>\n",
       "      <td>4685.445714</td>\n",
       "      <td>5078.532567</td>\n",
       "      <td>4451.970377</td>\n",
       "      <td>5946.180672</td>\n",
       "      <td>5255.879568</td>\n",
       "    </tr>\n",
       "    <tr>\n",
       "      <th>J</th>\n",
       "      <td>4975.655462</td>\n",
       "      <td>4574.172638</td>\n",
       "      <td>4918.186384</td>\n",
       "      <td>6294.591584</td>\n",
       "      <td>5103.513274</td>\n",
       "    </tr>\n",
       "  </tbody>\n",
       "</table>\n",
       "</div>"
      ],
      "text/plain": [
       "cut           Fair         Good        Ideal      Premium    Very Good\n",
       "color                                                                 \n",
       "D      4291.061350  3405.382175  2629.094566  3631.292576  3470.467284\n",
       "E      3682.312500  3423.644159  2597.550090  3538.914420  3214.652083\n",
       "F      3827.003205  3495.750275  3374.939362  4324.890176  3778.820240\n",
       "G      4239.254777  4123.482204  3720.706388  4500.742134  3872.753806\n",
       "H      5135.683168  4276.254986  3889.334831  5216.706780  4535.390351\n",
       "I      4685.445714  5078.532567  4451.970377  5946.180672  5255.879568\n",
       "J      4975.655462  4574.172638  4918.186384  6294.591584  5103.513274"
      ]
     },
     "execution_count": 47,
     "metadata": {},
     "output_type": "execute_result"
    }
   ],
   "source": [
    "# Pivot table with average price for cut and color combinations\n",
    "diamonds.pivot_table(values='price', index='color', columns='cut', aggfunc=np.mean)"
   ]
  },
  {
   "cell_type": "code",
   "execution_count": 48,
   "id": "cf8e9809",
   "metadata": {},
   "outputs": [
    {
     "data": {
      "application/vnd.microsoft.datawrangler.viewer.v0+json": {
       "columns": [
        {
         "name": "cut",
         "rawType": "object",
         "type": "string"
        },
        {
         "name": "D",
         "rawType": "int64",
         "type": "integer"
        },
        {
         "name": "E",
         "rawType": "int64",
         "type": "integer"
        },
        {
         "name": "F",
         "rawType": "int64",
         "type": "integer"
        },
        {
         "name": "G",
         "rawType": "int64",
         "type": "integer"
        },
        {
         "name": "H",
         "rawType": "int64",
         "type": "integer"
        },
        {
         "name": "I",
         "rawType": "int64",
         "type": "integer"
        },
        {
         "name": "J",
         "rawType": "int64",
         "type": "integer"
        }
       ],
       "conversionMethod": "pd.DataFrame",
       "ref": "aaf4449c-26db-438f-b51a-2fa4ca3e2c02",
       "rows": [
        [
         "Fair",
         "163",
         "224",
         "312",
         "314",
         "303",
         "175",
         "119"
        ],
        [
         "Good",
         "662",
         "933",
         "909",
         "871",
         "702",
         "522",
         "307"
        ],
        [
         "Ideal",
         "2834",
         "3903",
         "3826",
         "4884",
         "3115",
         "2093",
         "896"
        ],
        [
         "Premium",
         "1603",
         "2337",
         "2331",
         "2924",
         "2360",
         "1428",
         "808"
        ],
        [
         "Very Good",
         "1513",
         "2400",
         "2164",
         "2299",
         "1824",
         "1204",
         "678"
        ]
       ],
       "shape": {
        "columns": 7,
        "rows": 5
       }
      },
      "text/html": [
       "<div>\n",
       "<style scoped>\n",
       "    .dataframe tbody tr th:only-of-type {\n",
       "        vertical-align: middle;\n",
       "    }\n",
       "\n",
       "    .dataframe tbody tr th {\n",
       "        vertical-align: top;\n",
       "    }\n",
       "\n",
       "    .dataframe thead th {\n",
       "        text-align: right;\n",
       "    }\n",
       "</style>\n",
       "<table border=\"1\" class=\"dataframe\">\n",
       "  <thead>\n",
       "    <tr style=\"text-align: right;\">\n",
       "      <th>color</th>\n",
       "      <th>D</th>\n",
       "      <th>E</th>\n",
       "      <th>F</th>\n",
       "      <th>G</th>\n",
       "      <th>H</th>\n",
       "      <th>I</th>\n",
       "      <th>J</th>\n",
       "    </tr>\n",
       "    <tr>\n",
       "      <th>cut</th>\n",
       "      <th></th>\n",
       "      <th></th>\n",
       "      <th></th>\n",
       "      <th></th>\n",
       "      <th></th>\n",
       "      <th></th>\n",
       "      <th></th>\n",
       "    </tr>\n",
       "  </thead>\n",
       "  <tbody>\n",
       "    <tr>\n",
       "      <th>Fair</th>\n",
       "      <td>163</td>\n",
       "      <td>224</td>\n",
       "      <td>312</td>\n",
       "      <td>314</td>\n",
       "      <td>303</td>\n",
       "      <td>175</td>\n",
       "      <td>119</td>\n",
       "    </tr>\n",
       "    <tr>\n",
       "      <th>Good</th>\n",
       "      <td>662</td>\n",
       "      <td>933</td>\n",
       "      <td>909</td>\n",
       "      <td>871</td>\n",
       "      <td>702</td>\n",
       "      <td>522</td>\n",
       "      <td>307</td>\n",
       "    </tr>\n",
       "    <tr>\n",
       "      <th>Ideal</th>\n",
       "      <td>2834</td>\n",
       "      <td>3903</td>\n",
       "      <td>3826</td>\n",
       "      <td>4884</td>\n",
       "      <td>3115</td>\n",
       "      <td>2093</td>\n",
       "      <td>896</td>\n",
       "    </tr>\n",
       "    <tr>\n",
       "      <th>Premium</th>\n",
       "      <td>1603</td>\n",
       "      <td>2337</td>\n",
       "      <td>2331</td>\n",
       "      <td>2924</td>\n",
       "      <td>2360</td>\n",
       "      <td>1428</td>\n",
       "      <td>808</td>\n",
       "    </tr>\n",
       "    <tr>\n",
       "      <th>Very Good</th>\n",
       "      <td>1513</td>\n",
       "      <td>2400</td>\n",
       "      <td>2164</td>\n",
       "      <td>2299</td>\n",
       "      <td>1824</td>\n",
       "      <td>1204</td>\n",
       "      <td>678</td>\n",
       "    </tr>\n",
       "  </tbody>\n",
       "</table>\n",
       "</div>"
      ],
      "text/plain": [
       "color         D     E     F     G     H     I    J\n",
       "cut                                               \n",
       "Fair        163   224   312   314   303   175  119\n",
       "Good        662   933   909   871   702   522  307\n",
       "Ideal      2834  3903  3826  4884  3115  2093  896\n",
       "Premium    1603  2337  2331  2924  2360  1428  808\n",
       "Very Good  1513  2400  2164  2299  1824  1204  678"
      ]
     },
     "execution_count": 48,
     "metadata": {},
     "output_type": "execute_result"
    }
   ],
   "source": [
    "# Pivot table with group sizes for cut and color combinations\n",
    "diamonds.pivot_table(values='price', index='cut', columns='color', aggfunc=np.size)"
   ]
  },
  {
   "cell_type": "code",
   "execution_count": 49,
   "id": "5fc9059c",
   "metadata": {},
   "outputs": [
    {
     "data": {
      "application/vnd.microsoft.datawrangler.viewer.v0+json": {
       "columns": [
        {
         "name": "cut",
         "rawType": "object",
         "type": "string"
        },
        {
         "name": "D",
         "rawType": "int64",
         "type": "integer"
        },
        {
         "name": "E",
         "rawType": "int64",
         "type": "integer"
        },
        {
         "name": "F",
         "rawType": "int64",
         "type": "integer"
        },
        {
         "name": "G",
         "rawType": "int64",
         "type": "integer"
        },
        {
         "name": "H",
         "rawType": "int64",
         "type": "integer"
        },
        {
         "name": "I",
         "rawType": "int64",
         "type": "integer"
        },
        {
         "name": "J",
         "rawType": "int64",
         "type": "integer"
        }
       ],
       "conversionMethod": "pd.DataFrame",
       "ref": "a8f3d6d0-a0e0-4ac0-8865-27ea77256e44",
       "rows": [
        [
         "Fair",
         "163",
         "224",
         "312",
         "314",
         "303",
         "175",
         "119"
        ],
        [
         "Good",
         "662",
         "933",
         "909",
         "871",
         "702",
         "522",
         "307"
        ],
        [
         "Ideal",
         "2834",
         "3903",
         "3826",
         "4884",
         "3115",
         "2093",
         "896"
        ],
        [
         "Premium",
         "1603",
         "2337",
         "2331",
         "2924",
         "2360",
         "1428",
         "808"
        ],
        [
         "Very Good",
         "1513",
         "2400",
         "2164",
         "2299",
         "1824",
         "1204",
         "678"
        ]
       ],
       "shape": {
        "columns": 7,
        "rows": 5
       }
      },
      "text/html": [
       "<div>\n",
       "<style scoped>\n",
       "    .dataframe tbody tr th:only-of-type {\n",
       "        vertical-align: middle;\n",
       "    }\n",
       "\n",
       "    .dataframe tbody tr th {\n",
       "        vertical-align: top;\n",
       "    }\n",
       "\n",
       "    .dataframe thead th {\n",
       "        text-align: right;\n",
       "    }\n",
       "</style>\n",
       "<table border=\"1\" class=\"dataframe\">\n",
       "  <thead>\n",
       "    <tr style=\"text-align: right;\">\n",
       "      <th>color</th>\n",
       "      <th>D</th>\n",
       "      <th>E</th>\n",
       "      <th>F</th>\n",
       "      <th>G</th>\n",
       "      <th>H</th>\n",
       "      <th>I</th>\n",
       "      <th>J</th>\n",
       "    </tr>\n",
       "    <tr>\n",
       "      <th>cut</th>\n",
       "      <th></th>\n",
       "      <th></th>\n",
       "      <th></th>\n",
       "      <th></th>\n",
       "      <th></th>\n",
       "      <th></th>\n",
       "      <th></th>\n",
       "    </tr>\n",
       "  </thead>\n",
       "  <tbody>\n",
       "    <tr>\n",
       "      <th>Fair</th>\n",
       "      <td>163</td>\n",
       "      <td>224</td>\n",
       "      <td>312</td>\n",
       "      <td>314</td>\n",
       "      <td>303</td>\n",
       "      <td>175</td>\n",
       "      <td>119</td>\n",
       "    </tr>\n",
       "    <tr>\n",
       "      <th>Good</th>\n",
       "      <td>662</td>\n",
       "      <td>933</td>\n",
       "      <td>909</td>\n",
       "      <td>871</td>\n",
       "      <td>702</td>\n",
       "      <td>522</td>\n",
       "      <td>307</td>\n",
       "    </tr>\n",
       "    <tr>\n",
       "      <th>Ideal</th>\n",
       "      <td>2834</td>\n",
       "      <td>3903</td>\n",
       "      <td>3826</td>\n",
       "      <td>4884</td>\n",
       "      <td>3115</td>\n",
       "      <td>2093</td>\n",
       "      <td>896</td>\n",
       "    </tr>\n",
       "    <tr>\n",
       "      <th>Premium</th>\n",
       "      <td>1603</td>\n",
       "      <td>2337</td>\n",
       "      <td>2331</td>\n",
       "      <td>2924</td>\n",
       "      <td>2360</td>\n",
       "      <td>1428</td>\n",
       "      <td>808</td>\n",
       "    </tr>\n",
       "    <tr>\n",
       "      <th>Very Good</th>\n",
       "      <td>1513</td>\n",
       "      <td>2400</td>\n",
       "      <td>2164</td>\n",
       "      <td>2299</td>\n",
       "      <td>1824</td>\n",
       "      <td>1204</td>\n",
       "      <td>678</td>\n",
       "    </tr>\n",
       "  </tbody>\n",
       "</table>\n",
       "</div>"
      ],
      "text/plain": [
       "color         D     E     F     G     H     I    J\n",
       "cut                                               \n",
       "Fair        163   224   312   314   303   175  119\n",
       "Good        662   933   909   871   702   522  307\n",
       "Ideal      2834  3903  3826  4884  3115  2093  896\n",
       "Premium    1603  2337  2331  2924  2360  1428  808\n",
       "Very Good  1513  2400  2164  2299  1824  1204  678"
      ]
     },
     "execution_count": 49,
     "metadata": {},
     "output_type": "execute_result"
    }
   ],
   "source": [
    "# Pivot table with group sizes for cut and color combinations\n",
    "diamonds.pivot_table(values='price', index='cut', columns='color', aggfunc=np.size)"
   ]
  },
  {
   "cell_type": "code",
   "execution_count": null,
   "id": "952fbdf5",
   "metadata": {},
   "outputs": [],
   "source": []
  }
 ],
 "metadata": {
  "kernelspec": {
   "display_name": "CS301DS",
   "language": "python",
   "name": "python3"
  },
  "language_info": {
   "codemirror_mode": {
    "name": "ipython",
    "version": 3
   },
   "file_extension": ".py",
   "mimetype": "text/x-python",
   "name": "python",
   "nbconvert_exporter": "python",
   "pygments_lexer": "ipython3",
   "version": "3.12.8"
  }
 },
 "nbformat": 4,
 "nbformat_minor": 5
}
