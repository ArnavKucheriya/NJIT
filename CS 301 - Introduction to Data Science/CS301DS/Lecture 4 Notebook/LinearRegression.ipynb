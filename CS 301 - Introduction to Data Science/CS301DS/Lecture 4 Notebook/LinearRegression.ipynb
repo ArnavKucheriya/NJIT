{
 "cells": [
  {
   "cell_type": "markdown",
   "id": "f83c58b5",
   "metadata": {},
   "source": [
    "### Regression models\n",
    "\n",
    "A **model** for an output feature **y** using input feature(s) $ \\mathbf f(X) $ is a function  that predicts an expected value of ***y*** for a given value of ***X*** as $ \\mathbf{\\hat{y}\\:=\\:f(X)} $. So $ \\mathbf{\\hat{y}} $ is the predicted value for the output feature  for a given value of the input feature $ \\mathbf{X} $. Specifically, a regression model is a model that uses numeric output features. Visually, a **regression model** for data graphed on a scatter plot traces out a line or a nonlinear curve.\n",
    "\n",
    "If two features have a strong relationship, predicted values should be close to the observed values. Closeness can be seen visually by comparing points to the graph of the model. Closeness can be measured numerically using residuals. The **residual** of an instance $ \\mathbf{(x_i,y_i)} $ is the difference between the observed and predicted value $ \\mathbf{(y_i\\:-\\:\\hat{y})} $. A well-fitting model should have small residuals on average.\n",
    "\n",
    "A model is also used to make predictions about values aside from what was observed. Predictions should only be made for values close to the range of the original data. An **extrapolation** is a prediction for a value far beyond the range of the original data and is often misleading or inaccurate."
   ]
  },
  {
   "cell_type": "markdown",
   "id": "828a47e9",
   "metadata": {},
   "source": [
    "### Simple linear regression\n",
    "\n",
    "The simplest regression model for a pair of numeric features $ \\mathbf{(x,y)} $ is to consider a model that predicts the output feature $ \\mathbf{y} $ for a given input feature $ \\mathbf{x} $ using a line graphed in the scatter plot. A simple linear regression is a mathematical model of the form $ \\mathbf{\\hat{y}\\:=\\:b_0\\:+\\:b_1x} $, where:\n",
    "\n",
    "$ \\mathbf{x} $ is the input feature.<br>\n",
    "$ \\mathbf{\\hat{y}} $ is the predicted value of the output feature $ \\mathbf{y} $ for a given value of $ \\mathbf{y} $.<br>\n",
    "$ \\mathbf{b_0} $ is the $ \\mathbf{y} $ -intercept, representing the predicted value of $ \\mathbf{y} $ when $ \\mathbf{x\\:=\\:0} $.<br>\n",
    "$ \\mathbf{b_1} $ is the slope, representing how much the predicted value of $ \\mathbf{y} $ changes for a one-unit change in the value of $ \\mathbf{x} $ .\n"
   ]
  },
  {
   "cell_type": "markdown",
   "id": "547f0061",
   "metadata": {},
   "source": [
    "### The least-squares regression line\n",
    "\n",
    "The values of $ \\mathbf{b_0} $ and $ \\mathbf{b_1} $ should be chosen so that the predictions $ \\mathbf{\\hat{y}_i} $ are as close as possible, on average, to the observed values $ \\mathbf{y}_i $. A common method to compute regression coefficients is to minimize some mathematical combination of the residuals $ \\mathbf{(y_i\\:-\\:\\hat{y}_i}) $ . The sum of squared errors (**SSE**) is the sum of the squares of all residuals and can be found by the formula $ \\mathbf{\\sum{(y_i\\ -\\ \\hat{y}_i)^2}} $. A **least-squares regression line** is a simple linear regression $ \\mathbf{\\hat{y}\\:=\\:b_0\\:+\\:b_1x} $ that minimizes the sum of squared errors.\n",
    "\n",
    "How well the simple linear regression line models the data can be measured by how much closer the predictions from the regression line are to the observed values compared to predictions from a model that assumes no relationship exists between $ \\mathit{x} $ and $ \\mathit{x} $ . Such a \"no-relationship\" model would be a horizontal line model $ \\mathbf{\\hat{y}\\ = \\bar{y}} $ that returns the mean $ \\mathit{\\bar{y}} $ for every value of $ \\mathit{x} $. The proportion of variation explained by a simple linear regression is given by the equation\n",
    "$$ \\mathbf{\\frac{SSE(\\bar{y})\\ -\\ SSE(regression\\ line)}{SSE(\\bar{y})}} $$\n"
   ]
  },
  {
   "cell_type": "markdown",
   "id": "b1c5956c",
   "metadata": {},
   "source": [
    "### The correlation coefficient $ \\mathit{r} $ and least-squares regression   ###\n",
    "\n",
    "Above, the least-squares regression was given, but was using a simple linear model appropriate in the first place? If so, how were the coefficients computed? The answer to both questions involve the scatter plot and the data's summary statistics. A simple linear regression should only be used as a model when the scatter plot of  displays a strong linear form. The linearity must be visually confirmed, but the strength can be checked numerically.\n",
    "\n",
    "The correlation coefficient  measures the direction and strength of a linear relationship as a unitless value between -1 and 1, and can be computed by the formula\n",
    "\n",
    "$$ r\\ =\\ \\frac{\\sum{(x_i\\ -\\ \\bar{x})(y_i\\ -\\ \\bar{y})}}{\\sqrt{\\sum{(x_i\\ -\\ \\bar{x})^2}\\ \\cdot\\ \\sum{(y_i\\ -\\ \\bar{y})^2}}}\\ =\\ \\frac{1}{n\\ -\\ 1}\\sum{\\bigg(\\frac{x_i\\ -\\ \\bar{x}}{s_x}\\bigg)\\bigg(\\frac{y_i\\ -\\ \\bar{y}}{s_y}\\bigg)} $$\n",
    "\n",
    "where $ \\mathit{\\bar{x}} $ and $ \\mathit{\\bar{y}} $ are the sample means, $ \\mathit{s_x} $  and $ \\mathit{s_y} $  are the sample standard deviations, $ \\mathit{n} $  is the sample size, and $ \\mathit{(x_i,y_i)} $  are the observed values.\n",
    "\n",
    "A large positive $ \\mathit{r} $  value indicates a positive linear association, and a large negative $ \\mathit{r} $  value indicates a negative linear association.\n",
    "\n",
    "If a simple linear regression is appropriate, the slope  and intercept  of the least-squares regression can be computed from the correlation coefficient as\n",
    "\n",
    "$$ \\mathbf{b_1\\ =\\ r\\frac{s_y}{s_x}}\\ \\ and\\ \\ \\mathbf{b_0\\ =\\ \\bar{y}\\ -\\ b_1\\cdot\\bar{x}} $$\n",
    "\n",
    "Furthermore, the proportion of variation explained by the least-squares regression is equal to  $ \\mathit{r^2} $."
   ]
  },
  {
   "cell_type": "code",
   "execution_count": 1,
   "id": "3bd78dfd",
   "metadata": {},
   "outputs": [],
   "source": [
    "# Import packages\n",
    "\n",
    "import matplotlib.pyplot as plt\n",
    "import pandas as pd\n",
    "import numpy as np\n",
    "from sklearn.linear_model import LinearRegression\n",
    "from sklearn.feature_selection import r_regression"
   ]
  },
  {
   "cell_type": "markdown",
   "id": "3ded5b92",
   "metadata": {},
   "source": [
    "[crab-groups.csv](https://drive.google.com/file/d/1_xIYHD6jASWs42Fkr3fEmMPuojH_dSp3/view?usp=sharing)"
   ]
  },
  {
   "cell_type": "code",
   "execution_count": 2,
   "id": "4ebbd951",
   "metadata": {},
   "outputs": [
    {
     "data": {
      "text/html": [
       "<div>\n",
       "<style scoped>\n",
       "    .dataframe tbody tr th:only-of-type {\n",
       "        vertical-align: middle;\n",
       "    }\n",
       "\n",
       "    .dataframe tbody tr th {\n",
       "        vertical-align: top;\n",
       "    }\n",
       "\n",
       "    .dataframe thead th {\n",
       "        text-align: right;\n",
       "    }\n",
       "</style>\n",
       "<table border=\"1\" class=\"dataframe\">\n",
       "  <thead>\n",
       "    <tr style=\"text-align: right;\">\n",
       "      <th></th>\n",
       "      <th>latitude</th>\n",
       "      <th>n</th>\n",
       "      <th>mean_mm</th>\n",
       "      <th>min_mm</th>\n",
       "      <th>max_mm</th>\n",
       "      <th>sd_mm</th>\n",
       "      <th>median_mm</th>\n",
       "    </tr>\n",
       "  </thead>\n",
       "  <tbody>\n",
       "    <tr>\n",
       "      <th>count</th>\n",
       "      <td>13.000000</td>\n",
       "      <td>13.000000</td>\n",
       "      <td>13.000000</td>\n",
       "      <td>13.000000</td>\n",
       "      <td>13.000000</td>\n",
       "      <td>13.000000</td>\n",
       "      <td>13.000000</td>\n",
       "    </tr>\n",
       "    <tr>\n",
       "      <th>mean</th>\n",
       "      <td>37.615385</td>\n",
       "      <td>30.153846</td>\n",
       "      <td>14.665385</td>\n",
       "      <td>9.743846</td>\n",
       "      <td>19.115385</td>\n",
       "      <td>2.457692</td>\n",
       "      <td>14.703846</td>\n",
       "    </tr>\n",
       "    <tr>\n",
       "      <th>std</th>\n",
       "      <td>4.451750</td>\n",
       "      <td>3.236411</td>\n",
       "      <td>2.465545</td>\n",
       "      <td>1.841533</td>\n",
       "      <td>3.043257</td>\n",
       "      <td>0.778440</td>\n",
       "      <td>2.592012</td>\n",
       "    </tr>\n",
       "    <tr>\n",
       "      <th>min</th>\n",
       "      <td>30.000000</td>\n",
       "      <td>25.000000</td>\n",
       "      <td>9.850000</td>\n",
       "      <td>6.640000</td>\n",
       "      <td>13.600000</td>\n",
       "      <td>1.790000</td>\n",
       "      <td>9.550000</td>\n",
       "    </tr>\n",
       "    <tr>\n",
       "      <th>25%</th>\n",
       "      <td>34.000000</td>\n",
       "      <td>28.000000</td>\n",
       "      <td>12.500000</td>\n",
       "      <td>8.520000</td>\n",
       "      <td>17.300000</td>\n",
       "      <td>2.050000</td>\n",
       "      <td>12.600000</td>\n",
       "    </tr>\n",
       "    <tr>\n",
       "      <th>50%</th>\n",
       "      <td>39.100000</td>\n",
       "      <td>30.000000</td>\n",
       "      <td>15.300000</td>\n",
       "      <td>9.580000</td>\n",
       "      <td>19.800000</td>\n",
       "      <td>2.300000</td>\n",
       "      <td>15.400000</td>\n",
       "    </tr>\n",
       "    <tr>\n",
       "      <th>75%</th>\n",
       "      <td>41.600000</td>\n",
       "      <td>30.000000</td>\n",
       "      <td>16.300000</td>\n",
       "      <td>11.000000</td>\n",
       "      <td>21.400000</td>\n",
       "      <td>2.420000</td>\n",
       "      <td>16.700000</td>\n",
       "    </tr>\n",
       "    <tr>\n",
       "      <th>max</th>\n",
       "      <td>42.700000</td>\n",
       "      <td>37.000000</td>\n",
       "      <td>18.500000</td>\n",
       "      <td>13.200000</td>\n",
       "      <td>23.400000</td>\n",
       "      <td>4.810000</td>\n",
       "      <td>18.400000</td>\n",
       "    </tr>\n",
       "  </tbody>\n",
       "</table>\n",
       "</div>"
      ],
      "text/plain": [
       "        latitude          n    mean_mm     min_mm     max_mm      sd_mm  \\\n",
       "count  13.000000  13.000000  13.000000  13.000000  13.000000  13.000000   \n",
       "mean   37.615385  30.153846  14.665385   9.743846  19.115385   2.457692   \n",
       "std     4.451750   3.236411   2.465545   1.841533   3.043257   0.778440   \n",
       "min    30.000000  25.000000   9.850000   6.640000  13.600000   1.790000   \n",
       "25%    34.000000  28.000000  12.500000   8.520000  17.300000   2.050000   \n",
       "50%    39.100000  30.000000  15.300000   9.580000  19.800000   2.300000   \n",
       "75%    41.600000  30.000000  16.300000  11.000000  21.400000   2.420000   \n",
       "max    42.700000  37.000000  18.500000  13.200000  23.400000   4.810000   \n",
       "\n",
       "       median_mm  \n",
       "count  13.000000  \n",
       "mean   14.703846  \n",
       "std     2.592012  \n",
       "min     9.550000  \n",
       "25%    12.600000  \n",
       "50%    15.400000  \n",
       "75%    16.700000  \n",
       "max    18.400000  "
      ]
     },
     "execution_count": 2,
     "metadata": {},
     "output_type": "execute_result"
    }
   ],
   "source": [
    "# Import data\n",
    "crabs = pd.read_csv('data/crab-groups.csv')\n",
    "crabs.describe()"
   ]
  },
  {
   "cell_type": "code",
   "execution_count": 3,
   "id": "cfd3dfea",
   "metadata": {},
   "outputs": [
    {
     "name": "stdout",
     "output_type": "stream",
     "text": [
      "<class 'pandas.core.frame.DataFrame'>\n",
      "RangeIndex: 13 entries, 0 to 12\n",
      "Data columns (total 9 columns):\n",
      " #   Column     Non-Null Count  Dtype  \n",
      "---  ------     --------------  -----  \n",
      " 0   site       13 non-null     object \n",
      " 1   latitude   13 non-null     float64\n",
      " 2   n          13 non-null     int64  \n",
      " 3   mean_mm    13 non-null     float64\n",
      " 4   min_mm     13 non-null     float64\n",
      " 5   max_mm     13 non-null     float64\n",
      " 6   sd_mm      13 non-null     float64\n",
      " 7   median_mm  13 non-null     float64\n",
      " 8   date       13 non-null     object \n",
      "dtypes: float64(6), int64(1), object(2)\n",
      "memory usage: 1.0+ KB\n"
     ]
    }
   ],
   "source": [
    "crabs.info()"
   ]
  },
  {
   "cell_type": "code",
   "execution_count": 4,
   "id": "70863b5c",
   "metadata": {},
   "outputs": [],
   "source": [
    "# Store relevant columns as variables\n",
    "X = crabs[['latitude']].values\n",
    "y = crabs[['mean_mm']].values.reshape(-1, 1)"
   ]
  },
  {
   "cell_type": "code",
   "execution_count": 5,
   "id": "4e65c947",
   "metadata": {},
   "outputs": [
    {
     "data": {
      "text/plain": [
       "Text(0, 0.5, 'Mean length (mm)')"
      ]
     },
     "execution_count": 5,
     "metadata": {},
     "output_type": "execute_result"
    },
    {
     "data": {
      "image/png": "[encoded data removed]",
      "text/plain": [
       "<Figure size 640x480 with 1 Axes>"
      ]
     },
     "metadata": {},
     "output_type": "display_data"
    }
   ],
   "source": [
    "# Fit a least squares regression model\n",
    "linModel = LinearRegression()\n",
    "linModel.fit(X, y)\n",
    "yPredicted = linModel.predict(X)\n",
    "\n",
    "# Graph the model\n",
    "plt.scatter(X, y, color='black')\n",
    "plt.plot(X, yPredicted, color='blue', linewidth=2)\n",
    "plt.xlabel('Latitude', fontsize=14)\n",
    "plt.ylabel('Mean length (mm)', fontsize=14)"
   ]
  },
  {
   "cell_type": "code",
   "execution_count": 11,
   "id": "0dd59ee7",
   "metadata": {},
   "outputs": [
    {
     "data": {
      "text/plain": [
       "Text(0, 0.5, 'Mean length (mm)')"
      ]
     },
     "execution_count": 11,
     "metadata": {},
     "output_type": "execute_result"
    },
    {
     "data": {
      "image/png": "[encoded data removed]",
      "text/plain": [
       "<Figure size 640x480 with 1 Axes>"
      ]
     },
     "metadata": {},
     "output_type": "display_data"
    }
   ],
   "source": [
    "# Graph the residuals\n",
    "plt.scatter(X, y, color='black')\n",
    "plt.plot(X, yPredicted, color='blue', linewidth=2)\n",
    "for i in range(len(X)):\n",
    "    plt.plot([X[i], X[i]], [y[i], yPredicted[i]], color='grey', linewidth=1)\n",
    "plt.xlabel('Latitude', fontsize=14)\n",
    "plt.ylabel('Mean length (mm)', fontsize=14)"
   ]
  },
  {
   "cell_type": "markdown",
   "id": "c3c78a10",
   "metadata": {},
   "source": [
    "### Why not just form a line like this?  What is the problem with a model that looks like this?"
   ]
  },
  {
   "cell_type": "code",
   "execution_count": 12,
   "id": "d07aabc8",
   "metadata": {},
   "outputs": [
    {
     "data": {
      "text/plain": [
       "Text(0, 0.5, 'Mean length (mm)')"
      ]
     },
     "execution_count": 12,
     "metadata": {},
     "output_type": "execute_result"
    },
    {
     "data": {
      "image/png": "[encoded data removed]",
      "text/plain": [
       "<Figure size 640x480 with 1 Axes>"
      ]
     },
     "metadata": {},
     "output_type": "display_data"
    }
   ],
   "source": [
    "# Graph the model\n",
    "plt.scatter(X, y, color='black')\n",
    "plt.plot(X, y, color='blue', linewidth=2)\n",
    "plt.xlabel('Latitude', fontsize=14)\n",
    "plt.ylabel('Mean length (mm)', fontsize=14)"
   ]
  },
  {
   "cell_type": "code",
   "execution_count": 13,
   "id": "d63e9c41",
   "metadata": {},
   "outputs": [
    {
     "name": "stdout",
     "output_type": "stream",
     "text": [
      "-3.7039348302831687\n"
     ]
    }
   ],
   "source": [
    "# Output the intercept of the least squares regression\n",
    "intercept = linModel.intercept_\n",
    "print(intercept[0])"
   ]
  },
  {
   "cell_type": "code",
   "execution_count": 14,
   "id": "7efe6e2d",
   "metadata": {},
   "outputs": [
    {
     "name": "stdout",
     "output_type": "stream",
     "text": [
      "0.4883459157334994\n"
     ]
    }
   ],
   "source": [
    "# Output the slope of the least squares regression\n",
    "slope = linModel.coef_\n",
    "print(slope[0][0])"
   ]
  },
  {
   "cell_type": "code",
   "execution_count": 15,
   "id": "d057a9b6",
   "metadata": {},
   "outputs": [
    {
     "name": "stdout",
     "output_type": "stream",
     "text": [
      "Predicted mean length =  -3.7039348302831687  +  0.4883459157334994 * (latitude)\n"
     ]
    }
   ],
   "source": [
    "# Write the least squares model as an equation\n",
    "print(\"Predicted mean length = \", intercept[0], \" + \", slope[0][0], \"* (latitude)\")"
   ]
  },
  {
   "cell_type": "code",
   "execution_count": 16,
   "id": "4cf2a3f5",
   "metadata": {},
   "outputs": [
    {
     "data": {
      "text/plain": [
       "16.231931026452145"
      ]
     },
     "execution_count": 16,
     "metadata": {},
     "output_type": "execute_result"
    }
   ],
   "source": [
    "# Compute the sum of squared errors for the least squares model\n",
    "SSEreg = sum((y - yPredicted) ** 2)[0]\n",
    "SSEreg"
   ]
  },
  {
   "cell_type": "code",
   "execution_count": 17,
   "id": "b9fd8f3c",
   "metadata": {},
   "outputs": [
    {
     "data": {
      "text/plain": [
       "72.94692307692308"
      ]
     },
     "execution_count": 17,
     "metadata": {},
     "output_type": "execute_result"
    }
   ],
   "source": [
    "# Compute the sum of squared errors for the horizontal line model\n",
    "SSEyBar = sum((y - np.mean(y)) ** 2)[0]\n",
    "SSEyBar"
   ]
  },
  {
   "cell_type": "code",
   "execution_count": 18,
   "id": "8b325081",
   "metadata": {},
   "outputs": [
    {
     "data": {
      "text/plain": [
       "0.7774829925405428"
      ]
     },
     "execution_count": 18,
     "metadata": {},
     "output_type": "execute_result"
    }
   ],
   "source": [
    "# Compute the proportion of variation explained by the linear regression\n",
    "# using the sum of squared errors\n",
    "(SSEyBar - SSEreg) / (SSEyBar)"
   ]
  },
  {
   "cell_type": "code",
   "execution_count": 19,
   "id": "ae2d71d6",
   "metadata": {},
   "outputs": [
    {
     "data": {
      "text/plain": [
       "0.8817499603291903"
      ]
     },
     "execution_count": 19,
     "metadata": {},
     "output_type": "execute_result"
    }
   ],
   "source": [
    "# Compute the correlation coefficient r\n",
    "r = r_regression(X, np.ravel(y))[0]\n",
    "r"
   ]
  },
  {
   "cell_type": "code",
   "execution_count": 20,
   "id": "c4547ed8",
   "metadata": {},
   "outputs": [
    {
     "data": {
      "text/plain": [
       "0.7774829925405287"
      ]
     },
     "execution_count": 20,
     "metadata": {},
     "output_type": "execute_result"
    }
   ],
   "source": [
    "# Compute the proportion of variation explained by the linear regression\n",
    "# using correlation coefficient\n",
    "r**2"
   ]
  },
  {
   "cell_type": "code",
   "execution_count": 21,
   "id": "fb281ad2",
   "metadata": {},
   "outputs": [
    {
     "data": {
      "text/plain": [
       "0.7774829925405428"
      ]
     },
     "execution_count": 21,
     "metadata": {},
     "output_type": "execute_result"
    }
   ],
   "source": [
    "# Compute the proportion of variation explained by the linear regression\n",
    "# using the LinearModel object's score method\n",
    "linModel.score(X, y)"
   ]
  },
  {
   "cell_type": "markdown",
   "id": "f69b191e",
   "metadata": {},
   "source": [
    "## Multiple Linear Regression\n"
   ]
  },
  {
   "cell_type": "code",
   "execution_count": null,
   "id": "d9d538f3",
   "metadata": {},
   "outputs": [],
   "source": [
    "# Import packages\n",
    "import matplotlib.pyplot as plt\n",
    "import pandas as pd\n",
    "import numpy as np\n",
    "from sklearn.linear_model import LinearRegression\n",
    "from sklearn.preprocessing import PolynomialFeatures\n",
    "from mpl_toolkits import mplot3d"
   ]
  },
  {
   "cell_type": "markdown",
   "id": "a39ed734",
   "metadata": {},
   "source": [
    "[mpg.csv](https://drive.google.com/file/d/1-jGj5ReRBXNWoeycGyZlyUX2t5TxuiQd/view?usp=sharing)"
   ]
  },
  {
   "cell_type": "code",
   "execution_count": null,
   "id": "ffe530de",
   "metadata": {},
   "outputs": [],
   "source": [
    "# Load the dataset\n",
    "mpg = pd.read_csv('data/mpg.csv')\n",
    "mpg.describe()"
   ]
  },
  {
   "cell_type": "code",
   "execution_count": null,
   "id": "410602a5",
   "metadata": {},
   "outputs": [],
   "source": [
    "mpg.info()"
   ]
  },
  {
   "cell_type": "code",
   "execution_count": null,
   "id": "345dd7c5",
   "metadata": {},
   "outputs": [],
   "source": [
    "# Remove rows that have missing fields\n",
    "mpg = mpg.dropna()\n",
    "\n",
    "# Store relevant columns as variables\n",
    "X = mpg[['acceleration', 'weight']].values.reshape(-1, 2)\n",
    "y = mpg[['mpg']].values.reshape(-1, 1)"
   ]
  },
  {
   "cell_type": "code",
   "execution_count": null,
   "id": "fc281b24",
   "metadata": {},
   "outputs": [],
   "source": [
    "# Graph acceleration vs MPG\n",
    "plt.scatter(X[:, 0], y, color='black')\n",
    "plt.xlabel('Acceleration', fontsize=14)\n",
    "plt.ylabel('MPG', fontsize=14)"
   ]
  },
  {
   "cell_type": "code",
   "execution_count": null,
   "id": "201e7888",
   "metadata": {},
   "outputs": [],
   "source": [
    "# Graph weight vs MPG\n",
    "plt.scatter(X[:, 1], y, color='black')\n",
    "plt.xlabel('Weight', fontsize=14)\n",
    "plt.ylabel('MPG', fontsize=14)"
   ]
  },
  {
   "cell_type": "code",
   "execution_count": null,
   "id": "c5f35a88",
   "metadata": {},
   "outputs": [],
   "source": [
    "# Fit a least squares multiple linear regression model\n",
    "linModel = LinearRegression()\n",
    "linModel.fit(X, y)\n",
    "\n",
    "# Write the least squares model as an equation\n",
    "print(\n",
    "    \"Predicted MPG = \",\n",
    "    linModel.intercept_[0],\n",
    "    \" + \",\n",
    "    linModel.coef_[0][0],\n",
    "    \"* (Acceleration)\",\n",
    "    \" + \",\n",
    "    linModel.coef_[0][1],\n",
    "    \"* (Weight)\",\n",
    ")"
   ]
  },
  {
   "cell_type": "code",
   "execution_count": null,
   "id": "8785c2e5",
   "metadata": {},
   "outputs": [],
   "source": [
    "# Set up the figure\n",
    "fig = plt.figure()\n",
    "ax = plt.axes(projection='3d')\n",
    "# Plot the points\n",
    "ax.scatter3D(X[:, 0], X[:, 1], y, color=\"Black\")\n",
    "# Plot the regression as a plane\n",
    "xDeltaAccel, xDeltaWeight = np.meshgrid(\n",
    "    np.linspace(X[:, 0].min(), X[:, 0].max(), 2),\n",
    "    np.linspace(X[:, 1].min(), X[:, 1].max(), 2),\n",
    ")\n",
    "yDeltaMPG = (\n",
    "    linModel.intercept_[0]\n",
    "    + linModel.coef_[0][0] * xDeltaAccel\n",
    "    + linModel.coef_[0][1] * xDeltaWeight\n",
    ")\n",
    "ax.plot_surface(xDeltaAccel, xDeltaWeight, yDeltaMPG, alpha=0.5)\n",
    "# Axes labels\n",
    "ax.set_xlabel('Acceleration')\n",
    "ax.set_ylabel('Weight')\n",
    "ax.set_zlabel('MPG')\n",
    "# Set the view angle\n",
    "ax.view_init(30, 50)\n",
    "ax.set_xlim(28, 9)"
   ]
  },
  {
   "cell_type": "code",
   "execution_count": null,
   "id": "7959bcf6",
   "metadata": {},
   "outputs": [],
   "source": [
    "# Compute the proportion of variation explained by the linear regression\n",
    "# using the LinearModel object's score method\n",
    "linModel.score(X,y)"
   ]
  },
  {
   "cell_type": "code",
   "execution_count": null,
   "id": "1fd63813",
   "metadata": {},
   "outputs": [],
   "source": [
    "# Make a prediction\n",
    "yMultyPredicted = linModel.predict([[20, 3000]])\n",
    "print(\n",
    "    \"Predicted MPG for a car with acceleration = 20 seconds and Weight = 3000 pounds \\n\",\n",
    "    \"using the multiple linear regression is \",\n",
    "    yMultyPredicted[0][0],\n",
    "    \"miles per gallon\",\n",
    ")"
   ]
  },
  {
   "cell_type": "markdown",
   "id": "ae11145b",
   "metadata": {},
   "source": [
    "## Polynomial Regression\n",
    "\n",
    "In polynomial regression, the relationship between the dependent variable and the independent variable is modeled as an nth-degree polynomial function. When the polynomial is of degree 2, it is called a quadratic model; when the degree of a polynomial is 3, it is called a cubic model, and so on.\n",
    "\n",
    "A polynomial regression can be considered using multiple input features. A **polynomial regression** is a mathematical model of input features that includes all powers and interaction terms of the input features up to a fixed degree. An **interaction term** is a term in a regression model that contains multiple input features, such as $ \\mathbf{(x_1^3x_2)} $. Interaction terms are included to reflect how the prediction changes in non-additive ways as the features vary. The degree of an interaction term is the sum of the powers on the term. Ex: $ \\mathbf{(x_1^3x_2)} $ is a degree 4 interaction term. Interactive terms can account for dependency between input features.\n",
    "\n",
    "The general equation of a multiple polynomial equation is cumbersome to write but can be easily displayed for a small degree. Ex: A degree 2 (quadratic) polynomial regression on two input features has the form $ \\mathbf{\\hat{y}\\ =\\ b_0\\ +\\ b_1x_1\\ +\\ b_2x_2\\ +\\ b_3x_1^2\\ +\\ b_4x_1x_2\\ +\\ b_5x_2^2} $.\n",
    "\n",
    "Like simple polynomial regression, the function used for the regression is not linear, but the regression is said to be linear with respect to the powers and interaction terms.\n",
    "Suppose we have a dataset where variable X represents the Independent data and Y is the dependent data. Before feeding data to a model in the preprocessing stage, we convert the input variables into polynomial terms using some degree.\n",
    "\n",
    "Consider an example my input value is 35, and the degree of a polynomial is 2, so I will find 35 power 0, 35 power 1, and 35 power 2 this helps to interpret the non-linear relationship in data.\n",
    "The equation of polynomials becomes something like this.\n",
    "\n",
    "![image.png](data:image/png;base64,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)\n",
    "\n",
    "The degree of order to use is a Hyperparameter, and we need to choose it wisely. Using a high degree of polynomial tries to overfit the data. For smaller values of degree, the model tries to underfit, so we need to find the optimum value of a degree. Polynomial Regression models are usually fitted with the method of least squares.\n",
    "\n",
    "Source: [analyticsvidhya.com](https://www.analyticsvidhya.com/blog/2021/07/all-you-need-to-know-about-polynomial-regression/#:~:text=A%20polynomial%20regression%20model%20is,the%20complexity%20of%20the%20relationship.)"
   ]
  },
  {
   "cell_type": "code",
   "execution_count": null,
   "id": "c47595b3",
   "metadata": {},
   "outputs": [],
   "source": [
    "# Store weight as an array\n",
    "X2 = X[:, 1].reshape(-1, 1)\n",
    "\n",
    "# Fit a quadratic regression model using just Weight\n",
    "polyFeatures = PolynomialFeatures(degree=2, include_bias=False)\n",
    "xPoly = polyFeatures.fit_transform(X2)\n",
    "polyModel = LinearRegression()\n",
    "polyModel.fit(xPoly, y)\n",
    "\n",
    "# Graph the quadratic regression\n",
    "plt.scatter(X2, y, color='black')\n",
    "xDelta = np.linspace(X2.min(), X2.max(), 1000)\n",
    "yDelta = polyModel.predict(polyFeatures.fit_transform(xDelta.reshape(-1, 1)))\n",
    "plt.plot(xDelta, yDelta, color='blue', linewidth=2)\n",
    "plt.xlabel('Weight', fontsize=14)\n",
    "plt.ylabel('MPG', fontsize=14)\n",
    "\n",
    "# Write the quadratic model as an equation\n",
    "print(\n",
    "    \"Predicted MPG = \",\n",
    "    polyModel.intercept_[0],\n",
    "    \" + \",\n",
    "    polyModel.coef_[0][0],\n",
    "    \"* (Weight)\",\n",
    "    \" + \",\n",
    "    polyModel.coef_[0][1],\n",
    "    \"* (Weight)^2\",\n",
    ")"
   ]
  },
  {
   "cell_type": "code",
   "execution_count": null,
   "id": "0f8e8f6f",
   "metadata": {},
   "outputs": [],
   "source": [
    "# Make a prediction\n",
    "polyInputs = polyFeatures.fit_transform([[3000]])\n",
    "yPolyPredicted = polyModel.predict(polyInputs)\n",
    "print(\n",
    "    \"Predicted MPG for a car with Weight = 3000 pounds \\n\",\n",
    "    \"using the simple polynomial regression is \", yPolyPredicted[0][0], \"miles per gallon\",\n",
    ")"
   ]
  },
  {
   "cell_type": "code",
   "execution_count": null,
   "id": "c7de0e93",
   "metadata": {},
   "outputs": [],
   "source": [
    "# Fit a quadratic regression model using acceleration and weight\n",
    "polyFeatures2 = PolynomialFeatures(degree=2, include_bias=False)\n",
    "xPoly2 = polyFeatures.fit_transform(X)\n",
    "polyModel2 = LinearRegression()\n",
    "polyModel2.fit(xPoly2, y)\n",
    "\n",
    "# Write the quadratic regression as an equation\n",
    "print(\n",
    "    \"Predicted MPG =\", polyModel2.intercept_[0], \"\\n\",\n",
    "    \" + \", polyModel2.coef_[0][0], \"* (Acceleration)\\n\",\n",
    "    \" + \", polyModel2.coef_[0][1], \"* (Weight)\", \"\\n\",\n",
    "    \" + \", polyModel2.coef_[0][2], \"* (Acceleration)^2 \\n\",\n",
    "    \" + \", polyModel2.coef_[0][3], \"* (Acceleration)*(Weight) \\n\",\n",
    "    \" + \", polyModel2.coef_[0][4], \"* (Weight)^2 \\n\",\n",
    ")"
   ]
  },
  {
   "cell_type": "code",
   "execution_count": null,
   "id": "55b18ef9",
   "metadata": {},
   "outputs": [],
   "source": [
    "# Make a prediction\n",
    "polyInputs2 = polyFeatures2.fit_transform([[20, 3000]])\n",
    "yPolyPredicted2 = polyModel2.predict(polyInputs2)\n",
    "print(\n",
    "    \"Predicted MPG for a car with acceleration = 20 seconds and Weight = 3000 pounds \\n\",\n",
    "    \"using the polynomial regression is \", yPolyPredicted2[0][0], \"miles per gallon\",\n",
    ")"
   ]
  },
  {
   "cell_type": "code",
   "execution_count": null,
   "id": "de111b9b",
   "metadata": {},
   "outputs": [],
   "source": [
    "# Compute the proportion of variation explained by the linear regression\n",
    "# using the LinearRegression object's score method\n",
    "polyModel2.score(xPoly2,y)"
   ]
  },
  {
   "cell_type": "code",
   "execution_count": null,
   "id": "2900074e",
   "metadata": {},
   "outputs": [],
   "source": [
    "np.random.seed(42)\n",
    "m = 100\n",
    "X = 6 * np.random.rand(m, 1) - 3\n",
    "y = 0.5 * X**2 + X + 2 + np.random.randn(m, 1)"
   ]
  },
  {
   "cell_type": "code",
   "execution_count": null,
   "id": "f2e760c4",
   "metadata": {},
   "outputs": [],
   "source": [
    "from sklearn.preprocessing import PolynomialFeatures\n",
    "poly_features = PolynomialFeatures(degree=2, include_bias=False)\n",
    "X_poly = poly_features.fit_transform(X)\n",
    "# X_poly now contains the original feature of X plus the square of this feature. Now you can fit a LinearRegression model to this extended training data\n",
    "X_poly"
   ]
  },
  {
   "cell_type": "code",
   "execution_count": null,
   "id": "401b54e7",
   "metadata": {},
   "outputs": [],
   "source": [
    "plt.plot(X, y, \"b.\")\n",
    "plt.xlabel(\"$x$\", fontsize=18)\n",
    "plt.ylabel(\"$y$\", rotation=0, fontsize=18)\n",
    "plt.axis([-3, 3, 0, 10])\n",
    "plt.show()"
   ]
  },
  {
   "cell_type": "code",
   "execution_count": null,
   "id": "5bf12a81",
   "metadata": {},
   "outputs": [],
   "source": [
    "from sklearn.linear_model import LinearRegression\n",
    "lr = LinearRegression()\n",
    "lr.fit(X_poly, y)\n",
    "lr.intercept_, lr.coef_"
   ]
  },
  {
   "cell_type": "code",
   "execution_count": null,
   "id": "b6d0dd61",
   "metadata": {},
   "outputs": [],
   "source": [
    "X_new=np.linspace(-3, 3, 100).reshape(100, 1)\n",
    "X_new_poly = poly_features.transform(X_new)\n",
    "y_new = lr.predict(X_new_poly)\n",
    "plt.plot(X, y, \"b.\")\n",
    "plt.plot(X_new, y_new, \"r-\", linewidth=2, label=\"Predictions\")\n",
    "plt.xlabel(\"$x_1$\", fontsize=18)\n",
    "plt.ylabel(\"$y$\", rotation=0, fontsize=18)\n",
    "plt.legend(loc=\"upper left\", fontsize=14)\n",
    "plt.axis([-3, 3, 0, 10])\n",
    "plt.show()"
   ]
  },
  {
   "cell_type": "code",
   "execution_count": null,
   "id": "bda7be76",
   "metadata": {},
   "outputs": [],
   "source": [
    "from sklearn.preprocessing import StandardScaler\n",
    "from sklearn.pipeline import Pipeline\n",
    "\n",
    "for style, width, degree in ((\"g-\", 1, 10), (\"b--\", 2, 2), (\"r-+\", 2, 1)):\n",
    "    polybig_features = PolynomialFeatures(degree=degree, include_bias=False)\n",
    "    std_scaler = StandardScaler()\n",
    "    lin_reg = LinearRegression()\n",
    "    #Pipeline\n",
    "    polynomial_regression = Pipeline([(\"poly_features\", polybig_features),(\"std_scaler\", std_scaler),(\"lin_reg\", lin_reg),])\n",
    "    polynomial_regression.fit(X, y)\n",
    "    y_newbig = polynomial_regression.predict(X_new)\n",
    "    plt.plot(X_new, y_newbig, style, label=str(degree), linewidth=width)\n",
    "\n",
    "plt.plot(X, y, \"b.\", linewidth=3)\n",
    "plt.legend(loc=\"upper left\")\n",
    "plt.xlabel(\"$x_1$\", fontsize=18)\n",
    "plt.ylabel(\"$y$\", rotation=0, fontsize=18)\n",
    "plt.axis([-3, 3, 0, 10])\n",
    "plt.show()"
   ]
  },
  {
   "cell_type": "code",
   "execution_count": null,
   "id": "1006e6a3",
   "metadata": {},
   "outputs": [],
   "source": []
  }
 ],
 "metadata": {
  "kernelspec": {
   "display_name": "Python 3 (ipykernel)",
   "language": "python",
   "name": "python3"
  },
  "language_info": {
   "codemirror_mode": {
    "name": "ipython",
    "version": 3
   },
   "file_extension": ".py",
   "mimetype": "text/x-python",
   "name": "python",
   "nbconvert_exporter": "python",
   "pygments_lexer": "ipython3",
   "version": "3.9.15"
  }
 },
 "nbformat": 4,
 "nbformat_minor": 5
}
