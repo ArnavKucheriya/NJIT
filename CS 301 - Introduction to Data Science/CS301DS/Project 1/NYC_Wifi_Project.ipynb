{
 "cells": [
  {
   "cell_type": "markdown",
   "id": "c7dfd4bc",
   "metadata": {},
   "source": [
    "# 📡 NYC Wi-Fi Hotspot Regression Project"
   ]
  },
  {
   "cell_type": "code",
   "execution_count": null,
   "id": "bdaf12ba",
   "metadata": {},
   "outputs": [],
   "source": [
    "import pandas as pd\n",
    "import numpy as np\n",
    "from sklearn.model_selection import train_test_split\n",
    "from sklearn.linear_model import LinearRegression\n",
    "from sklearn.metrics import r2_score, mean_squared_error\n"
   ]
  },
  {
   "cell_type": "markdown",
   "id": "0a28ed6a",
   "metadata": {},
   "source": [
    "## 📥 Load the Dataset"
   ]
  },
  {
   "cell_type": "code",
   "execution_count": null,
   "id": "f563f0af",
   "metadata": {},
   "outputs": [
    {
     "data": {
      "application/vnd.microsoft.datawrangler.viewer.v0+json": {
       "columns": [
        {
         "name": "index",
         "rawType": "int64",
         "type": "integer"
        },
        {
         "name": "OBJECTID",
         "rawType": "int64",
         "type": "integer"
        },
        {
         "name": "Borough",
         "rawType": "int64",
         "type": "integer"
        },
        {
         "name": "Type",
         "rawType": "object",
         "type": "string"
        },
        {
         "name": "Provider",
         "rawType": "object",
         "type": "string"
        },
        {
         "name": "Name",
         "rawType": "object",
         "type": "unknown"
        },
        {
         "name": "Location",
         "rawType": "object",
         "type": "string"
        },
        {
         "name": "Latitude",
         "rawType": "float64",
         "type": "float"
        },
        {
         "name": "Longitude",
         "rawType": "float64",
         "type": "float"
        },
        {
         "name": "X",
         "rawType": "float64",
         "type": "float"
        },
        {
         "name": "Y",
         "rawType": "float64",
         "type": "float"
        },
        {
         "name": "Location_T",
         "rawType": "object",
         "type": "string"
        },
        {
         "name": "Remarks",
         "rawType": "object",
         "type": "unknown"
        },
        {
         "name": "City",
         "rawType": "object",
         "type": "string"
        },
        {
         "name": "SSID",
         "rawType": "object",
         "type": "string"
        },
        {
         "name": "SourceID",
         "rawType": "object",
         "type": "unknown"
        },
        {
         "name": "Activated",
         "rawType": "object",
         "type": "string"
        },
        {
         "name": "BoroCode",
         "rawType": "int64",
         "type": "integer"
        },
        {
         "name": "Borough Name",
         "rawType": "object",
         "type": "string"
        },
        {
         "name": "Neighborhood Tabulation Area Code (NTACODE)",
         "rawType": "object",
         "type": "string"
        },
        {
         "name": "Neighborhood Tabulation Area (NTA)",
         "rawType": "object",
         "type": "string"
        },
        {
         "name": "Council Distrcit",
         "rawType": "int64",
         "type": "integer"
        },
        {
         "name": "Postcode",
         "rawType": "int64",
         "type": "integer"
        },
        {
         "name": "BoroCD",
         "rawType": "int64",
         "type": "integer"
        },
        {
         "name": "Census Tract",
         "rawType": "int64",
         "type": "integer"
        },
        {
         "name": "BCTCB2010",
         "rawType": "int64",
         "type": "integer"
        },
        {
         "name": "BIN",
         "rawType": "int64",
         "type": "integer"
        },
        {
         "name": "BBL",
         "rawType": "int64",
         "type": "integer"
        },
        {
         "name": "DOITT_ID",
         "rawType": "int64",
         "type": "integer"
        },
        {
         "name": "Location (Lat, Long)",
         "rawType": "object",
         "type": "string"
        }
       ],
       "conversionMethod": "pd.DataFrame",
       "ref": "39df0b8c-99d9-4cab-9003-67d3e3a107ab",
       "rows": [
        [
         "0",
         "10604",
         "4",
         "Limited Free",
         "SPECTRUM",
         "Baisley Pond Park",
         "Park Perimeter",
         "40.6748599999",
         "-73.7841200005",
         "1044131.89696",
         "185219.892077",
         "Outdoor TWC Aerial",
         "3 free 10 min sessions",
         "Queens",
         "GuestWiFi",
         "0",
         "09/09/9999",
         "4",
         "Queens",
         "QN02",
         "Springfield Gardens North",
         "28",
         "11434",
         "412",
         "294",
         "294",
         "0",
         "0",
         "1408",
         "(40.6748599999, -73.7841200005)"
        ],
        [
         "1",
         "10555",
         "4",
         "Limited Free",
         "SPECTRUM",
         "Kissena Park",
         "Park Perimeter",
         "40.7475599996",
         "-73.8181499997",
         "1034637.51076",
         "211685.217755",
         "Outdoor TWC Aerial",
         "3 free 10 min sessions",
         "Queens",
         "GuestWiFi",
         "0",
         "09/09/9999",
         "4",
         "Queens",
         "QN22",
         "Flushing",
         "20",
         "11355",
         "407",
         "845",
         "845",
         "0",
         "0",
         "1359",
         "(40.7475599996, -73.8181499997)"
        ],
        [
         "2",
         "12370",
         "3",
         "Free",
         "Transit Wireless",
         "Grand St (L)",
         "Grand St (L)",
         "40.7119259997",
         "-73.9406699994",
         "1000698.12752",
         "198655.90884",
         "Subway Station",
         "SN 123",
         "Brooklyn",
         "TransitWirelessWiFi",
         null,
         "09/09/9999",
         "3",
         "Brooklyn",
         "BK90",
         "East Williamsburg",
         "34",
         "11206",
         "301",
         "495",
         "495",
         "0",
         "0",
         "1699",
         "(40.7119259997, -73.9406699994)"
        ],
        [
         "3",
         "9893",
         "3",
         "Free",
         "Downtown Brooklyn",
         null,
         "125 Court St.",
         "40.6899850001",
         "-73.9919950004",
         "986469.966349",
         "190656.680416",
         "Outdoor",
         null,
         "Brooklyn",
         "Downtown Brooklyn WiFi",
         null,
         "09/09/9999",
         "3",
         "Brooklyn",
         "BK09",
         "Brooklyn Heights-Cobble Hill",
         "33",
         "11201",
         "302",
         "9",
         "9",
         "3388736",
         "3002777501",
         "298",
         "(40.6899850001, -73.9919950004)"
        ],
        [
         "4",
         "10169",
         "1",
         "Free",
         "Transit Wireless",
         "Lexington Av-63 St (F)",
         "Lexington Av-63 St (F)",
         "40.7646300002",
         "-73.9661150001",
         "993636.552081",
         "217853.888161",
         "Subway Station",
         "SN 223",
         "New York",
         "TransitWirelessWiFi",
         null,
         "09/09/9999",
         "1",
         "Manhattan",
         "MN40",
         "Upper East Side-Carnegie Hill",
         "4",
         "10065",
         "108",
         "120",
         "120",
         "0",
         "0",
         "599",
         "(40.7646300002, -73.9661150001)"
        ]
       ],
       "shape": {
        "columns": 29,
        "rows": 5
       }
      },
      "text/html": [
       "<div>\n",
       "<style scoped>\n",
       "    .dataframe tbody tr th:only-of-type {\n",
       "        vertical-align: middle;\n",
       "    }\n",
       "\n",
       "    .dataframe tbody tr th {\n",
       "        vertical-align: top;\n",
       "    }\n",
       "\n",
       "    .dataframe thead th {\n",
       "        text-align: right;\n",
       "    }\n",
       "</style>\n",
       "<table border=\"1\" class=\"dataframe\">\n",
       "  <thead>\n",
       "    <tr style=\"text-align: right;\">\n",
       "      <th></th>\n",
       "      <th>OBJECTID</th>\n",
       "      <th>Borough</th>\n",
       "      <th>Type</th>\n",
       "      <th>Provider</th>\n",
       "      <th>Name</th>\n",
       "      <th>Location</th>\n",
       "      <th>Latitude</th>\n",
       "      <th>Longitude</th>\n",
       "      <th>X</th>\n",
       "      <th>Y</th>\n",
       "      <th>...</th>\n",
       "      <th>Neighborhood Tabulation Area (NTA)</th>\n",
       "      <th>Council Distrcit</th>\n",
       "      <th>Postcode</th>\n",
       "      <th>BoroCD</th>\n",
       "      <th>Census Tract</th>\n",
       "      <th>BCTCB2010</th>\n",
       "      <th>BIN</th>\n",
       "      <th>BBL</th>\n",
       "      <th>DOITT_ID</th>\n",
       "      <th>Location (Lat, Long)</th>\n",
       "    </tr>\n",
       "  </thead>\n",
       "  <tbody>\n",
       "    <tr>\n",
       "      <th>0</th>\n",
       "      <td>10604</td>\n",
       "      <td>4</td>\n",
       "      <td>Limited Free</td>\n",
       "      <td>SPECTRUM</td>\n",
       "      <td>Baisley Pond Park</td>\n",
       "      <td>Park Perimeter</td>\n",
       "      <td>40.674860</td>\n",
       "      <td>-73.784120</td>\n",
       "      <td>1.044132e+06</td>\n",
       "      <td>185219.892077</td>\n",
       "      <td>...</td>\n",
       "      <td>Springfield Gardens North</td>\n",
       "      <td>28</td>\n",
       "      <td>11434</td>\n",
       "      <td>412</td>\n",
       "      <td>294</td>\n",
       "      <td>294</td>\n",
       "      <td>0</td>\n",
       "      <td>0</td>\n",
       "      <td>1408</td>\n",
       "      <td>(40.6748599999, -73.7841200005)</td>\n",
       "    </tr>\n",
       "    <tr>\n",
       "      <th>1</th>\n",
       "      <td>10555</td>\n",
       "      <td>4</td>\n",
       "      <td>Limited Free</td>\n",
       "      <td>SPECTRUM</td>\n",
       "      <td>Kissena Park</td>\n",
       "      <td>Park Perimeter</td>\n",
       "      <td>40.747560</td>\n",
       "      <td>-73.818150</td>\n",
       "      <td>1.034638e+06</td>\n",
       "      <td>211685.217755</td>\n",
       "      <td>...</td>\n",
       "      <td>Flushing</td>\n",
       "      <td>20</td>\n",
       "      <td>11355</td>\n",
       "      <td>407</td>\n",
       "      <td>845</td>\n",
       "      <td>845</td>\n",
       "      <td>0</td>\n",
       "      <td>0</td>\n",
       "      <td>1359</td>\n",
       "      <td>(40.7475599996, -73.8181499997)</td>\n",
       "    </tr>\n",
       "    <tr>\n",
       "      <th>2</th>\n",
       "      <td>12370</td>\n",
       "      <td>3</td>\n",
       "      <td>Free</td>\n",
       "      <td>Transit Wireless</td>\n",
       "      <td>Grand St (L)</td>\n",
       "      <td>Grand St (L)</td>\n",
       "      <td>40.711926</td>\n",
       "      <td>-73.940670</td>\n",
       "      <td>1.000698e+06</td>\n",
       "      <td>198655.908840</td>\n",
       "      <td>...</td>\n",
       "      <td>East Williamsburg</td>\n",
       "      <td>34</td>\n",
       "      <td>11206</td>\n",
       "      <td>301</td>\n",
       "      <td>495</td>\n",
       "      <td>495</td>\n",
       "      <td>0</td>\n",
       "      <td>0</td>\n",
       "      <td>1699</td>\n",
       "      <td>(40.7119259997, -73.9406699994)</td>\n",
       "    </tr>\n",
       "    <tr>\n",
       "      <th>3</th>\n",
       "      <td>9893</td>\n",
       "      <td>3</td>\n",
       "      <td>Free</td>\n",
       "      <td>Downtown Brooklyn</td>\n",
       "      <td>NaN</td>\n",
       "      <td>125 Court St.</td>\n",
       "      <td>40.689985</td>\n",
       "      <td>-73.991995</td>\n",
       "      <td>9.864700e+05</td>\n",
       "      <td>190656.680416</td>\n",
       "      <td>...</td>\n",
       "      <td>Brooklyn Heights-Cobble Hill</td>\n",
       "      <td>33</td>\n",
       "      <td>11201</td>\n",
       "      <td>302</td>\n",
       "      <td>9</td>\n",
       "      <td>9</td>\n",
       "      <td>3388736</td>\n",
       "      <td>3002777501</td>\n",
       "      <td>298</td>\n",
       "      <td>(40.6899850001, -73.9919950004)</td>\n",
       "    </tr>\n",
       "    <tr>\n",
       "      <th>4</th>\n",
       "      <td>10169</td>\n",
       "      <td>1</td>\n",
       "      <td>Free</td>\n",
       "      <td>Transit Wireless</td>\n",
       "      <td>Lexington Av-63 St (F)</td>\n",
       "      <td>Lexington Av-63 St (F)</td>\n",
       "      <td>40.764630</td>\n",
       "      <td>-73.966115</td>\n",
       "      <td>9.936366e+05</td>\n",
       "      <td>217853.888161</td>\n",
       "      <td>...</td>\n",
       "      <td>Upper East Side-Carnegie Hill</td>\n",
       "      <td>4</td>\n",
       "      <td>10065</td>\n",
       "      <td>108</td>\n",
       "      <td>120</td>\n",
       "      <td>120</td>\n",
       "      <td>0</td>\n",
       "      <td>0</td>\n",
       "      <td>599</td>\n",
       "      <td>(40.7646300002, -73.9661150001)</td>\n",
       "    </tr>\n",
       "  </tbody>\n",
       "</table>\n",
       "<p>5 rows × 29 columns</p>\n",
       "</div>"
      ],
      "text/plain": [
       "   OBJECTID  Borough          Type           Provider                    Name  \\\n",
       "0     10604        4  Limited Free           SPECTRUM       Baisley Pond Park   \n",
       "1     10555        4  Limited Free           SPECTRUM            Kissena Park   \n",
       "2     12370        3          Free   Transit Wireless            Grand St (L)   \n",
       "3      9893        3          Free  Downtown Brooklyn                     NaN   \n",
       "4     10169        1          Free   Transit Wireless  Lexington Av-63 St (F)   \n",
       "\n",
       "                 Location   Latitude  Longitude             X              Y  \\\n",
       "0          Park Perimeter  40.674860 -73.784120  1.044132e+06  185219.892077   \n",
       "1          Park Perimeter  40.747560 -73.818150  1.034638e+06  211685.217755   \n",
       "2            Grand St (L)  40.711926 -73.940670  1.000698e+06  198655.908840   \n",
       "3           125 Court St.  40.689985 -73.991995  9.864700e+05  190656.680416   \n",
       "4  Lexington Av-63 St (F)  40.764630 -73.966115  9.936366e+05  217853.888161   \n",
       "\n",
       "   ... Neighborhood Tabulation Area (NTA) Council Distrcit Postcode BoroCD  \\\n",
       "0  ...          Springfield Gardens North               28    11434    412   \n",
       "1  ...                           Flushing               20    11355    407   \n",
       "2  ...                  East Williamsburg               34    11206    301   \n",
       "3  ...       Brooklyn Heights-Cobble Hill               33    11201    302   \n",
       "4  ...      Upper East Side-Carnegie Hill                4    10065    108   \n",
       "\n",
       "  Census Tract BCTCB2010      BIN         BBL DOITT_ID  \\\n",
       "0          294       294        0           0     1408   \n",
       "1          845       845        0           0     1359   \n",
       "2          495       495        0           0     1699   \n",
       "3            9         9  3388736  3002777501      298   \n",
       "4          120       120        0           0      599   \n",
       "\n",
       "              Location (Lat, Long)  \n",
       "0  (40.6748599999, -73.7841200005)  \n",
       "1  (40.7475599996, -73.8181499997)  \n",
       "2  (40.7119259997, -73.9406699994)  \n",
       "3  (40.6899850001, -73.9919950004)  \n",
       "4  (40.7646300002, -73.9661150001)  \n",
       "\n",
       "[5 rows x 29 columns]"
      ]
     },
     "execution_count": 2,
     "metadata": {},
     "output_type": "execute_result"
    }
   ],
   "source": [
    "wifi_df = pd.read_csv(\"NYC_Wifi_Data_Dictionary.csv\")\n",
    "wifi_df.head()"
   ]
  },
  {
   "cell_type": "markdown",
   "id": "b025d7d0",
   "metadata": {},
   "source": [
    "## 🧹 Preprocessing & Feature Engineering"
   ]
  },
  {
   "cell_type": "code",
   "execution_count": null,
   "id": "fac4de63",
   "metadata": {},
   "outputs": [],
   "source": [
    "columns_to_drop = [\n",
    "    'OBJECTID', 'Location (Lat, Long)', 'BIN', 'BBL', 'DOITT_ID', 'Activated',\n",
    "    'BCTCB2010', 'BoroCD', 'BoroCode', 'Census Tract'\n",
    "]\n",
    "wifi_cleaned = wifi_df.drop(columns=columns_to_drop)\n",
    "wifi_cleaned.rename(columns={'Borough Name': 'Borough', 'Type': 'WiFi_Type'}, inplace=True)\n",
    "wifi_cleaned = wifi_cleaned.dropna(subset=['WiFi_Type', 'Provider', 'Location'])\n",
    "\n",
    "categorical_cols = ['Borough', 'City', 'WiFi_Type', 'Provider', 'Location']\n",
    "for col in categorical_cols:\n",
    "    wifi_cleaned[col] = wifi_cleaned[col].astype('category')\n",
    "\n",
    "wifi_encoded = pd.get_dummies(wifi_cleaned, columns=categorical_cols, drop_first=True)\n"
   ]
  },
  {
   "cell_type": "markdown",
   "id": "d40a6178",
   "metadata": {},
   "source": [
    "## 🎯 Define Features and Target Variable"
   ]
  },
  {
   "cell_type": "code",
   "execution_count": null,
   "id": "7724a7f2",
   "metadata": {},
   "outputs": [],
   "source": [
    "target = 'Latitude'\n",
    "cols_to_remove = ['Longitude', 'X', 'Y'] + [col for col in wifi_encoded.columns if col.startswith('Location_')]\n",
    "features = wifi_encoded.drop(columns=cols_to_remove + [target])\n",
    "X = features.select_dtypes(include=[np.number])\n",
    "y = wifi_encoded[target]\n"
   ]
  },
  {
   "cell_type": "markdown",
   "id": "a9515ca9",
   "metadata": {},
   "source": [
    "## 🤖 Model Training and Evaluation"
   ]
  },
  {
   "cell_type": "code",
   "execution_count": null,
   "id": "c5d556ad",
   "metadata": {},
   "outputs": [
    {
     "name": "stdout",
     "output_type": "stream",
     "text": [
      "R² Score: 0.5135468923994284\n",
      "RMSE: 0.04729884331786411\n"
     ]
    }
   ],
   "source": [
    "X_train, X_test, y_train, y_test = train_test_split(X, y, test_size=0.2, random_state=42)\n",
    "model = LinearRegression()\n",
    "model.fit(X_train, y_train)\n",
    "y_pred = model.predict(X_test)\n",
    "\n",
    "r2 = r2_score(y_test, y_pred)\n",
    "rmse = np.sqrt(mean_squared_error(y_test, y_pred))\n",
    "\n",
    "print(\"R² Score:\", r2)\n",
    "print(\"RMSE:\", rmse)\n"
   ]
  },
  {
   "cell_type": "code",
   "execution_count": null,
   "id": "4d35e887",
   "metadata": {},
   "outputs": [],
   "source": [
    "import pandas as pd\n",
    "import matplotlib.pyplot as plt\n",
    "import seaborn as sns\n",
    "\n",
    "sns.set(style=\"whitegrid\")\n",
    "\n",
    "# Load dataset\n",
    "wifi_df = pd.read_csv(\"NYC_Wifi_Data_Dictionary.csv\")\n",
    "wifi_df.rename(columns={'Borough Name': 'Borough', 'Type': 'WiFi_Type'}, inplace=True)\n",
    "\n",
    "# Extract Borough Name from embedded DataFrame column\n",
    "if isinstance(wifi_df['Borough'].iloc[0], (list, pd.Series, pd.DataFrame)):\n",
    "    wifi_df['Borough_Name'] = wifi_df['Borough'].iloc[:, 1]\n",
    "else:\n",
    "    wifi_df['Borough_Name'] = wifi_df['Borough']\n"
   ]
  },
  {
   "cell_type": "markdown",
   "id": "10fcd27d",
   "metadata": {},
   "source": [
    "## 🔹 Wi-Fi Hotspots by Borough"
   ]
  },
  {
   "cell_type": "code",
   "execution_count": null,
   "id": "9d152c82",
   "metadata": {},
   "outputs": [],
   "source": [
    "plt.figure(figsize=(8, 5))\n",
    "sns.countplot(data=wifi_df, x='Borough_Name', order=wifi_df['Borough_Name'].value_counts().index)\n",
    "plt.title(\"Number of Wi-Fi Hotspots by Borough\")\n",
    "plt.xlabel(\"Borough\")\n",
    "plt.ylabel(\"Count\")\n",
    "plt.xticks(rotation=45)\n",
    "plt.tight_layout()\n",
    "plt.show()\n"
   ]
  },
  {
   "cell_type": "markdown",
   "id": "6f9a46d7",
   "metadata": {},
   "source": [
    "## 🔹 Wi-Fi Type Distribution"
   ]
  },
  {
   "cell_type": "code",
   "execution_count": null,
   "id": "1afd34c4",
   "metadata": {},
   "outputs": [],
   "source": [
    "plt.figure(figsize=(7, 5))\n",
    "sns.countplot(data=wifi_df, x='WiFi_Type', order=wifi_df['WiFi_Type'].value_counts().index)\n",
    "plt.title(\"Distribution of Wi-Fi Types in NYC\")\n",
    "plt.xlabel(\"Wi-Fi Type\")\n",
    "plt.ylabel(\"Count\")\n",
    "plt.xticks(rotation=45)\n",
    "plt.tight_layout()\n",
    "plt.show()\n"
   ]
  },
  {
   "cell_type": "markdown",
   "id": "a59fc1ef",
   "metadata": {},
   "source": [
    "## 🔹 Correlation of Features with Latitude"
   ]
  },
  {
   "cell_type": "code",
   "execution_count": null,
   "id": "2ee61f2d",
   "metadata": {},
   "outputs": [],
   "source": [
    "import numpy as np\n",
    "\n",
    "# One-hot encode categorical columns to access numeric correlations\n",
    "categorical_cols = ['Borough', 'City', 'WiFi_Type', 'Provider', 'Location']\n",
    "for col in categorical_cols:\n",
    "    wifi_df[col] = wifi_df[col].astype('category')\n",
    "wifi_encoded = pd.get_dummies(wifi_df, columns=categorical_cols, drop_first=True)\n",
    "\n",
    "# Correlation heatmap\n",
    "numeric_cols = wifi_encoded.select_dtypes(include=[np.number])\n",
    "corr_matrix = numeric_cols.corr()\n",
    "\n",
    "plt.figure(figsize=(12, 8))\n",
    "sns.heatmap(corr_matrix[['Latitude']].sort_values(by='Latitude', ascending=False), annot=True, cmap='coolwarm')\n",
    "plt.title(\"Correlation of Features with Latitude\")\n",
    "plt.tight_layout()\n",
    "plt.show()\n"
   ]
  },
  {
   "cell_type": "markdown",
   "id": "d5bf5173",
   "metadata": {},
   "source": [
    "## 🔹 Boxplot: Latitude by Borough"
   ]
  },
  {
   "cell_type": "code",
   "execution_count": null,
   "id": "fd9a1cb7",
   "metadata": {},
   "outputs": [],
   "source": [
    "plt.figure(figsize=(9, 6))\n",
    "sns.boxplot(data=wifi_df, x='Borough_Name', y='Latitude')\n",
    "plt.title(\"Distribution of Wi-Fi Latitude by Borough\")\n",
    "plt.xlabel(\"Borough\")\n",
    "plt.ylabel(\"Latitude\")\n",
    "plt.xticks(rotation=45)\n",
    "plt.tight_layout()\n",
    "plt.show()\n"
   ]
  }
 ],
 "metadata": {
  "kernelspec": {
   "display_name": "CS301DS",
   "language": "python",
   "name": "python3"
  },
  "language_info": {
   "codemirror_mode": {
    "name": "ipython",
    "version": 3
   },
   "file_extension": ".py",
   "mimetype": "text/x-python",
   "name": "python",
   "nbconvert_exporter": "python",
   "pygments_lexer": "ipython3",
   "version": "3.12.8"
  }
 },
 "nbformat": 4,
 "nbformat_minor": 5
}
