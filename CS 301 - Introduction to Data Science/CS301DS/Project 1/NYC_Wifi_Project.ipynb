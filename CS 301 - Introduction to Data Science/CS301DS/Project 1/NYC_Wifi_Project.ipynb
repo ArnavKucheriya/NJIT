{
 "cells": [
  {
   "cell_type": "markdown",
   "id": "c7dfd4bc",
   "metadata": {},
   "source": [
    "# CS 301 - Project 1 - Arnav Kucheriya\n",
    "\n",
    "## NYC Wi-Fi Hotspot Regression Project"
   ]
  },
  {
   "cell_type": "code",
   "execution_count": null,
   "id": "9eebc112",
   "metadata": {},
   "outputs": [],
   "source": [
    "# Importing necessary libraries\n",
    "import pandas as pd\n",
    "import numpy as np\n",
    "\n",
    "# Splitting the data into train and test sets\n",
    "from sklearn.model_selection import train_test_split\n",
    "\n",
    "# Initializing linear regression model\n",
    "from sklearn.linear_model import LinearRegression\n",
    "\n",
    "# Evaluating model performance\n",
    "from sklearn.metrics import r2_score, mean_squared_error"
   ]
  },
  {
   "cell_type": "markdown",
   "id": "0a28ed6a",
   "metadata": {},
   "source": [
    "NYC Wi-Fi Hotspot Locations\n",
    "\n",
    "Updated: September 23, 2022\n",
    "\n",
    "Update Frequency: As needed\n",
    "\n",
    "Automation:\tNo\n",
    "\n",
    "Date Made Public: 7/14/2015\n",
    "\n",
    "Data Provided By\n",
    "Office of Technology and Innovation (OTI) and New York City Government\n",
    "\n",
    "https://data.cityofnewyork.us/City-Government/NYC-Wi-Fi-Hotspot-Locations/yjub-udmw/about_data\n",
    "\n",
    "The dataset includes features such as Borough, Wi-Fi Provider, Type (Free/Limited), and geographic coordinates (Latitude, Longitude). These attributes will help analyze hotspot distribution across NYC."
   ]
  },
  {
   "cell_type": "code",
   "execution_count": null,
   "id": "70032b3a",
   "metadata": {},
   "outputs": [],
   "source": [
    "# Reading dataset into a DataFrame\n",
    "wifi_df = pd.read_csv(\"NYC_Wifi_Data_Dictionary.csv\")\n",
    "wifi_df.head()"
   ]
  },
  {
   "cell_type": "markdown",
   "id": "b025d7d0",
   "metadata": {},
   "source": [
    "## Preprocessing & Feature Engineering"
   ]
  },
  {
   "cell_type": "code",
   "execution_count": null,
   "id": "0b8a1744",
   "metadata": {},
   "outputs": [],
   "source": [
    "# Display basic information about dataset\n",
    "wifi_df.info()\n",
    "\n",
    "# Check for missing values\n",
    "wifi_df.isnull().sum()"
   ]
  },
  {
   "cell_type": "code",
   "execution_count": null,
   "id": "263a3fa8",
   "metadata": {},
   "outputs": [],
   "source": [
    "columns_to_drop = [\n",
    "    'OBJECTID', 'Location (Lat, Long)', 'BIN', 'BBL', 'DOITT_ID', 'Activated',\n",
    "    'BCTCB2010', 'BoroCD', 'BoroCode', 'Census Tract'\n",
    "]\n",
    "# Dropping irrelevant or redundant columns\n",
    "wifi_cleaned = wifi_df.drop(columns=columns_to_drop)\n",
    "wifi_cleaned.rename(columns={'Borough Name': 'Borough', 'Type': 'WiFi_Type'}, inplace=True)\n",
    "# Dropping rows with missing key categorical values\n",
    "wifi_cleaned = wifi_cleaned.dropna(subset=['WiFi_Type', 'Provider', 'Location'])\n",
    "\n",
    "categorical_cols = ['Borough', 'City', 'WiFi_Type', 'Provider', 'Location']\n",
    "for col in categorical_cols:\n",
    "    wifi_cleaned[col] = wifi_cleaned[col].astype('category')\n",
    "\n",
    "# One-hot encoding categorical features\n",
    "wifi_encoded = pd.get_dummies(wifi_cleaned, columns=categorical_cols, drop_first=True)"
   ]
  },
  {
   "cell_type": "markdown",
   "id": "d40a6178",
   "metadata": {},
   "source": [
    "## Define Features and Target Variable"
   ]
  },
  {
   "cell_type": "markdown",
   "id": "371708b7",
   "metadata": {},
   "source": [
    "### Preprocessing Data\n",
    "- **Dropped Columns**: Removed identifiers and redundant coordinate features (`OBJECTID`, `BBL`, etc.) that do not contribute to regression.\n",
    "- **Null Handling**: Dropped rows with missing `WiFi_Type`, `Provider`, or `Location` since these are critical categorical variables.\n",
    "- **One-Hot Encoding**: Applied to categorical features (`Borough`, `City`, `WiFi_Type`, etc.) to prepare for linear regression."
   ]
  },
  {
   "cell_type": "code",
   "execution_count": null,
   "id": "62f35f27",
   "metadata": {},
   "outputs": [],
   "source": [
    "target = 'Latitude'\n",
    "cols_to_remove = ['Longitude', 'X', 'Y'] + [col for col in wifi_encoded.columns if col.startswith('Location_')]\n",
    "# Dropping irrelevant or redundant columns\n",
    "features = wifi_encoded.drop(columns=cols_to_remove + [target])\n",
    "X = features.select_dtypes(include=[np.number])\n",
    "y = wifi_encoded[target]"
   ]
  },
  {
   "cell_type": "markdown",
   "id": "a9515ca9",
   "metadata": {},
   "source": [
    "## Model Training and Evaluation"
   ]
  },
  {
   "cell_type": "code",
   "execution_count": null,
   "id": "79a53af8",
   "metadata": {},
   "outputs": [],
   "source": [
    "# Display dimensions of features and sample target values\n",
    "print(\"Shape of X:\", X.shape)\n",
    "print(\"Target variable sample:\", y.head())"
   ]
  },
  {
   "cell_type": "code",
   "execution_count": null,
   "id": "b7c8983a",
   "metadata": {},
   "outputs": [],
   "source": [
    "# Splitting the data into train and test sets\n",
    "X_train, X_test, y_train, y_test = train_test_split(X, y, test_size=0.2, random_state=42)\n",
    "# Initializing linear regression model\n",
    "model = LinearRegression()\n",
    "# Fitting the model to training data\n",
    "model.fit(X_train, y_train)\n",
    "# Making predictions on test data\n",
    "y_pred = model.predict(X_test)\n",
    "\n",
    "# Evaluating model performance\n",
    "r2 = r2_score(y_test, y_pred)\n",
    "# Evaluating model performance\n",
    "rmse = np.sqrt(mean_squared_error(y_test, y_pred))\n",
    "\n",
    "print(\"R² Score:\", r2)\n",
    "print(\"RMSE:\", rmse)"
   ]
  },
  {
   "cell_type": "code",
   "execution_count": null,
   "id": "1eccb53f",
   "metadata": {},
   "outputs": [],
   "source": [
    "# Importing necessary libraries\n",
    "import pandas as pd\n",
    "# Importing necessary libraries\n",
    "import matplotlib.pyplot as plt\n",
    "# Importing necessary libraries\n",
    "import seaborn as sns\n",
    "\n",
    "sns.set(style=\"whitegrid\")\n",
    "\n",
    "# Load dataset\n",
    "# Reading dataset into a DataFrame\n",
    "wifi_df = pd.read_csv(\"NYC_Wifi_Data_Dictionary.csv\")\n",
    "wifi_df.rename(columns={'Borough Name': 'Borough', 'Type': 'WiFi_Type'}, inplace=True)\n",
    "\n",
    "# Extract Borough Name from embedded DataFrame column\n",
    "if isinstance(wifi_df['Borough'].iloc[0], (list, pd.Series, pd.DataFrame)):\n",
    "    wifi_df['Borough_Name'] = wifi_df['Borough'].iloc[:, 1]\n",
    "else:\n",
    "    wifi_df['Borough_Name'] = wifi_df['Borough']"
   ]
  },
  {
   "cell_type": "markdown",
   "id": "10fcd27d",
   "metadata": {},
   "source": [
    "## Wi-Fi Hotspots by Borough"
   ]
  },
  {
   "cell_type": "code",
   "execution_count": null,
   "id": "ecb5d68f",
   "metadata": {},
   "outputs": [],
   "source": [
    "plt.figure(figsize=(8, 5))\n",
    "sns.countplot(data=wifi_df, x='Borough_Name', order=wifi_df['Borough_Name'].value_counts().index)\n",
    "plt.title(\"Number of Wi-Fi Hotspots by Borough\")\n",
    "plt.xlabel(\"Borough\")\n",
    "plt.ylabel(\"Count\")\n",
    "plt.xticks(rotation=45)\n",
    "plt.tight_layout()\n",
    "plt.show()"
   ]
  },
  {
   "cell_type": "markdown",
   "id": "b7e0d73d",
   "metadata": {},
   "source": [
    "### Visualization Insight: Borough\n",
    "This bar plot shows the distribution of Wi-Fi hotspots across boroughs. Manhattan and Brooklyn have the highest density, likely due to population and infrastructure."
   ]
  },
  {
   "cell_type": "markdown",
   "id": "6f9a46d7",
   "metadata": {},
   "source": [
    "## Wi-Fi Type Distribution"
   ]
  },
  {
   "cell_type": "code",
   "execution_count": null,
   "id": "95d905c8",
   "metadata": {},
   "outputs": [],
   "source": [
    "plt.figure(figsize=(7, 5))\n",
    "sns.countplot(data=wifi_df, x='WiFi_Type', order=wifi_df['WiFi_Type'].value_counts().index)\n",
    "plt.title(\"Distribution of Wi-Fi Types in NYC\")\n",
    "plt.xlabel(\"Wi-Fi Type\")\n",
    "plt.ylabel(\"Count\")\n",
    "plt.xticks(rotation=45)\n",
    "plt.tight_layout()\n",
    "plt.show()"
   ]
  },
  {
   "cell_type": "markdown",
   "id": "697f5b6d",
   "metadata": {},
   "source": [
    "### Visualization Insight: Wi-Fi Type\n",
    "The majority of hotspots are categorized as 'Free', suggesting that most public access points are openly accessible."
   ]
  },
  {
   "cell_type": "markdown",
   "id": "a59fc1ef",
   "metadata": {},
   "source": [
    "## Correlation of Features with Latitude"
   ]
  },
  {
   "cell_type": "code",
   "execution_count": null,
   "id": "99832a9a",
   "metadata": {},
   "outputs": [],
   "source": [
    "# Importing necessary libraries\n",
    "import numpy as np\n",
    "\n",
    "# One-hot encode categorical columns to access numeric correlations\n",
    "categorical_cols = ['Borough', 'City', 'WiFi_Type', 'Provider', 'Location']\n",
    "for col in categorical_cols:\n",
    "    wifi_df[col] = wifi_df[col].astype('category')\n",
    "# One-hot encoding categorical features\n",
    "wifi_encoded = pd.get_dummies(wifi_df, columns=categorical_cols, drop_first=True)\n",
    "\n",
    "# Correlation heatmap\n",
    "numeric_cols = wifi_encoded.select_dtypes(include=[np.number])\n",
    "corr_matrix = numeric_cols.corr()\n",
    "\n",
    "plt.figure(figsize=(12, 8))\n",
    "sns.heatmap(corr_matrix[['Latitude']].sort_values(by='Latitude', ascending=False), annot=True, cmap='coolwarm')\n",
    "plt.title(\"Correlation of Features with Latitude\")\n",
    "plt.tight_layout()\n",
    "plt.show()"
   ]
  },
  {
   "cell_type": "markdown",
   "id": "bbc7ecab",
   "metadata": {},
   "source": [
    "### Visualization Insight: Correlation with Latitude\n",
    "Some features like borough and provider show stronger correlations with latitude, indicating a spatial trend in public Wi-Fi deployment."
   ]
  },
  {
   "cell_type": "markdown",
   "id": "d5bf5173",
   "metadata": {},
   "source": [
    "## Boxplot: Latitude by Borough"
   ]
  },
  {
   "cell_type": "code",
   "execution_count": null,
   "id": "651d90aa",
   "metadata": {},
   "outputs": [],
   "source": [
    "plt.figure(figsize=(9, 6))\n",
    "sns.boxplot(data=wifi_df, x='Borough_Name', y='Latitude')\n",
    "plt.title(\"Distribution of Wi-Fi Latitude by Borough\")\n",
    "plt.xlabel(\"Borough\")\n",
    "plt.ylabel(\"Latitude\")\n",
    "plt.xticks(rotation=45)\n",
    "plt.tight_layout()\n",
    "plt.show()"
   ]
  },
  {
   "cell_type": "markdown",
   "id": "2f26b74e",
   "metadata": {},
   "source": [
    "### Visualization Insight: Latitude by Borough\n",
    "Boroughs like Queens and the Bronx show higher median latitudes, aligning with their geographic location in northern NYC."
   ]
  },
  {
   "cell_type": "markdown",
   "id": "8324cc07",
   "metadata": {},
   "source": [
    "\n",
    "# Task 3: Regression Analysis\n",
    "\n",
    "Defining our target variable and apply a multiple regression model with both categorical and numerical features.\n",
    "\n",
    "### Target Variable\n",
    "Selecting `Latitude` as the target variable. This allows me to model how `borough`, `provider`, and `Wi-Fi type` influence a hotspot’s geographic placement (north-south) across NYC.\n",
    "\n",
    "### Model Details\n",
    "- **Model**: Multiple Linear Regression\n",
    "- **Features**: One-hot encoded values for `borough`, `provider`, and `Wi-Fi type`, etc.\n",
    "- **Categorical features included**: Yes\n",
    "- **Numerical features included**: Yes (e.g., Postcode)\n",
    "\n",
    "### Evaluation Metrics\n",
    "- **R² Score**: Measures the proportion of variance in `Latitude` explained by the model.\n",
    "- **RMSE**: Indicates the average error in predicted latitude (in decimal degrees).\n",
    "\n",
    "### Results\n",
    "- R² Score: 0.5135468923994284\n",
    "- RMSE: 0.04729884331786411\n",
    "\n"
   ]
  },
  {
   "cell_type": "code",
   "execution_count": null,
   "id": "3d4e3510",
   "metadata": {},
   "outputs": [],
   "source": [
    "# Coefficient analysis\n",
    "coef_df = pd.DataFrame({\n",
    "    'Feature': X_train.columns,\n",
    "    'Coefficient': model.coef_\n",
    "}).sort_values(by='Coefficient', ascending=False)\n",
    "\n",
    "# Top and bottom 10 influencing features\n",
    "top_features = coef_df.head(10)\n",
    "bottom_features = coef_df.tail(10)\n",
    "\n",
    "top_features, bottom_features"
   ]
  },
  {
   "cell_type": "markdown",
   "id": "2da0192c",
   "metadata": {},
   "source": [
    "\n",
    "### Interpretation of Coefficients\n",
    "\n",
    "The features with the highest positive coefficients tend to be neighborhoods in Queens (e.g., `College Point`, `East Elmhurst`, `Little Neck`), which are geographically north in NYC. \n",
    "\n",
    "Conversely, features like `Staten Island` and `New York (downtown)` have strong negative coefficients, suggesting southern hotspot placements.\n"
   ]
  },
  {
   "cell_type": "code",
   "execution_count": null,
   "id": "16a0dc0b",
   "metadata": {},
   "outputs": [],
   "source": [
    "# Simulate a sample prediction\n",
    "sample_input = pd.DataFrame([np.zeros(len(X_train.columns))], columns=X_train.columns)\n",
    "features_to_activate = ['City_College Point', 'Provider_Harlem', 'WiFi_Type_Free']\n",
    "for feature in features_to_activate:\n",
    "    if feature in sample_input.columns:\n",
    "        sample_input.at[0, feature] = 1\n",
    "# Making predictions on test data\n",
    "predicted_latitude = model.predict(sample_input)[0]\n",
    "predicted_latitude"
   ]
  },
  {
   "cell_type": "markdown",
   "id": "b8b10251",
   "metadata": {},
   "source": [
    "\n",
    "### Prediction Explanation\n",
    "\n",
    "A hypothetical hotspot in **College Point**, provided by **Harlem**, and marked as **Free Wi-Fi** is predicted to have a **latitude of 43.01**, indicating a northern NYC location. This aligns with the geographic influence of these features.\n"
   ]
  },
  {
   "cell_type": "markdown",
   "id": "19a7f8ec",
   "metadata": {},
   "source": [
    "\n",
    "## Task 1: Data Collection & Preprocessing\n",
    "- Used NYC Open Data's Wi-Fi Hotspot dataset\n",
    "- Removed irrelevant columns (e.g., raw IDs, coordinate duplicates)\n",
    "- Encoded categorical variables using one-hot encoding\n",
    "- Target variable chosen: `Latitude` (a continuous numeric variable)\n",
    "\n",
    "## Task 2: Data Visualization\n",
    "- Visualized hotspot count by `borough`\n",
    "- Distribution of Wi-Fi types (Free vs. Limited)\n",
    "- Correlation heatmap showed which features most influenced `Latitude`\n",
    "- Boxplot revealed geographic spread of hotspots by `borough`\n",
    "\n",
    "## Task 3: Regression Analysis\n",
    "- Built a multiple linear regression model with 77 features\n",
    "- Evaluated using **R² (0.51)** and **RMSE (0.047)**\n",
    "- Coefficients provided interpretable insights\n",
    "- Prediction aligned with northern boroughs like Queens\n",
    "\n",
    "This project models spatial placement of public Wi-Fi in NYC based on categorical and numerical attributes.\n"
   ]
  }
 ],
 "metadata": {
  "kernelspec": {
   "display_name": "CS301DS",
   "language": "python",
   "name": "python3"
  },
  "language_info": {
   "codemirror_mode": {
    "name": "ipython",
    "version": 3
   },
   "file_extension": ".py",
   "mimetype": "text/x-python",
   "name": "python",
   "nbconvert_exporter": "python",
   "pygments_lexer": "ipython3",
   "version": "3.12.8"
  }
 },
 "nbformat": 4,
 "nbformat_minor": 5
}
