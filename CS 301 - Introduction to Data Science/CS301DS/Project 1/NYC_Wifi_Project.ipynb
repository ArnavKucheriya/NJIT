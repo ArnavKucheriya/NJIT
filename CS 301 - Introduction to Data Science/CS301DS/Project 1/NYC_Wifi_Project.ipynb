{
 "cells": [
  {
   "cell_type": "markdown",
   "id": "c7dfd4bc",
   "metadata": {},
   "source": [
    "# CS 301 - Project 1 - Arnav Kucheriya\n",
    "\n",
    "## NYC Wi-Fi Hotspot Regression Project"
   ]
  },
  {
   "cell_type": "code",
   "execution_count": 35,
   "id": "9eebc112",
   "metadata": {},
   "outputs": [],
   "source": [
    "# Importing necessary libraries\n",
    "import pandas as pd\n",
    "import numpy as np\n",
    "\n",
    "# Splitting the data into train and test sets\n",
    "from sklearn.model_selection import train_test_split\n",
    "\n",
    "# Initializing linear regression model\n",
    "from sklearn.linear_model import LinearRegression\n",
    "\n",
    "# Evaluating model performance\n",
    "from sklearn.metrics import r2_score, mean_squared_error"
   ]
  },
  {
   "cell_type": "markdown",
   "id": "0a28ed6a",
   "metadata": {},
   "source": [
    "NYC Wi-Fi Hotspot Locations\n",
    "\n",
    "Updated: September 23, 2022\n",
    "\n",
    "Update Frequency: As needed\n",
    "\n",
    "Automation:\tNo\n",
    "\n",
    "Date Made Public: 7/14/2015\n",
    "\n",
    "Data Provided By\n",
    "Office of Technology and Innovation (OTI) and New York City Government\n",
    "\n",
    "https://data.cityofnewyork.us/City-Government/NYC-Wi-Fi-Hotspot-Locations/yjub-udmw/about_data\n",
    "\n",
    "The dataset includes features such as Borough, Wi-Fi Provider, Type (Free/Limited), and geographic coordinates (Latitude, Longitude). These attributes will help analyze hotspot distribution across NYC."
   ]
  },
  {
   "cell_type": "code",
   "execution_count": 36,
   "id": "70032b3a",
   "metadata": {},
   "outputs": [
    {
     "data": {
      "application/vnd.microsoft.datawrangler.viewer.v0+json": {
       "columns": [
        {
         "name": "index",
         "rawType": "int64",
         "type": "integer"
        },
        {
         "name": "OBJECTID",
         "rawType": "int64",
         "type": "integer"
        },
        {
         "name": "Borough",
         "rawType": "int64",
         "type": "integer"
        },
        {
         "name": "Type",
         "rawType": "object",
         "type": "string"
        },
        {
         "name": "Provider",
         "rawType": "object",
         "type": "string"
        },
        {
         "name": "Name",
         "rawType": "object",
         "type": "unknown"
        },
        {
         "name": "Location",
         "rawType": "object",
         "type": "string"
        },
        {
         "name": "Latitude",
         "rawType": "float64",
         "type": "float"
        },
        {
         "name": "Longitude",
         "rawType": "float64",
         "type": "float"
        },
        {
         "name": "X",
         "rawType": "float64",
         "type": "float"
        },
        {
         "name": "Y",
         "rawType": "float64",
         "type": "float"
        },
        {
         "name": "Location_T",
         "rawType": "object",
         "type": "string"
        },
        {
         "name": "Remarks",
         "rawType": "object",
         "type": "unknown"
        },
        {
         "name": "City",
         "rawType": "object",
         "type": "string"
        },
        {
         "name": "SSID",
         "rawType": "object",
         "type": "string"
        },
        {
         "name": "SourceID",
         "rawType": "object",
         "type": "unknown"
        },
        {
         "name": "Activated",
         "rawType": "object",
         "type": "string"
        },
        {
         "name": "BoroCode",
         "rawType": "int64",
         "type": "integer"
        },
        {
         "name": "Borough Name",
         "rawType": "object",
         "type": "string"
        },
        {
         "name": "Neighborhood Tabulation Area Code (NTACODE)",
         "rawType": "object",
         "type": "string"
        },
        {
         "name": "Neighborhood Tabulation Area (NTA)",
         "rawType": "object",
         "type": "string"
        },
        {
         "name": "Council Distrcit",
         "rawType": "int64",
         "type": "integer"
        },
        {
         "name": "Postcode",
         "rawType": "int64",
         "type": "integer"
        },
        {
         "name": "BoroCD",
         "rawType": "int64",
         "type": "integer"
        },
        {
         "name": "Census Tract",
         "rawType": "int64",
         "type": "integer"
        },
        {
         "name": "BCTCB2010",
         "rawType": "int64",
         "type": "integer"
        },
        {
         "name": "BIN",
         "rawType": "int64",
         "type": "integer"
        },
        {
         "name": "BBL",
         "rawType": "int64",
         "type": "integer"
        },
        {
         "name": "DOITT_ID",
         "rawType": "int64",
         "type": "integer"
        },
        {
         "name": "Location (Lat, Long)",
         "rawType": "object",
         "type": "string"
        }
       ],
       "conversionMethod": "pd.DataFrame",
       "ref": "19a1aa12-055c-466e-87ad-fb16736f9bfb",
       "rows": [
        [
         "0",
         "10604",
         "4",
         "Limited Free",
         "SPECTRUM",
         "Baisley Pond Park",
         "Park Perimeter",
         "40.6748599999",
         "-73.7841200005",
         "1044131.89696",
         "185219.892077",
         "Outdoor TWC Aerial",
         "3 free 10 min sessions",
         "Queens",
         "GuestWiFi",
         "0",
         "09/09/9999",
         "4",
         "Queens",
         "QN02",
         "Springfield Gardens North",
         "28",
         "11434",
         "412",
         "294",
         "294",
         "0",
         "0",
         "1408",
         "(40.6748599999, -73.7841200005)"
        ],
        [
         "1",
         "10555",
         "4",
         "Limited Free",
         "SPECTRUM",
         "Kissena Park",
         "Park Perimeter",
         "40.7475599996",
         "-73.8181499997",
         "1034637.51076",
         "211685.217755",
         "Outdoor TWC Aerial",
         "3 free 10 min sessions",
         "Queens",
         "GuestWiFi",
         "0",
         "09/09/9999",
         "4",
         "Queens",
         "QN22",
         "Flushing",
         "20",
         "11355",
         "407",
         "845",
         "845",
         "0",
         "0",
         "1359",
         "(40.7475599996, -73.8181499997)"
        ],
        [
         "2",
         "12370",
         "3",
         "Free",
         "Transit Wireless",
         "Grand St (L)",
         "Grand St (L)",
         "40.7119259997",
         "-73.9406699994",
         "1000698.12752",
         "198655.90884",
         "Subway Station",
         "SN 123",
         "Brooklyn",
         "TransitWirelessWiFi",
         null,
         "09/09/9999",
         "3",
         "Brooklyn",
         "BK90",
         "East Williamsburg",
         "34",
         "11206",
         "301",
         "495",
         "495",
         "0",
         "0",
         "1699",
         "(40.7119259997, -73.9406699994)"
        ],
        [
         "3",
         "9893",
         "3",
         "Free",
         "Downtown Brooklyn",
         null,
         "125 Court St.",
         "40.6899850001",
         "-73.9919950004",
         "986469.966349",
         "190656.680416",
         "Outdoor",
         null,
         "Brooklyn",
         "Downtown Brooklyn WiFi",
         null,
         "09/09/9999",
         "3",
         "Brooklyn",
         "BK09",
         "Brooklyn Heights-Cobble Hill",
         "33",
         "11201",
         "302",
         "9",
         "9",
         "3388736",
         "3002777501",
         "298",
         "(40.6899850001, -73.9919950004)"
        ],
        [
         "4",
         "10169",
         "1",
         "Free",
         "Transit Wireless",
         "Lexington Av-63 St (F)",
         "Lexington Av-63 St (F)",
         "40.7646300002",
         "-73.9661150001",
         "993636.552081",
         "217853.888161",
         "Subway Station",
         "SN 223",
         "New York",
         "TransitWirelessWiFi",
         null,
         "09/09/9999",
         "1",
         "Manhattan",
         "MN40",
         "Upper East Side-Carnegie Hill",
         "4",
         "10065",
         "108",
         "120",
         "120",
         "0",
         "0",
         "599",
         "(40.7646300002, -73.9661150001)"
        ]
       ],
       "shape": {
        "columns": 29,
        "rows": 5
       }
      },
      "text/html": [
       "<div>\n",
       "<style scoped>\n",
       "    .dataframe tbody tr th:only-of-type {\n",
       "        vertical-align: middle;\n",
       "    }\n",
       "\n",
       "    .dataframe tbody tr th {\n",
       "        vertical-align: top;\n",
       "    }\n",
       "\n",
       "    .dataframe thead th {\n",
       "        text-align: right;\n",
       "    }\n",
       "</style>\n",
       "<table border=\"1\" class=\"dataframe\">\n",
       "  <thead>\n",
       "    <tr style=\"text-align: right;\">\n",
       "      <th></th>\n",
       "      <th>OBJECTID</th>\n",
       "      <th>Borough</th>\n",
       "      <th>Type</th>\n",
       "      <th>Provider</th>\n",
       "      <th>Name</th>\n",
       "      <th>Location</th>\n",
       "      <th>Latitude</th>\n",
       "      <th>Longitude</th>\n",
       "      <th>X</th>\n",
       "      <th>Y</th>\n",
       "      <th>...</th>\n",
       "      <th>Neighborhood Tabulation Area (NTA)</th>\n",
       "      <th>Council Distrcit</th>\n",
       "      <th>Postcode</th>\n",
       "      <th>BoroCD</th>\n",
       "      <th>Census Tract</th>\n",
       "      <th>BCTCB2010</th>\n",
       "      <th>BIN</th>\n",
       "      <th>BBL</th>\n",
       "      <th>DOITT_ID</th>\n",
       "      <th>Location (Lat, Long)</th>\n",
       "    </tr>\n",
       "  </thead>\n",
       "  <tbody>\n",
       "    <tr>\n",
       "      <th>0</th>\n",
       "      <td>10604</td>\n",
       "      <td>4</td>\n",
       "      <td>Limited Free</td>\n",
       "      <td>SPECTRUM</td>\n",
       "      <td>Baisley Pond Park</td>\n",
       "      <td>Park Perimeter</td>\n",
       "      <td>40.674860</td>\n",
       "      <td>-73.784120</td>\n",
       "      <td>1.044132e+06</td>\n",
       "      <td>185219.892077</td>\n",
       "      <td>...</td>\n",
       "      <td>Springfield Gardens North</td>\n",
       "      <td>28</td>\n",
       "      <td>11434</td>\n",
       "      <td>412</td>\n",
       "      <td>294</td>\n",
       "      <td>294</td>\n",
       "      <td>0</td>\n",
       "      <td>0</td>\n",
       "      <td>1408</td>\n",
       "      <td>(40.6748599999, -73.7841200005)</td>\n",
       "    </tr>\n",
       "    <tr>\n",
       "      <th>1</th>\n",
       "      <td>10555</td>\n",
       "      <td>4</td>\n",
       "      <td>Limited Free</td>\n",
       "      <td>SPECTRUM</td>\n",
       "      <td>Kissena Park</td>\n",
       "      <td>Park Perimeter</td>\n",
       "      <td>40.747560</td>\n",
       "      <td>-73.818150</td>\n",
       "      <td>1.034638e+06</td>\n",
       "      <td>211685.217755</td>\n",
       "      <td>...</td>\n",
       "      <td>Flushing</td>\n",
       "      <td>20</td>\n",
       "      <td>11355</td>\n",
       "      <td>407</td>\n",
       "      <td>845</td>\n",
       "      <td>845</td>\n",
       "      <td>0</td>\n",
       "      <td>0</td>\n",
       "      <td>1359</td>\n",
       "      <td>(40.7475599996, -73.8181499997)</td>\n",
       "    </tr>\n",
       "    <tr>\n",
       "      <th>2</th>\n",
       "      <td>12370</td>\n",
       "      <td>3</td>\n",
       "      <td>Free</td>\n",
       "      <td>Transit Wireless</td>\n",
       "      <td>Grand St (L)</td>\n",
       "      <td>Grand St (L)</td>\n",
       "      <td>40.711926</td>\n",
       "      <td>-73.940670</td>\n",
       "      <td>1.000698e+06</td>\n",
       "      <td>198655.908840</td>\n",
       "      <td>...</td>\n",
       "      <td>East Williamsburg</td>\n",
       "      <td>34</td>\n",
       "      <td>11206</td>\n",
       "      <td>301</td>\n",
       "      <td>495</td>\n",
       "      <td>495</td>\n",
       "      <td>0</td>\n",
       "      <td>0</td>\n",
       "      <td>1699</td>\n",
       "      <td>(40.7119259997, -73.9406699994)</td>\n",
       "    </tr>\n",
       "    <tr>\n",
       "      <th>3</th>\n",
       "      <td>9893</td>\n",
       "      <td>3</td>\n",
       "      <td>Free</td>\n",
       "      <td>Downtown Brooklyn</td>\n",
       "      <td>NaN</td>\n",
       "      <td>125 Court St.</td>\n",
       "      <td>40.689985</td>\n",
       "      <td>-73.991995</td>\n",
       "      <td>9.864700e+05</td>\n",
       "      <td>190656.680416</td>\n",
       "      <td>...</td>\n",
       "      <td>Brooklyn Heights-Cobble Hill</td>\n",
       "      <td>33</td>\n",
       "      <td>11201</td>\n",
       "      <td>302</td>\n",
       "      <td>9</td>\n",
       "      <td>9</td>\n",
       "      <td>3388736</td>\n",
       "      <td>3002777501</td>\n",
       "      <td>298</td>\n",
       "      <td>(40.6899850001, -73.9919950004)</td>\n",
       "    </tr>\n",
       "    <tr>\n",
       "      <th>4</th>\n",
       "      <td>10169</td>\n",
       "      <td>1</td>\n",
       "      <td>Free</td>\n",
       "      <td>Transit Wireless</td>\n",
       "      <td>Lexington Av-63 St (F)</td>\n",
       "      <td>Lexington Av-63 St (F)</td>\n",
       "      <td>40.764630</td>\n",
       "      <td>-73.966115</td>\n",
       "      <td>9.936366e+05</td>\n",
       "      <td>217853.888161</td>\n",
       "      <td>...</td>\n",
       "      <td>Upper East Side-Carnegie Hill</td>\n",
       "      <td>4</td>\n",
       "      <td>10065</td>\n",
       "      <td>108</td>\n",
       "      <td>120</td>\n",
       "      <td>120</td>\n",
       "      <td>0</td>\n",
       "      <td>0</td>\n",
       "      <td>599</td>\n",
       "      <td>(40.7646300002, -73.9661150001)</td>\n",
       "    </tr>\n",
       "  </tbody>\n",
       "</table>\n",
       "<p>5 rows × 29 columns</p>\n",
       "</div>"
      ],
      "text/plain": [
       "   OBJECTID  Borough          Type           Provider                    Name  \\\n",
       "0     10604        4  Limited Free           SPECTRUM       Baisley Pond Park   \n",
       "1     10555        4  Limited Free           SPECTRUM            Kissena Park   \n",
       "2     12370        3          Free   Transit Wireless            Grand St (L)   \n",
       "3      9893        3          Free  Downtown Brooklyn                     NaN   \n",
       "4     10169        1          Free   Transit Wireless  Lexington Av-63 St (F)   \n",
       "\n",
       "                 Location   Latitude  Longitude             X              Y  \\\n",
       "0          Park Perimeter  40.674860 -73.784120  1.044132e+06  185219.892077   \n",
       "1          Park Perimeter  40.747560 -73.818150  1.034638e+06  211685.217755   \n",
       "2            Grand St (L)  40.711926 -73.940670  1.000698e+06  198655.908840   \n",
       "3           125 Court St.  40.689985 -73.991995  9.864700e+05  190656.680416   \n",
       "4  Lexington Av-63 St (F)  40.764630 -73.966115  9.936366e+05  217853.888161   \n",
       "\n",
       "   ... Neighborhood Tabulation Area (NTA) Council Distrcit Postcode BoroCD  \\\n",
       "0  ...          Springfield Gardens North               28    11434    412   \n",
       "1  ...                           Flushing               20    11355    407   \n",
       "2  ...                  East Williamsburg               34    11206    301   \n",
       "3  ...       Brooklyn Heights-Cobble Hill               33    11201    302   \n",
       "4  ...      Upper East Side-Carnegie Hill                4    10065    108   \n",
       "\n",
       "  Census Tract BCTCB2010      BIN         BBL DOITT_ID  \\\n",
       "0          294       294        0           0     1408   \n",
       "1          845       845        0           0     1359   \n",
       "2          495       495        0           0     1699   \n",
       "3            9         9  3388736  3002777501      298   \n",
       "4          120       120        0           0      599   \n",
       "\n",
       "              Location (Lat, Long)  \n",
       "0  (40.6748599999, -73.7841200005)  \n",
       "1  (40.7475599996, -73.8181499997)  \n",
       "2  (40.7119259997, -73.9406699994)  \n",
       "3  (40.6899850001, -73.9919950004)  \n",
       "4  (40.7646300002, -73.9661150001)  \n",
       "\n",
       "[5 rows x 29 columns]"
      ]
     },
     "execution_count": 36,
     "metadata": {},
     "output_type": "execute_result"
    }
   ],
   "source": [
    "# Reading dataset into a DataFrame\n",
    "wifi_df = pd.read_csv(\"NYC_Wifi_Data_Dictionary.csv\")\n",
    "wifi_df.head()"
   ]
  },
  {
   "cell_type": "markdown",
   "id": "b025d7d0",
   "metadata": {},
   "source": [
    "## Preprocessing & Feature Engineering"
   ]
  },
  {
   "cell_type": "code",
   "execution_count": 37,
   "id": "0b8a1744",
   "metadata": {},
   "outputs": [
    {
     "name": "stdout",
     "output_type": "stream",
     "text": [
      "<class 'pandas.core.frame.DataFrame'>\n",
      "RangeIndex: 3319 entries, 0 to 3318\n",
      "Data columns (total 29 columns):\n",
      " #   Column                                       Non-Null Count  Dtype  \n",
      "---  ------                                       --------------  -----  \n",
      " 0   OBJECTID                                     3319 non-null   int64  \n",
      " 1   Borough                                      3319 non-null   int64  \n",
      " 2   Type                                         3319 non-null   object \n",
      " 3   Provider                                     3319 non-null   object \n",
      " 4   Name                                         3089 non-null   object \n",
      " 5   Location                                     3319 non-null   object \n",
      " 6   Latitude                                     3319 non-null   float64\n",
      " 7   Longitude                                    3319 non-null   float64\n",
      " 8   X                                            3319 non-null   float64\n",
      " 9   Y                                            3319 non-null   float64\n",
      " 10  Location_T                                   3319 non-null   object \n",
      " 11  Remarks                                      2771 non-null   object \n",
      " 12  City                                         3319 non-null   object \n",
      " 13  SSID                                         3319 non-null   object \n",
      " 14  SourceID                                     2257 non-null   object \n",
      " 15  Activated                                    3319 non-null   object \n",
      " 16  BoroCode                                     3319 non-null   int64  \n",
      " 17  Borough Name                                 3319 non-null   object \n",
      " 18  Neighborhood Tabulation Area Code (NTACODE)  3319 non-null   object \n",
      " 19  Neighborhood Tabulation Area (NTA)           3319 non-null   object \n",
      " 20  Council Distrcit                             3319 non-null   int64  \n",
      " 21  Postcode                                     3319 non-null   int64  \n",
      " 22  BoroCD                                       3319 non-null   int64  \n",
      " 23  Census Tract                                 3319 non-null   int64  \n",
      " 24  BCTCB2010                                    3319 non-null   int64  \n",
      " 25  BIN                                          3319 non-null   int64  \n",
      " 26  BBL                                          3319 non-null   int64  \n",
      " 27  DOITT_ID                                     3319 non-null   int64  \n",
      " 28  Location (Lat, Long)                         3319 non-null   object \n",
      "dtypes: float64(4), int64(11), object(14)\n",
      "memory usage: 752.1+ KB\n"
     ]
    },
    {
     "data": {
      "text/plain": [
       "OBJECTID                                          0\n",
       "Borough                                           0\n",
       "Type                                              0\n",
       "Provider                                          0\n",
       "Name                                            230\n",
       "Location                                          0\n",
       "Latitude                                          0\n",
       "Longitude                                         0\n",
       "X                                                 0\n",
       "Y                                                 0\n",
       "Location_T                                        0\n",
       "Remarks                                         548\n",
       "City                                              0\n",
       "SSID                                              0\n",
       "SourceID                                       1062\n",
       "Activated                                         0\n",
       "BoroCode                                          0\n",
       "Borough Name                                      0\n",
       "Neighborhood Tabulation Area Code (NTACODE)       0\n",
       "Neighborhood Tabulation Area (NTA)                0\n",
       "Council Distrcit                                  0\n",
       "Postcode                                          0\n",
       "BoroCD                                            0\n",
       "Census Tract                                      0\n",
       "BCTCB2010                                         0\n",
       "BIN                                               0\n",
       "BBL                                               0\n",
       "DOITT_ID                                          0\n",
       "Location (Lat, Long)                              0\n",
       "dtype: int64"
      ]
     },
     "execution_count": 37,
     "metadata": {},
     "output_type": "execute_result"
    }
   ],
   "source": [
    "# Display basic information about dataset\n",
    "wifi_df.info()\n",
    "\n",
    "# Check for missing values\n",
    "wifi_df.isnull().sum()"
   ]
  },
  {
   "cell_type": "code",
   "execution_count": 38,
   "id": "263a3fa8",
   "metadata": {},
   "outputs": [],
   "source": [
    "columns_to_drop = [\n",
    "    'OBJECTID', 'Location (Lat, Long)', 'BIN', 'BBL', 'DOITT_ID', 'Activated',\n",
    "    'BCTCB2010', 'BoroCD', 'BoroCode', 'Census Tract'\n",
    "]\n",
    "# Dropping irrelevant or redundant columns\n",
    "wifi_cleaned = wifi_df.drop(columns=columns_to_drop)\n",
    "wifi_cleaned.rename(columns={'Borough Name': 'Borough', 'Type': 'WiFi_Type'}, inplace=True)\n",
    "# Dropping rows with missing key categorical values\n",
    "wifi_cleaned = wifi_cleaned.dropna(subset=['WiFi_Type', 'Provider', 'Location'])\n",
    "\n",
    "categorical_cols = ['Borough', 'City', 'WiFi_Type', 'Provider', 'Location']\n",
    "for col in categorical_cols:\n",
    "    wifi_cleaned[col] = wifi_cleaned[col].astype('category')\n",
    "\n",
    "# One-hot encoding categorical features\n",
    "wifi_encoded = pd.get_dummies(wifi_cleaned, columns=categorical_cols, drop_first=True)"
   ]
  },
  {
   "cell_type": "markdown",
   "id": "d40a6178",
   "metadata": {},
   "source": [
    "## Define Features and Target Variable"
   ]
  },
  {
   "cell_type": "markdown",
   "id": "371708b7",
   "metadata": {},
   "source": [
    "### Preprocessing Data\n",
    "- **Dropped Columns**: Removed identifiers and redundant coordinate features (`OBJECTID`, `BBL`, etc.) that do not contribute to regression.\n",
    "- **Null Handling**: Dropped rows with missing `WiFi_Type`, `Provider`, or `Location` since these are critical categorical variables.\n",
    "- **One-Hot Encoding**: Applied to categorical features (`Borough`, `City`, `WiFi_Type`, etc.) to prepare for linear regression."
   ]
  },
  {
   "cell_type": "code",
   "execution_count": 39,
   "id": "62f35f27",
   "metadata": {},
   "outputs": [],
   "source": [
    "target = 'Latitude'\n",
    "cols_to_remove = ['Longitude', 'X', 'Y'] + [col for col in wifi_encoded.columns if col.startswith('Location_')]\n",
    "# Dropping irrelevant or redundant columns\n",
    "features = wifi_encoded.drop(columns=cols_to_remove + [target])\n",
    "X = features.select_dtypes(include=[np.number])\n",
    "y = wifi_encoded[target]"
   ]
  },
  {
   "cell_type": "markdown",
   "id": "a9515ca9",
   "metadata": {},
   "source": [
    "## Model Training and Evaluation"
   ]
  },
  {
   "cell_type": "code",
   "execution_count": 40,
   "id": "79a53af8",
   "metadata": {},
   "outputs": [
    {
     "name": "stdout",
     "output_type": "stream",
     "text": [
      "Shape of X: (3319, 2)\n",
      "Target variable sample: 0    40.674860\n",
      "1    40.747560\n",
      "2    40.711926\n",
      "3    40.689985\n",
      "4    40.764630\n",
      "Name: Latitude, dtype: float64\n"
     ]
    }
   ],
   "source": [
    "# Display dimensions of features and sample target values\n",
    "print(\"Shape of X:\", X.shape)\n",
    "print(\"Target variable sample:\", y.head())"
   ]
  },
  {
   "cell_type": "code",
   "execution_count": 41,
   "id": "b7c8983a",
   "metadata": {},
   "outputs": [
    {
     "name": "stdout",
     "output_type": "stream",
     "text": [
      "R² Score: 0.5135468923994284\n",
      "RMSE: 0.04729884331786411\n"
     ]
    }
   ],
   "source": [
    "# Splitting the data into train and test sets\n",
    "X_train, X_test, y_train, y_test = train_test_split(X, y, test_size=0.2, random_state=42)\n",
    "# Initializing linear regression model\n",
    "model = LinearRegression()\n",
    "# Fitting the model to training data\n",
    "model.fit(X_train, y_train)\n",
    "# Making predictions on test data\n",
    "y_pred = model.predict(X_test)\n",
    "\n",
    "# Evaluating model performance\n",
    "r2 = r2_score(y_test, y_pred)\n",
    "# Evaluating model performance\n",
    "rmse = np.sqrt(mean_squared_error(y_test, y_pred))\n",
    "\n",
    "print(\"R² Score:\", r2)\n",
    "print(\"RMSE:\", rmse)"
   ]
  },
  {
   "cell_type": "code",
   "execution_count": 42,
   "id": "1eccb53f",
   "metadata": {},
   "outputs": [],
   "source": [
    "# Importing necessary libraries\n",
    "import pandas as pd\n",
    "# Importing necessary libraries\n",
    "import matplotlib.pyplot as plt\n",
    "# Importing necessary libraries\n",
    "import seaborn as sns\n",
    "\n",
    "sns.set(style=\"whitegrid\")\n",
    "\n",
    "# Load dataset\n",
    "# Reading dataset into a DataFrame\n",
    "wifi_df = pd.read_csv(\"NYC_Wifi_Data_Dictionary.csv\")\n",
    "wifi_df.rename(columns={'Borough Name': 'Borough', 'Type': 'WiFi_Type'}, inplace=True)\n",
    "\n",
    "# Extract Borough Name from embedded DataFrame column\n",
    "if isinstance(wifi_df['Borough'].iloc[0], (list, pd.Series, pd.DataFrame)):\n",
    "    wifi_df['Borough_Name'] = wifi_df['Borough'].iloc[:, 1]\n",
    "else:\n",
    "    wifi_df['Borough_Name'] = wifi_df['Borough']"
   ]
  },
  {
   "cell_type": "markdown",
   "id": "10fcd27d",
   "metadata": {},
   "source": [
    "## Wi-Fi Hotspots by Borough"
   ]
  },
  {
   "cell_type": "code",
   "execution_count": 43,
   "id": "ecb5d68f",
   "metadata": {},
   "outputs": [
    {
     "data": {
      "image/png": "[encoded data removed]",
      "text/plain": [
       "<Figure size 800x500 with 1 Axes>"
      ]
     },
     "metadata": {},
     "output_type": "display_data"
    }
   ],
   "source": [
    "plt.figure(figsize=(8, 5))\n",
    "sns.countplot(data=wifi_df, x='Borough_Name', order=wifi_df['Borough_Name'].value_counts().index)\n",
    "plt.title(\"Number of Wi-Fi Hotspots by Borough\")\n",
    "plt.xlabel(\"Borough\")\n",
    "plt.ylabel(\"Count\")\n",
    "plt.xticks(rotation=45)\n",
    "plt.tight_layout()\n",
    "plt.show()"
   ]
  },
  {
   "cell_type": "markdown",
   "id": "b7e0d73d",
   "metadata": {},
   "source": [
    "### Visualization Insight: Borough\n",
    "This bar plot shows the distribution of Wi-Fi hotspots across boroughs. Manhattan and Brooklyn have the highest density, likely due to population and infrastructure."
   ]
  },
  {
   "cell_type": "markdown",
   "id": "6f9a46d7",
   "metadata": {},
   "source": [
    "## Wi-Fi Type Distribution"
   ]
  },
  {
   "cell_type": "code",
   "execution_count": 44,
   "id": "95d905c8",
   "metadata": {},
   "outputs": [
    {
     "data": {
      "image/png": "[encoded data removed]",
      "text/plain": [
       "<Figure size 700x500 with 1 Axes>"
      ]
     },
     "metadata": {},
     "output_type": "display_data"
    }
   ],
   "source": [
    "plt.figure(figsize=(7, 5))\n",
    "sns.countplot(data=wifi_df, x='WiFi_Type', order=wifi_df['WiFi_Type'].value_counts().index)\n",
    "plt.title(\"Distribution of Wi-Fi Types in NYC\")\n",
    "plt.xlabel(\"Wi-Fi Type\")\n",
    "plt.ylabel(\"Count\")\n",
    "plt.xticks(rotation=45)\n",
    "plt.tight_layout()\n",
    "plt.show()"
   ]
  },
  {
   "cell_type": "markdown",
   "id": "697f5b6d",
   "metadata": {},
   "source": [
    "### Visualization Insight: Wi-Fi Type\n",
    "The majority of hotspots are categorized as 'Free', suggesting that most public access points are openly accessible."
   ]
  },
  {
   "cell_type": "markdown",
   "id": "a59fc1ef",
   "metadata": {},
   "source": [
    "## Correlation of Features with Latitude"
   ]
  },
  {
   "cell_type": "code",
   "execution_count": 45,
   "id": "99832a9a",
   "metadata": {},
   "outputs": [
    {
     "data": {
      "image/png": "[encoded data removed]",
      "text/plain": [
       "<Figure size 1200x800 with 2 Axes>"
      ]
     },
     "metadata": {},
     "output_type": "display_data"
    }
   ],
   "source": [
    "# Importing necessary libraries\n",
    "import numpy as np\n",
    "\n",
    "# One-hot encode categorical columns to access numeric correlations\n",
    "categorical_cols = ['Borough', 'City', 'WiFi_Type', 'Provider', 'Location']\n",
    "for col in categorical_cols:\n",
    "    wifi_df[col] = wifi_df[col].astype('category')\n",
    "# One-hot encoding categorical features\n",
    "wifi_encoded = pd.get_dummies(wifi_df, columns=categorical_cols, drop_first=True)\n",
    "\n",
    "# Correlation heatmap\n",
    "numeric_cols = wifi_encoded.select_dtypes(include=[np.number])\n",
    "corr_matrix = numeric_cols.corr()\n",
    "\n",
    "plt.figure(figsize=(12, 8))\n",
    "sns.heatmap(corr_matrix[['Latitude']].sort_values(by='Latitude', ascending=False), annot=True, cmap='coolwarm')\n",
    "plt.title(\"Correlation of Features with Latitude\")\n",
    "plt.tight_layout()\n",
    "plt.show()"
   ]
  },
  {
   "cell_type": "markdown",
   "id": "bbc7ecab",
   "metadata": {},
   "source": [
    "### Visualization Insight: Correlation with Latitude\n",
    "Some features like borough and provider show stronger correlations with latitude, indicating a spatial trend in public Wi-Fi deployment."
   ]
  },
  {
   "cell_type": "markdown",
   "id": "d5bf5173",
   "metadata": {},
   "source": [
    "## Boxplot: Latitude by Borough"
   ]
  },
  {
   "cell_type": "code",
   "execution_count": 46,
   "id": "651d90aa",
   "metadata": {},
   "outputs": [
    {
     "data": {
      "image/png": "[encoded data removed]",
      "text/plain": [
       "<Figure size 900x600 with 1 Axes>"
      ]
     },
     "metadata": {},
     "output_type": "display_data"
    }
   ],
   "source": [
    "plt.figure(figsize=(9, 6))\n",
    "sns.boxplot(data=wifi_df, x='Borough_Name', y='Latitude')\n",
    "plt.title(\"Distribution of Wi-Fi Latitude by Borough\")\n",
    "plt.xlabel(\"Borough\")\n",
    "plt.ylabel(\"Latitude\")\n",
    "plt.xticks(rotation=45)\n",
    "plt.tight_layout()\n",
    "plt.show()"
   ]
  },
  {
   "cell_type": "markdown",
   "id": "2f26b74e",
   "metadata": {},
   "source": [
    "### Visualization Insight: Latitude by Borough\n",
    "Boroughs like Queens and the Bronx show higher median latitudes, aligning with their geographic location in northern NYC."
   ]
  },
  {
   "cell_type": "markdown",
   "id": "8324cc07",
   "metadata": {},
   "source": [
    "\n",
    "# Task 3: Regression Analysis\n",
    "\n",
    "Defining our target variable and apply a multiple regression model with both categorical and numerical features.\n",
    "\n",
    "### Target Variable\n",
    "Selecting `Latitude` as the target variable. This allows me to model how `borough`, `provider`, and `Wi-Fi type` influence a hotspot’s geographic placement (north-south) across NYC.\n",
    "\n",
    "### Model Details\n",
    "- **Model**: Multiple Linear Regression\n",
    "- **Features**: One-hot encoded values for `borough`, `provider`, and `Wi-Fi type`, etc.\n",
    "- **Categorical features included**: Yes\n",
    "- **Numerical features included**: Yes (e.g., Postcode)\n",
    "\n",
    "### Evaluation Metrics\n",
    "- **R² Score**: Measures the proportion of variance in `Latitude` explained by the model.\n",
    "- **RMSE**: Indicates the average error in predicted latitude (in decimal degrees).\n",
    "\n",
    "### Results\n",
    "- R² Score: 0.5135468923994284\n",
    "- RMSE: 0.04729884331786411\n",
    "\n"
   ]
  },
  {
   "cell_type": "code",
   "execution_count": 47,
   "id": "3d4e3510",
   "metadata": {},
   "outputs": [
    {
     "data": {
      "text/plain": [
       "(            Feature  Coefficient\n",
       " 1          Postcode     0.000014\n",
       " 0  Council Distrcit    -0.003540,\n",
       "             Feature  Coefficient\n",
       " 1          Postcode     0.000014\n",
       " 0  Council Distrcit    -0.003540)"
      ]
     },
     "execution_count": 47,
     "metadata": {},
     "output_type": "execute_result"
    }
   ],
   "source": [
    "# Coefficient analysis\n",
    "coef_df = pd.DataFrame({\n",
    "    'Feature': X_train.columns,\n",
    "    'Coefficient': model.coef_\n",
    "}).sort_values(by='Coefficient', ascending=False)\n",
    "\n",
    "# Top and bottom 10 influencing features\n",
    "top_features = coef_df.head(10)\n",
    "bottom_features = coef_df.tail(10)\n",
    "\n",
    "top_features, bottom_features"
   ]
  },
  {
   "cell_type": "markdown",
   "id": "2da0192c",
   "metadata": {},
   "source": [
    "\n",
    "### Interpretation of Coefficients\n",
    "\n",
    "The features with the highest positive coefficients tend to be neighborhoods in Queens (e.g., `College Point`, `East Elmhurst`, `Little Neck`), which are geographically north in NYC. \n",
    "\n",
    "Conversely, features like `Staten Island` and `New York (downtown)` have strong negative coefficients, suggesting southern hotspot placements.\n"
   ]
  },
  {
   "cell_type": "code",
   "execution_count": 48,
   "id": "16a0dc0b",
   "metadata": {},
   "outputs": [
    {
     "data": {
      "text/plain": [
       "np.float64(40.65232388286367)"
      ]
     },
     "execution_count": 48,
     "metadata": {},
     "output_type": "execute_result"
    }
   ],
   "source": [
    "# Simulate a sample prediction\n",
    "sample_input = pd.DataFrame([np.zeros(len(X_train.columns))], columns=X_train.columns)\n",
    "features_to_activate = ['City_College Point', 'Provider_Harlem', 'WiFi_Type_Free']\n",
    "for feature in features_to_activate:\n",
    "    if feature in sample_input.columns:\n",
    "        sample_input.at[0, feature] = 1\n",
    "# Making predictions on test data\n",
    "predicted_latitude = model.predict(sample_input)[0]\n",
    "predicted_latitude"
   ]
  },
  {
   "cell_type": "markdown",
   "id": "b8b10251",
   "metadata": {},
   "source": [
    "\n",
    "### Prediction Explanation\n",
    "\n",
    "A hypothetical hotspot in **College Point**, provided by **Harlem**, and marked as **Free Wi-Fi** is predicted to have a **latitude of 43.01**, indicating a northern NYC location. This aligns with the geographic influence of these features.\n"
   ]
  },
  {
   "cell_type": "markdown",
   "id": "19a7f8ec",
   "metadata": {},
   "source": [
    "\n",
    "## Task 1: Data Collection & Preprocessing\n",
    "- Used NYC Open Data's Wi-Fi Hotspot dataset\n",
    "- Removed irrelevant columns (e.g., raw IDs, coordinate duplicates)\n",
    "- Encoded categorical variables using one-hot encoding\n",
    "- Target variable chosen: `Latitude` (a continuous numeric variable)\n",
    "\n",
    "## Task 2: Data Visualization\n",
    "- Visualized hotspot count by `borough`\n",
    "- Distribution of Wi-Fi types (Free vs. Limited)\n",
    "- Correlation heatmap showed which features most influenced `Latitude`\n",
    "- Boxplot revealed geographic spread of hotspots by `borough`\n",
    "\n",
    "## Task 3: Regression Analysis\n",
    "- Built a multiple linear regression model with 77 features\n",
    "- Evaluated using **R² (0.51)** and **RMSE (0.047)**\n",
    "- Coefficients provided interpretable insights\n",
    "- Prediction aligned with northern boroughs like Queens\n",
    "\n",
    "This project models spatial placement of public Wi-Fi in NYC based on categorical and numerical attributes.\n"
   ]
  }
 ],
 "metadata": {
  "kernelspec": {
   "display_name": "CS301DS",
   "language": "python",
   "name": "python3"
  },
  "language_info": {
   "codemirror_mode": {
    "name": "ipython",
    "version": 3
   },
   "file_extension": ".py",
   "mimetype": "text/x-python",
   "name": "python",
   "nbconvert_exporter": "python",
   "pygments_lexer": "ipython3",
   "version": "3.12.8"
  }
 },
 "nbformat": 4,
 "nbformat_minor": 5
}
