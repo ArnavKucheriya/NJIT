{
 "cells": [
  {
   "cell_type": "markdown",
   "id": "1a8a4f3c",
   "metadata": {},
   "source": [
    "## Hierarchical clustering\n",
    "\n",
    "### Introduction to hierarchical clustering\n",
    "\n",
    "Hierarchical clustering groups instances into a hierarchy of clusters where one end is a single cluster that contains all instances and at the other end are clusters that contain just one instance. Two types of hierarchical clustering methods exist:\n",
    "\n",
    "- **Agglomerative hierarchical clustering** is a clustering method where each instance is treated as an individual cluster, and two clusters are combined iteratively until all instances belong to a single cluster. Since agglomerative clustering is less computationally complex, this section will primarily focus on this technique.\n",
    "- **Divisive hierarchical clustering** is a clustering method where all instances belong to a single cluster, and each cluster is split into two clusters iteratively until all clusters just contain a single instance.\n",
    "\n",
    "Agglomerative hierarchical clustering and divisive hierarchical clustering perform similarly. But, the clusters obtained using each algorithm are likely to differ."
   ]
  },
  {
   "cell_type": "markdown",
   "id": "64f0bbac",
   "metadata": {},
   "source": [
    "### Measures of similarity\n",
    "\n",
    "Methods for computing the similarity of two clusters include:\n",
    "\n",
    "- The **single linkage method** calculates the distance between a pair of instances, one from each cluster, that are the most similar.\n",
    "- The **complete linkage method** calculates the distance between a pair of instances, one from each cluster, that are the most different.\n",
    "- The **centroid (average) linkage method** calculates the distance between the centroids of two clusters.\n",
    "\n",
    "| ![Linkage Methods](linkages.jpg) |\n",
    "|:--:|\n",
    "| <b>Source: http://compbio.pbworks.com/w/page/16252903/Microarray%20Clustering%20Methods%20and%20Gene%20Ontology</b>|"
   ]
  },
  {
   "cell_type": "markdown",
   "id": "b1657cb2",
   "metadata": {},
   "source": [
    "### Dendrograms\n",
    "\n",
    "The output of a hierarchical clustering algorithm is a dendrogram. A dendrogram is a tree that shows the order in which clusters are grouped together and the distances between clusters. Parts of a dendrogram are listed below:\n",
    "\n",
    "- A **clade** is a branch of a dendrogram or a vertical line.\n",
    "- A **link** is a horizontal line that connects two clades, whose height gives the distance between clusters.\n",
    "- A **leaf** is the terminal end of each clade in a dendrogram, which represents a single instance."
   ]
  },
  {
   "cell_type": "markdown",
   "id": "0d49d0b5",
   "metadata": {},
   "source": [
    "| ![Dendrograms](dendrogram.png) |\n",
    "|:--:|\n",
    "| <b>Source: http://compbio.pbworks.com/w/page/16252903/Microarray%20Clustering%20Methods%20and%20Gene%20Ontology</b>|"
   ]
  },
  {
   "cell_type": "markdown",
   "id": "baa5a470",
   "metadata": {},
   "source": [
    "### Determining the number of clusters given a threshold\n",
    "\n",
    "A dendrogram can be used as a starting point to find the optimal number of clusters. No conclusions about the optimal number of clusters should be made without using more quantitative techniques like the elbow method. Given a model with a specified distance threshold, the resulting number of clusters can be obtained by counting the number of intersections between the threshold (represented by a horizontal line) and the clades (represented by vertical lines).\n",
    "\n",
    "| ![Dendrogram Thresholds](dendrogram_threshold.png) |\n",
    "|:--:|\n",
    "| <b>Source: https://towardsdatascience.com/a-practical-introduction-to-hierarchical-clustering-from-scikit-learn-ffaf8ee2670c</b>|"
   ]
  },
  {
   "cell_type": "markdown",
   "id": "037c2030",
   "metadata": {},
   "source": [
    "### Agglomerative clustering in Python\n",
    "\n",
    "**linkage()** performs agglomerative clustering. The most important parameters are **method** and **metric**. The method parameter specifies the measure of similarity, such as single, complete, and centroid. The metric parameter specifies the kind of distance between instances, such as Euclidean distance. The rest of the parameters and matching values can be found in scipy documentation for hierarchical clustering.\n",
    "\n",
    "The **dendrogram** function plots a dendrogram given a dataframe. The scipy documentation for dendrograms lists the parameters and corresponding values.\n",
    "\n",
    "Sometimes, a more convenient way of structuring the data for clustering is by using a distance matrix. The agglomerative clustering model can take in a distance matrix as input by using the **squareform** function from the **spatial.distance** package.\n",
    "\n",
    "The Python code below uses agglomerative clustering to cluster species based on differences in the cytochrome c protein."
   ]
  },
  {
   "cell_type": "code",
   "execution_count": null,
   "id": "c255e314",
   "metadata": {},
   "outputs": [],
   "source": [
    "# Import packages and functions\n",
    "import pandas as pd\n",
    "import numpy as np\n",
    "import matplotlib.pyplot as plt\n",
    "\n",
    "from scipy.cluster.hierarchy import dendrogram, linkage\n",
    "from scipy.spatial.distance import squareform\n",
    "\n",
    "# Load the dataset\n",
    "cytochrome = pd.read_csv('data/cytochrome.csv', header=None, usecols=range(1, 14))\n",
    "cytochrome"
   ]
  },
  {
   "cell_type": "code",
   "execution_count": null,
   "id": "da03ad79",
   "metadata": {},
   "outputs": [],
   "source": [
    "# Add labels for each species and save as a data frame\n",
    "species = [\n",
    "    \"Human\",\n",
    "    \"Monkey\",\n",
    "    \"Horse\",\n",
    "    \"Cow\",\n",
    "    \"Dog\",\n",
    "    \"Whale\",\n",
    "    \"Rabbit\",\n",
    "    \"Kangaroo\",\n",
    "    \"Chicken\",\n",
    "    \"Penguin\",\n",
    "    \"Duck\",\n",
    "    \"Turtle\",\n",
    "    \"Frog\",\n",
    "]\n",
    "\n",
    "pd.DataFrame(data=cytochrome.to_numpy(), index=species, columns=species)"
   ]
  },
  {
   "cell_type": "code",
   "execution_count": null,
   "id": "c612dbe1",
   "metadata": {},
   "outputs": [],
   "source": [
    "# Format the data as a distance matrix\n",
    "# In this case, the data already represents distance between points (species)\n",
    "differences = squareform(cytochrome)"
   ]
  },
  {
   "cell_type": "code",
   "execution_count": null,
   "id": "0b15068b",
   "metadata": {},
   "outputs": [],
   "source": [
    "# Define a clustering model with single linkage\n",
    "clusterModel = linkage(differences, method='single')\n",
    "\n",
    "# Create the dendrogram\n",
    "dendrogram(clusterModel, labels=species, leaf_rotation=90)\n",
    "\n",
    "# Plot the dendrogram\n",
    "plt.ylabel('Amino acid differences', fontsize=14)\n",
    "plt.yticks(np.arange(0, 11, step=1))\n",
    "plt.xlabel('Species', fontsize=14)\n",
    "plt.title('Single linkage clustering', fontsize=16)\n",
    "plt.show()\n"
   ]
  },
  {
   "cell_type": "code",
   "execution_count": null,
   "id": "b7dc84a4",
   "metadata": {},
   "outputs": [],
   "source": []
  }
 ],
 "metadata": {
  "kernelspec": {
   "display_name": "Python 3 (ipykernel)",
   "language": "python",
   "name": "python3"
  },
  "language_info": {
   "codemirror_mode": {
    "name": "ipython",
    "version": 3
   },
   "file_extension": ".py",
   "mimetype": "text/x-python",
   "name": "python",
   "nbconvert_exporter": "python",
   "pygments_lexer": "ipython3",
   "version": "3.9.15"
  }
 },
 "nbformat": 4,
 "nbformat_minor": 5
}
