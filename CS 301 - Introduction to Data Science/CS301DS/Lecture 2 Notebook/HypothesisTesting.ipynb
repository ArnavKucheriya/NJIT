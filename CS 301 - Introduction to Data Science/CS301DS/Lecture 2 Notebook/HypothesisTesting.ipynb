{
 "cells": [
  {
   "cell_type": "markdown",
   "id": "92954fe3-cb80-4df3-8e04-c11add7f3bcf",
   "metadata": {},
   "source": [
    "## t-Test\n",
    "- Analyzes whether there is a significant difference between the mean values of two groups\n",
    "- Assumptions:\n",
    "    - Variables are metric\n",
    "    - Normal distribution\n",
    "    - Variances in groups must be approximately equal (independent samples t-Test)"
   ]
  },
  {
   "cell_type": "markdown",
   "id": "f9016571-2721-427d-b688-33489406213d",
   "metadata": {},
   "source": [
    "### t-Test in Python ###\n",
    "**ttest_ind** for independent samples <br />\n",
    "**ttest_rel** for related samples"
   ]
  },
  {
   "cell_type": "code",
   "execution_count": null,
   "id": "da74a832-fb75-4dc4-abc1-1b7cb2de66ba",
   "metadata": {},
   "outputs": [],
   "source": [
    "import numpy as np\n",
    "import pandas as pd\n",
    "import matplotlib.pyplot as plt\n",
    "import scipy.stats as stats\n",
    "import seaborn as sns"
   ]
  },
  {
   "cell_type": "code",
   "execution_count": null,
   "id": "bf189259-a317-4ef6-b4a9-3f7f8ecd64eb",
   "metadata": {},
   "outputs": [],
   "source": [
    "df = pd.read_csv(\"data/Gender-ResponseTime.csv\")\n",
    "df"
   ]
  },
  {
   "cell_type": "markdown",
   "id": "72027721-059b-4950-8a9a-c79b415844e4",
   "metadata": {},
   "source": [
    "**Null Hypothesis ($ H_0 $):** The mean response times for males are not signficantly different than the mean response times for females <br/>\n",
    "**Alternative Hypothesis ($ H_1 $):** The mean response times for males are  signficantly different than the mean response times for females"
   ]
  },
  {
   "cell_type": "code",
   "execution_count": null,
   "id": "24cf26a0-a3e5-4ce7-abfc-77e0086c8e6d",
   "metadata": {},
   "outputs": [],
   "source": [
    "group2 = df.where(df.Gender== 'male').dropna()['Response_time']"
   ]
  },
  {
   "cell_type": "code",
   "execution_count": null,
   "id": "2609d04a-3417-4e0c-8e12-8a58fd466c0e",
   "metadata": {},
   "outputs": [],
   "source": [
    "group1 = df.where(df.Gender== 'female').dropna()['Response_time']"
   ]
  },
  {
   "cell_type": "code",
   "execution_count": null,
   "id": "fa9359e5-9986-4ea9-836d-d3c85b55ba93",
   "metadata": {},
   "outputs": [],
   "source": [
    "group1"
   ]
  },
  {
   "cell_type": "code",
   "execution_count": null,
   "id": "77727775-07c6-45c1-957b-73f8e28f65cb",
   "metadata": {},
   "outputs": [],
   "source": [
    "group2"
   ]
  },
  {
   "cell_type": "code",
   "execution_count": null,
   "id": "48e76b2f-f2e0-4ce3-8e5e-87aaf64e96e4",
   "metadata": {},
   "outputs": [],
   "source": [
    "stats.ttest_ind(group1,group2)"
   ]
  },
  {
   "cell_type": "markdown",
   "id": "dd38b221-0f55-4e7a-a505-bb2e47093c83",
   "metadata": {},
   "source": [
    "**pvalue (0.895) > threshold (0.05)** <br />\n",
    "Cannot reject the null hypothesis\n"
   ]
  },
  {
   "cell_type": "markdown",
   "id": "1c128f1d-6695-478c-8763-9de74e18a5be",
   "metadata": {},
   "source": [
    "Let's adjust the response time values for one of the groups"
   ]
  },
  {
   "cell_type": "code",
   "execution_count": null,
   "id": "ada03a35-f832-4d5a-b2fe-6fd605910d01",
   "metadata": {},
   "outputs": [],
   "source": [
    "f = lambda x: x - 10\n",
    "group2 = group2.apply(f)"
   ]
  },
  {
   "cell_type": "code",
   "execution_count": null,
   "id": "2ee0de35-3c3f-4ca0-b1fd-4688bfbfc114",
   "metadata": {},
   "outputs": [],
   "source": [
    "stats.ttest_ind(group1,group2)"
   ]
  },
  {
   "cell_type": "markdown",
   "id": "7ca90513-1353-4c8b-839d-76a1a50979df",
   "metadata": {},
   "source": [
    "**pvalue (0.004) < threshold (0.05)** <br />\n",
    "We reject the null hypothesis\n",
    "<br/>\n",
    "<br/>\n",
    "<br/>\n",
    "\n"
   ]
  },
  {
   "cell_type": "markdown",
   "id": "57da625f-da60-4e8c-aca9-66886d2572b9",
   "metadata": {},
   "source": [
    "## ANOVA\n",
    "- Analyzes whether there is a significant difference between the mean values of more than two groups\n",
    "- Assumptions:\n",
    "    - Variables are metric\n",
    "    - Normal distribution\n",
    "    - Variances in groups must be approximately equal (independent samples t-Test)"
   ]
  },
  {
   "cell_type": "code",
   "execution_count": null,
   "id": "a58c9373-9360-432a-93c8-5136d3818cea",
   "metadata": {},
   "outputs": [],
   "source": [
    "df = pd.read_csv(\"data/OneWayANOVA.csv\")\n",
    "df"
   ]
  },
  {
   "cell_type": "code",
   "execution_count": null,
   "id": "5bcb77cb-9f67-464d-a72e-03c1bf66a26b",
   "metadata": {},
   "outputs": [],
   "source": [
    "df.Drug.unique()"
   ]
  },
  {
   "cell_type": "markdown",
   "id": "e5501673-9246-4adb-a98c-d15674f04a17",
   "metadata": {},
   "source": [
    "**Null Hypothesis ($ H_0 $):** The are no differences between the means of the systolic blood pressures of the individual groups<br/>\n",
    "**Alternative Hypothesis ($ H_1 $):** At least two group means differ from each other in the population"
   ]
  },
  {
   "cell_type": "code",
   "execution_count": null,
   "id": "7e22de62-fb27-487e-9ea2-67f129f70295",
   "metadata": {},
   "outputs": [],
   "source": [
    "groups = df.groupby(\"Drug\").groups\n",
    "group1 = df.BP[groups[\"Drug A\"]]\n",
    "group2 = df.BP[groups[\"Drug B\"]]\n",
    "group3 = df.BP[groups[\"Drug C\"]]\n",
    "group1.describe()"
   ]
  },
  {
   "cell_type": "code",
   "execution_count": null,
   "id": "7e20f4cb-3eb9-4291-8105-c7d3784df36b",
   "metadata": {},
   "outputs": [],
   "source": [
    "group2.describe()"
   ]
  },
  {
   "cell_type": "code",
   "execution_count": null,
   "id": "cc78baf3-c8ea-4350-a208-e39304849135",
   "metadata": {},
   "outputs": [],
   "source": [
    "group3.describe()"
   ]
  },
  {
   "cell_type": "code",
   "execution_count": null,
   "id": "18d432c7-8bcf-4efc-b071-a0d56e92367b",
   "metadata": {},
   "outputs": [],
   "source": [
    "# Perform the ANOVA\n",
    "stats.f_oneway(group1,group2,group3)"
   ]
  },
  {
   "cell_type": "markdown",
   "id": "d21db663-b60d-404c-b951-00e3f4a56a1a",
   "metadata": {},
   "source": [
    "**Alternative ANOVA  using *statsmodels* library**"
   ]
  },
  {
   "cell_type": "code",
   "execution_count": null,
   "id": "a7316fc5-de31-4123-b399-8f97dc9ec024",
   "metadata": {},
   "outputs": [],
   "source": [
    "import statsmodels.api as sm\n",
    "from statsmodels.formula.api import ols\n",
    "\n",
    "model = ols('BP ~ Drug',                 # Model formula\n",
    "            data = df).fit()\n",
    "                \n",
    "anova_result = sm.stats.anova_lm(model, typ=2)\n",
    "print (anova_result)"
   ]
  },
  {
   "cell_type": "markdown",
   "id": "7a42b1cc-2ae3-4f13-8ec0-b62854fa4480",
   "metadata": {},
   "source": [
    "Both calculations show that **pvalue < threshold (0.05)** <br />\n",
    "We can reject the null hypothesis\n"
   ]
  },
  {
   "cell_type": "markdown",
   "id": "107645a1-5cc1-4aa6-9f8a-7e9fe27d1312",
   "metadata": {},
   "source": [
    "## $ Chi^2\\ Test $\n",
    "- A hypothesis test that is to determine if there is a relationship between **two categorical variables**.\n",
    "- Assumptions:\n",
    "    - The expected frequencies per cell are greater than 5\n",
    "    - Uses only the categories, not the rankings\n"
   ]
  },
  {
   "cell_type": "code",
   "execution_count": null,
   "id": "fbdbd276-99dd-485a-88cf-379f63c51f0a",
   "metadata": {},
   "outputs": [],
   "source": [
    "df = pd.read_csv(\"data/Gender-Newspaper.csv\")\n",
    "df"
   ]
  },
  {
   "cell_type": "markdown",
   "id": "24d69a3c-b10a-43c3-aa26-969e099d2a5a",
   "metadata": {},
   "source": [
    "**Null Hypothesis ($ H_0 $):** The is **no relationship** between gender and the preferred newspaper<br/>\n",
    "**Alternative Hypothesis ($ H_1 $):** There **is a relationship** between gender and the preferred newspaper<br/><br/>\n",
    "Use panda's *crosstab* method to create a contingency table"
   ]
  },
  {
   "cell_type": "code",
   "execution_count": null,
   "id": "81a4a49b-1f99-4e91-b002-f8ce72494fdc",
   "metadata": {},
   "outputs": [],
   "source": [
    "contingency = pd.crosstab(df.Newspaper, df.Gender)\n",
    "contingency"
   ]
  },
  {
   "cell_type": "code",
   "execution_count": null,
   "id": "7bf9624a-ae54-4607-a579-b6546ccb3ee5",
   "metadata": {},
   "outputs": [],
   "source": [
    "# Chi-square test of independence. \n",
    "from scipy.stats import chi2_contingency\n",
    "c, p, dof, expected = chi2_contingency(contingency) \n",
    "# Print the p-value\n",
    "print('Chi statistic: ' + str(p))\n",
    "print('df: ' + str(dof))\n",
    "print('pvalue: ' + str(p))\n",
    "print('expected:')\n",
    "print(expected)\n"
   ]
  },
  {
   "cell_type": "markdown",
   "id": "4ad5fd13-8d0b-4991-a04d-dbe198bc83ba",
   "metadata": {},
   "source": [
    "**expected** shows what the contingency table would look like if the 2 variables were perfectly independent <br/>\n",
    "**pvalue** is significantly greater than the threshhold and we cannot reject the null hypothesis<br/><br/>\n",
    "Let's adjust the response time values for one of the gender categories"
   ]
  },
  {
   "cell_type": "code",
   "execution_count": null,
   "id": "52c2d459-8e0e-41ae-a610-1fc7db73aa36",
   "metadata": {},
   "outputs": [],
   "source": [
    "for x in range(contingency.shape[0]):\n",
    "    if x % 2 == 1:\n",
    "        contingency.iloc[[x],[0]] = contingency.iloc[[x],[0]] + 20\n",
    "contingency"
   ]
  },
  {
   "cell_type": "code",
   "execution_count": null,
   "id": "92b3597d-0cbd-42a0-9b5c-6cdc47eada2d",
   "metadata": {},
   "outputs": [],
   "source": [
    "# Chi-square test of independence. \n",
    "from scipy.stats import chi2_contingency\n",
    "c, p, dof, expected = chi2_contingency(contingency) \n",
    "# Print the p-value\n",
    "print('Chi statistic: ' + str(p))\n",
    "print('df: ' + str(dof))\n",
    "print('pvalue: ' + str(p))\n",
    "print('expected:')\n",
    "print(expected)\n"
   ]
  },
  {
   "cell_type": "markdown",
   "id": "fa807ed6-0877-4dd3-a1f7-8616fae3d60a",
   "metadata": {},
   "source": [
    "**pvalue (0.04) < threshold (0.05)** <br />\n",
    "We reject the null hypothesis\n",
    "<br/>\n",
    "<br/>\n",
    "<br/>\n"
   ]
  },
  {
   "cell_type": "markdown",
   "id": "6879b853-5e96-4320-b35f-69b724a0d2e2",
   "metadata": {},
   "source": [
    "## Correlation Analysis\n",
    "- Measure the relationship between two variables<br/>\n",
    "#### Pearson Correlation (r)\n",
    "- Measures the **linear** relationship between two variables\n"
   ]
  },
  {
   "cell_type": "code",
   "execution_count": null,
   "id": "c4d7abb7-b5c2-4c3a-a191-228052e8864c",
   "metadata": {},
   "outputs": [],
   "source": [
    "df = pd.read_csv(\"data/ReactionTime.csv\")\n",
    "df"
   ]
  },
  {
   "cell_type": "markdown",
   "id": "ac80ea7a-56a5-40ef-80b1-f5ee95d667d3",
   "metadata": {},
   "source": [
    "**Null Hypothesis ($ H_0 $):** The correlation coefficient does not differ significantly from zero - no linear relationship<br/>\n",
    "**Alternative Hypothesis ($ H_1 $):** The correlation coefficient differs significantly from zero - there is a linear relationship<br/><br/>\n"
   ]
  },
  {
   "cell_type": "code",
   "execution_count": null,
   "id": "69aff311-5571-411b-a69b-d630bcfa2c0f",
   "metadata": {},
   "outputs": [],
   "source": [
    "from IPython.display import display, HTML\n",
    "display(HTML(\"<style>.container { width:100% !important; }</style>\"))\n",
    "corr = df.corr(method='pearson')"
   ]
  },
  {
   "cell_type": "code",
   "execution_count": null,
   "id": "4ed322df-3776-44fc-9413-9f719af8a156",
   "metadata": {},
   "outputs": [],
   "source": [
    "corr"
   ]
  },
  {
   "cell_type": "code",
   "execution_count": null,
   "id": "079822ee-2f5b-487a-be03-8e41ec540372",
   "metadata": {},
   "outputs": [],
   "source": [
    "stats.pearsonr(df.Before_Intervention, df.After_Intervention)"
   ]
  },
  {
   "cell_type": "markdown",
   "id": "1f417885-e332-4e3f-9a35-8db7d0a4b426",
   "metadata": {},
   "source": [
    "#### Accept or reject the null hypothesis?<br/><br/>"
   ]
  },
  {
   "cell_type": "markdown",
   "id": "f312afee-dd3a-461c-a069-9b5ac264f4fe",
   "metadata": {},
   "source": [
    "Spearman Correlation (r)\n",
    "\n",
    "- Used when the two variables are **not** linearly related<br/>\n",
    "- Desribes how well the variables' relationship can be described using a monotonic function - a Pearson correlation between the **ranked** variables\n",
    "- Performs a Spearman correlation on the variable ranks"
   ]
  },
  {
   "cell_type": "code",
   "execution_count": null,
   "id": "6c30fae9-bad7-41d3-8cb8-2ecaa92ee08c",
   "metadata": {},
   "outputs": [],
   "source": [
    "df = pd.read_csv(\"data/Reaction-Age-Spearman.csv\")\n",
    "df"
   ]
  },
  {
   "cell_type": "code",
   "execution_count": null,
   "id": "60d0844d-f3c8-40c5-b5e1-273cb56ca4ba",
   "metadata": {},
   "outputs": [],
   "source": [
    "# Create a scatterplot\n",
    "plt.scatter(df['Reaction_time'], df['Age'])\n",
    "# Create label for x-axis\n",
    "plt.xlabel('Reaction Time')\n",
    "# Create label for y-axis\n",
    "plt.ylabel('Age')\n",
    "# Create title\n",
    "plt.title('Reaction Time vs. Subject Age')"
   ]
  },
  {
   "cell_type": "code",
   "execution_count": null,
   "id": "1c438cea",
   "metadata": {},
   "outputs": [],
   "source": [
    "# Create a scatterplot\n",
    "plt.scatter(df['Ranks_reaction_time'], df['Ranks_age'])\n",
    "# Create label for x-axis\n",
    "plt.xlabel('Reaction Time Rank')\n",
    "# Create label for y-axis\n",
    "plt.ylabel('Age Rank')\n",
    "# Create title\n",
    "plt.title('Ranked Reaction Time vs. RankedSubject Age')"
   ]
  },
  {
   "cell_type": "code",
   "execution_count": null,
   "id": "83ce1d36-3957-4049-92ca-4234a67bc996",
   "metadata": {},
   "outputs": [],
   "source": [
    "stats.pearsonr(df.Ranks_reaction_time, df.Ranks_age)"
   ]
  },
  {
   "cell_type": "code",
   "execution_count": null,
   "id": "e660eb92-7c07-43ff-b5ec-13bcb8cfab39",
   "metadata": {},
   "outputs": [],
   "source": []
  }
 ],
 "metadata": {
  "kernelspec": {
   "display_name": "Python 3 (ipykernel)",
   "language": "python",
   "name": "python3"
  },
  "language_info": {
   "codemirror_mode": {
    "name": "ipython",
    "version": 3
   },
   "file_extension": ".py",
   "mimetype": "text/x-python",
   "name": "python",
   "nbconvert_exporter": "python",
   "pygments_lexer": "ipython3",
   "version": "3.9.15"
  }
 },
 "nbformat": 4,
 "nbformat_minor": 5
}
