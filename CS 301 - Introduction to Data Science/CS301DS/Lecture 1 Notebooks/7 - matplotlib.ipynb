{
 "cells": [
  {
   "cell_type": "markdown",
   "id": "f92f0ff9",
   "metadata": {},
   "source": [
    "## What is matplotlib? ##\n",
    "\n",
    "Data visualization plays a big part in the data science lifecycle. In particular, data scientists often create data visualizations to gain insight on data and develop a scope for a machine learning task. While several data visualization packages are available in Python, *matplotlib* is the most common. **matplotlib** is a package used to create static, dynamic, and interactive plots. *Seaborn*, another common data visualization package used primarily for statistical graphs, is based on matplotlib.\n",
    "\n",
    "*matplotlib* uses figures to hold plot elements, such as axes, labels, tick marks, and legend. Each element can be adjusted manually. Ex: Positions of minor and major tick marks can be controlled as well as the font sizes for the labels.\n",
    "\n",
    "Figures can be created using *pyplot*. The *pyplot* library is a state-based interface to the *matplotlib* package that uses a similar syntax to MATLAB. Each line of code adds a plot element to the figure one at a time, while preserving previously added elements in the figure. To learn more about common functions within the *pyplot* library, see the *pyplot* documentation.\n",
    "\n"
   ]
  },
  {
   "cell_type": "markdown",
   "id": "0bdbdaf6",
   "metadata": {},
   "source": [
    "**Plotting with matplotlib**\n",
    "\n",
    "The first step to create a plot with *pyplot* is to import the library. Since *pyplot* is a library within the matplotlib package, dot notation is needed. Ex: *import matplotlib.pyplot as plt*.\n",
    "\n",
    "The *pyplot* library can display different objects within a figure. The most common object is plt.plot(x, y), where x and y are arrays of the same size, which creates a line plot connecting consecutive x- and y- coordinates. Another common object is plt.scatter(x, y), which creates a scatter plot showing all pairs of x- and y- coordinates.\n",
    "\n",
    "Other useful functions in the pyplot library are:\n",
    "\n",
    "- plt.figure()—creates a new figure.\n",
    "- plt.show()—displays the figure and all the objects the figure contains.\n",
    "- plt.savefig(fname)—saves the figure in the current working directory with the filename fname."
   ]
  },
  {
   "cell_type": "code",
   "execution_count": null,
   "id": "64c10c40",
   "metadata": {},
   "outputs": [],
   "source": [
    "# Load matplotlib.pyplot, pandas, and numpy\n",
    "import matplotlib.pyplot as plt\n",
    "import pandas as pd\n",
    "import numpy as np"
   ]
  },
  {
   "cell_type": "code",
   "execution_count": null,
   "id": "44ae17de",
   "metadata": {},
   "outputs": [],
   "source": [
    "# Create array for x- and y- coordinates\n",
    "x = [1, 2, 3, 4]\n",
    "y = [5, 1, 4, 2]\n",
    "# Create a 4x3 figure\n",
    "plt.figure(figsize=[4, 3])\n",
    "# Create a line plot\n",
    "plt.plot(x, y)"
   ]
  },
  {
   "cell_type": "code",
   "execution_count": null,
   "id": "cc6625ea",
   "metadata": {
    "scrolled": true
   },
   "outputs": [],
   "source": [
    "# Create an equally spaced array with 100\n",
    "# elements from -5 to 5\n",
    "x = np.linspace(-5, 5, num=100)\n",
    "# Plots the graph for y = x^2\n",
    "plt.plot(x, x * x)\n",
    "# Plots the graph for y = -4x - 4\n",
    "plt.plot(x, -4 * x - 4)"
   ]
  },
  {
   "cell_type": "markdown",
   "id": "1543d2d8",
   "metadata": {},
   "source": [
    "[oldfaithful.csv](https://drive.google.com/file/d/1AF9RO5OV4BvR_xPpljuojasfDh2L_7tq/view?usp=sharing)"
   ]
  },
  {
   "cell_type": "code",
   "execution_count": null,
   "id": "0d716b65",
   "metadata": {},
   "outputs": [],
   "source": [
    "# Load oldfaithful.csv data\n",
    "oldFaithful = pd.read_csv('data/oldfaithful.csv')"
   ]
  },
  {
   "cell_type": "code",
   "execution_count": null,
   "id": "f3b012b1",
   "metadata": {},
   "outputs": [],
   "source": [
    "oldFaithful"
   ]
  },
  {
   "cell_type": "code",
   "execution_count": null,
   "id": "0a07480b",
   "metadata": {},
   "outputs": [],
   "source": [
    "oldFaithful.to_csv('data/oldfaithful.csv', index=False)"
   ]
  },
  {
   "cell_type": "code",
   "execution_count": null,
   "id": "c6a16eb6",
   "metadata": {},
   "outputs": [],
   "source": [
    "plt.scatter(oldFaithful['Eruption'], oldFaithful['Waiting'])\n",
    "# Uncomment the following line to save the plot as a png when running locally.\n",
    "# plt.savefig(fname='oldfaithful1.png')"
   ]
  },
  {
   "cell_type": "markdown",
   "id": "d4e08251",
   "metadata": {},
   "source": [
    "**Labeling Plots**"
   ]
  },
  {
   "cell_type": "code",
   "execution_count": null,
   "id": "e9760832",
   "metadata": {},
   "outputs": [],
   "source": [
    "# Load oldfaithful.csv data\n",
    "df1 = pd.read_csv('data/oldfaithful.csv')"
   ]
  },
  {
   "cell_type": "code",
   "execution_count": null,
   "id": "238620d5",
   "metadata": {},
   "outputs": [],
   "source": [
    "# Create a scatterplot\n",
    "plt.scatter(df1['Eruption'], df1['Waiting'])\n",
    "# Create label for x-axis\n",
    "plt.xlabel('Eruption time')\n",
    "# Create label for y-axis\n",
    "plt.ylabel('Waiting time to next eruption')\n",
    "# Create title\n",
    "plt.title('Eruption time vs. waiting time to next eruption')"
   ]
  },
  {
   "cell_type": "markdown",
   "id": "161c0e9e",
   "metadata": {},
   "source": [
    "[fatalities.csv](https://drive.google.com/file/d/15HFluxm2geZUnxNR7Cyvlo1FF2rlSROB/view?usp=sharing)"
   ]
  },
  {
   "cell_type": "code",
   "execution_count": null,
   "id": "64c1030b",
   "metadata": {},
   "outputs": [],
   "source": [
    "# Load fatalities.csv data\n",
    "df2 = pd.read_csv('data/fatalities.csv')"
   ]
  },
  {
   "cell_type": "code",
   "execution_count": null,
   "id": "7f743fd9",
   "metadata": {},
   "outputs": [],
   "source": [
    "df2.head()\n"
   ]
  },
  {
   "cell_type": "code",
   "execution_count": null,
   "id": "355fb4db",
   "metadata": {
    "scrolled": true
   },
   "outputs": [],
   "source": [
    "# Create line plot for total highway fatalities\n",
    "plt.plot(df2['Year'], df2['Total'], label='Total')\n",
    "# Create line plot for alcohol-related fatalities\n",
    "plt.plot(df2['Year'], df2['Alcohol-related'], label='Alcohol-related')\n",
    "# Create title, font size set to 20\n",
    "plt.title('Alcohol-related fatalities on highways', fontsize=20)\n",
    "# Create label for x-axis, font size set to 14\n",
    "plt.xlabel('Year', fontsize=14)\n",
    "# Create label for y-axis, font size set to 14\n",
    "plt.ylabel('Highway fatalities', fontsize=14)\n",
    "# Create annotation for point (1984, 24762) with text at (1986, 30000)\n",
    "plt.annotate(\n",
    "    'Drinking age changed to 21',\n",
    "    arrowprops=dict(),\n",
    "    xy=(1984, 24762),\n",
    "    xytext=(1986, 30000),\n",
    ")\n",
    "# Create legend\n",
    "plt.legend()"
   ]
  },
  {
   "cell_type": "markdown",
   "id": "ab8278e2",
   "metadata": {},
   "source": [
    "**Characters for line color, line style, and marker style.**\n",
    "\n",
    "| Character(s)\t| Line color/style\t| Character(s)\t| Marker style\t| Character(s)\t| Marker style |\n",
    "| :-----------: | :-----------     | :-----------: | :----------- | :-----------: | :----------- |\n",
    "| b\t| Blue\t| .\t| Point marker\t| 1\t| Tri-down marker |\n",
    "| g\t| Green\t| ,\t| Pixel marker\t| 2\t| Tri-up marker | \n",
    "| r\t| Red\t| o\t| Circle marker\t| 3\t| Tri-left marker | \n",
    "| w\t| White\t| +\t| Plus marker\t| 4\t| Tri-right marker | \n",
    "| k\t| Black\t| X\t| X marker\t| h\t| Hexagon1 marker | \n",
    "| y\t| Yellow\t| v\t| Triangle-down marker\t| H\t| Hexagon2 marker | \n",
    "| m\t| Magenta\t| ^\t| Triangle-up marker\t| D\t| Diamond marker | \n",
    "| -\t| Solid line\t| <\t| Triangle-left marker\t| d\t| Thin diamond marker | \n",
    "| :\t| Dotted line\t| >\t| Triangle-right marker\t|\tVertical line marker | \n",
    "| --\t| Dashed line\t| *\t| Star marker\t| _\t| Horizontal line marker | \n",
    "| -.\t| Dashed-dot line\t| p\t| Pentagon marker\t| s\t| Square marker | \n"
   ]
  },
  {
   "cell_type": "code",
   "execution_count": null,
   "id": "0cfc4317",
   "metadata": {},
   "outputs": [],
   "source": [
    "# Create array for x- and y- coordinates\n",
    "x = [1, 2, 3, 4]\n",
    "y = [1, 5, 3, 4]\n",
    "# Create a line plot\n",
    "plt.plot(x, y, 'b:')"
   ]
  },
  {
   "cell_type": "code",
   "execution_count": null,
   "id": "8c1ef687",
   "metadata": {},
   "outputs": [],
   "source": [
    "# Create array for x- and y- coordinates\n",
    "x = [1, 2, 3, 4]\n",
    "y = [2, 5, 3, 1]\n",
    "# Create a dot plot\n",
    "plt.plot(x, y, 'r^')"
   ]
  },
  {
   "cell_type": "code",
   "execution_count": null,
   "id": "804fb84d",
   "metadata": {},
   "outputs": [],
   "source": [
    "# Create array for x- and y- coordinates\n",
    "x = [1, 2, 3, 4]\n",
    "y = [5, 1, 3, 2]\n",
    "# Create a dotted-line plot\n",
    "plt.plot(x, y, 'gx--')"
   ]
  },
  {
   "cell_type": "code",
   "execution_count": null,
   "id": "de276606",
   "metadata": {},
   "outputs": [],
   "source": [
    "# Load fatalities.csv data\n",
    "df2 = pd.read_csv('data/fatalities.csv')\n",
    "# Create line plot for total highway fatalities\n",
    "plt.plot(df2['Year'], df2['Total'], label='Total', linestyle='--')\n",
    "# Create line plot for alcohol-related fatalities\n",
    "plt.plot(df2['Year'], df2['Alcohol-related'], label='Alcohol-related', linestyle=':')\n",
    "# Create title, font size set to 20\n",
    "plt.title('Alcohol-related fatalities on highways', fontsize=20)\n",
    "# Create label for x-axis, font size set to 14\n",
    "plt.xlabel('Year', fontsize=14)\n",
    "# Create label for y-axis, font size set to 14\n",
    "plt.ylabel('Highway fatalities', fontsize=14)\n",
    "# Create annotation for point (1984, 24762) with text at (1986, 30000)\n",
    "plt.annotate(\n",
    "    'Drinking age changed to 21',\n",
    "    arrowprops=dict(),\n",
    "    xy=(1984, 24762),\n",
    "    xytext=(1986, 30000),\n",
    ")\n",
    "# Create legend\n",
    "plt.legend()"
   ]
  },
  {
   "cell_type": "code",
   "execution_count": null,
   "id": "6445e08a",
   "metadata": {},
   "outputs": [],
   "source": [
    "# Load oldfaithfulCluster.csv data\n",
    "df = pd.read_csv('data/oldfaithfulCluster.csv')\n",
    "df.head()"
   ]
  },
  {
   "cell_type": "code",
   "execution_count": null,
   "id": "eea4cc3c",
   "metadata": {},
   "outputs": [],
   "source": [
    "# Define groups according to clusters\n",
    "group1 = df[df['Cluster'] == 1]\n",
    "group0 = df[df['Cluster'] == 0]\n",
    "# Create scatter plots\n",
    "plt.scatter(group1['Eruption'], group1['Waiting'], label='1', edgecolors='white')\n",
    "plt.scatter(group0['Eruption'], group0['Waiting'], label='0', edgecolors='white')\n",
    "# Add axes labels and title\n",
    "plt.xlabel('Eruption time', fontsize=14)\n",
    "plt.ylabel('Waiting time', fontsize=14)\n",
    "plt.title('Eruption time vs. waiting time', fontsize=20)\n",
    "# Add legend\n",
    "plt.legend(title='Cluster')\n",
    "# Add grid lines\n",
    "plt.grid()"
   ]
  },
  {
   "cell_type": "markdown",
   "id": "e03750d1",
   "metadata": {},
   "source": [
    "**Multiple plots**\n",
    "\n",
    "Multiple plots can be drawn in the same figure using the plt.subplot() function. The plt.subplot() function takes three parameters: nrows, ncols, and index. The nrows and ncols parameters specify the figure layout, and the index determines which plot is created.\n",
    "\n",
    "The function plt.suptitle() adds a title to the entire figure, not just the individual plots.\n",
    "\n"
   ]
  },
  {
   "cell_type": "code",
   "execution_count": null,
   "id": "e996c509",
   "metadata": {},
   "outputs": [],
   "source": [
    "plt.subplot(2, 1, 1)\n",
    "plt.scatter(df['Eruption'], df['Waiting'])\n",
    "plt.suptitle('Eruption time vs. waiting time', fontsize=20, c='black')\n",
    "plt.ylabel('Waiting time', fontsize=14)\n",
    "\n",
    "plt.subplot(2, 1, 2)\n",
    "group1 = df[df['Cluster'] == 1]\n",
    "group0 = df[df['Cluster'] == 0]\n",
    "plt.scatter(group1['Eruption'], group1['Waiting'], label='1', edgecolors='white')\n",
    "plt.scatter(group0['Eruption'], group0['Waiting'], label='0', edgecolors='white')\n",
    "plt.xlabel('Eruption time', fontsize=14)\n",
    "plt.ylabel('Waiting time', fontsize=14)\n",
    "plt.legend()"
   ]
  },
  {
   "cell_type": "code",
   "execution_count": null,
   "id": "00394388",
   "metadata": {},
   "outputs": [],
   "source": []
  }
 ],
 "metadata": {
  "kernelspec": {
   "display_name": "Python 3 (ipykernel)",
   "language": "python",
   "name": "python3"
  },
  "language_info": {
   "codemirror_mode": {
    "name": "ipython",
    "version": 3
   },
   "file_extension": ".py",
   "mimetype": "text/x-python",
   "name": "python",
   "nbconvert_exporter": "python",
   "pygments_lexer": "ipython3",
   "version": "3.9.15"
  }
 },
 "nbformat": 4,
 "nbformat_minor": 5
}
