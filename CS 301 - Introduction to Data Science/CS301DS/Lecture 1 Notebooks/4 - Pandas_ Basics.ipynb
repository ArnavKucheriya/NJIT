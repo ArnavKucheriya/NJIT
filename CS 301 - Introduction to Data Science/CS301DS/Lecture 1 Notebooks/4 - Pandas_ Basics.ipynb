{
 "cells": [
  {
   "cell_type": "markdown",
   "metadata": {
    "id": "9xhnN3pZEX9K"
   },
   "source": [
    "### Imports"
   ]
  },
  {
   "cell_type": "code",
   "execution_count": null,
   "metadata": {
    "colab": {
     "base_uri": "https://localhost:8080/"
    },
    "executionInfo": {
     "elapsed": 5450,
     "status": "ok",
     "timestamp": 1691745009227,
     "user": {
      "displayName": "Akm Islam",
      "userId": "10887598172150809320"
     },
     "user_tz": 240
    },
    "id": "21IP06VVjULg",
    "outputId": "c266d26d-d31b-4280-9ec3-e76cb8aad9d3"
   },
   "outputs": [],
   "source": [
    "# pip install pandas"
   ]
  },
  {
   "cell_type": "code",
   "execution_count": null,
   "metadata": {
    "executionInfo": {
     "elapsed": 51,
     "status": "ok",
     "timestamp": 1691745009228,
     "user": {
      "displayName": "Akm Islam",
      "userId": "10887598172150809320"
     },
     "user_tz": 240
    },
    "id": "aqq_KChtEX9U"
   },
   "outputs": [],
   "source": [
    "import pandas as pd\n",
    "import numpy as np"
   ]
  },
  {
   "cell_type": "markdown",
   "metadata": {
    "id": "fBeaapzD3xyw"
   },
   "source": [
    "At the core of the pandas module, there are two important data structures: Series and DataFrame."
   ]
  },
  {
   "cell_type": "markdown",
   "metadata": {
    "id": "eiydvvvoEX9a"
   },
   "source": [
    "### Series\n",
    "A series is a one dimensional array-like object that contains a sequence of values with associated labels, called the index. Each item in a series contains the same type of data which is similar to numpy's homogenous property. The data type of a series index is not limited to integers like list and other data structures."
   ]
  },
  {
   "cell_type": "code",
   "execution_count": null,
   "metadata": {
    "colab": {
     "base_uri": "https://localhost:8080/"
    },
    "executionInfo": {
     "elapsed": 562,
     "status": "ok",
     "timestamp": 1691745095448,
     "user": {
      "displayName": "Akm Islam",
      "userId": "10887598172150809320"
     },
     "user_tz": 240
    },
    "id": "QY537B9eEX9b",
    "outputId": "86886202-ad36-4a6e-f87b-68aa8a994501"
   },
   "outputs": [],
   "source": [
    "ser = pd.Series(['a','b','c'])\n",
    "ser"
   ]
  },
  {
   "cell_type": "code",
   "execution_count": null,
   "metadata": {
    "colab": {
     "base_uri": "https://localhost:8080/"
    },
    "executionInfo": {
     "elapsed": 11,
     "status": "ok",
     "timestamp": 1691745095448,
     "user": {
      "displayName": "Akm Islam",
      "userId": "10887598172150809320"
     },
     "user_tz": 240
    },
    "id": "_3GUcER39Gg5",
    "outputId": "75e3b7ec-3b97-4104-e025-1a50361bdeb3"
   },
   "outputs": [],
   "source": [
    "ser1 = pd.Series(('a','b','c'))\n",
    "ser1"
   ]
  },
  {
   "cell_type": "code",
   "execution_count": null,
   "metadata": {},
   "outputs": [],
   "source": [
    "ser1.index"
   ]
  },
  {
   "cell_type": "code",
   "execution_count": null,
   "metadata": {
    "colab": {
     "base_uri": "https://localhost:8080/"
    },
    "executionInfo": {
     "elapsed": 11,
     "status": "ok",
     "timestamp": 1691745095449,
     "user": {
      "displayName": "Akm Islam",
      "userId": "10887598172150809320"
     },
     "user_tz": 240
    },
    "id": "hiGR3LW21Zr5",
    "outputId": "b64d10ac-32f3-4002-d2bf-02ccec4ecc4c"
   },
   "outputs": [],
   "source": [
    "list(ser1.index)"
   ]
  },
  {
   "cell_type": "code",
   "execution_count": null,
   "metadata": {
    "colab": {
     "base_uri": "https://localhost:8080/"
    },
    "executionInfo": {
     "elapsed": 10,
     "status": "ok",
     "timestamp": 1691745095449,
     "user": {
      "displayName": "Akm Islam",
      "userId": "10887598172150809320"
     },
     "user_tz": 240
    },
    "id": "-6BMPs0JEX9e",
    "outputId": "70e59f4c-714d-49d3-9896-7c26001bb425"
   },
   "outputs": [],
   "source": [
    "# Creating series object with index\n",
    "ser2 = pd.Series(['a','b','c'],['x', 'y', 4])\n",
    "ser2"
   ]
  },
  {
   "cell_type": "code",
   "execution_count": null,
   "metadata": {
    "colab": {
     "base_uri": "https://localhost:8080/"
    },
    "executionInfo": {
     "elapsed": 9,
     "status": "ok",
     "timestamp": 1691745095450,
     "user": {
      "displayName": "Akm Islam",
      "userId": "10887598172150809320"
     },
     "user_tz": 240
    },
    "id": "YMx7gQcW100D",
    "outputId": "c6f99598-e696-4307-d368-96e92423843c"
   },
   "outputs": [],
   "source": [
    "ser2.index"
   ]
  },
  {
   "cell_type": "code",
   "execution_count": null,
   "metadata": {
    "colab": {
     "base_uri": "https://localhost:8080/"
    },
    "executionInfo": {
     "elapsed": 8,
     "status": "ok",
     "timestamp": 1691745095450,
     "user": {
      "displayName": "Akm Islam",
      "userId": "10887598172150809320"
     },
     "user_tz": 240
    },
    "id": "seWz6JjDEX9j",
    "outputId": "734f959d-9f1d-49b7-8733-742cd89a10e8"
   },
   "outputs": [],
   "source": [
    "# Creating series from dictinary\n",
    "dict_data = {'George': 35, 'Kevin': 20, 'Michael': 26, 'Jose': 50}\n",
    "ser3 = pd.Series(dict_data)\n",
    "ser3"
   ]
  },
  {
   "cell_type": "code",
   "execution_count": null,
   "metadata": {
    "colab": {
     "base_uri": "https://localhost:8080/"
    },
    "executionInfo": {
     "elapsed": 7,
     "status": "ok",
     "timestamp": 1691745095450,
     "user": {
      "displayName": "Akm Islam",
      "userId": "10887598172150809320"
     },
     "user_tz": 240
    },
    "id": "ADHG2ohr4Wx6",
    "outputId": "9dba447f-2655-45e3-84a5-7a2b65448954"
   },
   "outputs": [],
   "source": [
    "ser3.index"
   ]
  },
  {
   "cell_type": "code",
   "execution_count": null,
   "metadata": {
    "colab": {
     "base_uri": "https://localhost:8080/"
    },
    "executionInfo": {
     "elapsed": 7,
     "status": "ok",
     "timestamp": 1691745095451,
     "user": {
      "displayName": "Akm Islam",
      "userId": "10887598172150809320"
     },
     "user_tz": 240
    },
    "id": "kLSJxmNkEX9g",
    "outputId": "19795d67-0fe6-4633-c62e-33957e114574"
   },
   "outputs": [],
   "source": [
    "# Creating Series with data type\n",
    "ser2 = pd.Series([1,200,30], index=['1', '2', '3'],dtype=np.int32)\n",
    "ser2"
   ]
  },
  {
   "cell_type": "code",
   "execution_count": null,
   "metadata": {},
   "outputs": [],
   "source": [
    "type(ser2.index)"
   ]
  },
  {
   "cell_type": "markdown",
   "metadata": {
    "id": "nLGN31DkEX9o"
   },
   "source": [
    "### DataFrame\n",
    "Pandas DataFrame is a 2 dimensional data structure with rows and columns. It is similar to a google sheet or excel file with more than one column."
   ]
  },
  {
   "cell_type": "code",
   "execution_count": null,
   "metadata": {
    "colab": {
     "base_uri": "https://localhost:8080/",
     "height": 143
    },
    "executionInfo": {
     "elapsed": 475,
     "status": "ok",
     "timestamp": 1691745884510,
     "user": {
      "displayName": "Akm Islam",
      "userId": "10887598172150809320"
     },
     "user_tz": 240
    },
    "id": "hhAzSGY6y8-_",
    "outputId": "c66390ce-edb5-4aa3-91a6-232e7940ea4d"
   },
   "outputs": [],
   "source": [
    "df = pd.DataFrame([[11, 20, 23], [4, 50, 6], [70, 18, 90]]) # Each inner list is a row in the dataframe\n",
    "df"
   ]
  },
  {
   "cell_type": "code",
   "execution_count": null,
   "metadata": {
    "colab": {
     "base_uri": "https://localhost:8080/",
     "height": 143
    },
    "executionInfo": {
     "elapsed": 39,
     "status": "ok",
     "timestamp": 1691745009234,
     "user": {
      "displayName": "Akm Islam",
      "userId": "10887598172150809320"
     },
     "user_tz": 240
    },
    "id": "pHG86q_-zcTh",
    "outputId": "ac2a8e6a-8844-4488-958a-4f79ebf530e1"
   },
   "outputs": [],
   "source": [
    "df = pd.DataFrame([[11, 20, 23], [4, 50, 6], [70, 18, 90]],columns=['A','B','C'],index=['i1','i2','i3']) # we can assign column names\n",
    "df"
   ]
  },
  {
   "cell_type": "code",
   "execution_count": null,
   "metadata": {
    "colab": {
     "base_uri": "https://localhost:8080/",
     "height": 175
    },
    "executionInfo": {
     "elapsed": 38,
     "status": "ok",
     "timestamp": 1691745009234,
     "user": {
      "displayName": "Akm Islam",
      "userId": "10887598172150809320"
     },
     "user_tz": 240
    },
    "id": "RySZJbcXEX9p",
    "outputId": "eaa1aa0b-7f37-4328-8677-49fd2fbcc3dc"
   },
   "outputs": [],
   "source": [
    "import pandas as pd\n",
    "data = {'name': ['George', 'Kevin', 'Michael', 'Jose'],\n",
    "        'age': [35, 20, 26, 35],\n",
    "        'height': [5.5, 4.9, 5, 5.4]}\n",
    "df = pd.DataFrame(data)\n",
    "df"
   ]
  },
  {
   "cell_type": "code",
   "execution_count": null,
   "metadata": {
    "colab": {
     "base_uri": "https://localhost:8080/",
     "height": 81
    },
    "executionInfo": {
     "elapsed": 37,
     "status": "ok",
     "timestamp": 1691745009234,
     "user": {
      "displayName": "Akm Islam",
      "userId": "10887598172150809320"
     },
     "user_tz": 240
    },
    "id": "znVlrwRd8UKD",
    "outputId": "5e801dfd-b002-49ae-b79f-0895c2d4e0de"
   },
   "outputs": [],
   "source": [
    "import pandas as pd\n",
    "data = {'name': ['George'],\n",
    "        'age': [35],\n",
    "        'height': [5.4]}\n",
    "df = pd.DataFrame(data)\n",
    "df"
   ]
  },
  {
   "cell_type": "code",
   "execution_count": null,
   "metadata": {
    "colab": {
     "base_uri": "https://localhost:8080/",
     "height": 143
    },
    "executionInfo": {
     "elapsed": 33,
     "status": "ok",
     "timestamp": 1691745009235,
     "user": {
      "displayName": "Akm Islam",
      "userId": "10887598172150809320"
     },
     "user_tz": 240
    },
    "id": "T2cIVSLU05wT",
    "outputId": "58401b72-0ad7-4e80-93db-962107a23018"
   },
   "outputs": [],
   "source": [
    "df1 = pd.DataFrame([(10, 22, 30), (4, 15, 16), (17, 80, 29)], columns=['A', 'B','C'],dtype=np.float64)\n",
    "df1\n"
   ]
  },
  {
   "cell_type": "code",
   "execution_count": null,
   "metadata": {
    "executionInfo": {
     "elapsed": 33,
     "status": "ok",
     "timestamp": 1691745009236,
     "user": {
      "displayName": "Akm Islam",
      "userId": "10887598172150809320"
     },
     "user_tz": 240
    },
    "id": "A1MZsjyB045-"
   },
   "outputs": [],
   "source": [
    "df1['B']=df1['B'].astype(np.int64)"
   ]
  },
  {
   "cell_type": "code",
   "execution_count": null,
   "metadata": {
    "colab": {
     "base_uri": "https://localhost:8080/",
     "height": 143
    },
    "executionInfo": {
     "elapsed": 33,
     "status": "ok",
     "timestamp": 1691745009236,
     "user": {
      "displayName": "Akm Islam",
      "userId": "10887598172150809320"
     },
     "user_tz": 240
    },
    "id": "Rz-NWKvK9V-q",
    "outputId": "ba97b87a-2e31-4e78-8666-11a3b0aeef22"
   },
   "outputs": [],
   "source": [
    "df1"
   ]
  },
  {
   "cell_type": "code",
   "execution_count": null,
   "metadata": {
    "colab": {
     "base_uri": "https://localhost:8080/"
    },
    "executionInfo": {
     "elapsed": 32,
     "status": "ok",
     "timestamp": 1691745009236,
     "user": {
      "displayName": "Akm Islam",
      "userId": "10887598172150809320"
     },
     "user_tz": 240
    },
    "id": "gnFLInPnT3VE",
    "outputId": "56640fbd-f745-4bee-a80c-3a8803712c31"
   },
   "outputs": [],
   "source": [
    "df1['B'].dtype"
   ]
  },
  {
   "cell_type": "code",
   "execution_count": null,
   "metadata": {},
   "outputs": [],
   "source": [
    "type(df1['B'])"
   ]
  },
  {
   "cell_type": "markdown",
   "metadata": {
    "id": "knwpyXPiiD6t"
   },
   "source": [
    "### Reading and Writing Data"
   ]
  },
  {
   "cell_type": "code",
   "execution_count": null,
   "metadata": {
    "executionInfo": {
     "elapsed": 31,
     "status": "ok",
     "timestamp": 1691745009237,
     "user": {
      "displayName": "Akm Islam",
      "userId": "10887598172150809320"
     },
     "user_tz": 240
    },
    "id": "We7XMOpSl4Jz"
   },
   "outputs": [],
   "source": [
    "import numpy as np\n",
    "import pandas as pd"
   ]
  },
  {
   "cell_type": "markdown",
   "metadata": {
    "id": "iXiQHv7Ll4J3"
   },
   "source": [
    "https://pandas.pydata.org/docs/reference/api/pandas.read_csv.html\n",
    "\n",
    "[Iris Dataset](https://drive.google.com/file/d/1Aj55LWNHUOv4OCS4jXVHTq9m25Cvqp-a/view?usp=share_link)"
   ]
  },
  {
   "cell_type": "code",
   "execution_count": null,
   "metadata": {
    "id": "_njM5hytl4J3"
   },
   "outputs": [],
   "source": [
    "df = pd.read_csv('data/iris.csv')\n",
    "df"
   ]
  },
  {
   "cell_type": "code",
   "execution_count": null,
   "metadata": {},
   "outputs": [],
   "source": [
    "df.tail(-5)"
   ]
  },
  {
   "cell_type": "markdown",
   "metadata": {
    "id": "8bynPqQG8DGk"
   },
   "source": [
    "Exporting data"
   ]
  },
  {
   "cell_type": "code",
   "execution_count": null,
   "metadata": {
    "executionInfo": {
     "elapsed": 19,
     "status": "ok",
     "timestamp": 1691745043263,
     "user": {
      "displayName": "Akm Islam",
      "userId": "10887598172150809320"
     },
     "user_tz": 240
    },
    "id": "Dpz-3ezQl4KD"
   },
   "outputs": [],
   "source": [
    "import pandas as pd\n",
    "data = {'name': ['George', 'Kevin', 'Michael', 'Jose'],\n",
    "        'age': [35, 20, 26, 30],\n",
    "        'height': [5.5, 4.9, 6, 5.4]}\n",
    "df = pd.DataFrame(data)\n",
    "df.to_csv('data/out.csv', index=None)"
   ]
  },
  {
   "cell_type": "code",
   "execution_count": null,
   "metadata": {
    "executionInfo": {
     "elapsed": 30,
     "status": "aborted",
     "timestamp": 1691745009238,
     "user": {
      "displayName": "Akm Islam",
      "userId": "10887598172150809320"
     },
     "user_tz": 240
    },
    "id": "odzWz9pzl4KD"
   },
   "outputs": [],
   "source": [
    "df.to_csv(\"data/out2.csv\", sep='-',index=None)"
   ]
  },
  {
   "cell_type": "code",
   "execution_count": null,
   "metadata": {
    "executionInfo": {
     "elapsed": 31,
     "status": "aborted",
     "timestamp": 1691745009239,
     "user": {
      "displayName": "Akm Islam",
      "userId": "10887598172150809320"
     },
     "user_tz": 240
    },
    "id": "DT3x0ap_QOSs"
   },
   "outputs": [],
   "source": [
    "df2=pd.read_csv(\"data/out2.csv\",sep=\"-\")"
   ]
  },
  {
   "cell_type": "code",
   "execution_count": null,
   "metadata": {
    "executionInfo": {
     "elapsed": 31,
     "status": "aborted",
     "timestamp": 1691745009239,
     "user": {
      "displayName": "Akm Islam",
      "userId": "10887598172150809320"
     },
     "user_tz": 240
    },
    "id": "749J-hMVl4KE"
   },
   "outputs": [],
   "source": [
    "# You can also write only a subset of the columns, and in an order of your choosing:\n",
    "df.to_csv(\"data/out3.csv\", index=False, columns=['name', 'age'])"
   ]
  },
  {
   "cell_type": "code",
   "execution_count": null,
   "metadata": {},
   "outputs": [],
   "source": [
    "df.head()"
   ]
  },
  {
   "cell_type": "code",
   "execution_count": null,
   "metadata": {},
   "outputs": [],
   "source": [
    "my_var = pd.DataFrame(df['age'])"
   ]
  },
  {
   "cell_type": "code",
   "execution_count": null,
   "metadata": {},
   "outputs": [],
   "source": [
    "type(my_var)"
   ]
  },
  {
   "cell_type": "code",
   "execution_count": null,
   "metadata": {},
   "outputs": [],
   "source": [
    "my_var.head()"
   ]
  },
  {
   "cell_type": "code",
   "execution_count": null,
   "metadata": {},
   "outputs": [],
   "source": [
    "df.shape"
   ]
  },
  {
   "cell_type": "markdown",
   "metadata": {
    "id": "ihPH4Cnk6lcj"
   },
   "source": [
    "Exporting Series"
   ]
  },
  {
   "cell_type": "code",
   "execution_count": null,
   "metadata": {},
   "outputs": [],
   "source": [
    "age_col = df['age']"
   ]
  },
  {
   "cell_type": "code",
   "execution_count": null,
   "metadata": {},
   "outputs": [],
   "source": [
    "type(age_col)"
   ]
  },
  {
   "cell_type": "code",
   "execution_count": null,
   "metadata": {
    "executionInfo": {
     "elapsed": 31,
     "status": "aborted",
     "timestamp": 1691745009239,
     "user": {
      "displayName": "Akm Islam",
      "userId": "10887598172150809320"
     },
     "user_tz": 240
    },
    "id": "4N8aLHqfbBlh"
   },
   "outputs": [],
   "source": [
    "import pandas as pd\n",
    "ser = pd.Series(['a','b','c','d'], index=[1, 2, 3,4])\n",
    "ser"
   ]
  },
  {
   "cell_type": "code",
   "execution_count": null,
   "metadata": {
    "executionInfo": {
     "elapsed": 31,
     "status": "aborted",
     "timestamp": 1691745009240,
     "user": {
      "displayName": "Akm Islam",
      "userId": "10887598172150809320"
     },
     "user_tz": 240
    },
    "id": "i4-SGZ2DbBlh"
   },
   "outputs": [],
   "source": [
    "ser.to_csv(\"out_ser.csv\",index=None)"
   ]
  },
  {
   "cell_type": "markdown",
   "metadata": {
    "id": "ZpgLdJUQ3Byn"
   },
   "source": [
    "Python for Data Analysis : Chapter 5 & 6"
   ]
  }
 ],
 "metadata": {
  "colab": {
   "provenance": []
  },
  "kernelspec": {
   "display_name": "Python 3 (ipykernel)",
   "language": "python",
   "name": "python3"
  },
  "language_info": {
   "codemirror_mode": {
    "name": "ipython",
    "version": 3
   },
   "file_extension": ".py",
   "mimetype": "text/x-python",
   "name": "python",
   "nbconvert_exporter": "python",
   "pygments_lexer": "ipython3",
   "version": "3.9.15"
  }
 },
 "nbformat": 4,
 "nbformat_minor": 4
}
