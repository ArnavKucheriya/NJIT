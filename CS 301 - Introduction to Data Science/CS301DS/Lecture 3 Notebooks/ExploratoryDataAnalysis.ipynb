{
 "cells": [
  {
   "cell_type": "markdown",
   "id": "62aaac18-d0a2-4e17-975a-e1d68e2821cc",
   "metadata": {},
   "source": [
    "## Exploratory Data Analysis\n",
    "* In addition to dealing with missing data, scaling, encoding, etc."
   ]
  },
  {
   "cell_type": "code",
   "execution_count": null,
   "id": "277bdc10",
   "metadata": {},
   "outputs": [],
   "source": [
    "import numpy as np\n",
    "import pandas as pd\n",
    "import matplotlib.pyplot as plt\n",
    "from sklearn import linear_model\n",
    "from sklearn.feature_selection import r_regression, f_regression\n",
    "from sklearn.model_selection import train_test_split\n",
    "import seaborn as sns\n",
    "from matplotlib.gridspec import GridSpec\n",
    "from scipy.stats import f\n",
    "from sklearn import datasets, linear_model\n",
    "from sklearn.metrics import r2_score\n",
    "from sklearn.preprocessing import QuantileTransformer\n",
    "import statsmodels.api as sm\n",
    "from scipy import stats\n",
    "from scipy.stats import boxcox, yeojohnson\n",
    "directory = 'data/graphs'\n",
    "import os\n",
    "if not os.path.exists(directory):\n",
    "    os.makedirs(directory)"
   ]
  },
  {
   "cell_type": "code",
   "execution_count": null,
   "id": "fda14516",
   "metadata": {},
   "outputs": [],
   "source": [
    "df = pd.read_csv(\"data/ModifiedSummaryByNeighborhood.csv\") "
   ]
  },
  {
   "cell_type": "code",
   "execution_count": null,
   "id": "d5440273",
   "metadata": {},
   "outputs": [],
   "source": [
    "df.skew()"
   ]
  },
  {
   "cell_type": "code",
   "execution_count": null,
   "id": "6d7bef27",
   "metadata": {
    "scrolled": true
   },
   "outputs": [],
   "source": [
    "df.info()"
   ]
  },
  {
   "cell_type": "markdown",
   "id": "c9a3fd84",
   "metadata": {},
   "source": [
    "#### Calculate feature correlations and display a correlation heat-map"
   ]
  },
  {
   "cell_type": "code",
   "execution_count": null,
   "id": "5267e742",
   "metadata": {
    "scrolled": true
   },
   "outputs": [],
   "source": [
    "from IPython.display import display, HTML\n",
    "display(HTML(\"<style>.container { width:100% !important; }</style>\"))\n",
    "corr = df.corr(method='pearson')\n",
    "sns.set(font_scale=1)\n",
    "plt.figure(figsize=(16,12))\n",
    "sns_plot = sns.heatmap(\n",
    "    corr,        \n",
    "    cmap='RdBu_r', \n",
    "    annot=True, \n",
    "    vmin=-1, vmax=1);\n"
   ]
  },
  {
   "cell_type": "code",
   "execution_count": null,
   "id": "06f05bfc-c51d-4686-b3ac-503df263cf3a",
   "metadata": {},
   "outputs": [],
   "source": [
    "corr = df.corr(method='spearman')\n",
    "sns.set(font_scale=1)\n",
    "plt.figure(figsize=(16,12))\n",
    "sns_plot = sns.heatmap(\n",
    "    corr,        \n",
    "    cmap='RdBu_r', \n",
    "    annot=True, \n",
    "    vmin=-1, vmax=1);"
   ]
  },
  {
   "cell_type": "code",
   "execution_count": null,
   "id": "2f1af5f1-1505-4a70-b8c1-82a5dba467ee",
   "metadata": {},
   "outputs": [],
   "source": [
    "columns = df.columns\n",
    "for idx in range(len(columns)):\n",
    "    x_value = columns[idx]\n",
    "    t_value = columns[idx].title()\n",
    "    fig = plt.figure(constrained_layout=True)\n",
    "    gs = GridSpec(2, 2, figure=fig)\n",
    "    # create sub plots as grid\n",
    "    ax1 = fig.add_subplot(gs[0, :])\n",
    "    sns.scatterplot(data=df,x=x_value, y='er_visits')\n",
    "    ax2 = fig.add_subplot(gs[1, 0])\n",
    "    sns.histplot(x=x_value,data=df,bins=16)\n",
    "    ax3 = fig.add_subplot(gs[1, 1])\n",
    "    sns.boxplot(data=df,x=x_value,orient='h')\n",
    " \n",
    "    # depict illustration\n",
    "    fig.suptitle(t_value)\n",
    "    fig.savefig('data/graphs/' + x_value + '.png', format='png')\n",
    "    print('\\n')"
   ]
  },
  {
   "cell_type": "code",
   "execution_count": null,
   "id": "f19e4f32",
   "metadata": {},
   "outputs": [],
   "source": [
    "abs_corr = df.corr()['er_visits'].apply(lambda x: abs(x))\n",
    "abs_corr.sort_values(ascending=False, inplace=True)\n",
    "abs_corr.drop(index='er_visits', axis=1, inplace=True)"
   ]
  },
  {
   "cell_type": "code",
   "execution_count": null,
   "id": "4284bab6",
   "metadata": {},
   "outputs": [],
   "source": [
    "abs_corr"
   ]
  },
  {
   "cell_type": "code",
   "execution_count": null,
   "id": "321587d7-1dd3-4a53-b81e-cbc605874e4a",
   "metadata": {},
   "outputs": [],
   "source": [
    "violations_skew = df['violations'].skew()\n",
    "electrical_skew = df['electrical'].skew()"
   ]
  },
  {
   "cell_type": "markdown",
   "id": "75dc06d5-9197-4bbd-88f7-5489a5c61f05",
   "metadata": {},
   "source": [
    "#### Build visualizations of features"
   ]
  },
  {
   "cell_type": "code",
   "execution_count": null,
   "id": "6c268ae8",
   "metadata": {},
   "outputs": [],
   "source": [
    "fig,ax = plt.subplots(1,2,figsize=(14,6))\n",
    "sns.histplot(df['violations'], kde=True, ax=ax[0], color='skyblue')\n",
    "ax[0].set_title('Distribution of Violations (Positive Skew)', fontsize=16)\n",
    "ax[0].set_xlabel('Violations')\n",
    "ax[0].set_ylabel('Frequency')\n",
    "#Annotate Skewness\n",
    "ax[0].text(0.5, 0.5, f'Skew: {violations_skew:.2f}', transform=ax[0].transAxes,\n",
    "          horizontalalignment='center', color='black', weight='bold', fontsize=14)\n",
    "\n",
    "sns.histplot(df['electrical'], kde=True, ax=ax[1], color='salmon')\n",
    "ax[1].set_title('Distribution of Electrical Complaints (Positive Skew)', fontsize=16)\n",
    "ax[1].set_xlabel('Electrical Complaints')\n",
    "ax[1].set_ylabel('Frequency')\n",
    "#Annotate Skewness\n",
    "ax[1].text(0.5, 0.5, f'Skew: {electrical_skew:.2f}', transform=ax[1].transAxes,\n",
    "          horizontalalignment='center', color='black', weight='bold', fontsize=14)\n",
    "plt.tight_layout()\n",
    "plt.show()"
   ]
  },
  {
   "cell_type": "markdown",
   "id": "6ef7db47",
   "metadata": {},
   "source": [
    "#### Data Transformations\n",
    "- Parametric tests expect a normal distribution\n",
    "- Transformations can reduce the impact of outliers on models "
   ]
  },
  {
   "cell_type": "code",
   "execution_count": null,
   "id": "8d3765e9",
   "metadata": {},
   "outputs": [],
   "source": [
    "# Applying Log Transformation\n",
    "df['log_violations'] = np.log(df['violations'])\n",
    "print(f\"Violations Skewness after Log Transformation: {df['log_violations'].skew():.5f}\")\n",
    "df['log_electrical'] = np.log(df['electrical'])\n",
    "print(f\"Electrical Skewness after Log Transformation: {df['log_electrical'].skew():.5f}\")"
   ]
  },
  {
   "cell_type": "markdown",
   "id": "79de14c4",
   "metadata": {},
   "source": [
    "* Moderate positive skew can be transformed by applying a square root to each data point"
   ]
  },
  {
   "cell_type": "code",
   "execution_count": null,
   "id": "b93652c7",
   "metadata": {},
   "outputs": [],
   "source": [
    "# Applying Square Root Transformation\n",
    "df['sqrt_violations'] = np.sqrt(df['violations'])\n",
    "print(f\"Violations Skewness after Square Root Transformation: {df['sqrt_violations'].skew():.5f}\")\n",
    "df['sqrt_electrical'] = np.sqrt(df['electrical'])\n",
    "print(f\"Electrical Skewness after Square Root Transformation: {df['sqrt_electrical'].skew():.5f}\")"
   ]
  },
  {
   "cell_type": "code",
   "execution_count": null,
   "id": "0daa91e6",
   "metadata": {},
   "outputs": [],
   "source": [
    "# Applying Box-Cox Transformation\n",
    "df['bc_violations'],_ = boxcox(df['violations'])\n",
    "print(f\"Violations Skewness after Box-Cox Transformation: {df['bc_violations'].skew():.5f}\")\n",
    "df['bc_electrical'],_ = boxcox(df['electrical'])\n",
    "print(f\"Electrical Skewness after Box-Cox Transformation: {df['bc_electrical'].skew():.5f}\")"
   ]
  },
  {
   "cell_type": "markdown",
   "id": "61385d1a",
   "metadata": {},
   "source": [
    "* Note:  above transformations only work with positive data. \n",
    "The Yeo-Johnson and Quantile Transformers can handle negative data"
   ]
  },
  {
   "cell_type": "code",
   "execution_count": null,
   "id": "229958ec",
   "metadata": {},
   "outputs": [],
   "source": [
    "# Applying Yeo-Johnson Transformation\n",
    "df['yj_violations'],_ = yeojohnson(df['violations'])\n",
    "print(f\"Violations Skewness after Yeo-Johnson Transformation: {df['yj_violations'].skew():.5f}\")\n",
    "df['yj_electrical'],_ = yeojohnson(df['electrical'])\n",
    "print(f\"Electrical Skewness after Yeo-Johnson Transformation: {df['yj_electrical'].skew():.5f}\")"
   ]
  },
  {
   "cell_type": "code",
   "execution_count": null,
   "id": "8258c601",
   "metadata": {},
   "outputs": [],
   "source": [
    "# Applying Quantile Transformation to follow a normal distribution\n",
    "qv_transformer = QuantileTransformer(output_distribution=\"normal\",n_quantiles=len(df['violations']), random_state=0)\n",
    "df['q_violations'] = qv_transformer.fit_transform(df['violations'].values.reshape(-1,1)).flatten()\n",
    "print(f\"Violations Skewness after Quantile Transformation: {df['q_violations'].skew():.5f}\")\n",
    "qe_transformer = QuantileTransformer(output_distribution=\"normal\",n_quantiles=len(df['electrical']), random_state=0)\n",
    "df['q_electrical'] = qe_transformer.fit_transform(df['electrical'].values.reshape(-1,1)).flatten()\n",
    "print(f\"Electrical Skewness after Quantile Transformation: {df['q_electrical'].skew():.5f}\")"
   ]
  },
  {
   "cell_type": "code",
   "execution_count": null,
   "id": "d6acfec3",
   "metadata": {},
   "outputs": [],
   "source": [
    "fig,ax = plt.subplots(1,2,figsize=(14,6))\n",
    "sns.histplot(df['q_violations'], kde=True, ax=ax[0], color='skyblue')\n",
    "ax[0].set_title('Distribution of Violations (After Quantile Transform)', fontsize=16)\n",
    "ax[0].set_xlabel('Violations')\n",
    "ax[0].set_ylabel('Frequency')\n",
    "#Annotate Skewness\n",
    "ax[0].text(0.5, 0.5, f\"Skew: {df['q_violations'].skew():.5f}\", transform=ax[0].transAxes,\n",
    "          horizontalalignment='center', color='black', weight='bold', fontsize=14)\n",
    "\n",
    "sns.histplot(df['q_electrical'], kde=True, ax=ax[1], color='salmon')\n",
    "ax[1].set_title('Distribution of Electrical Complaints (After Quantile Transform)', fontsize=16)\n",
    "ax[1].set_xlabel('Electrical Complaints')\n",
    "ax[1].set_ylabel('Frequency')\n",
    "#Annotate Skewness\n",
    "ax[1].text(0.5, 0.5, f\"Skew: {df['q_electrical'].skew():.5f}\", transform=ax[1].transAxes,\n",
    "          horizontalalignment='center', color='black', weight='bold', fontsize=14)\n",
    "plt.tight_layout()\n",
    "plt.show()"
   ]
  },
  {
   "cell_type": "markdown",
   "id": "d4e7e810",
   "metadata": {},
   "source": [
    "* For negative skewed data, try Squared  (raise each data point to the power of 2), Cubed, Box-Cox, Yeo-Johnson, and Quantile Transformations"
   ]
  },
  {
   "cell_type": "code",
   "execution_count": null,
   "id": "0761499c",
   "metadata": {},
   "outputs": [],
   "source": []
  }
 ],
 "metadata": {
  "kernelspec": {
   "display_name": "Python 3 (ipykernel)",
   "language": "python",
   "name": "python3"
  },
  "language_info": {
   "codemirror_mode": {
    "name": "ipython",
    "version": 3
   },
   "file_extension": ".py",
   "mimetype": "text/x-python",
   "name": "python",
   "nbconvert_exporter": "python",
   "pygments_lexer": "ipython3",
   "version": "3.9.15"
  }
 },
 "nbformat": 4,
 "nbformat_minor": 5
}
