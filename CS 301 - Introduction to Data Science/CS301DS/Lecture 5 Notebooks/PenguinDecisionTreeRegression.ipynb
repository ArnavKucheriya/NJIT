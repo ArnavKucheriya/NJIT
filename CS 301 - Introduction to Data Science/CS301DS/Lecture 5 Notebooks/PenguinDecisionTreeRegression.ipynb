{
 "cells": [
  {
   "cell_type": "code",
   "execution_count": null,
   "id": "4d241fa7",
   "metadata": {},
   "outputs": [],
   "source": [
    "%pip install palmerpenguins"
   ]
  },
  {
   "cell_type": "code",
   "execution_count": null,
   "id": "e111a509",
   "metadata": {},
   "outputs": [],
   "source": [
    "# Import packages and functions\n",
    "import pandas as pd\n",
    "import seaborn as sns\n",
    "import matplotlib.pyplot as plt\n",
    "\n",
    "from sklearn.tree import DecisionTreeRegressor, export_text\n",
    "from sklearn import tree, metrics\n",
    "from palmerpenguins import load_penguins\n",
    "\n",
    "import matplotlib_inline.backend_inline\n",
    "\n",
    "matplotlib_inline.backend_inline.set_matplotlib_formats('svg')"
   ]
  },
  {
   "cell_type": "code",
   "execution_count": null,
   "id": "49bb2937",
   "metadata": {},
   "outputs": [],
   "source": [
    "# Load the penguins data from palmerpenguins package\n",
    "penguins = load_penguins()\n",
    "\n",
    "# Drop penguins with missing values\n",
    "penguins = penguins.dropna()\n",
    "\n",
    "# Create a new data frame with only Gentoo penguins\n",
    "gentoo = penguins[penguins['species'] == 'Gentoo'].copy()\n",
    "\n",
    "# Calculate summary statistics using .describe()\n",
    "gentoo.describe(include='all')"
   ]
  },
  {
   "cell_type": "code",
   "execution_count": null,
   "id": "4cf6130e",
   "metadata": {},
   "outputs": [],
   "source": [
    "# Create a matrix of input features with sex, flipper length, and bill length\n",
    "X = gentoo[['sex', 'flipper_length_mm', 'bill_length_mm']]\n",
    "X"
   ]
  },
  {
   "cell_type": "markdown",
   "id": "3adb063f",
   "metadata": {},
   "source": [
    "`DecisionTreeRegressor` only takes numerical values as features, which means features like `sex` and `island` won't work. \n",
    "\n",
    "Thus, categorical features must be encoded as dummy variables that indicate which category the individual falls into.  This encoding is done in `pandas` with `get_dummies`."
   ]
  },
  {
   "cell_type": "code",
   "execution_count": null,
   "id": "665a2cc9",
   "metadata": {},
   "outputs": [],
   "source": [
    "# Use pd.get_dummies to convert sex to a binary (0/1) dummy variable\n",
    "X_dummies = pd.get_dummies(X, drop_first=True)\n",
    "X_dummies"
   ]
  },
  {
   "cell_type": "markdown",
   "id": "fa38990c",
   "metadata": {},
   "source": [
    "The `drop_first=True` option creates a single dummy variable, instead of two. One dummy variable completely describes sex in this dataset.\n",
    "\n",
    "- `sex_male=0`: female\n",
    "- `sex_male=1`: male"
   ]
  },
  {
   "cell_type": "code",
   "execution_count": null,
   "id": "690d054c",
   "metadata": {},
   "outputs": [],
   "source": [
    "y = gentoo['body_mass_g']\n",
    "\n",
    "regtreeModel = DecisionTreeRegressor(max_depth=2, min_samples_leaf=2)\n",
    "regtreeModel.fit(X_dummies, y)"
   ]
  },
  {
   "cell_type": "code",
   "execution_count": null,
   "id": "55ff369d",
   "metadata": {},
   "outputs": [],
   "source": [
    "# The print() statement outputs a text version of the regression tree\n",
    "print(export_text(regtreeModel, feature_names=X.columns.to_list()))"
   ]
  },
  {
   "cell_type": "code",
   "execution_count": null,
   "id": "ad983ee2",
   "metadata": {},
   "outputs": [],
   "source": [
    "# Using tree.plot_tree() makes a cleaner figure\n",
    "\n",
    "# Resize the plotting window\n",
    "plt.figure(figsize=[12, 8])\n",
    "\n",
    "p = tree.plot_tree(\n",
    "    regtreeModel,\n",
    "    feature_names=X.columns,\n",
    "    class_names=y.unique(),\n",
    "    filled=False,\n",
    "    fontsize=10,\n",
    ")"
   ]
  },
  {
   "cell_type": "code",
   "execution_count": null,
   "id": "a19ef581",
   "metadata": {},
   "outputs": [],
   "source": [
    "# Add the predictions to the original data set\n",
    "gentoo['pred'] = regtreeModel.predict(X_dummies)\n",
    "gentoo"
   ]
  },
  {
   "cell_type": "code",
   "execution_count": null,
   "id": "32e66f0e",
   "metadata": {},
   "outputs": [],
   "source": [
    "# Plot observed vs. predictions\n",
    "p = sns.scatterplot(data=gentoo, x='body_mass_g', y='pred', hue='sex')\n",
    "p.set_xlabel('Observed body mass', fontsize=14)\n",
    "p.set_ylabel('Predicted body mass', fontsize=14)"
   ]
  },
  {
   "cell_type": "code",
   "execution_count": null,
   "id": "71d48718",
   "metadata": {},
   "outputs": [],
   "source": [
    "# Calculate MSE\n",
    "metrics.mean_squared_error(gentoo['pred'], y)"
   ]
  },
  {
   "cell_type": "code",
   "execution_count": null,
   "id": "984fbade",
   "metadata": {},
   "outputs": [],
   "source": []
  }
 ],
 "metadata": {
  "kernelspec": {
   "display_name": "Python 3 (ipykernel)",
   "language": "python",
   "name": "python3"
  },
  "language_info": {
   "codemirror_mode": {
    "name": "ipython",
    "version": 3
   },
   "file_extension": ".py",
   "mimetype": "text/x-python",
   "name": "python",
   "nbconvert_exporter": "python",
   "pygments_lexer": "ipython3",
   "version": "3.9.15"
  }
 },
 "nbformat": 4,
 "nbformat_minor": 5
}
