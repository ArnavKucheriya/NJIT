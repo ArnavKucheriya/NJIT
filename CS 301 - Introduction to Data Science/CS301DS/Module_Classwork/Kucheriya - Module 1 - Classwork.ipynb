{
 "cells": [
  {
   "cell_type": "markdown",
   "id": "18d924c7",
   "metadata": {},
   "source": [
    "## Lab exercise for today\n",
    "\n",
    "#### Write a function squareRoot(x) to compute the square root of the positive number by newton-raphson method.  \n",
    "\n",
    "$\\boldsymbol{x_{n+1} = x_n - \\frac{f(x)}{f`(x)}}$    \n",
    "\n",
    "### Newton's Method for Finding the Square Root of a number<br/> $$x\\ =\\ \\sqrt{a}$$\n",
    "$ \\boldsymbol{f(x)\\ =\\ x^2-a\\ =\\ 0}$  \n",
    "$\\boldsymbol{x_{n+1}\\ =\\ x_n\\ -\\ \\frac{f(x_n)}{f^{\\prime}}(x_n)}\\ =\\ x_n-\\frac{x_n^2-a}{2x_n} $  \n",
    "\n",
    "#### Example: $a = 5, initial\\ estimate\\ x_0 = 2$  \n",
    "$\\boldsymbol{\n",
    "\\begin{aligned}\n",
    "x_1\\ &=\\ 2.25 \\\\ \n",
    "x_2\\ &=\\ 2.236111111111111 \\\\\n",
    "x_3\\ &=\\ 2.236067977915804  \\\\\n",
    "x_4\\ &=\\ 2.23606797749979\n",
    "\\end{aligned}\n",
    "}$\n",
    "\n",
    "https://www.quora.com/What-is-the-Newton-Rapson-method-for-finding-a-square-root-of-an-integer-number-How-does-one-use-it\n"
   ]
  },
  {
   "cell_type": "code",
   "execution_count": 6,
   "id": "388e0ee9",
   "metadata": {},
   "outputs": [
    {
     "name": "stdout",
     "output_type": "stream",
     "text": [
      "Estimate =  2.25\n",
      "Estimate =  2.236111111111111\n",
      "Estimate =  2.2360679779158037\n",
      "2.23606797749979\n"
     ]
    }
   ],
   "source": [
    "import numpy as np\n",
    "a = 5\n",
    "estimate = 2\n",
    "\n",
    "# Write a function squareRoot(x) to compute the square root of the positive number by newton-raphson method.\n",
    "\n",
    "def squareRoot(x, estimate):\n",
    "    while True:\n",
    "        estimate = (estimate + x / estimate) / 2\n",
    "        if abs(estimate * estimate - x) < 0.000000000000001:\n",
    "            break\n",
    "        print('Estimate = ', estimate)\n",
    "\n",
    "    return estimate\n",
    "\n",
    "print(squareRoot(a, estimate))"
   ]
  },
  {
   "cell_type": "code",
   "execution_count": null,
   "id": "f3ee0bd8",
   "metadata": {},
   "outputs": [],
   "source": []
  }
 ],
 "metadata": {
  "kernelspec": {
   "display_name": "CS301DS",
   "language": "python",
   "name": "python3"
  },
  "language_info": {
   "codemirror_mode": {
    "name": "ipython",
    "version": 3
   },
   "file_extension": ".py",
   "mimetype": "text/x-python",
   "name": "python",
   "nbconvert_exporter": "python",
   "pygments_lexer": "ipython3",
   "version": "3.12.8"
  }
 },
 "nbformat": 4,
 "nbformat_minor": 5
}
